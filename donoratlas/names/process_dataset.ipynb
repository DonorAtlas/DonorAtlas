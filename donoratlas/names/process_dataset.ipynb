{
 "cells": [
  {
   "cell_type": "markdown",
   "metadata": {},
   "source": [
    "### Pre-process data for name typing\n",
    "\n",
    "Here, we'll process the raw data acquired [here](https://github.com/philipperemy/name-dataset?tab=readme-ov-file#full-dataset) (a dataset of 500M names), and a dictionary of words (which can be acquired anywhere) to assist in identifying whether a name is an individual or not.\n",
    "\n",
    "*Download the names dataset to an EC2 instance*: go to the Google Drive link and copy the network request as cURL, then past it and write the output to a file (`> names.zip`)."
   ]
  },
  {
   "cell_type": "markdown",
   "metadata": {},
   "source": [
    "### Human names dataset\n",
    "First, let's load the human names dataset."
   ]
  },
  {
   "cell_type": "code",
   "execution_count": 61,
   "metadata": {},
   "outputs": [],
   "source": [
    "import pyarrow.csv as pv\n",
    "import pyarrow as pa\n",
    "\n",
    "# Let's only read in the US\n",
    "df = pv.read_csv(\n",
    "    \"../static/name_dataset/data/US.csv\",\n",
    "    read_options=pv.ReadOptions(column_names=[\"First\", \"Last\", \"Gender\", \"Country\"]),\n",
    "    parse_options=pv.ParseOptions(delimiter=\",\"),\n",
    "    convert_options=pv.ConvertOptions(column_types={\"First\": pa.string(), \"Last\": pa.string(), \"Gender\": pa.string(), \"Country\": pa.string()}),\n",
    ")"
   ]
  },
  {
   "cell_type": "code",
   "execution_count": 62,
   "metadata": {},
   "outputs": [],
   "source": [
    "df = df.to_pandas()"
   ]
  },
  {
   "cell_type": "code",
   "execution_count": 63,
   "metadata": {},
   "outputs": [
    {
     "data": {
      "text/html": [
       "<div>\n",
       "<style scoped>\n",
       "    .dataframe tbody tr th:only-of-type {\n",
       "        vertical-align: middle;\n",
       "    }\n",
       "\n",
       "    .dataframe tbody tr th {\n",
       "        vertical-align: top;\n",
       "    }\n",
       "\n",
       "    .dataframe thead th {\n",
       "        text-align: right;\n",
       "    }\n",
       "</style>\n",
       "<table border=\"1\" class=\"dataframe\">\n",
       "  <thead>\n",
       "    <tr style=\"text-align: right;\">\n",
       "      <th></th>\n",
       "      <th>First</th>\n",
       "      <th>Last</th>\n",
       "      <th>Gender</th>\n",
       "      <th>Country</th>\n",
       "    </tr>\n",
       "  </thead>\n",
       "  <tbody>\n",
       "    <tr>\n",
       "      <th>17377721</th>\n",
       "      <td>Corey</td>\n",
       "      <td>Forbes</td>\n",
       "      <td></td>\n",
       "      <td>US</td>\n",
       "    </tr>\n",
       "    <tr>\n",
       "      <th>9969609</th>\n",
       "      <td>Nasir</td>\n",
       "      <td>Alom</td>\n",
       "      <td>M</td>\n",
       "      <td>US</td>\n",
       "    </tr>\n",
       "    <tr>\n",
       "      <th>4084993</th>\n",
       "      <td>Joshua</td>\n",
       "      <td>Vargas</td>\n",
       "      <td>M</td>\n",
       "      <td>US</td>\n",
       "    </tr>\n",
       "    <tr>\n",
       "      <th>22780060</th>\n",
       "      <td>Ian</td>\n",
       "      <td>Anderson</td>\n",
       "      <td>M</td>\n",
       "      <td>US</td>\n",
       "    </tr>\n",
       "    <tr>\n",
       "      <th>14882460</th>\n",
       "      <td>Noardilu</td>\n",
       "      <td>Marquez</td>\n",
       "      <td>F</td>\n",
       "      <td>US</td>\n",
       "    </tr>\n",
       "  </tbody>\n",
       "</table>\n",
       "</div>"
      ],
      "text/plain": [
       "             First      Last Gender Country\n",
       "17377721     Corey    Forbes             US\n",
       "9969609      Nasir      Alom      M      US\n",
       "4084993     Joshua    Vargas      M      US\n",
       "22780060       Ian  Anderson      M      US\n",
       "14882460  Noardilu   Marquez      F      US"
      ]
     },
     "execution_count": 63,
     "metadata": {},
     "output_type": "execute_result"
    }
   ],
   "source": [
    "df.sample(5)"
   ]
  },
  {
   "cell_type": "code",
   "execution_count": 64,
   "metadata": {},
   "outputs": [
    {
     "data": {
      "text/plain": [
       "32308973"
      ]
     },
     "execution_count": 64,
     "metadata": {},
     "output_type": "execute_result"
    }
   ],
   "source": [
    "len(df)"
   ]
  },
  {
   "cell_type": "code",
   "execution_count": 65,
   "metadata": {},
   "outputs": [],
   "source": [
    "# Replace non-ASCII characters and casefold\n",
    "df[\"First\"] = df[\"First\"].str.encode(\"ascii\", errors=\"ignore\").str.decode(\"ascii\").str.casefold()\n",
    "df[\"Last\"] = df[\"Last\"].str.encode(\"ascii\", errors=\"ignore\").str.decode(\"ascii\").str.casefold()"
   ]
  },
  {
   "cell_type": "code",
   "execution_count": 82,
   "metadata": {},
   "outputs": [],
   "source": [
    "# Get the value counts of first and lasts (dict mapping to counts)\n",
    "first_counts = df[\"First\"].value_counts().to_dict()\n",
    "last_counts = df[\"Last\"].value_counts().to_dict()"
   ]
  },
  {
   "cell_type": "code",
   "execution_count": 83,
   "metadata": {},
   "outputs": [],
   "source": [
    "MIN_LENGTH = 2\n",
    "\n",
    "first_counts = {k: v for k, v in first_counts.items() if len(k) >= MIN_LENGTH}\n",
    "last_counts = {k: v for k, v in last_counts.items() if len(k) >= MIN_LENGTH}"
   ]
  },
  {
   "cell_type": "code",
   "execution_count": 84,
   "metadata": {},
   "outputs": [],
   "source": [
    "KEEP_THRESHOLD = 2\n",
    "\n",
    "first_counts = {k: v for k, v in first_counts.items() if v >= KEEP_THRESHOLD}\n",
    "last_counts = {k: v for k, v in last_counts.items() if v >= KEEP_THRESHOLD}"
   ]
  },
  {
   "cell_type": "code",
   "execution_count": 85,
   "metadata": {},
   "outputs": [],
   "source": [
    "import math\n",
    "\n",
    "first_counts = {k: math.log(v) for k, v in first_counts.items()}\n",
    "last_counts = {k: math.log(v) for k, v in last_counts.items()}"
   ]
  },
  {
   "cell_type": "code",
   "execution_count": 86,
   "metadata": {},
   "outputs": [],
   "source": [
    "# Scale to 0-100000 (integer)\n",
    "max_first_count = max(first_counts.values())\n",
    "min_first_count = min(first_counts.values())\n",
    "first_counts = {k: int((v - min_first_count) / (max_first_count - min_first_count) * 100000) for k, v in first_counts.items()}\n",
    "max_last_count = max(last_counts.values())\n",
    "min_last_count = min(last_counts.values())\n",
    "last_counts = {k: int((v - min_last_count) / (max_last_count - min_last_count) * 100000) for k, v in last_counts.items()}"
   ]
  },
  {
   "cell_type": "code",
   "execution_count": 87,
   "metadata": {},
   "outputs": [],
   "source": [
    "# Save the counts in an efficient format\n",
    "import json\n",
    "\n",
    "with open(\"../static/name_dataset/first_scores.json\", \"w\") as f:\n",
    "    json.dump(first_counts, f)\n",
    "\n",
    "with open(\"../static/name_dataset/last_scores.json\", \"w\") as f:\n",
    "    json.dump(last_counts, f)"
   ]
  },
  {
   "cell_type": "markdown",
   "metadata": {},
   "source": [
    "### Word dataset\n",
    "Next, let's load the word dataset."
   ]
  },
  {
   "cell_type": "code",
   "execution_count": 161,
   "metadata": {},
   "outputs": [
    {
     "data": {
      "text/html": [
       "<div>\n",
       "<style scoped>\n",
       "    .dataframe tbody tr th:only-of-type {\n",
       "        vertical-align: middle;\n",
       "    }\n",
       "\n",
       "    .dataframe tbody tr th {\n",
       "        vertical-align: top;\n",
       "    }\n",
       "\n",
       "    .dataframe thead th {\n",
       "        text-align: right;\n",
       "    }\n",
       "</style>\n",
       "<table border=\"1\" class=\"dataframe\">\n",
       "  <thead>\n",
       "    <tr style=\"text-align: right;\">\n",
       "      <th></th>\n",
       "      <th>word</th>\n",
       "      <th>count</th>\n",
       "    </tr>\n",
       "  </thead>\n",
       "  <tbody>\n",
       "    <tr>\n",
       "      <th>310042</th>\n",
       "      <td>subperiod</td>\n",
       "      <td>14297</td>\n",
       "    </tr>\n",
       "    <tr>\n",
       "      <th>223711</th>\n",
       "      <td>gramling</td>\n",
       "      <td>25758</td>\n",
       "    </tr>\n",
       "    <tr>\n",
       "      <th>12417</th>\n",
       "      <td>pumping</td>\n",
       "      <td>3568469</td>\n",
       "    </tr>\n",
       "    <tr>\n",
       "      <th>230231</th>\n",
       "      <td>hewing</td>\n",
       "      <td>24529</td>\n",
       "    </tr>\n",
       "    <tr>\n",
       "      <th>219653</th>\n",
       "      <td>vanlandingham</td>\n",
       "      <td>26589</td>\n",
       "    </tr>\n",
       "  </tbody>\n",
       "</table>\n",
       "</div>"
      ],
      "text/plain": [
       "                 word    count\n",
       "310042      subperiod    14297\n",
       "223711       gramling    25758\n",
       "12417         pumping  3568469\n",
       "230231         hewing    24529\n",
       "219653  vanlandingham    26589"
      ]
     },
     "execution_count": 161,
     "metadata": {},
     "output_type": "execute_result"
    }
   ],
   "source": [
    "import pandas as pd\n",
    "df_unigram = pd.read_csv(\"../static/english_word_freq/unigram_freq.csv\", dtype={\"word\": str, \"count\": int})\n",
    "df_unigram.sample(5)"
   ]
  },
  {
   "cell_type": "code",
   "execution_count": 164,
   "metadata": {},
   "outputs": [
    {
     "data": {
      "text/plain": [
       "333333"
      ]
     },
     "execution_count": 164,
     "metadata": {},
     "output_type": "execute_result"
    }
   ],
   "source": [
    "len(df_unigram)"
   ]
  },
  {
   "cell_type": "code",
   "execution_count": 162,
   "metadata": {},
   "outputs": [],
   "source": [
    "# Load in the corpus of English words\n",
    "words = open(\"../static/popular.txt\").read().splitlines()"
   ]
  },
  {
   "cell_type": "code",
   "execution_count": 163,
   "metadata": {},
   "outputs": [
    {
     "data": {
      "text/plain": [
       "25322"
      ]
     },
     "execution_count": 163,
     "metadata": {},
     "output_type": "execute_result"
    }
   ],
   "source": [
    "len(words)"
   ]
  },
  {
   "cell_type": "code",
   "execution_count": 165,
   "metadata": {},
   "outputs": [],
   "source": [
    "# Only include words in the corpus\n",
    "df_unigram = df_unigram[df_unigram[\"word\"].isin(words)]"
   ]
  },
  {
   "cell_type": "code",
   "execution_count": 166,
   "metadata": {},
   "outputs": [],
   "source": [
    "LENGTH_THRESHOLD = 2\n",
    "\n",
    "df_unigram = df_unigram[df_unigram[\"word\"].str.len() >= LENGTH_THRESHOLD]"
   ]
  },
  {
   "cell_type": "code",
   "execution_count": 167,
   "metadata": {},
   "outputs": [],
   "source": [
    "df_unigram[\"log_count\"] = df_unigram[\"count\"].apply(math.log)"
   ]
  },
  {
   "cell_type": "code",
   "execution_count": 168,
   "metadata": {},
   "outputs": [],
   "source": [
    "# Scale to 0-100000 (integer)\n",
    "max_log_count = df_unigram[\"log_count\"].max()\n",
    "min_log_count = df_unigram[\"log_count\"].min()\n",
    "df_unigram[\"score\"] = ((df_unigram[\"log_count\"] - min_log_count) / (max_log_count - min_log_count) * 100000).astype(int)"
   ]
  },
  {
   "cell_type": "code",
   "execution_count": 169,
   "metadata": {},
   "outputs": [],
   "source": [
    "# Convert to json and save\n",
    "word_to_count = df_unigram.set_index(\"word\")[\"score\"].to_dict()\n",
    "with open(\"../static/english_word_freq/word_to_score.json\", \"w\") as f:\n",
    "    json.dump(word_to_count, f)"
   ]
  },
  {
   "cell_type": "code",
   "execution_count": null,
   "metadata": {},
   "outputs": [],
   "source": [
    "#Load new dataset of names\n",
    "# From here: https://www.ssa.gov/OACT/babynames/limits.html"
   ]
  },
  {
   "cell_type": "code",
   "execution_count": 149,
   "metadata": {},
   "outputs": [],
   "source": [
    "import os\n",
    "\n",
    "dfs = []\n",
    "for file in [f for f in os.listdir(\"../static/census_baby_names\") if f.endswith(\".txt\")]:\n",
    "    # Read the txt file, with columns Name,Gender,Count\n",
    "    df = pd.read_csv(os.path.join(\"../static/census_baby_names\", file), names=[\"Name\", \"Gender\", \"Count\"], delimiter=\",\")\n",
    "    dfs.append(df)"
   ]
  },
  {
   "cell_type": "code",
   "execution_count": 150,
   "metadata": {},
   "outputs": [],
   "source": [
    "df = pd.concat(dfs)"
   ]
  },
  {
   "cell_type": "code",
   "execution_count": 151,
   "metadata": {},
   "outputs": [],
   "source": [
    "df[\"Name\"] = df[\"Name\"].str.casefold()"
   ]
  },
  {
   "cell_type": "code",
   "execution_count": 152,
   "metadata": {},
   "outputs": [
    {
     "data": {
      "text/html": [
       "<div>\n",
       "<style scoped>\n",
       "    .dataframe tbody tr th:only-of-type {\n",
       "        vertical-align: middle;\n",
       "    }\n",
       "\n",
       "    .dataframe tbody tr th {\n",
       "        vertical-align: top;\n",
       "    }\n",
       "\n",
       "    .dataframe thead th {\n",
       "        text-align: right;\n",
       "    }\n",
       "</style>\n",
       "<table border=\"1\" class=\"dataframe\">\n",
       "  <thead>\n",
       "    <tr style=\"text-align: right;\">\n",
       "      <th></th>\n",
       "      <th>Name</th>\n",
       "      <th>Count</th>\n",
       "    </tr>\n",
       "  </thead>\n",
       "  <tbody>\n",
       "    <tr>\n",
       "      <th>32360</th>\n",
       "      <td>finna</td>\n",
       "      <td>26</td>\n",
       "    </tr>\n",
       "    <tr>\n",
       "      <th>41953</th>\n",
       "      <td>jarail</td>\n",
       "      <td>5</td>\n",
       "    </tr>\n",
       "    <tr>\n",
       "      <th>3854</th>\n",
       "      <td>aliciah</td>\n",
       "      <td>21</td>\n",
       "    </tr>\n",
       "    <tr>\n",
       "      <th>1353</th>\n",
       "      <td>adelline</td>\n",
       "      <td>18</td>\n",
       "    </tr>\n",
       "    <tr>\n",
       "      <th>57634</th>\n",
       "      <td>lawarren</td>\n",
       "      <td>6</td>\n",
       "    </tr>\n",
       "  </tbody>\n",
       "</table>\n",
       "</div>"
      ],
      "text/plain": [
       "           Name  Count\n",
       "32360     finna     26\n",
       "41953    jarail      5\n",
       "3854    aliciah     21\n",
       "1353   adelline     18\n",
       "57634  lawarren      6"
      ]
     },
     "execution_count": 152,
     "metadata": {},
     "output_type": "execute_result"
    }
   ],
   "source": [
    "# Aggregate: rows with the same name should have their counts summed\n",
    "df = df[[\"Name\", \"Count\"]].groupby(\"Name\").sum().reset_index()\n",
    "df.sample(5)\n"
   ]
  },
  {
   "cell_type": "code",
   "execution_count": 153,
   "metadata": {},
   "outputs": [],
   "source": [
    "# Scale from 0-100000\n",
    "df[\"log_count\"] = df[\"Count\"].apply(math.log)\n",
    "max_log_count = df[\"log_count\"].max()\n",
    "min_log_count = df[\"log_count\"].min()\n",
    "df[\"ScaledCount\"] = ((df[\"log_count\"] - min_log_count) / (max_log_count - min_log_count) * 100000).astype(int)"
   ]
  },
  {
   "cell_type": "code",
   "execution_count": 154,
   "metadata": {},
   "outputs": [],
   "source": [
    "# Order by count\n",
    "df = df.sort_values(by=\"Count\", ascending=False)"
   ]
  },
  {
   "cell_type": "code",
   "execution_count": 155,
   "metadata": {},
   "outputs": [],
   "source": [
    "# Output to json\n",
    "name_to_count = df.set_index(\"Name\")[\"ScaledCount\"].to_dict()\n",
    "with open(\"../static/census_baby_names/first_to_score.json\", \"w\") as f:\n",
    "    json.dump(name_to_count, f)"
   ]
  },
  {
   "cell_type": "code",
   "execution_count": null,
   "metadata": {},
   "outputs": [],
   "source": [
    "# Census surnames\n",
    "# From here: https://www.census.gov/topics/population/genealogy/data.html"
   ]
  },
  {
   "cell_type": "code",
   "execution_count": 140,
   "metadata": {},
   "outputs": [],
   "source": [
    "df = pd.read_csv(\"../static/census_surnames/Names_2010Census.csv\", dtype={\"name\": str, \"count\": int})"
   ]
  },
  {
   "cell_type": "code",
   "execution_count": 141,
   "metadata": {},
   "outputs": [
    {
     "data": {
      "text/html": [
       "<div>\n",
       "<style scoped>\n",
       "    .dataframe tbody tr th:only-of-type {\n",
       "        vertical-align: middle;\n",
       "    }\n",
       "\n",
       "    .dataframe tbody tr th {\n",
       "        vertical-align: top;\n",
       "    }\n",
       "\n",
       "    .dataframe thead th {\n",
       "        text-align: right;\n",
       "    }\n",
       "</style>\n",
       "<table border=\"1\" class=\"dataframe\">\n",
       "  <thead>\n",
       "    <tr style=\"text-align: right;\">\n",
       "      <th></th>\n",
       "      <th>name</th>\n",
       "      <th>rank</th>\n",
       "      <th>count</th>\n",
       "      <th>prop100k</th>\n",
       "      <th>cum_prop100k</th>\n",
       "      <th>pctwhite</th>\n",
       "      <th>pctblack</th>\n",
       "      <th>pctapi</th>\n",
       "      <th>pctaian</th>\n",
       "      <th>pct2prace</th>\n",
       "      <th>pcthispanic</th>\n",
       "    </tr>\n",
       "  </thead>\n",
       "  <tbody>\n",
       "    <tr>\n",
       "      <th>73133</th>\n",
       "      <td>KINAS</td>\n",
       "      <td>73005</td>\n",
       "      <td>266</td>\n",
       "      <td>0.09</td>\n",
       "      <td>85261.73</td>\n",
       "      <td>96.99</td>\n",
       "      <td>(S)</td>\n",
       "      <td>(S)</td>\n",
       "      <td>0</td>\n",
       "      <td>0</td>\n",
       "      <td>(S)</td>\n",
       "    </tr>\n",
       "    <tr>\n",
       "      <th>83036</th>\n",
       "      <td>KECSKES</td>\n",
       "      <td>82908</td>\n",
       "      <td>227</td>\n",
       "      <td>0.08</td>\n",
       "      <td>86086.50</td>\n",
       "      <td>92.95</td>\n",
       "      <td>(S)</td>\n",
       "      <td>(S)</td>\n",
       "      <td>0</td>\n",
       "      <td>3.08</td>\n",
       "      <td>2.2</td>\n",
       "    </tr>\n",
       "    <tr>\n",
       "      <th>92426</th>\n",
       "      <td>CASATELLI</td>\n",
       "      <td>92358</td>\n",
       "      <td>199</td>\n",
       "      <td>0.07</td>\n",
       "      <td>86763.30</td>\n",
       "      <td>91.46</td>\n",
       "      <td>(S)</td>\n",
       "      <td>(S)</td>\n",
       "      <td>0</td>\n",
       "      <td>(S)</td>\n",
       "      <td>6.03</td>\n",
       "    </tr>\n",
       "    <tr>\n",
       "      <th>135656</th>\n",
       "      <td>BRAGMAN</td>\n",
       "      <td>135593</td>\n",
       "      <td>124</td>\n",
       "      <td>0.04</td>\n",
       "      <td>89060.28</td>\n",
       "      <td>94.35</td>\n",
       "      <td>(S)</td>\n",
       "      <td>(S)</td>\n",
       "      <td>0</td>\n",
       "      <td>(S)</td>\n",
       "      <td>0</td>\n",
       "    </tr>\n",
       "    <tr>\n",
       "      <th>148536</th>\n",
       "      <td>GIARDELLI</td>\n",
       "      <td>148347</td>\n",
       "      <td>111</td>\n",
       "      <td>0.04</td>\n",
       "      <td>89573.92</td>\n",
       "      <td>96.4</td>\n",
       "      <td>0</td>\n",
       "      <td>0</td>\n",
       "      <td>0</td>\n",
       "      <td>(S)</td>\n",
       "      <td>(S)</td>\n",
       "    </tr>\n",
       "  </tbody>\n",
       "</table>\n",
       "</div>"
      ],
      "text/plain": [
       "             name    rank  count  prop100k  cum_prop100k pctwhite pctblack  \\\n",
       "73133       KINAS   73005    266      0.09      85261.73    96.99      (S)   \n",
       "83036     KECSKES   82908    227      0.08      86086.50    92.95      (S)   \n",
       "92426   CASATELLI   92358    199      0.07      86763.30    91.46      (S)   \n",
       "135656    BRAGMAN  135593    124      0.04      89060.28    94.35      (S)   \n",
       "148536  GIARDELLI  148347    111      0.04      89573.92     96.4        0   \n",
       "\n",
       "       pctapi pctaian pct2prace pcthispanic  \n",
       "73133     (S)       0         0         (S)  \n",
       "83036     (S)       0      3.08         2.2  \n",
       "92426     (S)       0       (S)        6.03  \n",
       "135656    (S)       0       (S)           0  \n",
       "148536      0       0       (S)         (S)  "
      ]
     },
     "execution_count": 141,
     "metadata": {},
     "output_type": "execute_result"
    }
   ],
   "source": [
    "df.sample(5)"
   ]
  },
  {
   "cell_type": "code",
   "execution_count": 142,
   "metadata": {},
   "outputs": [],
   "source": [
    "df[\"name\"] = df[\"name\"].str.casefold()"
   ]
  },
  {
   "cell_type": "code",
   "execution_count": 143,
   "metadata": {},
   "outputs": [],
   "source": [
    "df = df[[\"name\", \"count\"]].groupby(\"name\").sum().reset_index()"
   ]
  },
  {
   "cell_type": "code",
   "execution_count": 144,
   "metadata": {},
   "outputs": [
    {
     "data": {
      "text/html": [
       "<div>\n",
       "<style scoped>\n",
       "    .dataframe tbody tr th:only-of-type {\n",
       "        vertical-align: middle;\n",
       "    }\n",
       "\n",
       "    .dataframe tbody tr th {\n",
       "        vertical-align: top;\n",
       "    }\n",
       "\n",
       "    .dataframe thead th {\n",
       "        text-align: right;\n",
       "    }\n",
       "</style>\n",
       "<table border=\"1\" class=\"dataframe\">\n",
       "  <thead>\n",
       "    <tr style=\"text-align: right;\">\n",
       "      <th></th>\n",
       "      <th>name</th>\n",
       "      <th>count</th>\n",
       "    </tr>\n",
       "  </thead>\n",
       "  <tbody>\n",
       "    <tr>\n",
       "      <th>124232</th>\n",
       "      <td>ruschell</td>\n",
       "      <td>124</td>\n",
       "    </tr>\n",
       "    <tr>\n",
       "      <th>1746</th>\n",
       "      <td>akpan</td>\n",
       "      <td>732</td>\n",
       "    </tr>\n",
       "    <tr>\n",
       "      <th>84328</th>\n",
       "      <td>liamas</td>\n",
       "      <td>157</td>\n",
       "    </tr>\n",
       "    <tr>\n",
       "      <th>43375</th>\n",
       "      <td>etienne</td>\n",
       "      <td>7867</td>\n",
       "    </tr>\n",
       "    <tr>\n",
       "      <th>149571</th>\n",
       "      <td>valdovino</td>\n",
       "      <td>261</td>\n",
       "    </tr>\n",
       "  </tbody>\n",
       "</table>\n",
       "</div>"
      ],
      "text/plain": [
       "             name  count\n",
       "124232   ruschell    124\n",
       "1746        akpan    732\n",
       "84328      liamas    157\n",
       "43375     etienne   7867\n",
       "149571  valdovino    261"
      ]
     },
     "execution_count": 144,
     "metadata": {},
     "output_type": "execute_result"
    }
   ],
   "source": [
    "df.sample(5)"
   ]
  },
  {
   "cell_type": "code",
   "execution_count": 145,
   "metadata": {},
   "outputs": [
    {
     "data": {
      "text/html": [
       "<div>\n",
       "<style scoped>\n",
       "    .dataframe tbody tr th:only-of-type {\n",
       "        vertical-align: middle;\n",
       "    }\n",
       "\n",
       "    .dataframe tbody tr th {\n",
       "        vertical-align: top;\n",
       "    }\n",
       "\n",
       "    .dataframe thead th {\n",
       "        text-align: right;\n",
       "    }\n",
       "</style>\n",
       "<table border=\"1\" class=\"dataframe\">\n",
       "  <thead>\n",
       "    <tr style=\"text-align: right;\">\n",
       "      <th></th>\n",
       "      <th>name</th>\n",
       "      <th>count</th>\n",
       "    </tr>\n",
       "  </thead>\n",
       "  <tbody>\n",
       "    <tr>\n",
       "      <th>90291</th>\n",
       "      <td>manier</td>\n",
       "      <td>920</td>\n",
       "    </tr>\n",
       "    <tr>\n",
       "      <th>84798</th>\n",
       "      <td>lillibridge</td>\n",
       "      <td>979</td>\n",
       "    </tr>\n",
       "    <tr>\n",
       "      <th>26159</th>\n",
       "      <td>chupp</td>\n",
       "      <td>2893</td>\n",
       "    </tr>\n",
       "    <tr>\n",
       "      <th>6043</th>\n",
       "      <td>audige</td>\n",
       "      <td>111</td>\n",
       "    </tr>\n",
       "    <tr>\n",
       "      <th>3817</th>\n",
       "      <td>angelina</td>\n",
       "      <td>335</td>\n",
       "    </tr>\n",
       "  </tbody>\n",
       "</table>\n",
       "</div>"
      ],
      "text/plain": [
       "              name  count\n",
       "90291       manier    920\n",
       "84798  lillibridge    979\n",
       "26159        chupp   2893\n",
       "6043        audige    111\n",
       "3817      angelina    335"
      ]
     },
     "execution_count": 145,
     "metadata": {},
     "output_type": "execute_result"
    }
   ],
   "source": [
    "LENGTH_THRESHOLD = 2\n",
    "df = df[df[\"name\"].str.len() >= LENGTH_THRESHOLD]\n",
    "\n",
    "# ELiminate \"All other names\"\n",
    "df = df[df[\"name\"] != \"all other names\"]\n",
    "df.sample(5)"
   ]
  },
  {
   "cell_type": "code",
   "execution_count": 146,
   "metadata": {},
   "outputs": [],
   "source": [
    "# Scale from 0-100000\n",
    "df[\"log_count\"] = df[\"count\"].apply(math.log)\n",
    "max_log_count = df[\"log_count\"].max()\n",
    "min_log_count = df[\"log_count\"].min()\n",
    "df[\"ScaledCount\"] = ((df[\"log_count\"] - min_log_count) / (max_log_count - min_log_count) * 100000).astype(int)\n",
    "\n",
    "# Sort by count\n",
    "df = df.sort_values(by=\"count\", ascending=False)"
   ]
  },
  {
   "cell_type": "code",
   "execution_count": 147,
   "metadata": {},
   "outputs": [
    {
     "data": {
      "text/html": [
       "<div>\n",
       "<style scoped>\n",
       "    .dataframe tbody tr th:only-of-type {\n",
       "        vertical-align: middle;\n",
       "    }\n",
       "\n",
       "    .dataframe tbody tr th {\n",
       "        vertical-align: top;\n",
       "    }\n",
       "\n",
       "    .dataframe thead th {\n",
       "        text-align: right;\n",
       "    }\n",
       "</style>\n",
       "<table border=\"1\" class=\"dataframe\">\n",
       "  <thead>\n",
       "    <tr style=\"text-align: right;\">\n",
       "      <th></th>\n",
       "      <th>name</th>\n",
       "      <th>count</th>\n",
       "      <th>log_count</th>\n",
       "      <th>ScaledCount</th>\n",
       "    </tr>\n",
       "  </thead>\n",
       "  <tbody>\n",
       "    <tr>\n",
       "      <th>97168</th>\n",
       "      <td>mikell</td>\n",
       "      <td>3048</td>\n",
       "      <td>8.022241</td>\n",
       "      <td>33820</td>\n",
       "    </tr>\n",
       "    <tr>\n",
       "      <th>4647</th>\n",
       "      <td>archundia</td>\n",
       "      <td>400</td>\n",
       "      <td>5.991465</td>\n",
       "      <td>13720</td>\n",
       "    </tr>\n",
       "    <tr>\n",
       "      <th>95570</th>\n",
       "      <td>melchin</td>\n",
       "      <td>137</td>\n",
       "      <td>4.919981</td>\n",
       "      <td>3115</td>\n",
       "    </tr>\n",
       "    <tr>\n",
       "      <th>16688</th>\n",
       "      <td>bowey</td>\n",
       "      <td>163</td>\n",
       "      <td>5.093750</td>\n",
       "      <td>4835</td>\n",
       "    </tr>\n",
       "    <tr>\n",
       "      <th>118247</th>\n",
       "      <td>rashed</td>\n",
       "      <td>623</td>\n",
       "      <td>6.434547</td>\n",
       "      <td>18106</td>\n",
       "    </tr>\n",
       "  </tbody>\n",
       "</table>\n",
       "</div>"
      ],
      "text/plain": [
       "             name  count  log_count  ScaledCount\n",
       "97168      mikell   3048   8.022241        33820\n",
       "4647    archundia    400   5.991465        13720\n",
       "95570     melchin    137   4.919981         3115\n",
       "16688       bowey    163   5.093750         4835\n",
       "118247     rashed    623   6.434547        18106"
      ]
     },
     "execution_count": 147,
     "metadata": {},
     "output_type": "execute_result"
    }
   ],
   "source": [
    "df.sample(5)"
   ]
  },
  {
   "cell_type": "code",
   "execution_count": 148,
   "metadata": {},
   "outputs": [],
   "source": [
    "# Output to json\n",
    "name_to_count = df.set_index(\"name\")[\"ScaledCount\"].to_dict()\n",
    "with open(\"../static/census_surnames/last_to_score.json\", \"w\") as f:\n",
    "    json.dump(name_to_count, f)"
   ]
  }
 ],
 "metadata": {
  "kernelspec": {
   "display_name": "venv",
   "language": "python",
   "name": "python3"
  },
  "language_info": {
   "codemirror_mode": {
    "name": "ipython",
    "version": 3
   },
   "file_extension": ".py",
   "mimetype": "text/x-python",
   "name": "python",
   "nbconvert_exporter": "python",
   "pygments_lexer": "ipython3",
   "version": "3.11.9"
  }
 },
 "nbformat": 4,
 "nbformat_minor": 2
}
