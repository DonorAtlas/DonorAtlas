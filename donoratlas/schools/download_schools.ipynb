{
 "cells": [
  {
   "cell_type": "markdown",
   "metadata": {},
   "source": [
    "~ 1.5 hour runtime"
   ]
  },
  {
   "cell_type": "code",
   "execution_count": 15,
   "metadata": {},
   "outputs": [],
   "source": [
    "from SPARQLWrapper import SPARQLWrapper, JSON, SPARQLExceptions\n",
    "import pandas as pd\n",
    "from typing import List\n",
    "from tqdm.notebook import tqdm\n",
    "import time"
   ]
  },
  {
   "cell_type": "code",
   "execution_count": 2,
   "metadata": {},
   "outputs": [],
   "source": [
    "result_lst = []"
   ]
  },
  {
   "cell_type": "code",
   "execution_count": null,
   "metadata": {},
   "outputs": [],
   "source": [
    "categories_to_scan = ['wd:Q38723', 'wd:Q189004', 'wd:Q3918', 'wd:Q62078547', 'wd:Q269770', 'wd:Q12241709', 'wd:Q428602', 'wd:Q9826', 'wd:Q64063386', 'wd:Q3914', 'wd:Q2385804', 'wd:Q5341295', 'wd:Q902104', 'wd:Q1377182', 'wd:Q6540832', 'wd:Q494230', 'wd:Q1321960', 'wd:Q1143635', 'wd:Q20820271', 'wd:Q1663017', 'wd:Q423208', 'wd:Q11391922', 'wd:Q352102', 'wd:Q149566', 'wd:Q875538', 'wd:Q159334']\n",
    "\n",
    "avg_len = 3\n",
    "remainder = 0\n",
    "sub_arrays = []\n",
    "start = 0\n",
    "\n",
    "for i in range(9):\n",
    "    end = start + avg_len + (1 if i < remainder else 0)\n",
    "    sub_arrays.append(categories_to_scan[start:end])\n",
    "    start = end\n",
    "\n",
    "categories = sub_arrays\n",
    "print('running on categories:', categories)"
   ]
  },
  {
   "cell_type": "code",
   "execution_count": 4,
   "metadata": {},
   "outputs": [],
   "source": [
    "def fetch_wikidata_entities(file):\n",
    "    endpoint_url = \"https://query.wikidata.org/sparql\"\n",
    "    sparql = SPARQLWrapper(endpoint_url)\n",
    "    \n",
    "    for categories_subset in tqdm(categories[:-1], desc=\"Processing Categories\"):\n",
    "        query = f\"\"\"\n",
    "            SELECT ?institution ?instance WHERE {{\n",
    "                VALUES ?instance {{{' '.join(categories_subset)}}}\n",
    "                {{\n",
    "                    ?institution wdt:P31 ?instance .\n",
    "                }}\n",
    "                UNION\n",
    "                # Second layer: Subclasses of instances (subclass of a subclass)\n",
    "                {{\n",
    "                    ?subclass wdt:P279* ?instance .\n",
    "                    ?institution wdt:P31* ?subclass .\n",
    "                }}\n",
    "                \n",
    "                OPTIONAL {{ ?institution wdt:P17 ?country . }}\n",
    "                FILTER (!BOUND(?country) || ?country IN (wd:Q30))\n",
    "            }}\n",
    "\n",
    "            GROUP BY ?institution ?instance\n",
    "        \"\"\"\n",
    "\n",
    "        sparql.setQuery(query)\n",
    "        sparql.setReturnFormat(JSON)\n",
    "        \n",
    "        try:\n",
    "            # Execute the query\n",
    "            results = sparql.query().convert()['results']['bindings']\n",
    "            result_lst.extend(results)\n",
    "            for result in results:\n",
    "                file.write(str(result))\n",
    "\n",
    "            print(f'adding {len(results)} entries to result_lst')\n",
    "            print(len(result_lst))\n",
    "            # Process the results\n",
    "        \n",
    "        except Exception as e:\n",
    "            print(f\"An error occurred: {e}\")\n",
    "    return result_lst\n",
    "    "
   ]
  },
  {
   "cell_type": "code",
   "execution_count": 5,
   "metadata": {},
   "outputs": [],
   "source": [
    "def fetch_wikidata_entities_subset(file, categories_subset):\n",
    "    endpoint_url = \"https://query.wikidata.org/sparql\"\n",
    "    sparql = SPARQLWrapper(endpoint_url)\n",
    "    \n",
    "    for category in tqdm(categories_subset, desc=\"Processing Categories\"):\n",
    "        print(category)\n",
    "        query = f\"\"\"\n",
    "            SELECT ?institution ?instance WHERE {{\n",
    "            VALUES ?instance {{{category}}}\n",
    "\n",
    "            ?institution wdt:P31 ?instance .\n",
    "            \n",
    "            OPTIONAL {{ ?institution wdt:P17 ?country . }}\n",
    "            FILTER (!BOUND(?country) || ?country IN (wd:Q30))\n",
    "            }}\n",
    "\n",
    "            GROUP BY ?institution ?instance\n",
    "        \"\"\"\n",
    "\n",
    "        sparql.setQuery(query)\n",
    "        sparql.setReturnFormat(JSON)\n",
    "        \n",
    "        try:\n",
    "            # Execute the query\n",
    "            results = sparql.query().convert()['results']['bindings']\n",
    "            result_lst.extend(results)\n",
    "            for result in results:\n",
    "                file.write(str(result))\n",
    "\n",
    "            print(f'adding {len(results)} entries to result_lst')\n",
    "            print(len(result_lst))\n",
    "            # Process the results\n",
    "        \n",
    "        except Exception as e:\n",
    "            print(f\"An error occurred: {e}\")\n",
    "    return result_lst\n",
    "    "
   ]
  },
  {
   "cell_type": "code",
   "execution_count": 6,
   "metadata": {},
   "outputs": [],
   "source": [
    "file_name = f'wikidata_entites_{time.time()}.txt'"
   ]
  },
  {
   "cell_type": "code",
   "execution_count": null,
   "metadata": {},
   "outputs": [],
   "source": [
    "with open(file_name, 'w') as file:\n",
    "    df_entities = fetch_wikidata_entities(file)"
   ]
  },
  {
   "cell_type": "code",
   "execution_count": null,
   "metadata": {},
   "outputs": [],
   "source": [
    "# Run on any categories that timed out\n",
    "category = categories[-1]\n",
    "\n",
    "with open(file_name, 'a') as file:\n",
    "    df_entities = fetch_wikidata_entities_subset(file, category)"
   ]
  },
  {
   "cell_type": "code",
   "execution_count": 9,
   "metadata": {},
   "outputs": [],
   "source": [
    "df_entities = pd.DataFrame(df_entities)"
   ]
  },
  {
   "cell_type": "code",
   "execution_count": null,
   "metadata": {},
   "outputs": [],
   "source": [
    "df_entities.shape"
   ]
  },
  {
   "cell_type": "code",
   "execution_count": 11,
   "metadata": {},
   "outputs": [],
   "source": [
    "df_entities[\"institution\"] = df_entities[\"institution\"].astype(str)\n",
    "df_entities[\"institution_hash\"] = df_entities[\"institution\"].apply(hash)\n",
    "df_unique = df_entities.drop_duplicates(subset=\"institution_hash\")"
   ]
  },
  {
   "cell_type": "code",
   "execution_count": null,
   "metadata": {},
   "outputs": [],
   "source": [
    "# remove duplicate ids\n",
    "print(df_unique.shape)\n",
    "df_unique.sample(5)"
   ]
  },
  {
   "cell_type": "code",
   "execution_count": 13,
   "metadata": {},
   "outputs": [],
   "source": [
    "df_entities = df_unique"
   ]
  },
  {
   "cell_type": "code",
   "execution_count": 15,
   "metadata": {},
   "outputs": [],
   "source": [
    "df_entities['institution_id'] = df_entities['institution'].apply(lambda x: x.split('/')[-1][:-2])\n",
    "\n",
    "# Write the extracted IDs to a text file\n",
    "output_file = \"institution_ids.txt\"\n",
    "with open(output_file, \"w\") as f:\n",
    "    f.writelines(f\"{inst_id}\\n\" for inst_id in df_entities['institution_id'])"
   ]
  },
  {
   "cell_type": "markdown",
   "metadata": {},
   "source": [
    "# Get each entity"
   ]
  },
  {
   "cell_type": "code",
   "execution_count": 3,
   "metadata": {},
   "outputs": [],
   "source": [
    "def process_entity(results: List[dict], entity_id):\n",
    "    \"\"\"\n",
    "    Aggregates the input data into a dictionary where the key is valueLabel['value'] \n",
    "    and the value is a dictionary mapping propertyLabel['value'] to valueLabel['value'].\n",
    "\n",
    "    Args:\n",
    "        data (list of dict): List of dictionaries containing 'valueLabel' and 'propertyLabel'.\n",
    "\n",
    "    Returns:\n",
    "        dict: Aggregated dictionary.\n",
    "    \"\"\"\n",
    "    aggregated = {}\n",
    "\n",
    "    if results:\n",
    "        alt_labels = []  # To store alternative labels\n",
    "        parent_orgs = []  # To store alternative labels\n",
    "\n",
    "        for item in results:\n",
    "            # Process valueLabel and propertyLabel\n",
    "            if \"valueLabel\" in item and \"propertyLabel\" in item:\n",
    "                value_label = item[\"valueLabel\"][\"value\"]\n",
    "                property_label = item[\"propertyLabel\"][\"value\"]\n",
    "\n",
    "                if property_label not in aggregated:\n",
    "                    aggregated[property_label] = [value_label]\n",
    "                else:\n",
    "                    aggregated[property_label].append(value_label)\n",
    "            \n",
    "            # Collect altLabels\n",
    "            if \"parentOrg\" in item and \"parentOrgLabel\" in item:\n",
    "                parent_orgs.append({\n",
    "                    \"id\": item[\"parentOrg\"][\"value\"].split(\"/\")[-1],  # Extract Wikidata ID\n",
    "                    \"name\": item[\"parentOrgLabel\"][\"value\"]\n",
    "                })\n",
    "\n",
    "            # Collect Wikipedia URL\n",
    "            if \"wikipediaURL\" in item:\n",
    "                aggregated['wikipediaURL'] = item[\"wikipediaURL\"][\"value\"]\n",
    "            if \"wikipediaURL\" in item:\n",
    "                aggregated['wikipediaURL'] = item[\"wikipediaURL\"][\"value\"]\n",
    "\n",
    "        # Add alternative labels to the dictionary\n",
    "        if alt_labels:\n",
    "            aggregated['altLabels'] = list(set(alt_labels))  # Remove duplicates if any\n",
    "\n",
    "        # Add parent organizations to the dictionary\n",
    "        if parent_orgs:\n",
    "            aggregated['parentOrganizations'] = parent_orgs\n",
    "\n",
    "        aggregated['wd_id'] = entity_id\n",
    "        aggregated['name'] = results[0]['itemLabel']['value']\n",
    "        return aggregated\n",
    "    else:\n",
    "        print(\"no results found\")"
   ]
  },
  {
   "cell_type": "code",
   "execution_count": 4,
   "metadata": {},
   "outputs": [],
   "source": [
    "def get_entity(match):\n",
    "    endpoint_url = \"https://query.wikidata.org/sparql\"\n",
    "    sparql = SPARQLWrapper(endpoint_url)\n",
    "\n",
    "    query = f\"\"\"\n",
    "        SELECT ?itemLabel ?propertyLabel ?valueLabel ?altLabel ?wikipediaURL ?parentOrg ?parentOrgLabel WHERE {{\n",
    "            BIND(wd:{match} AS ?item)  # Bind the input entity to ?item\n",
    "            ?item ?prop ?value .\n",
    "            ?property wikibase:directClaim ?prop .\n",
    "\n",
    "            OPTIONAL {{\n",
    "                ?value rdfs:label ?valueLabel .\n",
    "                FILTER (lang(?valueLabel) = \"en\")\n",
    "            }}\n",
    "\n",
    "            OPTIONAL {{ ?item skos:altLabel ?altLabel . FILTER (LANG(?altLabel) = \"en\") }}\n",
    "\n",
    "            OPTIONAL {{\n",
    "                ?wikipediaURL schema:about ?item ;\n",
    "                            schema:inLanguage \"en\" ;\n",
    "                            schema:isPartOf <https://en.wikipedia.org/>.\n",
    "            }}\n",
    "\n",
    "            OPTIONAL {{\n",
    "                ?item wdt:P749 ?parentOrg .\n",
    "                ?parentOrg rdfs:label ?parentOrgLabel .\n",
    "                FILTER (LANG(?parentOrgLabel) = \"en\")\n",
    "            }}\n",
    "\n",
    "            SERVICE wikibase:label {{ bd:serviceParam wikibase:language \"en\". }}\n",
    "        }}\n",
    "        \"\"\"\n",
    "    \n",
    "    sparql.setQuery(query)\n",
    "    sparql.setReturnFormat(JSON)\n",
    "    \n",
    "    results = sparql.query().convert()\n",
    "    results = results['results']['bindings']\n",
    "    return results"
   ]
  },
  {
   "cell_type": "markdown",
   "metadata": {},
   "source": [
    "# Execute"
   ]
  },
  {
   "cell_type": "code",
   "execution_count": 5,
   "metadata": {},
   "outputs": [],
   "source": [
    "import time\n",
    "\n",
    "def fetch_entity_with_retry(entity, max_retries=5, backoff_factor=1.5):\n",
    "    retries = 0\n",
    "    while retries < max_retries:\n",
    "        try:\n",
    "            # Replace this with the actual API call\n",
    "            result = get_entity(entity)  # Your function that fetches the entity\n",
    "            return result\n",
    "        except SPARQLExceptions.QueryBadFormed as e:\n",
    "            print(\"Bad query format:\", e)\n",
    "            break\n",
    "        except Exception as e:\n",
    "            # Check for Retry-After header in response\n",
    "            if e == 'HTTP Error 429: Too Many Requests':\n",
    "                retry_after = 5\n",
    "                if retry_after:\n",
    "                    wait_time = int(retry_after)\n",
    "                    print(f\"Rate limit hit. Retrying after {wait_time} seconds...\")\n",
    "                    time.sleep(wait_time)\n",
    "                else:\n",
    "                    print(\"Retry-After header not found. Retrying after 5 seconds...\")\n",
    "                    time.sleep(5)\n",
    "            else:\n",
    "                print(f\"Unexpected error: {e}\")\n",
    "                break\n",
    "        # except Exception as e:\n",
    "        #     # If a 429 error occurs, handle it\n",
    "        #         retries += 1\n",
    "        #         wait_time = backoff_factor ** retries + random.uniform(0, 4)\n",
    "        #         print(f\"Rate limit hit. Retrying in {wait_time:.2f} seconds...\")\n",
    "        #         time.sleep(wait_time)\n",
    "    print(f\"Max retries reached. Skipping {entity}\")\n",
    "    return None  # Return None if retries are exhausted\n"
   ]
  },
  {
   "cell_type": "code",
   "execution_count": null,
   "metadata": {},
   "outputs": [],
   "source": [
    "# ~ 1h20m\n",
    "\n",
    "all_res = []\n",
    "output_txt = f\"raw_wiki_entities_{time.time()}.txt\"\n",
    "print(f'writing entities to {output_txt}')\n",
    "\n",
    "with open('id_failures.txt', 'r') as file:\n",
    "    # Read all lines and store them in a list\n",
    "    lines = file.readlines()\n",
    "\n",
    "# Strip the newline characters from each line\n",
    "results = [line.strip() for line in lines]\n",
    "if results:\n",
    "    for entity_id in tqdm(results, desc=\"Processing Entities\", unit=\"entity\", miniters=100, mininterval=0.5):\n",
    "        entity_data = fetch_entity_with_retry(entity_id)  # Retry logic added here\n",
    "        if entity_data:\n",
    "            entity_data = process_entity(entity_data, entity_id)  # Process the entity after fetching\n",
    "            with open(output_txt, mode=\"a\", encoding=\"utf-8\") as txtfile:\n",
    "                # Format the entity data as a string for writing\n",
    "                txtfile.write(f\"{str(entity_data)}\\n\")\n",
    "            \n",
    "            all_res.append(entity_data)"
   ]
  },
  {
   "cell_type": "code",
   "execution_count": 2,
   "metadata": {},
   "outputs": [
    {
     "name": "stdout",
     "output_type": "stream",
     "text": [
      "                                     coordinate location  \\\n",
      "0      [Point(-88.55 47.12), Point(-88.55 47.12), Poi...   \n",
      "1      [Point(-72.527777777 42.388888888), Point(-72....   \n",
      "2      [Point(-71.038445 42.313432), Point(-71.038445...   \n",
      "3      [Point(-72.730555555 41.781111111), Point(-72....   \n",
      "4      [Point(-96.580833333 39.191666666), Point(-96....   \n",
      "...                                                  ...   \n",
      "76483                                                NaN   \n",
      "76484                                                NaN   \n",
      "76485                                                NaN   \n",
      "76486                 [Point(-104.81916667 41.14472222)]   \n",
      "76487                                                NaN   \n",
      "\n",
      "                                            wikipediaURL  \\\n",
      "0      https://en.wikipedia.org/wiki/Michigan_Technol...   \n",
      "1      https://en.wikipedia.org/wiki/University_of_Ma...   \n",
      "2      https://en.wikipedia.org/wiki/University_of_Ma...   \n",
      "3      https://en.wikipedia.org/wiki/University_of_Sa...   \n",
      "4      https://en.wikipedia.org/wiki/Kansas_State_Uni...   \n",
      "...                                                  ...   \n",
      "76483  https://en.wikipedia.org/wiki/1st_Engineer_Bri...   \n",
      "76484                                                NaN   \n",
      "76485  https://en.wikipedia.org/wiki/1st_Aviation_Bri...   \n",
      "76486  https://en.wikipedia.org/wiki/Cheyenne_High_Sc...   \n",
      "76487                                                NaN   \n",
      "\n",
      "                                        Commons category  \\\n",
      "0      [Michigan Technological University, Michigan T...   \n",
      "1      [University of Massachusetts Amherst, Universi...   \n",
      "2      [University of Massachusetts Boston, Universit...   \n",
      "3      [University of Saint Joseph (Connecticut), Uni...   \n",
      "4      [Kansas State University, Kansas State Univers...   \n",
      "...                                                  ...   \n",
      "76483                                                NaN   \n",
      "76484                                                NaN   \n",
      "76485                                                NaN   \n",
      "76486                                                NaN   \n",
      "76487            [Hopkins Academy (Oakland, California)]   \n",
      "\n",
      "                                     NLA Trove people ID  \\\n",
      "0      [1272100, 1272100, 1272100, 1272100, 1272100, ...   \n",
      "1          [1000365, 1000365, 1000365, 1000365, 1000365]   \n",
      "2                            [1114755, 1114755, 1114755]   \n",
      "3                                                    NaN   \n",
      "4       [885952, 885952, 885952, 885952, 885952, 885952]   \n",
      "...                                                  ...   \n",
      "76483                                                NaN   \n",
      "76484                                                NaN   \n",
      "76485                                                NaN   \n",
      "76486                                                NaN   \n",
      "76487                                                NaN   \n",
      "\n",
      "                                               endowment  \\\n",
      "0      [151519725, 151519725, 151519725, 151519725, 1...   \n",
      "1                                                    NaN   \n",
      "2                                                    NaN   \n",
      "3                                   [35442000, 35442000]   \n",
      "4      [767600000, 767600000, 767600000, 767600000, 7...   \n",
      "...                                                  ...   \n",
      "76483                                                NaN   \n",
      "76484                                                NaN   \n",
      "76485                                                NaN   \n",
      "76486                                                NaN   \n",
      "76487                                                NaN   \n",
      "\n",
      "                                                 VIAF ID  \\\n",
      "0      [135538701, 135538701, 135538701, 135538701, 1...   \n",
      "1      [263664954, 263664954, 263664954, 263664954, 2...   \n",
      "2                      [125615448, 125615448, 125615448]   \n",
      "3                                 [145360145, 145360145]   \n",
      "4      [134816774, 134816774, 134816774, 134816774, 1...   \n",
      "...                                                  ...   \n",
      "76483                                                NaN   \n",
      "76484                                                NaN   \n",
      "76485                                                NaN   \n",
      "76486                                                NaN   \n",
      "76487                                                NaN   \n",
      "\n",
      "                                   Microsoft Academic ID  \\\n",
      "0      [11957088, 11957088, 11957088, 11957088, 11957...   \n",
      "1      [24603500, 24603500, 24603500, 24603500, 24603...   \n",
      "2                         [33434090, 33434090, 33434090]   \n",
      "3                                 [192633058, 192633058]   \n",
      "4      [189590672, 189590672, 189590672, 189590672, 1...   \n",
      "...                                                  ...   \n",
      "76483                                                NaN   \n",
      "76484                                                NaN   \n",
      "76485                                                NaN   \n",
      "76486                                                NaN   \n",
      "76487                                                NaN   \n",
      "\n",
      "                                              subreddit  \\\n",
      "0                   [MTU, MTU, MTU, MTU, MTU, MTU, MTU]   \n",
      "1                   [umass, umass, umass, umass, umass]   \n",
      "2                                                   NaN   \n",
      "3                                                   NaN   \n",
      "4      [kstate, kstate, kstate, kstate, kstate, kstate]   \n",
      "...                                                 ...   \n",
      "76483                                               NaN   \n",
      "76484                                               NaN   \n",
      "76485                                               NaN   \n",
      "76486                                               NaN   \n",
      "76487                                               NaN   \n",
      "\n",
      "                                        HAL structure ID  \\\n",
      "0      [480742, 480742, 480742, 480742, 480742, 48074...   \n",
      "1                    [91189, 91189, 91189, 91189, 91189]   \n",
      "2                               [312286, 312286, 312286]   \n",
      "3                                                    NaN   \n",
      "4                                                    NaN   \n",
      "...                                                  ...   \n",
      "76483                                                NaN   \n",
      "76484                                                NaN   \n",
      "76485                                                NaN   \n",
      "76486                                                NaN   \n",
      "76487                                                NaN   \n",
      "\n",
      "       Integrated Postsecondary Education Data System ID  ... proxy  \\\n",
      "0      [171128, 171128, 171128, 171128, 171128, 17112...  ...   NaN   \n",
      "1               [166629, 166629, 166629, 166629, 166629]  ...   NaN   \n",
      "2                               [166638, 166638, 166638]  ...   NaN   \n",
      "3                                       [130314, 130314]  ...   NaN   \n",
      "4       [155399, 155399, 155399, 155399, 155399, 155399]  ...   NaN   \n",
      "...                                                  ...  ...   ...   \n",
      "76483                                                NaN  ...   NaN   \n",
      "76484                                                NaN  ...   NaN   \n",
      "76485                                                NaN  ...   NaN   \n",
      "76486                                                NaN  ...   NaN   \n",
      "76487                                                NaN  ...   NaN   \n",
      "\n",
      "      Wikipedia Library partner ID payload mass theorised by  \\\n",
      "0                              NaN          NaN          NaN   \n",
      "1                              NaN          NaN          NaN   \n",
      "2                              NaN          NaN          NaN   \n",
      "3                              NaN          NaN          NaN   \n",
      "4                              NaN          NaN          NaN   \n",
      "...                            ...          ...          ...   \n",
      "76483                          NaN          NaN          NaN   \n",
      "76484                          NaN          NaN          NaN   \n",
      "76485                          NaN          NaN          NaN   \n",
      "76486                          NaN          NaN          NaN   \n",
      "76487                          NaN          NaN          NaN   \n",
      "\n",
      "      PubMed publication ID author name string Gateway to Research Project ID  \\\n",
      "0                       NaN                NaN                            NaN   \n",
      "1                       NaN                NaN                            NaN   \n",
      "2                       NaN                NaN                            NaN   \n",
      "3                       NaN                NaN                            NaN   \n",
      "4                       NaN                NaN                            NaN   \n",
      "...                     ...                ...                            ...   \n",
      "76483                   NaN                NaN                            NaN   \n",
      "76484                   NaN                NaN                            NaN   \n",
      "76485                   NaN                NaN                            NaN   \n",
      "76486                   NaN                NaN                            NaN   \n",
      "76487                   NaN                NaN                            NaN   \n",
      "\n",
      "      principal investigator funding scheme  \\\n",
      "0                        NaN            NaN   \n",
      "1                        NaN            NaN   \n",
      "2                        NaN            NaN   \n",
      "3                        NaN            NaN   \n",
      "4                        NaN            NaN   \n",
      "...                      ...            ...   \n",
      "76483                    NaN            NaN   \n",
      "76484                    NaN            NaN   \n",
      "76485                    NaN            NaN   \n",
      "76486                    NaN            NaN   \n",
      "76487                    NaN            NaN   \n",
      "\n",
      "      Dictionary of Archives Terminology ID  \n",
      "0                                       NaN  \n",
      "1                                       NaN  \n",
      "2                                       NaN  \n",
      "3                                       NaN  \n",
      "4                                       NaN  \n",
      "...                                     ...  \n",
      "76483                                   NaN  \n",
      "76484                                   NaN  \n",
      "76485                                   NaN  \n",
      "76486                                   NaN  \n",
      "76487                                   NaN  \n",
      "\n",
      "[76488 rows x 1512 columns]\n"
     ]
    }
   ],
   "source": [
    "import ast\n",
    "import json\n",
    "import pandas as pd\n",
    "\n",
    "\n",
    "file_path = 'raw_wiki_entities_12_6.txt'\n",
    "data = []\n",
    "\n",
    "# Open the file and read line by line\n",
    "with open(file_path, 'r') as file:\n",
    "    for i, line in enumerate(file):\n",
    "        try:\n",
    "            # Safely evaluate the Python-like dictionary format\n",
    "            record = ast.literal_eval(line.strip())\n",
    "            data.append(record)\n",
    "        except json.JSONDecodeError as e:\n",
    "            print(f\"Error on line {i}: {line.strip()}\")\n",
    "            print(f\"JSONDecodeError: {e}\")\n",
    "\n",
    "# Convert the list of dictionaries to a DataFrame\n",
    "df = pd.DataFrame(data)\n",
    "\n",
    "# Display the DataFrame\n",
    "print(df)"
   ]
  },
  {
   "cell_type": "code",
   "execution_count": 3,
   "metadata": {},
   "outputs": [
    {
     "data": {
      "text/html": [
       "<div>\n",
       "<style scoped>\n",
       "    .dataframe tbody tr th:only-of-type {\n",
       "        vertical-align: middle;\n",
       "    }\n",
       "\n",
       "    .dataframe tbody tr th {\n",
       "        vertical-align: top;\n",
       "    }\n",
       "\n",
       "    .dataframe thead th {\n",
       "        text-align: right;\n",
       "    }\n",
       "</style>\n",
       "<table border=\"1\" class=\"dataframe\">\n",
       "  <thead>\n",
       "    <tr style=\"text-align: right;\">\n",
       "      <th></th>\n",
       "      <th>coordinate location</th>\n",
       "      <th>wikipediaURL</th>\n",
       "      <th>Commons category</th>\n",
       "      <th>NLA Trove people ID</th>\n",
       "      <th>endowment</th>\n",
       "      <th>VIAF ID</th>\n",
       "      <th>Microsoft Academic ID</th>\n",
       "      <th>subreddit</th>\n",
       "      <th>HAL structure ID</th>\n",
       "      <th>Integrated Postsecondary Education Data System ID</th>\n",
       "      <th>...</th>\n",
       "      <th>proxy</th>\n",
       "      <th>Wikipedia Library partner ID</th>\n",
       "      <th>payload mass</th>\n",
       "      <th>theorised by</th>\n",
       "      <th>PubMed publication ID</th>\n",
       "      <th>author name string</th>\n",
       "      <th>Gateway to Research Project ID</th>\n",
       "      <th>principal investigator</th>\n",
       "      <th>funding scheme</th>\n",
       "      <th>Dictionary of Archives Terminology ID</th>\n",
       "    </tr>\n",
       "  </thead>\n",
       "  <tbody>\n",
       "    <tr>\n",
       "      <th>31115</th>\n",
       "      <td>NaN</td>\n",
       "      <td>https://en.wikipedia.org/wiki/The_Post_Oak_School</td>\n",
       "      <td>[The Post Oak School]</td>\n",
       "      <td>NaN</td>\n",
       "      <td>NaN</td>\n",
       "      <td>NaN</td>\n",
       "      <td>NaN</td>\n",
       "      <td>NaN</td>\n",
       "      <td>NaN</td>\n",
       "      <td>NaN</td>\n",
       "      <td>...</td>\n",
       "      <td>NaN</td>\n",
       "      <td>NaN</td>\n",
       "      <td>NaN</td>\n",
       "      <td>NaN</td>\n",
       "      <td>NaN</td>\n",
       "      <td>NaN</td>\n",
       "      <td>NaN</td>\n",
       "      <td>NaN</td>\n",
       "      <td>NaN</td>\n",
       "      <td>NaN</td>\n",
       "    </tr>\n",
       "  </tbody>\n",
       "</table>\n",
       "<p>1 rows × 1512 columns</p>\n",
       "</div>"
      ],
      "text/plain": [
       "      coordinate location                                       wikipediaURL  \\\n",
       "31115                 NaN  https://en.wikipedia.org/wiki/The_Post_Oak_School   \n",
       "\n",
       "            Commons category NLA Trove people ID endowment VIAF ID  \\\n",
       "31115  [The Post Oak School]                 NaN       NaN     NaN   \n",
       "\n",
       "      Microsoft Academic ID subreddit HAL structure ID  \\\n",
       "31115                   NaN       NaN              NaN   \n",
       "\n",
       "      Integrated Postsecondary Education Data System ID  ... proxy  \\\n",
       "31115                                               NaN  ...   NaN   \n",
       "\n",
       "      Wikipedia Library partner ID payload mass theorised by  \\\n",
       "31115                          NaN          NaN          NaN   \n",
       "\n",
       "      PubMed publication ID author name string Gateway to Research Project ID  \\\n",
       "31115                   NaN                NaN                            NaN   \n",
       "\n",
       "      principal investigator funding scheme  \\\n",
       "31115                    NaN            NaN   \n",
       "\n",
       "      Dictionary of Archives Terminology ID  \n",
       "31115                                   NaN  \n",
       "\n",
       "[1 rows x 1512 columns]"
      ]
     },
     "execution_count": 3,
     "metadata": {},
     "output_type": "execute_result"
    }
   ],
   "source": [
    "df.sample()"
   ]
  },
  {
   "cell_type": "code",
   "execution_count": 4,
   "metadata": {},
   "outputs": [
    {
     "name": "stdout",
     "output_type": "stream",
     "text": [
      "1512\n"
     ]
    },
    {
     "data": {
      "text/plain": [
       "Index(['coordinate location', 'wikipediaURL', 'Commons category',\n",
       "       'NLA Trove people ID', 'endowment', 'VIAF ID', 'Microsoft Academic ID',\n",
       "       'subreddit', 'HAL structure ID',\n",
       "       'Integrated Postsecondary Education Data System ID',\n",
       "       ...\n",
       "       'proxy', 'Wikipedia Library partner ID', 'payload mass', 'theorised by',\n",
       "       'PubMed publication ID', 'author name string',\n",
       "       'Gateway to Research Project ID', 'principal investigator',\n",
       "       'funding scheme', 'Dictionary of Archives Terminology ID'],\n",
       "      dtype='object', length=1512)"
      ]
     },
     "execution_count": 4,
     "metadata": {},
     "output_type": "execute_result"
    }
   ],
   "source": [
    "num_columns = df.shape[1]\n",
    "print(num_columns)\n",
    "df.columns"
   ]
  },
  {
   "cell_type": "markdown",
   "metadata": {},
   "source": [
    "# Get ids that were lost to 429 errors"
   ]
  },
  {
   "cell_type": "code",
   "execution_count": null,
   "metadata": {},
   "outputs": [],
   "source": [
    "import ast\n",
    "import json\n",
    "\n",
    "\n",
    "institutions_file = 'institution_ids.txt'\n",
    "output_file = \"missing_ids.txt\"\n",
    "\n",
    "# Read institutions.txt\n",
    "with open(institutions_file, \"r\") as f:\n",
    "    institution_ids = {line.strip() for line in f.readlines()}\n",
    "\n",
    "# Read processed_entities.txt and extract 'wd_id' values\n",
    "processed_ids = set()\n",
    "with open(processed_entities_file, \"r\") as f:\n",
    "    for line in f:\n",
    "        try:\n",
    "            entity = ast.literal_eval(line.strip())\n",
    "            \n",
    "            # Check if 'wd_id' exists and process it\n",
    "            if isinstance(entity, dict) and 'wd_id' in entity:\n",
    "                processed_ids.add(entity['wd_id'])\n",
    "        except json.JSONDecodeError:\n",
    "            print(f\"Error decoding line: {line.strip()}\")  # Optional: handle or log malformed lines\n",
    "\n",
    "# Compute the difference\n",
    "missing_ids = institution_ids - processed_ids\n",
    "\n",
    "# Write missing IDs to output file\n",
    "with open(output_file, \"w\") as f:\n",
    "    f.writelines(f\"{wd_id}\\n\" for wd_id in missing_ids)\n",
    "\n",
    "print(f\"Missing IDs written to {output_file}\")"
   ]
  },
  {
   "cell_type": "code",
   "execution_count": null,
   "metadata": {},
   "outputs": [],
   "source": [
    "output_txt = f\"processed_entities_{time.time()}.txt\"\n",
    "print(f'writing entities to {output_txt}')\n",
    "\n",
    "# results = fetch_wikidata_entities()\n",
    "results = missing_ids\n",
    "if results:\n",
    "    for entity_id in tqdm(results, desc=\"Processing Entities\", unit=\"entity\"):\n",
    "        entity_data = fetch_entity_with_retry(entity_id)  # Retry logic added here\n",
    "        if entity_data:\n",
    "            entity_data = process_entity(entity_data, entity_id)  # Process the entity after fetching\n",
    "            with open(output_txt, mode=\"a\", encoding=\"utf-8\") as txtfile:\n",
    "                # Format the entity data as a string for writing\n",
    "                txtfile.write(f\"{str(entity_data)}\\n\")\n",
    "            \n",
    "            all_res.append(entity_data)"
   ]
  },
  {
   "cell_type": "markdown",
   "metadata": {},
   "source": [
    "# Process data"
   ]
  },
  {
   "cell_type": "code",
   "execution_count": null,
   "metadata": {},
   "outputs": [],
   "source": [
    "df = pd.DataFrame(all_res)"
   ]
  },
  {
   "cell_type": "code",
   "execution_count": null,
   "metadata": {},
   "outputs": [],
   "source": [
    "df.sample()"
   ]
  },
  {
   "cell_type": "code",
   "execution_count": 7,
   "metadata": {},
   "outputs": [
    {
     "name": "stdout",
     "output_type": "stream",
     "text": [
      "76488\n"
     ]
    }
   ],
   "source": [
    "num_rows = df.shape[0]\n",
    "print(num_rows)"
   ]
  },
  {
   "cell_type": "code",
   "execution_count": 8,
   "metadata": {},
   "outputs": [
    {
     "name": "stdout",
     "output_type": "stream",
     "text": [
      "Dropping 17286 items without a name\n"
     ]
    }
   ],
   "source": [
    "# Count rows before filtering\n",
    "initial_count = len(df)\n",
    "\n",
    "# Drop schools without names\n",
    "df.drop(df[df['name'] == df['wd_id']].index, inplace=True)\n",
    "\n",
    "# Count rows after filtering\n",
    "final_count = len(df)\n",
    "\n",
    "# Calculate and print the number of dropped rows\n",
    "dropped_count = initial_count - final_count\n",
    "print(f\"Dropping {dropped_count} items without a name\")"
   ]
  },
  {
   "cell_type": "code",
   "execution_count": 9,
   "metadata": {},
   "outputs": [
    {
     "name": "stdout",
     "output_type": "stream",
     "text": [
      "Dropping 929 items without an instance of. 58273 entities remaining.\n"
     ]
    }
   ],
   "source": [
    "# Count rows before filtering\n",
    "initial_count = len(df)\n",
    "\n",
    "# Drop items without instance of\n",
    "df = df.dropna(subset=['instance of'])\n",
    "\n",
    "# Count rows after filtering\n",
    "final_count = len(df)\n",
    "\n",
    "# Calculate and print the number of dropped rows\n",
    "dropped_count = initial_count - final_count\n",
    "print(f\"Dropping {dropped_count} items without an instance of. {final_count} entities remaining.\")"
   ]
  },
  {
   "cell_type": "code",
   "execution_count": 10,
   "metadata": {},
   "outputs": [
    {
     "name": "stdout",
     "output_type": "stream",
     "text": [
      "Dropping 464 columns without any content\n"
     ]
    }
   ],
   "source": [
    "# drop all columns where one or zero rows have value\n",
    "\n",
    "initial_count = df.shape[1]\n",
    "\n",
    "df = df.dropna(axis=1, how='all')\n",
    "df = df.loc[:, df.notna().sum() > 1]\n",
    "df = df[['name'] + ['wd_id'] + [col for col in df.columns if col != 'name' and col != 'wd_id']]\n",
    "\n",
    "final_count = df.shape[1]\n",
    "dropped_count = initial_count - final_count\n",
    "print(f\"Dropping {dropped_count} columns without any content\")"
   ]
  },
  {
   "cell_type": "code",
   "execution_count": 11,
   "metadata": {},
   "outputs": [
    {
     "data": {
      "text/html": [
       "<div>\n",
       "<style scoped>\n",
       "    .dataframe tbody tr th:only-of-type {\n",
       "        vertical-align: middle;\n",
       "    }\n",
       "\n",
       "    .dataframe tbody tr th {\n",
       "        vertical-align: top;\n",
       "    }\n",
       "\n",
       "    .dataframe thead th {\n",
       "        text-align: right;\n",
       "    }\n",
       "</style>\n",
       "<table border=\"1\" class=\"dataframe\">\n",
       "  <thead>\n",
       "    <tr style=\"text-align: right;\">\n",
       "      <th></th>\n",
       "      <th>name</th>\n",
       "      <th>wd_id</th>\n",
       "      <th>coordinate location</th>\n",
       "      <th>wikipediaURL</th>\n",
       "      <th>Commons category</th>\n",
       "      <th>NLA Trove people ID</th>\n",
       "      <th>endowment</th>\n",
       "      <th>VIAF ID</th>\n",
       "      <th>Microsoft Academic ID</th>\n",
       "      <th>subreddit</th>\n",
       "      <th>...</th>\n",
       "      <th>French national research structure ID</th>\n",
       "      <th>size designation</th>\n",
       "      <th>ICANNWiki page ID</th>\n",
       "      <th>editor</th>\n",
       "      <th>WikiProjectMed ID</th>\n",
       "      <th>SlideShare username</th>\n",
       "      <th>IFTTT service ID</th>\n",
       "      <th>APA Dictionary of Psychology entry</th>\n",
       "      <th>NCI Thesaurus ID</th>\n",
       "      <th>J. Paul Getty Museum agent ID</th>\n",
       "    </tr>\n",
       "  </thead>\n",
       "  <tbody>\n",
       "    <tr>\n",
       "      <th>15958</th>\n",
       "      <td>Holy Family Catholic High School</td>\n",
       "      <td>Q5885434</td>\n",
       "      <td>[Point(-93.6442 44.8585)]</td>\n",
       "      <td>https://en.wikipedia.org/wiki/Holy_Family_Cath...</td>\n",
       "      <td>NaN</td>\n",
       "      <td>NaN</td>\n",
       "      <td>NaN</td>\n",
       "      <td>NaN</td>\n",
       "      <td>NaN</td>\n",
       "      <td>NaN</td>\n",
       "      <td>...</td>\n",
       "      <td>NaN</td>\n",
       "      <td>NaN</td>\n",
       "      <td>NaN</td>\n",
       "      <td>NaN</td>\n",
       "      <td>NaN</td>\n",
       "      <td>NaN</td>\n",
       "      <td>NaN</td>\n",
       "      <td>NaN</td>\n",
       "      <td>NaN</td>\n",
       "      <td>NaN</td>\n",
       "    </tr>\n",
       "    <tr>\n",
       "      <th>8898</th>\n",
       "      <td>Elmezzi Graduate School for Molecular Medicine</td>\n",
       "      <td>Q5366732</td>\n",
       "      <td>[Point(-73.702321 40.775742)]</td>\n",
       "      <td>NaN</td>\n",
       "      <td>NaN</td>\n",
       "      <td>NaN</td>\n",
       "      <td>NaN</td>\n",
       "      <td>NaN</td>\n",
       "      <td>NaN</td>\n",
       "      <td>NaN</td>\n",
       "      <td>...</td>\n",
       "      <td>NaN</td>\n",
       "      <td>NaN</td>\n",
       "      <td>NaN</td>\n",
       "      <td>NaN</td>\n",
       "      <td>NaN</td>\n",
       "      <td>NaN</td>\n",
       "      <td>NaN</td>\n",
       "      <td>NaN</td>\n",
       "      <td>NaN</td>\n",
       "      <td>NaN</td>\n",
       "    </tr>\n",
       "    <tr>\n",
       "      <th>3097</th>\n",
       "      <td>Berkeley College</td>\n",
       "      <td>Q2897191</td>\n",
       "      <td>[Point(-73.9794 40.754), Point(-73.9794 40.754...</td>\n",
       "      <td>https://en.wikipedia.org/wiki/Berkeley_College</td>\n",
       "      <td>[Berkeley College, Berkeley College, Berkeley ...</td>\n",
       "      <td>NaN</td>\n",
       "      <td>NaN</td>\n",
       "      <td>NaN</td>\n",
       "      <td>[134446601, 134446601, 134446601, 134446601, 1...</td>\n",
       "      <td>NaN</td>\n",
       "      <td>...</td>\n",
       "      <td>NaN</td>\n",
       "      <td>NaN</td>\n",
       "      <td>NaN</td>\n",
       "      <td>NaN</td>\n",
       "      <td>NaN</td>\n",
       "      <td>NaN</td>\n",
       "      <td>NaN</td>\n",
       "      <td>NaN</td>\n",
       "      <td>NaN</td>\n",
       "      <td>NaN</td>\n",
       "    </tr>\n",
       "    <tr>\n",
       "      <th>46063</th>\n",
       "      <td>Mackinac College</td>\n",
       "      <td>Q6724494</td>\n",
       "      <td>[Point(-84.6054 45.8514)]</td>\n",
       "      <td>https://en.wikipedia.org/wiki/Mackinac_College</td>\n",
       "      <td>[Mackinac College]</td>\n",
       "      <td>NaN</td>\n",
       "      <td>NaN</td>\n",
       "      <td>NaN</td>\n",
       "      <td>NaN</td>\n",
       "      <td>NaN</td>\n",
       "      <td>...</td>\n",
       "      <td>NaN</td>\n",
       "      <td>NaN</td>\n",
       "      <td>NaN</td>\n",
       "      <td>NaN</td>\n",
       "      <td>NaN</td>\n",
       "      <td>NaN</td>\n",
       "      <td>NaN</td>\n",
       "      <td>NaN</td>\n",
       "      <td>NaN</td>\n",
       "      <td>NaN</td>\n",
       "    </tr>\n",
       "    <tr>\n",
       "      <th>41199</th>\n",
       "      <td>University of North Carolina at Chapel Hill De...</td>\n",
       "      <td>Q101016019</td>\n",
       "      <td>NaN</td>\n",
       "      <td>NaN</td>\n",
       "      <td>NaN</td>\n",
       "      <td>NaN</td>\n",
       "      <td>NaN</td>\n",
       "      <td>NaN</td>\n",
       "      <td>NaN</td>\n",
       "      <td>NaN</td>\n",
       "      <td>...</td>\n",
       "      <td>NaN</td>\n",
       "      <td>NaN</td>\n",
       "      <td>NaN</td>\n",
       "      <td>NaN</td>\n",
       "      <td>NaN</td>\n",
       "      <td>NaN</td>\n",
       "      <td>NaN</td>\n",
       "      <td>NaN</td>\n",
       "      <td>NaN</td>\n",
       "      <td>NaN</td>\n",
       "    </tr>\n",
       "  </tbody>\n",
       "</table>\n",
       "<p>5 rows × 1048 columns</p>\n",
       "</div>"
      ],
      "text/plain": [
       "                                                    name       wd_id  \\\n",
       "15958                   Holy Family Catholic High School    Q5885434   \n",
       "8898      Elmezzi Graduate School for Molecular Medicine    Q5366732   \n",
       "3097                                    Berkeley College    Q2897191   \n",
       "46063                                   Mackinac College    Q6724494   \n",
       "41199  University of North Carolina at Chapel Hill De...  Q101016019   \n",
       "\n",
       "                                     coordinate location  \\\n",
       "15958                          [Point(-93.6442 44.8585)]   \n",
       "8898                       [Point(-73.702321 40.775742)]   \n",
       "3097   [Point(-73.9794 40.754), Point(-73.9794 40.754...   \n",
       "46063                          [Point(-84.6054 45.8514)]   \n",
       "41199                                                NaN   \n",
       "\n",
       "                                            wikipediaURL  \\\n",
       "15958  https://en.wikipedia.org/wiki/Holy_Family_Cath...   \n",
       "8898                                                 NaN   \n",
       "3097      https://en.wikipedia.org/wiki/Berkeley_College   \n",
       "46063     https://en.wikipedia.org/wiki/Mackinac_College   \n",
       "41199                                                NaN   \n",
       "\n",
       "                                        Commons category NLA Trove people ID  \\\n",
       "15958                                                NaN                 NaN   \n",
       "8898                                                 NaN                 NaN   \n",
       "3097   [Berkeley College, Berkeley College, Berkeley ...                 NaN   \n",
       "46063                                 [Mackinac College]                 NaN   \n",
       "41199                                                NaN                 NaN   \n",
       "\n",
       "      endowment VIAF ID                              Microsoft Academic ID  \\\n",
       "15958       NaN     NaN                                                NaN   \n",
       "8898        NaN     NaN                                                NaN   \n",
       "3097        NaN     NaN  [134446601, 134446601, 134446601, 134446601, 1...   \n",
       "46063       NaN     NaN                                                NaN   \n",
       "41199       NaN     NaN                                                NaN   \n",
       "\n",
       "      subreddit  ... French national research structure ID size designation  \\\n",
       "15958       NaN  ...                                   NaN              NaN   \n",
       "8898        NaN  ...                                   NaN              NaN   \n",
       "3097        NaN  ...                                   NaN              NaN   \n",
       "46063       NaN  ...                                   NaN              NaN   \n",
       "41199       NaN  ...                                   NaN              NaN   \n",
       "\n",
       "      ICANNWiki page ID editor WikiProjectMed ID SlideShare username  \\\n",
       "15958               NaN    NaN               NaN                 NaN   \n",
       "8898                NaN    NaN               NaN                 NaN   \n",
       "3097                NaN    NaN               NaN                 NaN   \n",
       "46063               NaN    NaN               NaN                 NaN   \n",
       "41199               NaN    NaN               NaN                 NaN   \n",
       "\n",
       "      IFTTT service ID APA Dictionary of Psychology entry NCI Thesaurus ID  \\\n",
       "15958              NaN                                NaN              NaN   \n",
       "8898               NaN                                NaN              NaN   \n",
       "3097               NaN                                NaN              NaN   \n",
       "46063              NaN                                NaN              NaN   \n",
       "41199              NaN                                NaN              NaN   \n",
       "\n",
       "      J. Paul Getty Museum agent ID  \n",
       "15958                           NaN  \n",
       "8898                            NaN  \n",
       "3097                            NaN  \n",
       "46063                           NaN  \n",
       "41199                           NaN  \n",
       "\n",
       "[5 rows x 1048 columns]"
      ]
     },
     "execution_count": 11,
     "metadata": {},
     "output_type": "execute_result"
    }
   ],
   "source": [
    "df.sample(5)"
   ]
  },
  {
   "cell_type": "code",
   "execution_count": 11,
   "metadata": {},
   "outputs": [],
   "source": [
    "with open('columns.txt', 'w') as f:\n",
    "    for column in df.columns:\n",
    "        f.write(column + '\\n')"
   ]
  },
  {
   "cell_type": "code",
   "execution_count": 15,
   "metadata": {},
   "outputs": [],
   "source": [
    "pd.set_option('display.max_rows', None)\n",
    "print(df['instance of'].value_counts())"
   ]
  },
  {
   "cell_type": "markdown",
   "metadata": {},
   "source": [
    "# Write df to file"
   ]
  },
  {
   "cell_type": "code",
   "execution_count": 13,
   "metadata": {},
   "outputs": [
    {
     "name": "stdout",
     "output_type": "stream",
     "text": [
      "Wrote df to processed_schools_1733495318.135554.csv\n"
     ]
    }
   ],
   "source": [
    "import time\n",
    "\n",
    "file_name = f'processed_schools_{time.time()}.csv'\n",
    "\n",
    "df.to_csv(file_name, index=False)\n",
    "\n",
    "print(f'Wrote df to {file_name}')"
   ]
  },
  {
   "cell_type": "code",
   "execution_count": null,
   "metadata": {},
   "outputs": [],
   "source": [
    "# Explode the 'instance of' column to turn lists into separate rows\n",
    "df_exploded = df.explode('instance of')\n",
    "\n",
    "# Count the occurrences of each value in 'instance of'\n",
    "instance_counts = df_exploded['instance of'].value_counts()\n",
    "\n",
    "# Display the counts\n",
    "print(instance_counts)"
   ]
  },
  {
   "cell_type": "code",
   "execution_count": null,
   "metadata": {},
   "outputs": [],
   "source": [
    "df_instance_counts = pd.DataFrame(instance_counts)"
   ]
  },
  {
   "cell_type": "code",
   "execution_count": null,
   "metadata": {},
   "outputs": [],
   "source": [
    "with open('instance_counts.txt', 'w') as file:\n",
    "    for value, count in instance_counts.items():\n",
    "        file.write(f\"{value}: {count}\\n\")"
   ]
  },
  {
   "cell_type": "code",
   "execution_count": 12,
   "metadata": {},
   "outputs": [],
   "source": [
    "# remove all rows with certain values for instanceof\n",
    "instances_to_remove = ['organization', 'botanical garden', 'laboratory', 'corporate research group', 'neural buoyancy pool', 'online database', 'human', 'academic library']"
   ]
  },
  {
   "cell_type": "code",
   "execution_count": 29,
   "metadata": {},
   "outputs": [],
   "source": [
    "def get_nicknames(id):\n",
    "    endpoint_url = \"https://query.wikidata.org/sparql\"\n",
    "    sparql = SPARQLWrapper(endpoint_url)\n",
    "\n",
    "    query = f\"\"\"\n",
    "        SELECT ?altLabel\n",
    "        WHERE {{\n",
    "            wd:{id} skos:altLabel ?altLabel.\n",
    "            FILTER (LANG(?altLabel) = \"en\")\n",
    "        }}\n",
    "        \"\"\"\n",
    "    \n",
    "    try:\n",
    "        sparql.setQuery(query)\n",
    "        sparql.setReturnFormat(JSON)\n",
    "        \n",
    "        results = sparql.query().convert()\n",
    "        results = results['results']['bindings']\n",
    "        results = [result['altLabel']['value'] for result in results]\n",
    "        return results\n",
    "    except Exception as e:\n",
    "        print(e, id)"
   ]
  },
  {
   "cell_type": "code",
   "execution_count": 31,
   "metadata": {},
   "outputs": [
    {
     "name": "stderr",
     "output_type": "stream",
     "text": [
      "  3%|▎         | 1480/58273 [03:54<2:33:54,  6.15it/s] "
     ]
    },
    {
     "name": "stdout",
     "output_type": "stream",
     "text": [
      "HTTP Error 429: Too Many Requests Q16959503\n"
     ]
    },
    {
     "name": "stderr",
     "output_type": "stream",
     "text": [
      "  3%|▎         | 1484/58273 [03:54<1:54:50,  8.24it/s]"
     ]
    },
    {
     "name": "stdout",
     "output_type": "stream",
     "text": [
      "HTTP Error 429: Too Many Requests Q16967741\n",
      "HTTP Error 429: Too Many Requests Q16968025\n"
     ]
    },
    {
     "name": "stderr",
     "output_type": "stream",
     "text": [
      "  3%|▎         | 1491/58273 [03:55<2:07:43,  7.41it/s]"
     ]
    },
    {
     "name": "stdout",
     "output_type": "stream",
     "text": [
      "HTTP Error 429: Too Many Requests Q16972578\n",
      "HTTP Error 429: Too Many Requests Q16972791\n"
     ]
    },
    {
     "name": "stderr",
     "output_type": "stream",
     "text": [
      "  3%|▎         | 1494/58273 [03:56<2:20:13,  6.75it/s]"
     ]
    },
    {
     "name": "stdout",
     "output_type": "stream",
     "text": [
      "HTTP Error 429: Too Many Requests Q16973165\n"
     ]
    },
    {
     "name": "stderr",
     "output_type": "stream",
     "text": [
      "  3%|▎         | 1497/58273 [03:56<1:58:26,  7.99it/s]"
     ]
    },
    {
     "name": "stdout",
     "output_type": "stream",
     "text": [
      "HTTP Error 429: Too Many Requests Q16975104\n"
     ]
    },
    {
     "name": "stderr",
     "output_type": "stream",
     "text": [
      "  3%|▎         | 1502/58273 [03:57<2:26:37,  6.45it/s]"
     ]
    },
    {
     "name": "stdout",
     "output_type": "stream",
     "text": [
      "HTTP Error 429: Too Many Requests Q7896415\n",
      "HTTP Error 429: Too Many Requests Q7896423\n"
     ]
    },
    {
     "name": "stderr",
     "output_type": "stream",
     "text": [
      "  3%|▎         | 1507/58273 [03:58<1:57:21,  8.06it/s]"
     ]
    },
    {
     "name": "stdout",
     "output_type": "stream",
     "text": [
      "HTTP Error 429: Too Many Requests Q7896517\n"
     ]
    },
    {
     "name": "stderr",
     "output_type": "stream",
     "text": [
      "  3%|▎         | 1512/58273 [03:59<3:25:31,  4.60it/s]"
     ]
    },
    {
     "name": "stdout",
     "output_type": "stream",
     "text": [
      "HTTP Error 429: Too Many Requests Q7896626\n"
     ]
    },
    {
     "name": "stderr",
     "output_type": "stream",
     "text": [
      "  3%|▎         | 1514/58273 [03:59<2:34:07,  6.14it/s]"
     ]
    },
    {
     "name": "stdout",
     "output_type": "stream",
     "text": [
      "HTTP Error 429: Too Many Requests Q7896638\n"
     ]
    },
    {
     "name": "stderr",
     "output_type": "stream",
     "text": [
      "  3%|▎         | 1516/58273 [03:59<2:09:49,  7.29it/s]"
     ]
    },
    {
     "name": "stdout",
     "output_type": "stream",
     "text": [
      "HTTP Error 429: Too Many Requests Q7896642\n"
     ]
    },
    {
     "name": "stderr",
     "output_type": "stream",
     "text": [
      "  3%|▎         | 1519/58273 [04:00<1:49:28,  8.64it/s]"
     ]
    },
    {
     "name": "stdout",
     "output_type": "stream",
     "text": [
      "HTTP Error 429: Too Many Requests Q7896645\n",
      "HTTP Error 429: Too Many Requests Q7896650\n"
     ]
    },
    {
     "name": "stderr",
     "output_type": "stream",
     "text": [
      "  3%|▎         | 1522/58273 [04:00<1:39:53,  9.47it/s]"
     ]
    },
    {
     "name": "stdout",
     "output_type": "stream",
     "text": [
      "HTTP Error 429: Too Many Requests Q7896653\n",
      "HTTP Error 429: Too Many Requests Q7896654\n"
     ]
    },
    {
     "name": "stderr",
     "output_type": "stream",
     "text": [
      "  3%|▎         | 1527/58273 [04:01<2:33:59,  6.14it/s]"
     ]
    },
    {
     "name": "stdout",
     "output_type": "stream",
     "text": [
      "HTTP Error 429: Too Many Requests Q7896659\n",
      "HTTP Error 429: Too Many Requests Q7896662\n"
     ]
    },
    {
     "name": "stderr",
     "output_type": "stream",
     "text": [
      "  3%|▎         | 1531/58273 [04:02<2:02:24,  7.73it/s]"
     ]
    },
    {
     "name": "stdout",
     "output_type": "stream",
     "text": [
      "HTTP Error 429: Too Many Requests Q7896668\n",
      "HTTP Error 429: Too Many Requests Q7896711\n"
     ]
    },
    {
     "name": "stderr",
     "output_type": "stream",
     "text": [
      "  3%|▎         | 1548/58273 [04:05<2:43:54,  5.77it/s]"
     ]
    },
    {
     "name": "stdout",
     "output_type": "stream",
     "text": [
      "HTTP Error 429: Too Many Requests Q7896340\n"
     ]
    },
    {
     "name": "stderr",
     "output_type": "stream",
     "text": [
      "  3%|▎         | 1551/58273 [04:05<1:57:33,  8.04it/s]"
     ]
    },
    {
     "name": "stdout",
     "output_type": "stream",
     "text": [
      "HTTP Error 429: Too Many Requests Q38251444\n",
      "HTTP Error 429: Too Many Requests Q38251806\n"
     ]
    },
    {
     "name": "stderr",
     "output_type": "stream",
     "text": [
      "  3%|▎         | 1554/58273 [04:05<1:52:01,  8.44it/s]"
     ]
    },
    {
     "name": "stdout",
     "output_type": "stream",
     "text": [
      "HTTP Error 429: Too Many Requests Q42325118\n"
     ]
    },
    {
     "name": "stderr",
     "output_type": "stream",
     "text": [
      "  3%|▎         | 1559/58273 [04:06<1:56:52,  8.09it/s]"
     ]
    },
    {
     "name": "stdout",
     "output_type": "stream",
     "text": [
      "HTTP Error 429: Too Many Requests Q42955492\n"
     ]
    },
    {
     "name": "stderr",
     "output_type": "stream",
     "text": [
      "  3%|▎         | 1565/58273 [04:07<1:44:49,  9.02it/s]"
     ]
    },
    {
     "name": "stdout",
     "output_type": "stream",
     "text": [
      "HTTP Error 429: Too Many Requests Q101027900\n"
     ]
    },
    {
     "name": "stderr",
     "output_type": "stream",
     "text": [
      "  3%|▎         | 1570/58273 [04:07<1:33:16, 10.13it/s]"
     ]
    },
    {
     "name": "stdout",
     "output_type": "stream",
     "text": [
      "HTTP Error 429: Too Many Requests Q102412398\n",
      "HTTP Error 429: Too Many Requests Q103812474\n"
     ]
    },
    {
     "name": "stderr",
     "output_type": "stream",
     "text": [
      "  3%|▎         | 1573/58273 [04:08<3:13:39,  4.88it/s]"
     ]
    },
    {
     "name": "stdout",
     "output_type": "stream",
     "text": [
      "HTTP Error 429: Too Many Requests Q12008499\n"
     ]
    },
    {
     "name": "stderr",
     "output_type": "stream",
     "text": [
      "  3%|▎         | 1583/58273 [04:09<1:43:50,  9.10it/s]"
     ]
    },
    {
     "name": "stdout",
     "output_type": "stream",
     "text": [
      "HTTP Error 429: Too Many Requests Q12204459\n"
     ]
    },
    {
     "name": "stderr",
     "output_type": "stream",
     "text": [
      "  3%|▎         | 1587/58273 [04:10<2:10:24,  7.24it/s]"
     ]
    },
    {
     "name": "stdout",
     "output_type": "stream",
     "text": [
      "HTTP Error 429: Too Many Requests Q12204487\n"
     ]
    },
    {
     "name": "stderr",
     "output_type": "stream",
     "text": [
      "  3%|▎         | 1590/58273 [04:10<2:06:51,  7.45it/s]"
     ]
    },
    {
     "name": "stdout",
     "output_type": "stream",
     "text": [
      "HTTP Error 429: Too Many Requests Q18636195\n"
     ]
    },
    {
     "name": "stderr",
     "output_type": "stream",
     "text": [
      "  3%|▎         | 1593/58273 [04:10<1:47:27,  8.79it/s]"
     ]
    },
    {
     "name": "stdout",
     "output_type": "stream",
     "text": [
      "HTTP Error 429: Too Many Requests Q18706097\n"
     ]
    },
    {
     "name": "stderr",
     "output_type": "stream",
     "text": [
      "  3%|▎         | 1601/58273 [04:12<1:55:53,  8.15it/s]"
     ]
    },
    {
     "name": "stdout",
     "output_type": "stream",
     "text": [
      "HTTP Error 429: Too Many Requests Q45257903\n",
      "HTTP Error 429: Too Many Requests Q47012059\n"
     ]
    },
    {
     "name": "stderr",
     "output_type": "stream",
     "text": [
      "  3%|▎         | 1603/58273 [04:12<1:56:10,  8.13it/s]"
     ]
    },
    {
     "name": "stdout",
     "output_type": "stream",
     "text": [
      "HTTP Error 429: Too Many Requests Q48743693\n"
     ]
    },
    {
     "name": "stderr",
     "output_type": "stream",
     "text": [
      "  3%|▎         | 1607/58273 [04:13<2:26:20,  6.45it/s]"
     ]
    },
    {
     "name": "stdout",
     "output_type": "stream",
     "text": [
      "HTTP Error 429: Too Many Requests Q53495573\n"
     ]
    },
    {
     "name": "stderr",
     "output_type": "stream",
     "text": [
      "  3%|▎         | 1608/58273 [04:13<2:16:50,  6.90it/s]"
     ]
    },
    {
     "name": "stdout",
     "output_type": "stream",
     "text": [
      "HTTP Error 429: Too Many Requests Q107272481\n",
      "HTTP Error 429: Too Many Requests Q107282262\n"
     ]
    },
    {
     "name": "stderr",
     "output_type": "stream",
     "text": [
      "  3%|▎         | 1612/58273 [04:13<1:57:47,  8.02it/s]"
     ]
    },
    {
     "name": "stdout",
     "output_type": "stream",
     "text": [
      "HTTP Error 429: Too Many Requests Q107377284\n"
     ]
    },
    {
     "name": "stderr",
     "output_type": "stream",
     "text": [
      "  3%|▎         | 1618/58273 [04:14<2:06:26,  7.47it/s]"
     ]
    },
    {
     "name": "stdout",
     "output_type": "stream",
     "text": [
      "HTTP Error 429: Too Many Requests Q107669662\n"
     ]
    },
    {
     "name": "stderr",
     "output_type": "stream",
     "text": [
      "  3%|▎         | 1641/58273 [04:17<1:47:07,  8.81it/s]"
     ]
    },
    {
     "name": "stdout",
     "output_type": "stream",
     "text": [
      "HTTP Error 429: Too Many Requests Q61636363\n",
      "HTTP Error 429: Too Many Requests Q63123394\n"
     ]
    },
    {
     "name": "stderr",
     "output_type": "stream",
     "text": [
      "  3%|▎         | 1651/58273 [04:19<2:04:55,  7.55it/s]"
     ]
    },
    {
     "name": "stdout",
     "output_type": "stream",
     "text": [
      "HTTP Error 429: Too Many Requests Q7412178\n",
      "HTTP Error 429: Too Many Requests Q7413621\n",
      "HTTP Error 429: Too Many Requests Q7413622\n"
     ]
    },
    {
     "name": "stderr",
     "output_type": "stream",
     "text": [
      "  3%|▎         | 1656/58273 [04:20<1:58:31,  7.96it/s]"
     ]
    },
    {
     "name": "stdout",
     "output_type": "stream",
     "text": [
      "HTTP Error 429: Too Many Requests Q7417667\n"
     ]
    },
    {
     "name": "stderr",
     "output_type": "stream",
     "text": [
      "  3%|▎         | 1657/58273 [04:20<2:24:04,  6.55it/s]"
     ]
    },
    {
     "name": "stdout",
     "output_type": "stream",
     "text": [
      "HTTP Error 429: Too Many Requests Q7417675\n",
      "HTTP Error 429: Too Many Requests Q7417677\n"
     ]
    },
    {
     "name": "stderr",
     "output_type": "stream",
     "text": [
      "  3%|▎         | 1662/58273 [04:20<1:56:18,  8.11it/s]"
     ]
    },
    {
     "name": "stdout",
     "output_type": "stream",
     "text": [
      "HTTP Error 429: Too Many Requests Q7427886\n"
     ]
    },
    {
     "name": "stderr",
     "output_type": "stream",
     "text": [
      "  3%|▎         | 1669/58273 [04:21<1:44:15,  9.05it/s]"
     ]
    },
    {
     "name": "stdout",
     "output_type": "stream",
     "text": [
      "HTTP Error 429: Too Many Requests Q7432397\n"
     ]
    },
    {
     "name": "stderr",
     "output_type": "stream",
     "text": [
      "  3%|▎         | 1685/58273 [04:23<2:00:21,  7.84it/s]"
     ]
    },
    {
     "name": "stdout",
     "output_type": "stream",
     "text": [
      "HTTP Error 429: Too Many Requests Q104761164\n"
     ]
    },
    {
     "name": "stderr",
     "output_type": "stream",
     "text": [
      "  3%|▎         | 1689/58273 [04:24<2:01:45,  7.75it/s]"
     ]
    },
    {
     "name": "stdout",
     "output_type": "stream",
     "text": [
      "HTTP Error 429: Too Many Requests Q104768109\n"
     ]
    },
    {
     "name": "stderr",
     "output_type": "stream",
     "text": [
      "  3%|▎         | 1691/58273 [04:24<1:49:36,  8.60it/s]"
     ]
    },
    {
     "name": "stdout",
     "output_type": "stream",
     "text": [
      "HTTP Error 429: Too Many Requests Q104847179\n"
     ]
    },
    {
     "name": "stderr",
     "output_type": "stream",
     "text": [
      "  3%|▎         | 1697/58273 [04:24<1:42:38,  9.19it/s]"
     ]
    },
    {
     "name": "stdout",
     "output_type": "stream",
     "text": [
      "HTTP Error 429: Too Many Requests Q104880489\n"
     ]
    },
    {
     "name": "stderr",
     "output_type": "stream",
     "text": [
      "  3%|▎         | 1706/58273 [04:25<1:42:26,  9.20it/s]"
     ]
    },
    {
     "name": "stdout",
     "output_type": "stream",
     "text": [
      "HTTP Error 429: Too Many Requests Q104979203\n"
     ]
    },
    {
     "name": "stderr",
     "output_type": "stream",
     "text": [
      "  3%|▎         | 1735/58273 [04:31<2:09:35,  7.27it/s]"
     ]
    },
    {
     "name": "stdout",
     "output_type": "stream",
     "text": [
      "HTTP Error 429: Too Many Requests Q85847036\n"
     ]
    },
    {
     "name": "stderr",
     "output_type": "stream",
     "text": [
      "  3%|▎         | 1744/58273 [04:32<2:55:09,  5.38it/s]"
     ]
    },
    {
     "name": "stdout",
     "output_type": "stream",
     "text": [
      "HTTP Error 429: Too Many Requests Q92944760\n"
     ]
    },
    {
     "name": "stderr",
     "output_type": "stream",
     "text": [
      "  3%|▎         | 1755/58273 [04:34<1:46:54,  8.81it/s]"
     ]
    },
    {
     "name": "stdout",
     "output_type": "stream",
     "text": [
      "HTTP Error 429: Too Many Requests Q14438080\n",
      "HTTP Error 429: Too Many Requests Q14680381\n"
     ]
    },
    {
     "name": "stderr",
     "output_type": "stream",
     "text": [
      "  3%|▎         | 1757/58273 [04:34<2:09:27,  7.28it/s]"
     ]
    },
    {
     "name": "stdout",
     "output_type": "stream",
     "text": [
      "HTTP Error 429: Too Many Requests Q14681686\n",
      "HTTP Error 429: Too Many Requests Q14685970\n"
     ]
    },
    {
     "name": "stderr",
     "output_type": "stream",
     "text": [
      "  3%|▎         | 1782/58273 [04:38<2:04:02,  7.59it/s]"
     ]
    },
    {
     "name": "stdout",
     "output_type": "stream",
     "text": [
      "HTTP Error 429: Too Many Requests Q16980474\n"
     ]
    },
    {
     "name": "stderr",
     "output_type": "stream",
     "text": [
      "  3%|▎         | 1787/58273 [04:39<1:50:14,  8.54it/s]"
     ]
    },
    {
     "name": "stdout",
     "output_type": "stream",
     "text": [
      "HTTP Error 429: Too Many Requests Q16981173\n"
     ]
    },
    {
     "name": "stderr",
     "output_type": "stream",
     "text": [
      "  3%|▎         | 1794/58273 [04:40<2:12:50,  7.09it/s]"
     ]
    },
    {
     "name": "stdout",
     "output_type": "stream",
     "text": [
      "HTTP Error 429: Too Many Requests Q16983276\n"
     ]
    },
    {
     "name": "stderr",
     "output_type": "stream",
     "text": [
      "  3%|▎         | 1810/58273 [04:42<2:55:25,  5.36it/s]"
     ]
    },
    {
     "name": "stdout",
     "output_type": "stream",
     "text": [
      "HTTP Error 429: Too Many Requests Q17004443\n"
     ]
    },
    {
     "name": "stderr",
     "output_type": "stream",
     "text": [
      "  3%|▎         | 1815/58273 [04:43<1:54:55,  8.19it/s]"
     ]
    },
    {
     "name": "stdout",
     "output_type": "stream",
     "text": [
      "HTTP Error 429: Too Many Requests Q17010136\n"
     ]
    },
    {
     "name": "stderr",
     "output_type": "stream",
     "text": [
      "  3%|▎         | 1824/58273 [04:44<1:58:24,  7.95it/s]"
     ]
    },
    {
     "name": "stdout",
     "output_type": "stream",
     "text": [
      "HTTP Error 429: Too Many Requests Q17038565\n"
     ]
    },
    {
     "name": "stderr",
     "output_type": "stream",
     "text": [
      "  3%|▎         | 1831/58273 [04:45<1:39:02,  9.50it/s]"
     ]
    },
    {
     "name": "stdout",
     "output_type": "stream",
     "text": [
      "HTTP Error 429: Too Many Requests Q17061184\n"
     ]
    },
    {
     "name": "stderr",
     "output_type": "stream",
     "text": [
      "  3%|▎         | 1843/58273 [04:46<1:38:38,  9.53it/s]"
     ]
    },
    {
     "name": "stdout",
     "output_type": "stream",
     "text": [
      "HTTP Error 429: Too Many Requests Q16849215\n"
     ]
    },
    {
     "name": "stderr",
     "output_type": "stream",
     "text": [
      " 10%|▉         | 5655/58273 [13:52<1:42:03,  8.59it/s]"
     ]
    },
    {
     "name": "stdout",
     "output_type": "stream",
     "text": [
      "HTTP Error 429: Too Many Requests Q113173936\n"
     ]
    },
    {
     "name": "stderr",
     "output_type": "stream",
     "text": [
      " 10%|▉         | 5657/58273 [13:52<1:46:02,  8.27it/s]"
     ]
    },
    {
     "name": "stdout",
     "output_type": "stream",
     "text": [
      "HTTP Error 429: Too Many Requests Q113385466\n"
     ]
    },
    {
     "name": "stderr",
     "output_type": "stream",
     "text": [
      " 10%|▉         | 5661/58273 [13:53<1:45:48,  8.29it/s]"
     ]
    },
    {
     "name": "stdout",
     "output_type": "stream",
     "text": [
      "HTTP Error 429: Too Many Requests Q113527700\n",
      "HTTP Error 429: Too Many Requests Q113640412\n"
     ]
    },
    {
     "name": "stderr",
     "output_type": "stream",
     "text": [
      " 10%|▉         | 5669/58273 [13:54<1:38:18,  8.92it/s]"
     ]
    },
    {
     "name": "stdout",
     "output_type": "stream",
     "text": [
      "HTTP Error 429: Too Many Requests Q6761783\n"
     ]
    },
    {
     "name": "stderr",
     "output_type": "stream",
     "text": [
      " 10%|▉         | 5673/58273 [13:54<1:41:19,  8.65it/s]"
     ]
    },
    {
     "name": "stdout",
     "output_type": "stream",
     "text": [
      "HTTP Error 429: Too Many Requests Q6941557\n"
     ]
    },
    {
     "name": "stderr",
     "output_type": "stream",
     "text": [
      " 10%|▉         | 5675/58273 [13:54<1:39:32,  8.81it/s]"
     ]
    },
    {
     "name": "stdout",
     "output_type": "stream",
     "text": [
      "HTTP Error 429: Too Many Requests Q7051775\n"
     ]
    },
    {
     "name": "stderr",
     "output_type": "stream",
     "text": [
      " 10%|▉         | 5679/58273 [13:56<3:19:35,  4.39it/s]"
     ]
    },
    {
     "name": "stdout",
     "output_type": "stream",
     "text": [
      "HTTP Error 429: Too Many Requests Q7169163\n"
     ]
    },
    {
     "name": "stderr",
     "output_type": "stream",
     "text": [
      " 10%|▉         | 5683/58273 [13:56<2:10:26,  6.72it/s]"
     ]
    },
    {
     "name": "stdout",
     "output_type": "stream",
     "text": [
      "HTTP Error 429: Too Many Requests Q7494486\n"
     ]
    },
    {
     "name": "stderr",
     "output_type": "stream",
     "text": [
      " 10%|▉         | 5685/58273 [13:56<1:56:43,  7.51it/s]"
     ]
    },
    {
     "name": "stdout",
     "output_type": "stream",
     "text": [
      "HTTP Error 429: Too Many Requests Q7708155\n",
      "HTTP Error 429: Too Many Requests Q7722391\n",
      "HTTP Error 429: Too Many Requests Q7727038\n"
     ]
    },
    {
     "name": "stderr",
     "output_type": "stream",
     "text": [
      " 10%|▉         | 5709/58273 [14:00<2:51:02,  5.12it/s]"
     ]
    },
    {
     "name": "stdout",
     "output_type": "stream",
     "text": [
      "HTTP Error 429: Too Many Requests Q125102349\n"
     ]
    },
    {
     "name": "stderr",
     "output_type": "stream",
     "text": [
      " 10%|▉         | 5715/58273 [14:01<2:14:54,  6.49it/s]"
     ]
    },
    {
     "name": "stdout",
     "output_type": "stream",
     "text": [
      "HTTP Error 429: Too Many Requests Q125102362\n"
     ]
    },
    {
     "name": "stderr",
     "output_type": "stream",
     "text": [
      " 10%|▉         | 5721/58273 [14:03<3:56:20,  3.71it/s]"
     ]
    },
    {
     "name": "stdout",
     "output_type": "stream",
     "text": [
      "HTTP Error 429: Too Many Requests Q125102381\n"
     ]
    },
    {
     "name": "stderr",
     "output_type": "stream",
     "text": [
      " 10%|▉         | 5728/58273 [14:04<2:05:30,  6.98it/s]"
     ]
    },
    {
     "name": "stdout",
     "output_type": "stream",
     "text": [
      "HTTP Error 429: Too Many Requests Q125102400\n"
     ]
    },
    {
     "name": "stderr",
     "output_type": "stream",
     "text": [
      " 10%|▉         | 5732/58273 [14:05<2:38:43,  5.52it/s]"
     ]
    },
    {
     "name": "stdout",
     "output_type": "stream",
     "text": [
      "HTTP Error 429: Too Many Requests Q125102439\n"
     ]
    },
    {
     "name": "stderr",
     "output_type": "stream",
     "text": [
      " 10%|▉         | 5737/58273 [14:06<1:53:35,  7.71it/s]"
     ]
    },
    {
     "name": "stdout",
     "output_type": "stream",
     "text": [
      "HTTP Error 429: Too Many Requests Q125102450\n",
      "HTTP Error 429: Too Many Requests Q125102452\n"
     ]
    },
    {
     "name": "stderr",
     "output_type": "stream",
     "text": [
      " 10%|▉         | 5753/58273 [14:08<1:58:00,  7.42it/s]"
     ]
    },
    {
     "name": "stdout",
     "output_type": "stream",
     "text": [
      "HTTP Error 429: Too Many Requests Q126599173\n"
     ]
    },
    {
     "name": "stderr",
     "output_type": "stream",
     "text": [
      " 10%|▉         | 5764/58273 [14:10<1:54:59,  7.61it/s]"
     ]
    },
    {
     "name": "stdout",
     "output_type": "stream",
     "text": [
      "HTTP Error 429: Too Many Requests Q109320546\n"
     ]
    },
    {
     "name": "stderr",
     "output_type": "stream",
     "text": [
      " 10%|▉         | 5780/58273 [14:12<1:39:56,  8.75it/s]"
     ]
    },
    {
     "name": "stdout",
     "output_type": "stream",
     "text": [
      "HTTP Error 429: Too Many Requests Q116813789\n",
      "HTTP Error 429: Too Many Requests Q116978766\n"
     ]
    },
    {
     "name": "stderr",
     "output_type": "stream",
     "text": [
      " 10%|▉         | 5781/58273 [14:12<1:40:09,  8.74it/s]"
     ]
    },
    {
     "name": "stdout",
     "output_type": "stream",
     "text": [
      "HTTP Error 429: Too Many Requests Q119607114\n"
     ]
    },
    {
     "name": "stderr",
     "output_type": "stream",
     "text": [
      " 10%|▉         | 5783/58273 [14:12<2:11:35,  6.65it/s]"
     ]
    },
    {
     "name": "stdout",
     "output_type": "stream",
     "text": [
      "HTTP Error 429: Too Many Requests Q131179183\n",
      "HTTP Error 429: Too Many Requests Q131308149\n"
     ]
    },
    {
     "name": "stderr",
     "output_type": "stream",
     "text": [
      " 10%|▉         | 5789/58273 [14:13<1:47:35,  8.13it/s]"
     ]
    },
    {
     "name": "stdout",
     "output_type": "stream",
     "text": [
      "HTTP Error 429: Too Many Requests Q101028222\n"
     ]
    },
    {
     "name": "stderr",
     "output_type": "stream",
     "text": [
      " 10%|▉         | 5792/58273 [14:13<1:46:42,  8.20it/s]"
     ]
    },
    {
     "name": "stdout",
     "output_type": "stream",
     "text": [
      "HTTP Error 429: Too Many Requests Q101028226\n"
     ]
    },
    {
     "name": "stderr",
     "output_type": "stream",
     "text": [
      " 16%|█▋        | 9570/58273 [23:24<1:44:59,  7.73it/s] "
     ]
    },
    {
     "name": "stdout",
     "output_type": "stream",
     "text": [
      "HTTP Error 429: Too Many Requests Q101028621\n",
      "HTTP Error 429: Too Many Requests Q101028709\n"
     ]
    },
    {
     "name": "stderr",
     "output_type": "stream",
     "text": [
      " 16%|█▋        | 9575/58273 [23:25<1:32:50,  8.74it/s]"
     ]
    },
    {
     "name": "stdout",
     "output_type": "stream",
     "text": [
      "HTTP Error 429: Too Many Requests Q101029618\n"
     ]
    },
    {
     "name": "stderr",
     "output_type": "stream",
     "text": [
      " 16%|█▋        | 9578/58273 [23:25<1:25:45,  9.46it/s]"
     ]
    },
    {
     "name": "stdout",
     "output_type": "stream",
     "text": [
      "HTTP Error 429: Too Many Requests Q101030231\n"
     ]
    },
    {
     "name": "stderr",
     "output_type": "stream",
     "text": [
      " 16%|█▋        | 9587/58273 [23:26<1:46:03,  7.65it/s]"
     ]
    },
    {
     "name": "stdout",
     "output_type": "stream",
     "text": [
      "HTTP Error 429: Too Many Requests Q101076507\n"
     ]
    },
    {
     "name": "stderr",
     "output_type": "stream",
     "text": [
      " 16%|█▋        | 9589/58273 [23:27<1:38:33,  8.23it/s]"
     ]
    },
    {
     "name": "stdout",
     "output_type": "stream",
     "text": [
      "HTTP Error 429: Too Many Requests Q104760945\n"
     ]
    },
    {
     "name": "stderr",
     "output_type": "stream",
     "text": [
      " 16%|█▋        | 9591/58273 [23:27<1:32:41,  8.75it/s]"
     ]
    },
    {
     "name": "stdout",
     "output_type": "stream",
     "text": [
      "HTTP Error 429: Too Many Requests Q105642428\n"
     ]
    },
    {
     "name": "stderr",
     "output_type": "stream",
     "text": [
      " 16%|█▋        | 9596/58273 [23:27<1:44:39,  7.75it/s]"
     ]
    },
    {
     "name": "stdout",
     "output_type": "stream",
     "text": [
      "HTTP Error 429: Too Many Requests Q101077688\n"
     ]
    },
    {
     "name": "stderr",
     "output_type": "stream",
     "text": [
      " 16%|█▋        | 9599/58273 [23:28<1:32:54,  8.73it/s]"
     ]
    },
    {
     "name": "stdout",
     "output_type": "stream",
     "text": [
      "HTTP Error 429: Too Many Requests Q101077738\n"
     ]
    },
    {
     "name": "stderr",
     "output_type": "stream",
     "text": [
      " 16%|█▋        | 9612/58273 [23:30<1:40:19,  8.08it/s]"
     ]
    },
    {
     "name": "stdout",
     "output_type": "stream",
     "text": [
      "HTTP Error 429: Too Many Requests Q6362867\n"
     ]
    },
    {
     "name": "stderr",
     "output_type": "stream",
     "text": [
      " 17%|█▋        | 9624/58273 [23:31<1:29:32,  9.06it/s]"
     ]
    },
    {
     "name": "stdout",
     "output_type": "stream",
     "text": [
      "HTTP Error 429: Too Many Requests Q56294091\n",
      "HTTP Error 429: Too Many Requests Q60853744\n"
     ]
    },
    {
     "name": "stderr",
     "output_type": "stream",
     "text": [
      " 17%|█▋        | 9656/58273 [23:35<1:42:56,  7.87it/s]"
     ]
    },
    {
     "name": "stdout",
     "output_type": "stream",
     "text": [
      "HTTP Error 429: Too Many Requests Q1515048\n"
     ]
    },
    {
     "name": "stderr",
     "output_type": "stream",
     "text": [
      " 17%|█▋        | 9660/58273 [23:36<1:51:30,  7.27it/s]"
     ]
    },
    {
     "name": "stdout",
     "output_type": "stream",
     "text": [
      "HTTP Error 429: Too Many Requests Q108423454\n"
     ]
    },
    {
     "name": "stderr",
     "output_type": "stream",
     "text": [
      " 17%|█▋        | 9673/58273 [23:37<1:29:16,  9.07it/s]"
     ]
    },
    {
     "name": "stdout",
     "output_type": "stream",
     "text": [
      "HTTP Error 429: Too Many Requests Q118868153\n"
     ]
    },
    {
     "name": "stderr",
     "output_type": "stream",
     "text": [
      " 17%|█▋        | 9675/58273 [23:37<1:25:15,  9.50it/s]"
     ]
    },
    {
     "name": "stdout",
     "output_type": "stream",
     "text": [
      "HTTP Error 429: Too Many Requests Q7349106\n"
     ]
    },
    {
     "name": "stderr",
     "output_type": "stream",
     "text": [
      " 17%|█▋        | 9679/58273 [23:38<1:27:44,  9.23it/s]"
     ]
    },
    {
     "name": "stdout",
     "output_type": "stream",
     "text": [
      "HTTP Error 429: Too Many Requests Q5158955\n"
     ]
    },
    {
     "name": "stderr",
     "output_type": "stream",
     "text": [
      " 17%|█▋        | 9694/58273 [23:40<1:35:40,  8.46it/s]"
     ]
    },
    {
     "name": "stdout",
     "output_type": "stream",
     "text": [
      "HTTP Error 429: Too Many Requests Q96374704\n"
     ]
    },
    {
     "name": "stderr",
     "output_type": "stream",
     "text": [
      " 17%|█▋        | 9696/58273 [23:40<1:29:49,  9.01it/s]"
     ]
    },
    {
     "name": "stdout",
     "output_type": "stream",
     "text": [
      "HTTP Error 429: Too Many Requests Q96376696\n"
     ]
    },
    {
     "name": "stderr",
     "output_type": "stream",
     "text": [
      " 17%|█▋        | 9705/58273 [23:41<1:35:45,  8.45it/s]"
     ]
    },
    {
     "name": "stdout",
     "output_type": "stream",
     "text": [
      "HTTP Error 429: Too Many Requests Q99290762\n"
     ]
    },
    {
     "name": "stderr",
     "output_type": "stream",
     "text": [
      " 17%|█▋        | 9716/58273 [23:42<1:33:28,  8.66it/s]"
     ]
    },
    {
     "name": "stdout",
     "output_type": "stream",
     "text": [
      "HTTP Error 429: Too Many Requests Q99290774\n"
     ]
    },
    {
     "name": "stderr",
     "output_type": "stream",
     "text": [
      " 17%|█▋        | 9719/58273 [23:42<1:24:00,  9.63it/s]"
     ]
    },
    {
     "name": "stdout",
     "output_type": "stream",
     "text": [
      "HTTP Error 429: Too Many Requests Q6906389\n",
      "HTTP Error 429: Too Many Requests Q30324425\n"
     ]
    },
    {
     "name": "stderr",
     "output_type": "stream",
     "text": [
      " 17%|█▋        | 9725/58273 [23:43<1:24:24,  9.59it/s]"
     ]
    },
    {
     "name": "stdout",
     "output_type": "stream",
     "text": [
      "HTTP Error 429: Too Many Requests Q99290667\n",
      "HTTP Error 429: Too Many Requests Q99290668\n"
     ]
    },
    {
     "name": "stderr",
     "output_type": "stream",
     "text": [
      " 17%|█▋        | 9729/58273 [23:43<1:25:34,  9.45it/s]"
     ]
    },
    {
     "name": "stdout",
     "output_type": "stream",
     "text": [
      "HTTP Error 429: Too Many Requests Q99290671\n"
     ]
    },
    {
     "name": "stderr",
     "output_type": "stream",
     "text": [
      " 17%|█▋        | 9733/58273 [23:44<1:23:30,  9.69it/s]"
     ]
    },
    {
     "name": "stdout",
     "output_type": "stream",
     "text": [
      "HTTP Error 429: Too Many Requests Q99290725\n"
     ]
    },
    {
     "name": "stderr",
     "output_type": "stream",
     "text": [
      " 17%|█▋        | 9737/58273 [23:44<1:27:49,  9.21it/s]"
     ]
    },
    {
     "name": "stdout",
     "output_type": "stream",
     "text": [
      "HTTP Error 429: Too Many Requests Q99290730\n"
     ]
    },
    {
     "name": "stderr",
     "output_type": "stream",
     "text": [
      " 17%|█▋        | 9741/58273 [23:45<1:26:42,  9.33it/s]"
     ]
    },
    {
     "name": "stdout",
     "output_type": "stream",
     "text": [
      "HTTP Error 429: Too Many Requests Q99290734\n",
      "HTTP Error 429: Too Many Requests Q99290737\n"
     ]
    },
    {
     "name": "stderr",
     "output_type": "stream",
     "text": [
      " 17%|█▋        | 9748/58273 [23:46<1:38:49,  8.18it/s]"
     ]
    },
    {
     "name": "stdout",
     "output_type": "stream",
     "text": [
      "HTTP Error 429: Too Many Requests Q99290743\n"
     ]
    },
    {
     "name": "stderr",
     "output_type": "stream",
     "text": [
      " 17%|█▋        | 9753/58273 [23:46<1:31:32,  8.83it/s]"
     ]
    },
    {
     "name": "stdout",
     "output_type": "stream",
     "text": [
      "HTTP Error 429: Too Many Requests Q99290750\n"
     ]
    },
    {
     "name": "stderr",
     "output_type": "stream",
     "text": [
      " 17%|█▋        | 9759/58273 [23:47<1:27:08,  9.28it/s]"
     ]
    },
    {
     "name": "stdout",
     "output_type": "stream",
     "text": [
      "HTTP Error 429: Too Many Requests Q105925409\n"
     ]
    },
    {
     "name": "stderr",
     "output_type": "stream",
     "text": [
      " 17%|█▋        | 9774/58273 [23:49<1:24:37,  9.55it/s]"
     ]
    },
    {
     "name": "stdout",
     "output_type": "stream",
     "text": [
      "HTTP Error 429: Too Many Requests Q118945868\n",
      "HTTP Error 429: Too Many Requests Q118945894\n"
     ]
    },
    {
     "name": "stderr",
     "output_type": "stream",
     "text": [
      " 17%|█▋        | 9778/58273 [23:49<1:28:03,  9.18it/s]"
     ]
    },
    {
     "name": "stdout",
     "output_type": "stream",
     "text": [
      "HTTP Error 429: Too Many Requests Q106864159\n"
     ]
    },
    {
     "name": "stderr",
     "output_type": "stream",
     "text": [
      " 17%|█▋        | 9783/58273 [23:50<1:27:48,  9.20it/s]"
     ]
    },
    {
     "name": "stdout",
     "output_type": "stream",
     "text": [
      "HTTP Error 429: Too Many Requests Q2986500\n",
      "HTTP Error 429: Too Many Requests Q3320054\n"
     ]
    },
    {
     "name": "stderr",
     "output_type": "stream",
     "text": [
      " 17%|█▋        | 9806/58273 [23:53<1:45:25,  7.66it/s]"
     ]
    },
    {
     "name": "stdout",
     "output_type": "stream",
     "text": [
      "HTTP Error 429: Too Many Requests Q85751008\n",
      "HTTP Error 429: Too Many Requests Q111918346\n"
     ]
    },
    {
     "name": "stderr",
     "output_type": "stream",
     "text": [
      " 17%|█▋        | 9810/58273 [23:53<1:39:40,  8.10it/s]"
     ]
    },
    {
     "name": "stdout",
     "output_type": "stream",
     "text": [
      "HTTP Error 429: Too Many Requests Q118842060\n",
      "HTTP Error 429: Too Many Requests Q118842238\n"
     ]
    },
    {
     "name": "stderr",
     "output_type": "stream",
     "text": [
      " 17%|█▋        | 9815/58273 [23:54<1:30:40,  8.91it/s]"
     ]
    },
    {
     "name": "stdout",
     "output_type": "stream",
     "text": [
      "HTTP Error 429: Too Many Requests Q11997845\n",
      "HTTP Error 429: Too Many Requests Q966796\n"
     ]
    },
    {
     "name": "stderr",
     "output_type": "stream",
     "text": [
      " 17%|█▋        | 9820/58273 [23:54<1:42:05,  7.91it/s]"
     ]
    },
    {
     "name": "stdout",
     "output_type": "stream",
     "text": [
      "HTTP Error 429: Too Many Requests Q118917850\n"
     ]
    },
    {
     "name": "stderr",
     "output_type": "stream",
     "text": [
      " 17%|█▋        | 9823/58273 [23:55<1:35:05,  8.49it/s]"
     ]
    },
    {
     "name": "stdout",
     "output_type": "stream",
     "text": [
      "HTTP Error 429: Too Many Requests Q11965527\n"
     ]
    },
    {
     "name": "stderr",
     "output_type": "stream",
     "text": [
      " 17%|█▋        | 9838/58273 [23:57<1:29:07,  9.06it/s]"
     ]
    },
    {
     "name": "stdout",
     "output_type": "stream",
     "text": [
      "HTTP Error 429: Too Many Requests Q101014889\n"
     ]
    },
    {
     "name": "stderr",
     "output_type": "stream",
     "text": [
      " 18%|█▊        | 10499/58273 [25:23<1:34:32,  8.42it/s]"
     ]
    },
    {
     "name": "stdout",
     "output_type": "stream",
     "text": [
      "HTTP Error 429: Too Many Requests Q4701701\n"
     ]
    },
    {
     "name": "stderr",
     "output_type": "stream",
     "text": [
      " 18%|█▊        | 10508/58273 [25:24<1:30:09,  8.83it/s]"
     ]
    },
    {
     "name": "stdout",
     "output_type": "stream",
     "text": [
      "HTTP Error 429: Too Many Requests Q4705957\n"
     ]
    },
    {
     "name": "stderr",
     "output_type": "stream",
     "text": [
      " 18%|█▊        | 10522/58273 [25:26<1:38:59,  8.04it/s]"
     ]
    },
    {
     "name": "stdout",
     "output_type": "stream",
     "text": [
      "HTTP Error 429: Too Many Requests Q4710936\n"
     ]
    },
    {
     "name": "stderr",
     "output_type": "stream",
     "text": [
      " 18%|█▊        | 10528/58273 [25:26<1:50:53,  7.18it/s]"
     ]
    },
    {
     "name": "stdout",
     "output_type": "stream",
     "text": [
      "HTTP Error 429: Too Many Requests Q4712521\n"
     ]
    },
    {
     "name": "stderr",
     "output_type": "stream",
     "text": [
      " 18%|█▊        | 10535/58273 [25:27<1:27:36,  9.08it/s]"
     ]
    },
    {
     "name": "stdout",
     "output_type": "stream",
     "text": [
      "HTTP Error 429: Too Many Requests Q4713816\n"
     ]
    },
    {
     "name": "stderr",
     "output_type": "stream",
     "text": [
      " 18%|█▊        | 10546/58273 [25:28<1:28:18,  9.01it/s]"
     ]
    },
    {
     "name": "stdout",
     "output_type": "stream",
     "text": [
      "HTTP Error 429: Too Many Requests Q4720995\n"
     ]
    },
    {
     "name": "stderr",
     "output_type": "stream",
     "text": [
      " 18%|█▊        | 10555/58273 [25:29<1:40:25,  7.92it/s]"
     ]
    },
    {
     "name": "stdout",
     "output_type": "stream",
     "text": [
      "HTTP Error 429: Too Many Requests Q4724339\n"
     ]
    },
    {
     "name": "stderr",
     "output_type": "stream",
     "text": [
      " 18%|█▊        | 10572/58273 [25:32<2:06:50,  6.27it/s]"
     ]
    },
    {
     "name": "stdout",
     "output_type": "stream",
     "text": [
      "HTTP Error 429: Too Many Requests Q4730430\n"
     ]
    },
    {
     "name": "stderr",
     "output_type": "stream",
     "text": [
      " 18%|█▊        | 10577/58273 [25:32<1:36:48,  8.21it/s]"
     ]
    },
    {
     "name": "stdout",
     "output_type": "stream",
     "text": [
      "HTTP Error 429: Too Many Requests Q4731261\n",
      "HTTP Error 429: Too Many Requests Q4731307\n"
     ]
    },
    {
     "name": "stderr",
     "output_type": "stream",
     "text": [
      " 18%|█▊        | 10582/58273 [25:33<1:54:00,  6.97it/s]"
     ]
    },
    {
     "name": "stdout",
     "output_type": "stream",
     "text": [
      "HTTP Error 429: Too Many Requests Q4731603\n"
     ]
    },
    {
     "name": "stderr",
     "output_type": "stream",
     "text": [
      " 18%|█▊        | 10588/58273 [25:34<1:29:49,  8.85it/s]"
     ]
    },
    {
     "name": "stdout",
     "output_type": "stream",
     "text": [
      "HTTP Error 429: Too Many Requests Q4732287\n"
     ]
    },
    {
     "name": "stderr",
     "output_type": "stream",
     "text": [
      " 18%|█▊        | 10594/58273 [25:34<1:31:37,  8.67it/s]"
     ]
    },
    {
     "name": "stdout",
     "output_type": "stream",
     "text": [
      "HTTP Error 429: Too Many Requests Q4733553\n"
     ]
    },
    {
     "name": "stderr",
     "output_type": "stream",
     "text": [
      " 18%|█▊        | 10601/58273 [25:35<1:26:48,  9.15it/s]"
     ]
    },
    {
     "name": "stdout",
     "output_type": "stream",
     "text": [
      "HTTP Error 429: Too Many Requests Q4735047\n"
     ]
    },
    {
     "name": "stderr",
     "output_type": "stream",
     "text": [
      " 18%|█▊        | 10604/58273 [25:36<1:26:00,  9.24it/s]"
     ]
    },
    {
     "name": "stdout",
     "output_type": "stream",
     "text": [
      "HTTP Error 429: Too Many Requests Q4735971\n"
     ]
    },
    {
     "name": "stderr",
     "output_type": "stream",
     "text": [
      " 18%|█▊        | 10612/58273 [25:36<1:23:34,  9.51it/s]"
     ]
    },
    {
     "name": "stdout",
     "output_type": "stream",
     "text": [
      "HTTP Error 429: Too Many Requests Q4737333\n"
     ]
    },
    {
     "name": "stderr",
     "output_type": "stream",
     "text": [
      " 18%|█▊        | 10625/58273 [25:38<1:23:52,  9.47it/s]"
     ]
    },
    {
     "name": "stdout",
     "output_type": "stream",
     "text": [
      "HTTP Error 429: Too Many Requests Q4743723\n"
     ]
    },
    {
     "name": "stderr",
     "output_type": "stream",
     "text": [
      " 18%|█▊        | 10630/58273 [25:38<1:24:31,  9.39it/s]"
     ]
    },
    {
     "name": "stdout",
     "output_type": "stream",
     "text": [
      "HTTP Error 429: Too Many Requests Q4744101\n",
      "HTTP Error 429: Too Many Requests Q4744108\n"
     ]
    },
    {
     "name": "stderr",
     "output_type": "stream",
     "text": [
      " 18%|█▊        | 10639/58273 [25:39<1:26:56,  9.13it/s]"
     ]
    },
    {
     "name": "stdout",
     "output_type": "stream",
     "text": [
      "HTTP Error 429: Too Many Requests Q4917638\n"
     ]
    },
    {
     "name": "stderr",
     "output_type": "stream",
     "text": [
      " 18%|█▊        | 10641/58273 [25:40<1:23:49,  9.47it/s]"
     ]
    },
    {
     "name": "stdout",
     "output_type": "stream",
     "text": [
      "HTTP Error 429: Too Many Requests Q4917644\n",
      "HTTP Error 429: Too Many Requests Q4917645\n"
     ]
    },
    {
     "name": "stderr",
     "output_type": "stream",
     "text": [
      " 18%|█▊        | 10644/58273 [25:40<1:24:32,  9.39it/s]"
     ]
    },
    {
     "name": "stdout",
     "output_type": "stream",
     "text": [
      "HTTP Error 429: Too Many Requests Q4917647\n"
     ]
    },
    {
     "name": "stderr",
     "output_type": "stream",
     "text": [
      " 18%|█▊        | 10648/58273 [25:41<1:57:36,  6.75it/s]"
     ]
    },
    {
     "name": "stdout",
     "output_type": "stream",
     "text": [
      "HTTP Error 429: Too Many Requests Q4917653\n"
     ]
    },
    {
     "name": "stderr",
     "output_type": "stream",
     "text": [
      " 18%|█▊        | 10661/58273 [25:42<1:32:09,  8.61it/s]"
     ]
    },
    {
     "name": "stdout",
     "output_type": "stream",
     "text": [
      "HTTP Error 429: Too Many Requests Q4917737\n",
      "HTTP Error 429: Too Many Requests Q4917743\n"
     ]
    },
    {
     "name": "stderr",
     "output_type": "stream",
     "text": [
      " 18%|█▊        | 10668/58273 [25:43<1:23:33,  9.50it/s]"
     ]
    },
    {
     "name": "stdout",
     "output_type": "stream",
     "text": [
      "HTTP Error 429: Too Many Requests Q4920961\n",
      "HTTP Error 429: Too Many Requests Q4921663\n"
     ]
    },
    {
     "name": "stderr",
     "output_type": "stream",
     "text": [
      " 18%|█▊        | 10672/58273 [25:43<1:26:58,  9.12it/s]"
     ]
    },
    {
     "name": "stdout",
     "output_type": "stream",
     "text": [
      "HTTP Error 429: Too Many Requests Q4922875\n"
     ]
    },
    {
     "name": "stderr",
     "output_type": "stream",
     "text": [
      " 18%|█▊        | 10677/58273 [25:44<1:43:17,  7.68it/s]"
     ]
    },
    {
     "name": "stdout",
     "output_type": "stream",
     "text": [
      "HTTP Error 429: Too Many Requests Q4923339\n"
     ]
    },
    {
     "name": "stderr",
     "output_type": "stream",
     "text": [
      " 18%|█▊        | 10682/58273 [25:45<1:31:57,  8.63it/s]"
     ]
    },
    {
     "name": "stdout",
     "output_type": "stream",
     "text": [
      "HTTP Error 429: Too Many Requests Q4923945\n"
     ]
    },
    {
     "name": "stderr",
     "output_type": "stream",
     "text": [
      " 18%|█▊        | 10688/58273 [25:45<1:26:57,  9.12it/s]"
     ]
    },
    {
     "name": "stdout",
     "output_type": "stream",
     "text": [
      "HTTP Error 429: Too Many Requests Q4924908\n"
     ]
    },
    {
     "name": "stderr",
     "output_type": "stream",
     "text": [
      " 18%|█▊        | 10692/58273 [25:46<1:25:56,  9.23it/s]"
     ]
    },
    {
     "name": "stdout",
     "output_type": "stream",
     "text": [
      "HTTP Error 429: Too Many Requests Q4926278\n"
     ]
    },
    {
     "name": "stderr",
     "output_type": "stream",
     "text": [
      " 18%|█▊        | 10694/58273 [25:46<1:25:18,  9.29it/s]"
     ]
    },
    {
     "name": "stdout",
     "output_type": "stream",
     "text": [
      "HTTP Error 429: Too Many Requests Q4926407\n"
     ]
    },
    {
     "name": "stderr",
     "output_type": "stream",
     "text": [
      " 18%|█▊        | 10770/58273 [25:57<2:04:19,  6.37it/s]"
     ]
    },
    {
     "name": "stdout",
     "output_type": "stream",
     "text": [
      "HTTP Error 429: Too Many Requests Q5050799\n"
     ]
    },
    {
     "name": "stderr",
     "output_type": "stream",
     "text": [
      " 18%|█▊        | 10772/58273 [25:57<1:45:08,  7.53it/s]"
     ]
    },
    {
     "name": "stdout",
     "output_type": "stream",
     "text": [
      "HTTP Error 429: Too Many Requests Q5051269\n"
     ]
    },
    {
     "name": "stderr",
     "output_type": "stream",
     "text": [
      " 19%|█▊        | 10784/58273 [25:59<1:33:27,  8.47it/s]"
     ]
    },
    {
     "name": "stdout",
     "output_type": "stream",
     "text": [
      "HTTP Error 429: Too Many Requests Q5052244\n",
      "HTTP Error 429: Too Many Requests Q5052665\n"
     ]
    },
    {
     "name": "stderr",
     "output_type": "stream",
     "text": [
      " 19%|█▊        | 10786/58273 [25:59<1:26:47,  9.12it/s]"
     ]
    },
    {
     "name": "stdout",
     "output_type": "stream",
     "text": [
      "HTTP Error 429: Too Many Requests Q5052817\n",
      "HTTP Error 429: Too Many Requests Q5052818\n"
     ]
    },
    {
     "name": "stderr",
     "output_type": "stream",
     "text": [
      " 19%|█▊        | 10796/58273 [26:01<2:41:45,  4.89it/s]"
     ]
    },
    {
     "name": "stdout",
     "output_type": "stream",
     "text": [
      "HTTP Error 429: Too Many Requests Q5321773\n",
      "HTTP Error 429: Too Many Requests Q5323110\n"
     ]
    },
    {
     "name": "stderr",
     "output_type": "stream",
     "text": [
      " 19%|█▊        | 10803/58273 [26:02<1:51:48,  7.08it/s]"
     ]
    },
    {
     "name": "stdout",
     "output_type": "stream",
     "text": [
      "HTTP Error 429: Too Many Requests Q5325099\n"
     ]
    },
    {
     "name": "stderr",
     "output_type": "stream",
     "text": [
      " 19%|█▊        | 10807/58273 [26:03<1:40:58,  7.83it/s]"
     ]
    },
    {
     "name": "stdout",
     "output_type": "stream",
     "text": [
      "HTTP Error 429: Too Many Requests Q5325202\n"
     ]
    },
    {
     "name": "stderr",
     "output_type": "stream",
     "text": [
      " 19%|█▊        | 10815/58273 [26:04<1:28:10,  8.97it/s]"
     ]
    },
    {
     "name": "stdout",
     "output_type": "stream",
     "text": [
      "HTTP Error 429: Too Many Requests Q5325964\n"
     ]
    },
    {
     "name": "stderr",
     "output_type": "stream",
     "text": [
      " 19%|█▊        | 10822/58273 [26:05<1:45:01,  7.53it/s]"
     ]
    },
    {
     "name": "stdout",
     "output_type": "stream",
     "text": [
      "HTTP Error 429: Too Many Requests Q5327538\n"
     ]
    },
    {
     "name": "stderr",
     "output_type": "stream",
     "text": [
      " 19%|█▊        | 10831/58273 [26:06<1:26:49,  9.11it/s]"
     ]
    },
    {
     "name": "stdout",
     "output_type": "stream",
     "text": [
      "HTTP Error 429: Too Many Requests Q5327870\n"
     ]
    },
    {
     "name": "stderr",
     "output_type": "stream",
     "text": [
      " 19%|█▊        | 10839/58273 [26:07<1:37:35,  8.10it/s]"
     ]
    },
    {
     "name": "stdout",
     "output_type": "stream",
     "text": [
      "HTTP Error 429: Too Many Requests Q5328050\n"
     ]
    },
    {
     "name": "stderr",
     "output_type": "stream",
     "text": [
      " 19%|█▊        | 10846/58273 [26:08<1:30:38,  8.72it/s]"
     ]
    },
    {
     "name": "stdout",
     "output_type": "stream",
     "text": [
      "HTTP Error 429: Too Many Requests Q5328266\n"
     ]
    },
    {
     "name": "stderr",
     "output_type": "stream",
     "text": [
      " 19%|█▊        | 10848/58273 [26:08<1:41:09,  7.81it/s]"
     ]
    },
    {
     "name": "stdout",
     "output_type": "stream",
     "text": [
      "HTTP Error 429: Too Many Requests Q5328327\n",
      "HTTP Error 429: Too Many Requests Q5328381\n"
     ]
    },
    {
     "name": "stderr",
     "output_type": "stream",
     "text": [
      " 19%|█▊        | 10870/58273 [26:12<1:30:28,  8.73it/s]"
     ]
    },
    {
     "name": "stdout",
     "output_type": "stream",
     "text": [
      "HTTP Error 429: Too Many Requests Q5328595\n",
      "HTTP Error 429: Too Many Requests Q5328598\n"
     ]
    },
    {
     "name": "stderr",
     "output_type": "stream",
     "text": [
      " 19%|█▊        | 10889/58273 [26:15<2:07:28,  6.20it/s]"
     ]
    },
    {
     "name": "stdout",
     "output_type": "stream",
     "text": [
      "HTTP Error 429: Too Many Requests Q5375450\n"
     ]
    },
    {
     "name": "stderr",
     "output_type": "stream",
     "text": [
      " 19%|█▊        | 10893/58273 [26:15<1:28:20,  8.94it/s]"
     ]
    },
    {
     "name": "stdout",
     "output_type": "stream",
     "text": [
      "HTTP Error 429: Too Many Requests Q5378126\n",
      "HTTP Error 429: Too Many Requests Q5378127\n",
      "HTTP Error 429: Too Many Requests Q5378133\n"
     ]
    },
    {
     "name": "stderr",
     "output_type": "stream",
     "text": [
      " 19%|█▊        | 10902/58273 [26:17<1:59:44,  6.59it/s]"
     ]
    },
    {
     "name": "stdout",
     "output_type": "stream",
     "text": [
      "HTTP Error 429: Too Many Requests Q5380068\n"
     ]
    },
    {
     "name": "stderr",
     "output_type": "stream",
     "text": [
      " 19%|█▊        | 10904/58273 [26:17<1:43:29,  7.63it/s]"
     ]
    },
    {
     "name": "stdout",
     "output_type": "stream",
     "text": [
      "HTTP Error 429: Too Many Requests Q5380319\n"
     ]
    },
    {
     "name": "stderr",
     "output_type": "stream",
     "text": [
      " 19%|█▊        | 10916/58273 [26:19<1:48:14,  7.29it/s]"
     ]
    },
    {
     "name": "stdout",
     "output_type": "stream",
     "text": [
      "HTTP Error 429: Too Many Requests Q5393739\n"
     ]
    },
    {
     "name": "stderr",
     "output_type": "stream",
     "text": [
      " 19%|█▊        | 10921/58273 [26:20<1:34:50,  8.32it/s]"
     ]
    },
    {
     "name": "stdout",
     "output_type": "stream",
     "text": [
      "HTTP Error 429: Too Many Requests Q5399740\n",
      "HTTP Error 429: Too Many Requests Q5399741\n"
     ]
    },
    {
     "name": "stderr",
     "output_type": "stream",
     "text": [
      " 19%|█▉        | 10931/58273 [26:21<1:54:51,  6.87it/s]"
     ]
    },
    {
     "name": "stdout",
     "output_type": "stream",
     "text": [
      "HTTP Error 429: Too Many Requests Q5401806\n",
      "HTTP Error 429: Too Many Requests Q5404848\n",
      "HTTP Error 429: Too Many Requests Q5406107\n"
     ]
    },
    {
     "name": "stderr",
     "output_type": "stream",
     "text": [
      " 19%|█▉        | 10944/58273 [26:23<1:31:01,  8.67it/s]"
     ]
    },
    {
     "name": "stdout",
     "output_type": "stream",
     "text": [
      "HTTP Error 429: Too Many Requests Q5416022\n"
     ]
    },
    {
     "name": "stderr",
     "output_type": "stream",
     "text": [
      " 19%|█▉        | 10950/58273 [26:24<1:21:41,  9.66it/s]"
     ]
    },
    {
     "name": "stdout",
     "output_type": "stream",
     "text": [
      "HTTP Error 429: Too Many Requests Q5416959\n",
      "HTTP Error 429: Too Many Requests Q5417018\n"
     ]
    },
    {
     "name": "stderr",
     "output_type": "stream",
     "text": [
      " 19%|█▉        | 10955/58273 [26:24<1:22:35,  9.55it/s]"
     ]
    },
    {
     "name": "stdout",
     "output_type": "stream",
     "text": [
      "HTTP Error 429: Too Many Requests Q5417205\n"
     ]
    },
    {
     "name": "stderr",
     "output_type": "stream",
     "text": [
      " 19%|█▉        | 10966/58273 [26:25<1:21:29,  9.68it/s]"
     ]
    },
    {
     "name": "stdout",
     "output_type": "stream",
     "text": [
      "HTTP Error 429: Too Many Requests Q4746018\n",
      "HTTP Error 429: Too Many Requests Q4746038\n"
     ]
    },
    {
     "name": "stderr",
     "output_type": "stream",
     "text": [
      " 19%|█▉        | 10978/58273 [26:27<1:24:13,  9.36it/s]"
     ]
    },
    {
     "name": "stdout",
     "output_type": "stream",
     "text": [
      "HTTP Error 429: Too Many Requests Q4750710\n"
     ]
    },
    {
     "name": "stderr",
     "output_type": "stream",
     "text": [
      " 19%|█▉        | 10990/58273 [26:28<1:24:01,  9.38it/s]"
     ]
    },
    {
     "name": "stdout",
     "output_type": "stream",
     "text": [
      "HTTP Error 429: Too Many Requests Q4754214\n"
     ]
    },
    {
     "name": "stderr",
     "output_type": "stream",
     "text": [
      " 19%|█▉        | 11016/58273 [26:31<1:27:46,  8.97it/s]"
     ]
    },
    {
     "name": "stdout",
     "output_type": "stream",
     "text": [
      "HTTP Error 429: Too Many Requests Q4767968\n"
     ]
    },
    {
     "name": "stderr",
     "output_type": "stream",
     "text": [
      " 19%|█▉        | 11028/58273 [26:33<1:50:19,  7.14it/s]"
     ]
    },
    {
     "name": "stdout",
     "output_type": "stream",
     "text": [
      "HTTP Error 429: Too Many Requests Q4774707\n"
     ]
    },
    {
     "name": "stderr",
     "output_type": "stream",
     "text": [
      " 19%|█▉        | 11036/58273 [26:35<2:50:41,  4.61it/s]"
     ]
    },
    {
     "name": "stdout",
     "output_type": "stream",
     "text": [
      "HTTP Error 429: Too Many Requests Q4779423\n"
     ]
    },
    {
     "name": "stderr",
     "output_type": "stream",
     "text": [
      " 19%|█▉        | 11051/58273 [26:37<1:25:40,  9.19it/s]"
     ]
    },
    {
     "name": "stdout",
     "output_type": "stream",
     "text": [
      "HTTP Error 429: Too Many Requests Q5148319\n"
     ]
    },
    {
     "name": "stderr",
     "output_type": "stream",
     "text": [
      " 19%|█▉        | 11054/58273 [26:37<1:24:16,  9.34it/s]"
     ]
    },
    {
     "name": "stdout",
     "output_type": "stream",
     "text": [
      "HTTP Error 429: Too Many Requests Q5148438\n",
      "HTTP Error 429: Too Many Requests Q5148496\n"
     ]
    },
    {
     "name": "stderr",
     "output_type": "stream",
     "text": [
      " 19%|█▉        | 11057/58273 [26:37<1:25:27,  9.21it/s]"
     ]
    },
    {
     "name": "stdout",
     "output_type": "stream",
     "text": [
      "HTTP Error 429: Too Many Requests Q5148675\n"
     ]
    },
    {
     "name": "stderr",
     "output_type": "stream",
     "text": [
      " 19%|█▉        | 11059/58273 [26:37<1:23:09,  9.46it/s]"
     ]
    },
    {
     "name": "stdout",
     "output_type": "stream",
     "text": [
      "HTTP Error 429: Too Many Requests Q5149381\n"
     ]
    },
    {
     "name": "stderr",
     "output_type": "stream",
     "text": [
      " 19%|█▉        | 11063/58273 [26:38<1:23:55,  9.38it/s]"
     ]
    },
    {
     "name": "stdout",
     "output_type": "stream",
     "text": [
      "HTTP Error 429: Too Many Requests Q5149493\n"
     ]
    },
    {
     "name": "stderr",
     "output_type": "stream",
     "text": [
      " 19%|█▉        | 11072/58273 [26:39<1:23:08,  9.46it/s]"
     ]
    },
    {
     "name": "stdout",
     "output_type": "stream",
     "text": [
      "HTTP Error 429: Too Many Requests Q5149715\n",
      "HTTP Error 429: Too Many Requests Q5149716\n"
     ]
    },
    {
     "name": "stderr",
     "output_type": "stream",
     "text": [
      " 19%|█▉        | 11077/58273 [26:39<1:29:01,  8.84it/s]"
     ]
    },
    {
     "name": "stdout",
     "output_type": "stream",
     "text": [
      "HTTP Error 429: Too Many Requests Q5149721\n"
     ]
    },
    {
     "name": "stderr",
     "output_type": "stream",
     "text": [
      " 19%|█▉        | 11092/58273 [26:41<1:22:01,  9.59it/s]"
     ]
    },
    {
     "name": "stdout",
     "output_type": "stream",
     "text": [
      "HTTP Error 429: Too Many Requests Q5150052\n",
      "HTTP Error 429: Too Many Requests Q5150053\n"
     ]
    },
    {
     "name": "stderr",
     "output_type": "stream",
     "text": [
      " 19%|█▉        | 11096/58273 [26:42<1:32:10,  8.53it/s]"
     ]
    },
    {
     "name": "stdout",
     "output_type": "stream",
     "text": [
      "HTTP Error 429: Too Many Requests Q5150111\n"
     ]
    },
    {
     "name": "stderr",
     "output_type": "stream",
     "text": [
      " 19%|█▉        | 11102/58273 [26:42<1:37:32,  8.06it/s]"
     ]
    },
    {
     "name": "stdout",
     "output_type": "stream",
     "text": [
      "HTTP Error 429: Too Many Requests Q5152494\n",
      "HTTP Error 429: Too Many Requests Q5153383\n"
     ]
    },
    {
     "name": "stderr",
     "output_type": "stream",
     "text": [
      " 19%|█▉        | 11110/58273 [26:44<2:15:26,  5.80it/s]"
     ]
    },
    {
     "name": "stdout",
     "output_type": "stream",
     "text": [
      "HTTP Error 429: Too Many Requests Q5154670\n"
     ]
    },
    {
     "name": "stderr",
     "output_type": "stream",
     "text": [
      " 19%|█▉        | 11117/58273 [26:45<1:27:13,  9.01it/s]"
     ]
    },
    {
     "name": "stdout",
     "output_type": "stream",
     "text": [
      "HTTP Error 429: Too Many Requests Q5155004\n"
     ]
    },
    {
     "name": "stderr",
     "output_type": "stream",
     "text": [
      " 19%|█▉        | 11121/58273 [26:45<1:22:56,  9.48it/s]"
     ]
    },
    {
     "name": "stdout",
     "output_type": "stream",
     "text": [
      "HTTP Error 429: Too Many Requests Q5156091\n",
      "HTTP Error 429: Too Many Requests Q4928351\n"
     ]
    },
    {
     "name": "stderr",
     "output_type": "stream",
     "text": [
      " 19%|█▉        | 11125/58273 [26:45<1:19:48,  9.85it/s]"
     ]
    },
    {
     "name": "stdout",
     "output_type": "stream",
     "text": [
      "HTTP Error 429: Too Many Requests Q4928497\n"
     ]
    },
    {
     "name": "stderr",
     "output_type": "stream",
     "text": [
      " 24%|██▍       | 14167/58273 [33:49<1:37:15,  7.56it/s]"
     ]
    },
    {
     "name": "stdout",
     "output_type": "stream",
     "text": [
      "HTTP Error 429: Too Many Requests Q4892848\n"
     ]
    },
    {
     "name": "stderr",
     "output_type": "stream",
     "text": [
      " 24%|██▍       | 14171/58273 [33:50<1:46:26,  6.91it/s]"
     ]
    },
    {
     "name": "stdout",
     "output_type": "stream",
     "text": [
      "HTTP Error 429: Too Many Requests Q4894093\n",
      "HTTP Error 429: Too Many Requests Q4894701\n"
     ]
    },
    {
     "name": "stderr",
     "output_type": "stream",
     "text": [
      " 24%|██▍       | 14174/58273 [33:50<1:30:57,  8.08it/s]"
     ]
    },
    {
     "name": "stdout",
     "output_type": "stream",
     "text": [
      "HTTP Error 429: Too Many Requests Q4894893\n"
     ]
    },
    {
     "name": "stderr",
     "output_type": "stream",
     "text": [
      " 24%|██▍       | 14180/58273 [33:50<1:18:03,  9.41it/s]"
     ]
    },
    {
     "name": "stdout",
     "output_type": "stream",
     "text": [
      "HTTP Error 429: Too Many Requests Q4897834\n",
      "HTTP Error 429: Too Many Requests Q4897894\n"
     ]
    },
    {
     "name": "stderr",
     "output_type": "stream",
     "text": [
      " 24%|██▍       | 14187/58273 [33:51<1:15:06,  9.78it/s]"
     ]
    },
    {
     "name": "stdout",
     "output_type": "stream",
     "text": [
      "HTTP Error 429: Too Many Requests Q4897974\n",
      "HTTP Error 429: Too Many Requests Q4898025\n"
     ]
    },
    {
     "name": "stderr",
     "output_type": "stream",
     "text": [
      " 24%|██▍       | 14195/58273 [33:52<1:25:20,  8.61it/s]"
     ]
    },
    {
     "name": "stdout",
     "output_type": "stream",
     "text": [
      "HTTP Error 429: Too Many Requests Q5134139\n",
      "HTTP Error 429: Too Many Requests Q5134140\n"
     ]
    },
    {
     "name": "stderr",
     "output_type": "stream",
     "text": [
      " 24%|██▍       | 14203/58273 [33:53<1:19:09,  9.28it/s]"
     ]
    },
    {
     "name": "stdout",
     "output_type": "stream",
     "text": [
      "HTTP Error 429: Too Many Requests Q5134304\n"
     ]
    },
    {
     "name": "stderr",
     "output_type": "stream",
     "text": [
      " 24%|██▍       | 14207/58273 [33:53<1:19:34,  9.23it/s]"
     ]
    },
    {
     "name": "stdout",
     "output_type": "stream",
     "text": [
      "HTTP Error 429: Too Many Requests Q5135893\n"
     ]
    },
    {
     "name": "stderr",
     "output_type": "stream",
     "text": [
      " 24%|██▍       | 14214/58273 [33:55<1:34:43,  7.75it/s]"
     ]
    },
    {
     "name": "stdout",
     "output_type": "stream",
     "text": [
      "HTTP Error 429: Too Many Requests Q5136937\n",
      "HTTP Error 429: Too Many Requests Q5136938\n"
     ]
    },
    {
     "name": "stderr",
     "output_type": "stream",
     "text": [
      " 24%|██▍       | 14218/58273 [33:55<1:21:39,  8.99it/s]"
     ]
    },
    {
     "name": "stdout",
     "output_type": "stream",
     "text": [
      "HTTP Error 429: Too Many Requests Q5137667\n"
     ]
    },
    {
     "name": "stderr",
     "output_type": "stream",
     "text": [
      " 24%|██▍       | 14227/58273 [33:56<1:19:00,  9.29it/s]"
     ]
    },
    {
     "name": "stdout",
     "output_type": "stream",
     "text": [
      "HTTP Error 429: Too Many Requests Q5139810\n"
     ]
    },
    {
     "name": "stderr",
     "output_type": "stream",
     "text": [
      " 24%|██▍       | 14229/58273 [33:56<1:16:14,  9.63it/s]"
     ]
    },
    {
     "name": "stdout",
     "output_type": "stream",
     "text": [
      "HTTP Error 429: Too Many Requests Q5140433\n",
      "HTTP Error 429: Too Many Requests Q5140484\n"
     ]
    },
    {
     "name": "stderr",
     "output_type": "stream",
     "text": [
      " 24%|██▍       | 14236/58273 [33:57<1:17:33,  9.46it/s]"
     ]
    },
    {
     "name": "stdout",
     "output_type": "stream",
     "text": [
      "HTTP Error 429: Too Many Requests Q5141309\n",
      "HTTP Error 429: Too Many Requests Q5141393\n"
     ]
    },
    {
     "name": "stderr",
     "output_type": "stream",
     "text": [
      " 24%|██▍       | 14247/58273 [33:58<1:23:52,  8.75it/s]"
     ]
    },
    {
     "name": "stdout",
     "output_type": "stream",
     "text": [
      "HTTP Error 429: Too Many Requests Q5145486\n"
     ]
    },
    {
     "name": "stderr",
     "output_type": "stream",
     "text": [
      " 24%|██▍       | 14252/58273 [33:59<1:32:31,  7.93it/s]"
     ]
    },
    {
     "name": "stdout",
     "output_type": "stream",
     "text": [
      "HTTP Error 429: Too Many Requests Q5146502\n",
      "HTTP Error 429: Too Many Requests Q5146549\n"
     ]
    },
    {
     "name": "stderr",
     "output_type": "stream",
     "text": [
      " 24%|██▍       | 14254/58273 [33:59<1:25:32,  8.58it/s]"
     ]
    },
    {
     "name": "stdout",
     "output_type": "stream",
     "text": [
      "HTTP Error 429: Too Many Requests Q5146945\n",
      "HTTP Error 429: Too Many Requests Q5146961\n"
     ]
    },
    {
     "name": "stderr",
     "output_type": "stream",
     "text": [
      " 24%|██▍       | 14260/58273 [34:00<1:25:05,  8.62it/s]"
     ]
    },
    {
     "name": "stdout",
     "output_type": "stream",
     "text": [
      "HTTP Error 429: Too Many Requests Q5147199\n"
     ]
    },
    {
     "name": "stderr",
     "output_type": "stream",
     "text": [
      " 24%|██▍       | 14270/58273 [34:01<1:25:47,  8.55it/s]"
     ]
    },
    {
     "name": "stdout",
     "output_type": "stream",
     "text": [
      "HTTP Error 429: Too Many Requests Q5905792\n"
     ]
    },
    {
     "name": "stderr",
     "output_type": "stream",
     "text": [
      " 24%|██▍       | 14275/58273 [34:02<1:41:15,  7.24it/s]"
     ]
    },
    {
     "name": "stdout",
     "output_type": "stream",
     "text": [
      "HTTP Error 429: Too Many Requests Q5910453\n",
      "HTTP Error 429: Too Many Requests Q5912952\n"
     ]
    },
    {
     "name": "stderr",
     "output_type": "stream",
     "text": [
      " 25%|██▍       | 14283/58273 [34:03<1:31:31,  8.01it/s]"
     ]
    },
    {
     "name": "stdout",
     "output_type": "stream",
     "text": [
      "HTTP Error 429: Too Many Requests Q5919889\n"
     ]
    },
    {
     "name": "stderr",
     "output_type": "stream",
     "text": [
      " 25%|██▍       | 14289/58273 [34:04<3:11:43,  3.82it/s]"
     ]
    },
    {
     "name": "stdout",
     "output_type": "stream",
     "text": [
      "HTTP Error 429: Too Many Requests Q5926842\n"
     ]
    },
    {
     "name": "stderr",
     "output_type": "stream",
     "text": [
      " 25%|██▍       | 14291/58273 [34:05<2:22:18,  5.15it/s]"
     ]
    },
    {
     "name": "stdout",
     "output_type": "stream",
     "text": [
      "HTTP Error 429: Too Many Requests Q5928056\n"
     ]
    },
    {
     "name": "stderr",
     "output_type": "stream",
     "text": [
      " 25%|██▍       | 14295/58273 [34:05<1:37:50,  7.49it/s]"
     ]
    },
    {
     "name": "stdout",
     "output_type": "stream",
     "text": [
      "HTTP Error 429: Too Many Requests Q5928702\n",
      "HTTP Error 429: Too Many Requests Q5928707\n"
     ]
    },
    {
     "name": "stderr",
     "output_type": "stream",
     "text": [
      " 25%|██▍       | 14297/58273 [34:05<1:38:18,  7.46it/s]"
     ]
    },
    {
     "name": "stdout",
     "output_type": "stream",
     "text": [
      "HTTP Error 429: Too Many Requests Q5928711\n"
     ]
    },
    {
     "name": "stderr",
     "output_type": "stream",
     "text": [
      " 25%|██▍       | 14305/58273 [34:08<2:22:34,  5.14it/s]"
     ]
    },
    {
     "name": "stdout",
     "output_type": "stream",
     "text": [
      "HTTP Error 429: Too Many Requests Q5934028\n"
     ]
    },
    {
     "name": "stderr",
     "output_type": "stream",
     "text": [
      " 25%|██▍       | 14308/58273 [34:08<2:14:01,  5.47it/s]"
     ]
    },
    {
     "name": "stdout",
     "output_type": "stream",
     "text": [
      "HTTP Error 429: Too Many Requests Q5940186\n"
     ]
    },
    {
     "name": "stderr",
     "output_type": "stream",
     "text": [
      " 25%|██▍       | 14310/58273 [34:09<1:50:37,  6.62it/s]"
     ]
    },
    {
     "name": "stdout",
     "output_type": "stream",
     "text": [
      "HTTP Error 429: Too Many Requests Q5940340\n",
      "HTTP Error 429: Too Many Requests Q5940564\n"
     ]
    },
    {
     "name": "stderr",
     "output_type": "stream",
     "text": [
      " 25%|██▍       | 14314/58273 [34:10<2:17:32,  5.33it/s]"
     ]
    },
    {
     "name": "stdout",
     "output_type": "stream",
     "text": [
      "HTTP Error 429: Too Many Requests Q5944360\n"
     ]
    },
    {
     "name": "stderr",
     "output_type": "stream",
     "text": [
      " 25%|██▍       | 14323/58273 [34:11<1:24:21,  8.68it/s]"
     ]
    },
    {
     "name": "stdout",
     "output_type": "stream",
     "text": [
      "HTTP Error 429: Too Many Requests Q5945424\n"
     ]
    },
    {
     "name": "stderr",
     "output_type": "stream",
     "text": [
      " 25%|██▍       | 14335/58273 [34:12<1:25:00,  8.62it/s]"
     ]
    },
    {
     "name": "stdout",
     "output_type": "stream",
     "text": [
      "HTTP Error 429: Too Many Requests Q5947754\n"
     ]
    },
    {
     "name": "stderr",
     "output_type": "stream",
     "text": [
      " 25%|██▍       | 14338/58273 [34:13<1:33:34,  7.82it/s]"
     ]
    },
    {
     "name": "stdout",
     "output_type": "stream",
     "text": [
      "HTTP Error 429: Too Many Requests Q5589497\n"
     ]
    },
    {
     "name": "stderr",
     "output_type": "stream",
     "text": [
      " 25%|██▍       | 14344/58273 [34:14<2:08:12,  5.71it/s]"
     ]
    },
    {
     "name": "stdout",
     "output_type": "stream",
     "text": [
      "HTTP Error 429: Too Many Requests Q5589617\n",
      "HTTP Error 429: Too Many Requests Q5591209\n"
     ]
    },
    {
     "name": "stderr",
     "output_type": "stream",
     "text": [
      " 25%|██▍       | 14353/58273 [34:15<1:24:35,  8.65it/s]"
     ]
    },
    {
     "name": "stdout",
     "output_type": "stream",
     "text": [
      "HTTP Error 429: Too Many Requests Q5592607\n"
     ]
    },
    {
     "name": "stderr",
     "output_type": "stream",
     "text": [
      " 25%|██▍       | 14355/58273 [34:15<1:21:48,  8.95it/s]"
     ]
    },
    {
     "name": "stdout",
     "output_type": "stream",
     "text": [
      "HTTP Error 429: Too Many Requests Q5592901\n",
      "HTTP Error 429: Too Many Requests Q5592902\n"
     ]
    },
    {
     "name": "stderr",
     "output_type": "stream",
     "text": [
      " 25%|██▍       | 14376/58273 [34:18<1:18:31,  9.32it/s]"
     ]
    },
    {
     "name": "stdout",
     "output_type": "stream",
     "text": [
      "HTTP Error 429: Too Many Requests Q5595573\n"
     ]
    },
    {
     "name": "stderr",
     "output_type": "stream",
     "text": [
      " 25%|██▍       | 14379/58273 [34:18<1:38:27,  7.43it/s]"
     ]
    },
    {
     "name": "stdout",
     "output_type": "stream",
     "text": [
      "HTTP Error 429: Too Many Requests Q5595577\n"
     ]
    },
    {
     "name": "stderr",
     "output_type": "stream",
     "text": [
      " 25%|██▍       | 14387/58273 [34:21<1:58:02,  6.20it/s]"
     ]
    },
    {
     "name": "stdout",
     "output_type": "stream",
     "text": [
      "HTTP Error 429: Too Many Requests Q5595872\n"
     ]
    },
    {
     "name": "stderr",
     "output_type": "stream",
     "text": [
      " 25%|██▍       | 14389/58273 [34:21<1:40:43,  7.26it/s]"
     ]
    },
    {
     "name": "stdout",
     "output_type": "stream",
     "text": [
      "HTTP Error 429: Too Many Requests Q5596150\n",
      "HTTP Error 429: Too Many Requests Q5596254\n"
     ]
    },
    {
     "name": "stderr",
     "output_type": "stream",
     "text": [
      " 25%|██▍       | 14394/58273 [34:23<3:26:52,  3.53it/s]"
     ]
    },
    {
     "name": "stdout",
     "output_type": "stream",
     "text": [
      "HTTP Error 429: Too Many Requests Q5596675\n"
     ]
    },
    {
     "name": "stderr",
     "output_type": "stream",
     "text": [
      " 25%|██▍       | 14399/58273 [34:24<1:55:24,  6.34it/s]"
     ]
    },
    {
     "name": "stdout",
     "output_type": "stream",
     "text": [
      "HTTP Error 429: Too Many Requests Q5597515\n"
     ]
    },
    {
     "name": "stderr",
     "output_type": "stream",
     "text": [
      " 25%|██▍       | 14409/58273 [34:26<1:57:12,  6.24it/s]"
     ]
    },
    {
     "name": "stdout",
     "output_type": "stream",
     "text": [
      "HTTP Error 429: Too Many Requests Q5598813\n"
     ]
    },
    {
     "name": "stderr",
     "output_type": "stream",
     "text": [
      " 25%|██▍       | 14414/58273 [34:27<1:23:44,  8.73it/s]"
     ]
    },
    {
     "name": "stdout",
     "output_type": "stream",
     "text": [
      "HTTP Error 429: Too Many Requests Q5599703\n",
      "HTTP Error 429: Too Many Requests Q5599781\n"
     ]
    },
    {
     "name": "stderr",
     "output_type": "stream",
     "text": [
      " 25%|██▍       | 14419/58273 [34:27<1:15:42,  9.65it/s]"
     ]
    },
    {
     "name": "stdout",
     "output_type": "stream",
     "text": [
      "HTTP Error 429: Too Many Requests Q4898039\n"
     ]
    },
    {
     "name": "stderr",
     "output_type": "stream",
     "text": [
      " 25%|██▍       | 14424/58273 [34:28<1:14:50,  9.77it/s]"
     ]
    },
    {
     "name": "stdout",
     "output_type": "stream",
     "text": [
      "HTTP Error 429: Too Many Requests Q4898670\n",
      "HTTP Error 429: Too Many Requests Q4898970\n"
     ]
    },
    {
     "name": "stderr",
     "output_type": "stream",
     "text": [
      " 25%|██▍       | 14430/58273 [34:29<2:11:58,  5.54it/s]"
     ]
    },
    {
     "name": "stdout",
     "output_type": "stream",
     "text": [
      "HTTP Error 429: Too Many Requests Q4900551\n"
     ]
    },
    {
     "name": "stderr",
     "output_type": "stream",
     "text": [
      " 25%|██▍       | 14435/58273 [34:29<1:31:59,  7.94it/s]"
     ]
    },
    {
     "name": "stdout",
     "output_type": "stream",
     "text": [
      "HTTP Error 429: Too Many Requests Q4906277\n"
     ]
    },
    {
     "name": "stderr",
     "output_type": "stream",
     "text": [
      " 25%|██▍       | 14440/58273 [34:30<1:18:28,  9.31it/s]"
     ]
    },
    {
     "name": "stdout",
     "output_type": "stream",
     "text": [
      "HTTP Error 429: Too Many Requests Q4906850\n",
      "HTTP Error 429: Too Many Requests Q4906982\n"
     ]
    },
    {
     "name": "stderr",
     "output_type": "stream",
     "text": [
      " 25%|██▍       | 14441/58273 [34:30<1:18:53,  9.26it/s]"
     ]
    },
    {
     "name": "stdout",
     "output_type": "stream",
     "text": [
      "HTTP Error 429: Too Many Requests Q4911942\n"
     ]
    },
    {
     "name": "stderr",
     "output_type": "stream",
     "text": [
      " 25%|██▍       | 14452/58273 [34:33<3:10:37,  3.83it/s]"
     ]
    },
    {
     "name": "stdout",
     "output_type": "stream",
     "text": [
      "HTTP Error 429: Too Many Requests Q4916715\n",
      "HTTP Error 429: Too Many Requests Q4917204\n"
     ]
    },
    {
     "name": "stderr",
     "output_type": "stream",
     "text": [
      " 25%|██▍       | 14457/58273 [34:33<1:39:10,  7.36it/s]"
     ]
    },
    {
     "name": "stdout",
     "output_type": "stream",
     "text": [
      "HTTP Error 429: Too Many Requests Q4917501\n",
      "HTTP Error 429: Too Many Requests Q4917503\n"
     ]
    },
    {
     "name": "stderr",
     "output_type": "stream",
     "text": [
      " 25%|██▍       | 14462/58273 [34:34<2:02:28,  5.96it/s]"
     ]
    },
    {
     "name": "stdout",
     "output_type": "stream",
     "text": [
      "HTTP Error 429: Too Many Requests Q4917508\n"
     ]
    },
    {
     "name": "stderr",
     "output_type": "stream",
     "text": [
      " 25%|██▍       | 14466/58273 [34:35<1:32:20,  7.91it/s]"
     ]
    },
    {
     "name": "stdout",
     "output_type": "stream",
     "text": [
      "HTTP Error 429: Too Many Requests Q4917521\n"
     ]
    },
    {
     "name": "stderr",
     "output_type": "stream",
     "text": [
      " 25%|██▍       | 14476/58273 [34:36<1:23:55,  8.70it/s]"
     ]
    },
    {
     "name": "stdout",
     "output_type": "stream",
     "text": [
      "HTTP Error 429: Too Many Requests Q4917555\n",
      "HTTP Error 429: Too Many Requests Q4917559\n"
     ]
    },
    {
     "name": "stderr",
     "output_type": "stream",
     "text": [
      " 25%|██▍       | 14504/58273 [34:39<1:20:24,  9.07it/s]"
     ]
    },
    {
     "name": "stdout",
     "output_type": "stream",
     "text": [
      "HTTP Error 429: Too Many Requests Q6666415\n"
     ]
    },
    {
     "name": "stderr",
     "output_type": "stream",
     "text": [
      " 25%|██▍       | 14512/58273 [34:41<1:25:03,  8.58it/s]"
     ]
    },
    {
     "name": "stdout",
     "output_type": "stream",
     "text": [
      "HTTP Error 429: Too Many Requests Q6667069\n"
     ]
    },
    {
     "name": "stderr",
     "output_type": "stream",
     "text": [
      " 25%|██▍       | 14537/58273 [34:44<1:40:53,  7.22it/s]"
     ]
    },
    {
     "name": "stdout",
     "output_type": "stream",
     "text": [
      "HTTP Error 429: Too Many Requests Q6680250\n"
     ]
    },
    {
     "name": "stderr",
     "output_type": "stream",
     "text": [
      " 25%|██▍       | 14550/58273 [34:45<1:17:29,  9.40it/s]"
     ]
    },
    {
     "name": "stdout",
     "output_type": "stream",
     "text": [
      "HTTP Error 429: Too Many Requests Q6682487\n",
      "HTTP Error 429: Too Many Requests Q6682770\n"
     ]
    },
    {
     "name": "stderr",
     "output_type": "stream",
     "text": [
      " 26%|██▌       | 15148/58273 [36:10<1:22:16,  8.74it/s]"
     ]
    },
    {
     "name": "stdout",
     "output_type": "stream",
     "text": [
      "HTTP Error 429: Too Many Requests Q6267999\n"
     ]
    },
    {
     "name": "stderr",
     "output_type": "stream",
     "text": [
      " 26%|██▌       | 15150/58273 [36:10<1:22:11,  8.74it/s]"
     ]
    },
    {
     "name": "stdout",
     "output_type": "stream",
     "text": [
      "HTTP Error 429: Too Many Requests Q6268209\n"
     ]
    },
    {
     "name": "stderr",
     "output_type": "stream",
     "text": [
      " 26%|██▌       | 15153/58273 [36:11<1:16:11,  9.43it/s]"
     ]
    },
    {
     "name": "stdout",
     "output_type": "stream",
     "text": [
      "HTTP Error 429: Too Many Requests Q6268514\n"
     ]
    },
    {
     "name": "stderr",
     "output_type": "stream",
     "text": [
      " 26%|██▌       | 15155/58273 [36:11<1:16:21,  9.41it/s]"
     ]
    },
    {
     "name": "stdout",
     "output_type": "stream",
     "text": [
      "HTTP Error 429: Too Many Requests Q6268761\n"
     ]
    },
    {
     "name": "stderr",
     "output_type": "stream",
     "text": [
      " 26%|██▌       | 15163/58273 [36:12<1:14:23,  9.66it/s]"
     ]
    },
    {
     "name": "stdout",
     "output_type": "stream",
     "text": [
      "HTTP Error 429: Too Many Requests Q6275371\n"
     ]
    },
    {
     "name": "stderr",
     "output_type": "stream",
     "text": [
      " 26%|██▌       | 15188/58273 [36:15<1:18:38,  9.13it/s]"
     ]
    },
    {
     "name": "stdout",
     "output_type": "stream",
     "text": [
      "HTTP Error 429: Too Many Requests Q6307050\n"
     ]
    },
    {
     "name": "stderr",
     "output_type": "stream",
     "text": [
      " 26%|██▌       | 15203/58273 [36:17<1:16:28,  9.39it/s]"
     ]
    },
    {
     "name": "stdout",
     "output_type": "stream",
     "text": [
      "HTTP Error 429: Too Many Requests Q6522247\n"
     ]
    },
    {
     "name": "stderr",
     "output_type": "stream",
     "text": [
      " 26%|██▌       | 15212/58273 [36:18<1:13:50,  9.72it/s]"
     ]
    },
    {
     "name": "stdout",
     "output_type": "stream",
     "text": [
      "HTTP Error 429: Too Many Requests Q6526149\n",
      "HTTP Error 429: Too Many Requests Q6526322\n"
     ]
    },
    {
     "name": "stderr",
     "output_type": "stream",
     "text": [
      " 26%|██▌       | 15216/58273 [36:18<1:12:55,  9.84it/s]"
     ]
    },
    {
     "name": "stdout",
     "output_type": "stream",
     "text": [
      "HTTP Error 429: Too Many Requests Q6535402\n"
     ]
    },
    {
     "name": "stderr",
     "output_type": "stream",
     "text": [
      " 26%|██▌       | 15231/58273 [36:21<1:20:16,  8.94it/s]"
     ]
    },
    {
     "name": "stdout",
     "output_type": "stream",
     "text": [
      "HTTP Error 429: Too Many Requests Q6537818\n"
     ]
    },
    {
     "name": "stderr",
     "output_type": "stream",
     "text": [
      " 26%|██▌       | 15235/58273 [36:21<1:19:20,  9.04it/s]"
     ]
    },
    {
     "name": "stdout",
     "output_type": "stream",
     "text": [
      "HTTP Error 429: Too Many Requests Q6538150\n"
     ]
    },
    {
     "name": "stderr",
     "output_type": "stream",
     "text": [
      " 26%|██▌       | 15258/58273 [36:25<1:25:09,  8.42it/s]"
     ]
    },
    {
     "name": "stdout",
     "output_type": "stream",
     "text": [
      "HTTP Error 429: Too Many Requests Q6541782\n"
     ]
    },
    {
     "name": "stderr",
     "output_type": "stream",
     "text": [
      " 26%|██▌       | 15263/58273 [36:26<2:16:50,  5.24it/s]"
     ]
    },
    {
     "name": "stdout",
     "output_type": "stream",
     "text": [
      "HTTP Error 429: Too Many Requests Q6541900\n"
     ]
    },
    {
     "name": "stderr",
     "output_type": "stream",
     "text": [
      " 26%|██▌       | 15275/58273 [36:27<1:13:58,  9.69it/s]"
     ]
    },
    {
     "name": "stdout",
     "output_type": "stream",
     "text": [
      "HTTP Error 429: Too Many Requests Q6549317\n"
     ]
    },
    {
     "name": "stderr",
     "output_type": "stream",
     "text": [
      " 26%|██▌       | 15280/58273 [36:28<1:27:04,  8.23it/s]"
     ]
    },
    {
     "name": "stdout",
     "output_type": "stream",
     "text": [
      "HTTP Error 429: Too Many Requests Q6550435\n"
     ]
    },
    {
     "name": "stderr",
     "output_type": "stream",
     "text": [
      " 26%|██▌       | 15287/58273 [36:29<2:00:15,  5.96it/s]"
     ]
    },
    {
     "name": "stdout",
     "output_type": "stream",
     "text": [
      "HTTP Error 429: Too Many Requests Q5645893\n"
     ]
    },
    {
     "name": "stderr",
     "output_type": "stream",
     "text": [
      " 26%|██▋       | 15298/58273 [36:30<1:18:01,  9.18it/s]"
     ]
    },
    {
     "name": "stdout",
     "output_type": "stream",
     "text": [
      "HTTP Error 429: Too Many Requests Q5646442\n"
     ]
    },
    {
     "name": "stderr",
     "output_type": "stream",
     "text": [
      " 26%|██▋       | 15306/58273 [36:31<1:22:16,  8.70it/s]"
     ]
    },
    {
     "name": "stdout",
     "output_type": "stream",
     "text": [
      "HTTP Error 429: Too Many Requests Q5647793\n"
     ]
    },
    {
     "name": "stderr",
     "output_type": "stream",
     "text": [
      " 26%|██▋       | 15308/58273 [36:32<1:23:41,  8.56it/s]"
     ]
    },
    {
     "name": "stdout",
     "output_type": "stream",
     "text": [
      "HTTP Error 429: Too Many Requests Q5649388\n"
     ]
    },
    {
     "name": "stderr",
     "output_type": "stream",
     "text": [
      " 26%|██▋       | 15317/58273 [36:33<1:44:49,  6.83it/s]"
     ]
    },
    {
     "name": "stdout",
     "output_type": "stream",
     "text": [
      "HTTP Error 429: Too Many Requests Q5651600\n"
     ]
    },
    {
     "name": "stderr",
     "output_type": "stream",
     "text": [
      " 26%|██▋       | 15321/58273 [36:33<1:25:30,  8.37it/s]"
     ]
    },
    {
     "name": "stdout",
     "output_type": "stream",
     "text": [
      "HTTP Error 429: Too Many Requests Q5654610\n"
     ]
    },
    {
     "name": "stderr",
     "output_type": "stream",
     "text": [
      " 26%|██▋       | 15329/58273 [36:35<1:37:25,  7.35it/s]"
     ]
    },
    {
     "name": "stdout",
     "output_type": "stream",
     "text": [
      "HTTP Error 429: Too Many Requests Q5656112\n"
     ]
    },
    {
     "name": "stderr",
     "output_type": "stream",
     "text": [
      " 32%|███▏      | 18400/58273 [43:25<1:17:20,  8.59it/s]"
     ]
    },
    {
     "name": "stdout",
     "output_type": "stream",
     "text": [
      "HTTP Error 429: Too Many Requests Q6841735\n"
     ]
    },
    {
     "name": "stderr",
     "output_type": "stream",
     "text": [
      " 32%|███▏      | 18403/58273 [43:26<1:27:30,  7.59it/s]"
     ]
    },
    {
     "name": "stdout",
     "output_type": "stream",
     "text": [
      "HTTP Error 429: Too Many Requests Q6841928\n",
      "HTTP Error 429: Too Many Requests Q6842015\n"
     ]
    },
    {
     "name": "stderr",
     "output_type": "stream",
     "text": [
      " 32%|███▏      | 18408/58273 [43:26<1:17:24,  8.58it/s]"
     ]
    },
    {
     "name": "stdout",
     "output_type": "stream",
     "text": [
      "HTTP Error 429: Too Many Requests Q6842094\n"
     ]
    },
    {
     "name": "stderr",
     "output_type": "stream",
     "text": [
      " 32%|███▏      | 18416/58273 [43:28<1:39:06,  6.70it/s]"
     ]
    },
    {
     "name": "stdout",
     "output_type": "stream",
     "text": [
      "HTTP Error 429: Too Many Requests Q6842352\n"
     ]
    },
    {
     "name": "stderr",
     "output_type": "stream",
     "text": [
      " 32%|███▏      | 18429/58273 [43:30<2:26:38,  4.53it/s]"
     ]
    },
    {
     "name": "stdout",
     "output_type": "stream",
     "text": [
      "HTTP Error 429: Too Many Requests Q6843999\n"
     ]
    },
    {
     "name": "stderr",
     "output_type": "stream",
     "text": [
      " 32%|███▏      | 18435/58273 [43:31<1:24:39,  7.84it/s]"
     ]
    },
    {
     "name": "stdout",
     "output_type": "stream",
     "text": [
      "HTTP Error 429: Too Many Requests Q6851729\n"
     ]
    },
    {
     "name": "stderr",
     "output_type": "stream",
     "text": [
      " 32%|███▏      | 18445/58273 [43:32<1:19:40,  8.33it/s]"
     ]
    },
    {
     "name": "stdout",
     "output_type": "stream",
     "text": [
      "HTTP Error 429: Too Many Requests Q6858620\n"
     ]
    },
    {
     "name": "stderr",
     "output_type": "stream",
     "text": [
      " 32%|███▏      | 18457/58273 [43:34<1:11:47,  9.24it/s]"
     ]
    },
    {
     "name": "stdout",
     "output_type": "stream",
     "text": [
      "HTTP Error 429: Too Many Requests Q6859378\n"
     ]
    },
    {
     "name": "stderr",
     "output_type": "stream",
     "text": [
      " 32%|███▏      | 18460/58273 [43:34<1:15:01,  8.84it/s]"
     ]
    },
    {
     "name": "stdout",
     "output_type": "stream",
     "text": [
      "HTTP Error 429: Too Many Requests Q6859969\n"
     ]
    },
    {
     "name": "stderr",
     "output_type": "stream",
     "text": [
      " 32%|███▏      | 18465/58273 [43:35<1:20:58,  8.19it/s]"
     ]
    },
    {
     "name": "stdout",
     "output_type": "stream",
     "text": [
      "HTTP Error 429: Too Many Requests Q6860124\n"
     ]
    },
    {
     "name": "stderr",
     "output_type": "stream",
     "text": [
      " 32%|███▏      | 18469/58273 [43:35<1:14:19,  8.93it/s]"
     ]
    },
    {
     "name": "stdout",
     "output_type": "stream",
     "text": [
      "HTTP Error 429: Too Many Requests Q7494014\n"
     ]
    },
    {
     "name": "stderr",
     "output_type": "stream",
     "text": [
      " 32%|███▏      | 18479/58273 [43:36<1:16:14,  8.70it/s]"
     ]
    },
    {
     "name": "stdout",
     "output_type": "stream",
     "text": [
      "HTTP Error 429: Too Many Requests Q7494891\n"
     ]
    },
    {
     "name": "stderr",
     "output_type": "stream",
     "text": [
      " 32%|███▏      | 18499/58273 [43:39<1:23:39,  7.92it/s]"
     ]
    },
    {
     "name": "stdout",
     "output_type": "stream",
     "text": [
      "HTTP Error 429: Too Many Requests Q7500428\n",
      "HTTP Error 429: Too Many Requests Q7501385\n"
     ]
    },
    {
     "name": "stderr",
     "output_type": "stream",
     "text": [
      " 32%|███▏      | 18503/58273 [43:40<2:30:24,  4.41it/s]"
     ]
    },
    {
     "name": "stdout",
     "output_type": "stream",
     "text": [
      "HTTP Error 429: Too Many Requests Q7501481\n"
     ]
    },
    {
     "name": "stderr",
     "output_type": "stream",
     "text": [
      " 32%|███▏      | 18518/58273 [43:42<1:20:01,  8.28it/s]"
     ]
    },
    {
     "name": "stdout",
     "output_type": "stream",
     "text": [
      "HTTP Error 429: Too Many Requests Q7511616\n"
     ]
    },
    {
     "name": "stderr",
     "output_type": "stream",
     "text": [
      " 32%|███▏      | 18521/58273 [43:43<1:12:36,  9.12it/s]"
     ]
    },
    {
     "name": "stdout",
     "output_type": "stream",
     "text": [
      "HTTP Error 429: Too Many Requests Q7513628\n"
     ]
    },
    {
     "name": "stderr",
     "output_type": "stream",
     "text": [
      " 32%|███▏      | 18539/58273 [43:44<1:06:56,  9.89it/s]"
     ]
    },
    {
     "name": "stdout",
     "output_type": "stream",
     "text": [
      "HTTP Error 429: Too Many Requests Q7517752\n"
     ]
    },
    {
     "name": "stderr",
     "output_type": "stream",
     "text": [
      " 32%|███▏      | 18568/58273 [43:48<1:21:53,  8.08it/s]"
     ]
    },
    {
     "name": "stdout",
     "output_type": "stream",
     "text": [
      "HTTP Error 429: Too Many Requests Q7123995\n"
     ]
    },
    {
     "name": "stderr",
     "output_type": "stream",
     "text": [
      " 32%|███▏      | 18571/58273 [43:48<1:14:58,  8.83it/s]"
     ]
    },
    {
     "name": "stdout",
     "output_type": "stream",
     "text": [
      "HTTP Error 429: Too Many Requests Q7124582\n"
     ]
    },
    {
     "name": "stderr",
     "output_type": "stream",
     "text": [
      " 32%|███▏      | 18574/58273 [43:48<1:13:13,  9.04it/s]"
     ]
    },
    {
     "name": "stdout",
     "output_type": "stream",
     "text": [
      "HTTP Error 429: Too Many Requests Q7125099\n"
     ]
    },
    {
     "name": "stderr",
     "output_type": "stream",
     "text": [
      " 32%|███▏      | 18585/58273 [43:50<1:14:58,  8.82it/s]"
     ]
    },
    {
     "name": "stdout",
     "output_type": "stream",
     "text": [
      "HTTP Error 429: Too Many Requests Q7127978\n"
     ]
    },
    {
     "name": "stderr",
     "output_type": "stream",
     "text": [
      " 32%|███▏      | 18601/58273 [43:53<1:48:38,  6.09it/s]"
     ]
    },
    {
     "name": "stdout",
     "output_type": "stream",
     "text": [
      "HTTP Error 429: Too Many Requests Q7128381\n"
     ]
    },
    {
     "name": "stderr",
     "output_type": "stream",
     "text": [
      " 32%|███▏      | 18611/58273 [43:54<1:07:59,  9.72it/s]"
     ]
    },
    {
     "name": "stdout",
     "output_type": "stream",
     "text": [
      "HTTP Error 429: Too Many Requests Q7128669\n",
      "HTTP Error 429: Too Many Requests Q7130717\n"
     ]
    },
    {
     "name": "stderr",
     "output_type": "stream",
     "text": [
      " 32%|███▏      | 18615/58273 [43:54<1:04:39, 10.22it/s]"
     ]
    },
    {
     "name": "stdout",
     "output_type": "stream",
     "text": [
      "HTTP Error 429: Too Many Requests Q7131657\n"
     ]
    },
    {
     "name": "stderr",
     "output_type": "stream",
     "text": [
      " 32%|███▏      | 18617/58273 [43:55<1:03:26, 10.42it/s]"
     ]
    },
    {
     "name": "stdout",
     "output_type": "stream",
     "text": [
      "HTTP Error 429: Too Many Requests Q7131810\n"
     ]
    },
    {
     "name": "stderr",
     "output_type": "stream",
     "text": [
      " 32%|███▏      | 18623/58273 [43:56<1:39:38,  6.63it/s]"
     ]
    },
    {
     "name": "stdout",
     "output_type": "stream",
     "text": [
      "HTTP Error 429: Too Many Requests Q7134281\n",
      "HTTP Error 429: Too Many Requests Q7580966\n"
     ]
    },
    {
     "name": "stderr",
     "output_type": "stream",
     "text": [
      " 32%|███▏      | 18630/58273 [43:56<1:13:11,  9.03it/s]"
     ]
    },
    {
     "name": "stdout",
     "output_type": "stream",
     "text": [
      "HTTP Error 429: Too Many Requests Q7580972\n"
     ]
    },
    {
     "name": "stderr",
     "output_type": "stream",
     "text": [
      " 32%|███▏      | 18648/58273 [43:58<1:08:50,  9.59it/s]"
     ]
    },
    {
     "name": "stdout",
     "output_type": "stream",
     "text": [
      "HTTP Error 429: Too Many Requests Q7586791\n"
     ]
    },
    {
     "name": "stderr",
     "output_type": "stream",
     "text": [
      " 32%|███▏      | 18690/58273 [44:05<1:09:44,  9.46it/s]"
     ]
    },
    {
     "name": "stdout",
     "output_type": "stream",
     "text": [
      "HTTP Error 429: Too Many Requests Q6391580\n"
     ]
    },
    {
     "name": "stderr",
     "output_type": "stream",
     "text": [
      " 32%|███▏      | 18706/58273 [44:07<1:10:11,  9.40it/s]"
     ]
    },
    {
     "name": "stdout",
     "output_type": "stream",
     "text": [
      "HTTP Error 429: Too Many Requests Q6395346\n"
     ]
    },
    {
     "name": "stderr",
     "output_type": "stream",
     "text": [
      " 32%|███▏      | 18728/58273 [44:09<1:11:47,  9.18it/s]"
     ]
    },
    {
     "name": "stdout",
     "output_type": "stream",
     "text": [
      "HTTP Error 429: Too Many Requests Q6410965\n"
     ]
    },
    {
     "name": "stderr",
     "output_type": "stream",
     "text": [
      " 32%|███▏      | 18746/58273 [44:12<1:14:54,  8.79it/s]"
     ]
    },
    {
     "name": "stdout",
     "output_type": "stream",
     "text": [
      "HTTP Error 429: Too Many Requests Q7432359\n"
     ]
    },
    {
     "name": "stderr",
     "output_type": "stream",
     "text": [
      " 32%|███▏      | 18753/58273 [44:12<1:14:44,  8.81it/s]"
     ]
    },
    {
     "name": "stdout",
     "output_type": "stream",
     "text": [
      "HTTP Error 429: Too Many Requests Q7432599\n",
      "HTTP Error 429: Too Many Requests Q7432605\n"
     ]
    },
    {
     "name": "stderr",
     "output_type": "stream",
     "text": [
      " 32%|███▏      | 18762/58273 [44:13<1:09:15,  9.51it/s]"
     ]
    },
    {
     "name": "stdout",
     "output_type": "stream",
     "text": [
      "HTTP Error 429: Too Many Requests Q7433945\n"
     ]
    },
    {
     "name": "stderr",
     "output_type": "stream",
     "text": [
      " 39%|███▉      | 22945/58273 [53:51<1:16:09,  7.73it/s]"
     ]
    },
    {
     "name": "stdout",
     "output_type": "stream",
     "text": [
      "HTTP Error 429: Too Many Requests Q22059693\n"
     ]
    },
    {
     "name": "stderr",
     "output_type": "stream",
     "text": [
      " 39%|███▉      | 22950/58273 [53:52<1:19:34,  7.40it/s]"
     ]
    },
    {
     "name": "stdout",
     "output_type": "stream",
     "text": [
      "HTTP Error 429: Too Many Requests Q22059736\n",
      "HTTP Error 429: Too Many Requests Q22059744\n"
     ]
    },
    {
     "name": "stderr",
     "output_type": "stream",
     "text": [
      " 39%|███▉      | 22957/58273 [53:53<1:15:09,  7.83it/s]"
     ]
    },
    {
     "name": "stdout",
     "output_type": "stream",
     "text": [
      "HTTP Error 429: Too Many Requests Q22060274\n"
     ]
    },
    {
     "name": "stderr",
     "output_type": "stream",
     "text": [
      " 39%|███▉      | 22961/58273 [53:54<1:06:28,  8.85it/s]"
     ]
    },
    {
     "name": "stdout",
     "output_type": "stream",
     "text": [
      "HTTP Error 429: Too Many Requests Q22073499\n"
     ]
    },
    {
     "name": "stderr",
     "output_type": "stream",
     "text": [
      " 39%|███▉      | 23011/58273 [54:00<1:26:19,  6.81it/s]"
     ]
    },
    {
     "name": "stdout",
     "output_type": "stream",
     "text": [
      "HTTP Error 429: Too Many Requests Q14706904\n"
     ]
    },
    {
     "name": "stderr",
     "output_type": "stream",
     "text": [
      " 40%|███▉      | 23029/58273 [54:03<1:36:13,  6.10it/s]"
     ]
    },
    {
     "name": "stdout",
     "output_type": "stream",
     "text": [
      "HTTP Error 429: Too Many Requests Q14707171\n"
     ]
    },
    {
     "name": "stderr",
     "output_type": "stream",
     "text": [
      " 40%|███▉      | 23038/58273 [54:04<1:10:34,  8.32it/s]"
     ]
    },
    {
     "name": "stdout",
     "output_type": "stream",
     "text": [
      "HTTP Error 429: Too Many Requests Q14707506\n"
     ]
    },
    {
     "name": "stderr",
     "output_type": "stream",
     "text": [
      " 40%|███▉      | 23042/58273 [54:04<1:06:37,  8.81it/s]"
     ]
    },
    {
     "name": "stdout",
     "output_type": "stream",
     "text": [
      "HTTP Error 429: Too Many Requests Q14707602\n"
     ]
    },
    {
     "name": "stderr",
     "output_type": "stream",
     "text": [
      " 40%|███▉      | 23056/58273 [54:06<1:05:37,  8.94it/s]"
     ]
    },
    {
     "name": "stdout",
     "output_type": "stream",
     "text": [
      "HTTP Error 429: Too Many Requests Q14708016\n"
     ]
    },
    {
     "name": "stderr",
     "output_type": "stream",
     "text": [
      " 40%|███▉      | 23061/58273 [54:07<1:11:41,  8.19it/s]"
     ]
    },
    {
     "name": "stdout",
     "output_type": "stream",
     "text": [
      "HTTP Error 429: Too Many Requests Q14708089\n"
     ]
    },
    {
     "name": "stderr",
     "output_type": "stream",
     "text": [
      " 40%|███▉      | 23064/58273 [54:07<1:08:58,  8.51it/s]"
     ]
    },
    {
     "name": "stdout",
     "output_type": "stream",
     "text": [
      "HTTP Error 429: Too Many Requests Q14708113\n"
     ]
    },
    {
     "name": "stderr",
     "output_type": "stream",
     "text": [
      " 40%|███▉      | 23068/58273 [54:08<1:02:51,  9.34it/s]"
     ]
    },
    {
     "name": "stdout",
     "output_type": "stream",
     "text": [
      "HTTP Error 429: Too Many Requests Q14708156\n"
     ]
    },
    {
     "name": "stderr",
     "output_type": "stream",
     "text": [
      " 40%|███▉      | 23082/58273 [54:09<1:10:32,  8.31it/s]"
     ]
    },
    {
     "name": "stdout",
     "output_type": "stream",
     "text": [
      "HTTP Error 429: Too Many Requests Q14708866\n"
     ]
    },
    {
     "name": "stderr",
     "output_type": "stream",
     "text": [
      " 40%|███▉      | 23086/58273 [54:10<1:05:37,  8.94it/s]"
     ]
    },
    {
     "name": "stdout",
     "output_type": "stream",
     "text": [
      "HTTP Error 429: Too Many Requests Q14708936\n"
     ]
    },
    {
     "name": "stderr",
     "output_type": "stream",
     "text": [
      " 40%|███▉      | 23102/58273 [54:12<1:09:17,  8.46it/s]"
     ]
    },
    {
     "name": "stdout",
     "output_type": "stream",
     "text": [
      "HTTP Error 429: Too Many Requests Q14709481\n"
     ]
    },
    {
     "name": "stderr",
     "output_type": "stream",
     "text": [
      " 40%|███▉      | 23108/58273 [54:13<1:06:24,  8.82it/s]"
     ]
    },
    {
     "name": "stdout",
     "output_type": "stream",
     "text": [
      "HTTP Error 429: Too Many Requests Q17058948\n"
     ]
    },
    {
     "name": "stderr",
     "output_type": "stream",
     "text": [
      " 40%|███▉      | 23113/58273 [54:13<1:04:17,  9.12it/s]"
     ]
    },
    {
     "name": "stdout",
     "output_type": "stream",
     "text": [
      "HTTP Error 429: Too Many Requests Q17059547\n"
     ]
    },
    {
     "name": "stderr",
     "output_type": "stream",
     "text": [
      " 41%|████      | 23780/58273 [55:50<1:02:40,  9.17it/s]"
     ]
    },
    {
     "name": "stdout",
     "output_type": "stream",
     "text": [
      "HTTP Error 429: Too Many Requests Q25099828\n"
     ]
    },
    {
     "name": "stderr",
     "output_type": "stream",
     "text": [
      " 41%|████      | 23787/58273 [55:51<1:09:14,  8.30it/s]"
     ]
    },
    {
     "name": "stdout",
     "output_type": "stream",
     "text": [
      "HTTP Error 429: Too Many Requests Q25205735\n"
     ]
    },
    {
     "name": "stderr",
     "output_type": "stream",
     "text": [
      " 41%|████      | 23802/58273 [55:54<1:15:30,  7.61it/s]"
     ]
    },
    {
     "name": "stdout",
     "output_type": "stream",
     "text": [
      "HTTP Error 429: Too Many Requests Q48976873\n"
     ]
    },
    {
     "name": "stderr",
     "output_type": "stream",
     "text": [
      " 41%|████      | 23806/58273 [55:55<2:06:45,  4.53it/s]"
     ]
    },
    {
     "name": "stdout",
     "output_type": "stream",
     "text": [
      "HTTP Error 429: Too Many Requests Q48977017\n"
     ]
    },
    {
     "name": "stderr",
     "output_type": "stream",
     "text": [
      " 41%|████      | 23815/58273 [55:56<1:09:48,  8.23it/s]"
     ]
    },
    {
     "name": "stdout",
     "output_type": "stream",
     "text": [
      "HTTP Error 429: Too Many Requests Q48977416\n"
     ]
    },
    {
     "name": "stderr",
     "output_type": "stream",
     "text": [
      " 41%|████      | 23818/58273 [55:56<1:02:27,  9.19it/s]"
     ]
    },
    {
     "name": "stdout",
     "output_type": "stream",
     "text": [
      "HTTP Error 429: Too Many Requests Q48977985\n"
     ]
    },
    {
     "name": "stderr",
     "output_type": "stream",
     "text": [
      " 41%|████      | 23824/58273 [55:57<1:01:04,  9.40it/s]"
     ]
    },
    {
     "name": "stdout",
     "output_type": "stream",
     "text": [
      "HTTP Error 429: Too Many Requests Q52238790\n"
     ]
    },
    {
     "name": "stderr",
     "output_type": "stream",
     "text": [
      " 41%|████      | 23834/58273 [55:58<1:10:02,  8.19it/s]"
     ]
    },
    {
     "name": "stdout",
     "output_type": "stream",
     "text": [
      "HTTP Error 429: Too Many Requests Q52687729\n"
     ]
    },
    {
     "name": "stderr",
     "output_type": "stream",
     "text": [
      " 41%|████      | 23935/58273 [56:12<1:16:24,  7.49it/s]"
     ]
    },
    {
     "name": "stdout",
     "output_type": "stream",
     "text": [
      "HTTP Error 429: Too Many Requests Q63866339\n"
     ]
    },
    {
     "name": "stderr",
     "output_type": "stream",
     "text": [
      " 41%|████      | 23942/58273 [56:13<1:08:24,  8.36it/s]"
     ]
    },
    {
     "name": "stdout",
     "output_type": "stream",
     "text": [
      "HTTP Error 429: Too Many Requests Q63869922\n"
     ]
    },
    {
     "name": "stderr",
     "output_type": "stream",
     "text": [
      " 41%|████      | 23944/58273 [56:13<1:22:47,  6.91it/s]"
     ]
    },
    {
     "name": "stdout",
     "output_type": "stream",
     "text": [
      "HTTP Error 429: Too Many Requests Q63870246\n"
     ]
    },
    {
     "name": "stderr",
     "output_type": "stream",
     "text": [
      " 41%|████      | 23946/58273 [56:13<1:12:16,  7.92it/s]"
     ]
    },
    {
     "name": "stdout",
     "output_type": "stream",
     "text": [
      "HTTP Error 429: Too Many Requests Q63871055\n"
     ]
    },
    {
     "name": "stderr",
     "output_type": "stream",
     "text": [
      " 41%|████      | 23959/58273 [56:15<1:14:35,  7.67it/s]"
     ]
    },
    {
     "name": "stdout",
     "output_type": "stream",
     "text": [
      "HTTP Error 429: Too Many Requests Q65059527\n"
     ]
    },
    {
     "name": "stderr",
     "output_type": "stream",
     "text": [
      " 41%|████      | 23963/58273 [56:15<1:03:04,  9.06it/s]"
     ]
    },
    {
     "name": "stdout",
     "output_type": "stream",
     "text": [
      "HTTP Error 429: Too Many Requests Q65075125\n"
     ]
    },
    {
     "name": "stderr",
     "output_type": "stream",
     "text": [
      " 41%|████      | 23971/58273 [56:16<1:05:06,  8.78it/s]"
     ]
    },
    {
     "name": "stdout",
     "output_type": "stream",
     "text": [
      "HTTP Error 429: Too Many Requests Q65089779\n"
     ]
    },
    {
     "name": "stderr",
     "output_type": "stream",
     "text": [
      " 41%|████      | 23974/58273 [56:17<1:03:30,  9.00it/s]"
     ]
    },
    {
     "name": "stdout",
     "output_type": "stream",
     "text": [
      "HTTP Error 429: Too Many Requests Q65121690\n"
     ]
    },
    {
     "name": "stderr",
     "output_type": "stream",
     "text": [
      " 41%|████      | 23988/58273 [56:18<1:03:05,  9.06it/s]"
     ]
    },
    {
     "name": "stdout",
     "output_type": "stream",
     "text": [
      "HTTP Error 429: Too Many Requests Q18155381\n"
     ]
    },
    {
     "name": "stderr",
     "output_type": "stream",
     "text": [
      " 41%|████      | 23994/58273 [56:19<1:15:47,  7.54it/s]"
     ]
    },
    {
     "name": "stdout",
     "output_type": "stream",
     "text": [
      "HTTP Error 429: Too Many Requests Q18157685\n",
      "HTTP Error 429: Too Many Requests Q18157787\n",
      "HTTP Error 429: Too Many Requests Q18158667\n"
     ]
    },
    {
     "name": "stderr",
     "output_type": "stream",
     "text": [
      " 41%|████      | 24010/58273 [56:21<1:03:25,  9.00it/s]"
     ]
    },
    {
     "name": "stdout",
     "output_type": "stream",
     "text": [
      "HTTP Error 429: Too Many Requests Q18385656\n"
     ]
    },
    {
     "name": "stderr",
     "output_type": "stream",
     "text": [
      " 41%|████      | 24021/58273 [56:23<1:04:40,  8.83it/s]"
     ]
    },
    {
     "name": "stdout",
     "output_type": "stream",
     "text": [
      "HTTP Error 429: Too Many Requests Q18705868\n"
     ]
    },
    {
     "name": "stderr",
     "output_type": "stream",
     "text": [
      " 41%|████      | 24032/58273 [56:24<1:07:29,  8.45it/s]"
     ]
    },
    {
     "name": "stdout",
     "output_type": "stream",
     "text": [
      "HTTP Error 429: Too Many Requests Q18705924\n"
     ]
    },
    {
     "name": "stderr",
     "output_type": "stream",
     "text": [
      " 41%|████      | 24037/58273 [56:25<1:21:22,  7.01it/s]"
     ]
    },
    {
     "name": "stdout",
     "output_type": "stream",
     "text": [
      "HTTP Error 429: Too Many Requests Q18706001\n"
     ]
    },
    {
     "name": "stderr",
     "output_type": "stream",
     "text": [
      " 41%|████▏     | 24061/58273 [56:28<1:06:04,  8.63it/s]"
     ]
    },
    {
     "name": "stdout",
     "output_type": "stream",
     "text": [
      "HTTP Error 429: Too Many Requests Q28224297\n"
     ]
    },
    {
     "name": "stderr",
     "output_type": "stream",
     "text": [
      " 41%|████▏     | 24076/58273 [56:30<1:16:43,  7.43it/s]"
     ]
    },
    {
     "name": "stdout",
     "output_type": "stream",
     "text": [
      "HTTP Error 429: Too Many Requests Q28230088\n",
      "HTTP Error 429: Too Many Requests Q28230117\n"
     ]
    },
    {
     "name": "stderr",
     "output_type": "stream",
     "text": [
      " 41%|████▏     | 24092/58273 [56:32<1:18:29,  7.26it/s]"
     ]
    },
    {
     "name": "stdout",
     "output_type": "stream",
     "text": [
      "HTTP Error 429: Too Many Requests Q28230185\n"
     ]
    },
    {
     "name": "stderr",
     "output_type": "stream",
     "text": [
      " 41%|████▏     | 24180/58273 [56:42<59:58,  9.47it/s]  "
     ]
    },
    {
     "name": "stdout",
     "output_type": "stream",
     "text": [
      "HTTP Error 429: Too Many Requests Q25205733\n"
     ]
    },
    {
     "name": "stderr",
     "output_type": "stream",
     "text": [
      " 42%|████▏     | 24193/58273 [56:43<59:44,  9.51it/s]  "
     ]
    },
    {
     "name": "stdout",
     "output_type": "stream",
     "text": [
      "HTTP Error 429: Too Many Requests Q48972916\n"
     ]
    },
    {
     "name": "stderr",
     "output_type": "stream",
     "text": [
      " 42%|████▏     | 24215/58273 [56:45<57:57,  9.79it/s]  "
     ]
    },
    {
     "name": "stdout",
     "output_type": "stream",
     "text": [
      "HTTP Error 429: Too Many Requests Q48977491\n"
     ]
    },
    {
     "name": "stderr",
     "output_type": "stream",
     "text": [
      " 42%|████▏     | 24226/58273 [56:47<58:19,  9.73it/s]  "
     ]
    },
    {
     "name": "stdout",
     "output_type": "stream",
     "text": [
      "HTTP Error 429: Too Many Requests Q52238790\n"
     ]
    },
    {
     "name": "stderr",
     "output_type": "stream",
     "text": [
      " 42%|████▏     | 24233/58273 [56:48<1:22:52,  6.85it/s]"
     ]
    },
    {
     "name": "stdout",
     "output_type": "stream",
     "text": [
      "HTTP Error 429: Too Many Requests Q52686788\n"
     ]
    },
    {
     "name": "stderr",
     "output_type": "stream",
     "text": [
      " 42%|████▏     | 24240/58273 [56:48<1:01:24,  9.24it/s]"
     ]
    },
    {
     "name": "stdout",
     "output_type": "stream",
     "text": [
      "HTTP Error 429: Too Many Requests Q52687729\n"
     ]
    },
    {
     "name": "stderr",
     "output_type": "stream",
     "text": [
      " 42%|████▏     | 24242/58273 [56:48<59:56,  9.46it/s]  "
     ]
    },
    {
     "name": "stdout",
     "output_type": "stream",
     "text": [
      "HTTP Error 429: Too Many Requests Q52688040\n",
      "HTTP Error 429: Too Many Requests Q52688171\n"
     ]
    },
    {
     "name": "stderr",
     "output_type": "stream",
     "text": [
      " 42%|████▏     | 24267/58273 [56:51<56:14, 10.08it/s]  "
     ]
    },
    {
     "name": "stdout",
     "output_type": "stream",
     "text": [
      "HTTP Error 429: Too Many Requests Q85769485\n"
     ]
    },
    {
     "name": "stderr",
     "output_type": "stream",
     "text": [
      " 42%|████▏     | 24271/58273 [56:51<53:23, 10.61it/s]"
     ]
    },
    {
     "name": "stdout",
     "output_type": "stream",
     "text": [
      "HTTP Error 429: Too Many Requests Q85787734\n"
     ]
    },
    {
     "name": "stderr",
     "output_type": "stream",
     "text": [
      " 42%|████▏     | 24307/58273 [56:56<55:20, 10.23it/s]  "
     ]
    },
    {
     "name": "stdout",
     "output_type": "stream",
     "text": [
      "HTTP Error 429: Too Many Requests Q60744138\n"
     ]
    },
    {
     "name": "stderr",
     "output_type": "stream",
     "text": [
      " 46%|████▌     | 26931/58273 [1:03:24<56:10,  9.30it/s]  "
     ]
    },
    {
     "name": "stdout",
     "output_type": "stream",
     "text": [
      "HTTP Error 429: Too Many Requests Q7101244\n"
     ]
    },
    {
     "name": "stderr",
     "output_type": "stream",
     "text": [
      " 46%|████▌     | 26946/58273 [1:03:26<56:42,  9.21it/s]"
     ]
    },
    {
     "name": "stdout",
     "output_type": "stream",
     "text": [
      "HTTP Error 429: Too Many Requests Q7110932\n",
      "HTTP Error 429: Too Many Requests Q7110982\n"
     ]
    },
    {
     "name": "stderr",
     "output_type": "stream",
     "text": [
      " 46%|████▋     | 26954/58273 [1:03:26<1:05:09,  8.01it/s]"
     ]
    },
    {
     "name": "stdout",
     "output_type": "stream",
     "text": [
      "HTTP Error 429: Too Many Requests Q7111383\n"
     ]
    },
    {
     "name": "stderr",
     "output_type": "stream",
     "text": [
      " 46%|████▋     | 26964/58273 [1:03:28<59:31,  8.77it/s]  "
     ]
    },
    {
     "name": "stdout",
     "output_type": "stream",
     "text": [
      "HTTP Error 429: Too Many Requests Q7122663\n"
     ]
    },
    {
     "name": "stderr",
     "output_type": "stream",
     "text": [
      " 46%|████▋     | 26975/58273 [1:03:29<1:06:21,  7.86it/s]"
     ]
    },
    {
     "name": "stdout",
     "output_type": "stream",
     "text": [
      "HTTP Error 429: Too Many Requests Q7054945\n"
     ]
    },
    {
     "name": "stderr",
     "output_type": "stream",
     "text": [
      " 46%|████▋     | 26999/58273 [1:03:32<1:04:25,  8.09it/s]"
     ]
    },
    {
     "name": "stdout",
     "output_type": "stream",
     "text": [
      "HTTP Error 429: Too Many Requests Q7059770\n"
     ]
    },
    {
     "name": "stderr",
     "output_type": "stream",
     "text": [
      " 46%|████▋     | 27025/58273 [1:03:35<1:07:46,  7.69it/s]"
     ]
    },
    {
     "name": "stdout",
     "output_type": "stream",
     "text": [
      "HTTP Error 429: Too Many Requests Q7069988\n"
     ]
    },
    {
     "name": "stderr",
     "output_type": "stream",
     "text": [
      " 46%|████▋     | 27031/58273 [1:03:37<1:41:13,  5.14it/s]"
     ]
    },
    {
     "name": "stdout",
     "output_type": "stream",
     "text": [
      "HTTP Error 429: Too Many Requests Q6746821\n"
     ]
    },
    {
     "name": "stderr",
     "output_type": "stream",
     "text": [
      " 46%|████▋     | 27045/58273 [1:03:38<54:44,  9.51it/s]  "
     ]
    },
    {
     "name": "stdout",
     "output_type": "stream",
     "text": [
      "HTTP Error 429: Too Many Requests Q6763686\n"
     ]
    },
    {
     "name": "stderr",
     "output_type": "stream",
     "text": [
      " 46%|████▋     | 27048/58273 [1:03:38<54:17,  9.59it/s]"
     ]
    },
    {
     "name": "stdout",
     "output_type": "stream",
     "text": [
      "HTTP Error 429: Too Many Requests Q6765691\n"
     ]
    },
    {
     "name": "stderr",
     "output_type": "stream",
     "text": [
      " 46%|████▋     | 27051/58273 [1:03:39<57:33,  9.04it/s]  "
     ]
    },
    {
     "name": "stdout",
     "output_type": "stream",
     "text": [
      "HTTP Error 429: Too Many Requests Q6771631\n",
      "HTTP Error 429: Too Many Requests Q6771639\n"
     ]
    },
    {
     "name": "stderr",
     "output_type": "stream",
     "text": [
      " 46%|████▋     | 27057/58273 [1:03:39<57:09,  9.10it/s]"
     ]
    },
    {
     "name": "stdout",
     "output_type": "stream",
     "text": [
      "HTTP Error 429: Too Many Requests Q6774013\n"
     ]
    },
    {
     "name": "stderr",
     "output_type": "stream",
     "text": [
      " 46%|████▋     | 27061/58273 [1:03:40<54:18,  9.58it/s]"
     ]
    },
    {
     "name": "stdout",
     "output_type": "stream",
     "text": [
      "HTTP Error 429: Too Many Requests Q6776080\n"
     ]
    },
    {
     "name": "stderr",
     "output_type": "stream",
     "text": [
      " 46%|████▋     | 27071/58273 [1:03:41<1:03:56,  8.13it/s]"
     ]
    },
    {
     "name": "stdout",
     "output_type": "stream",
     "text": [
      "HTTP Error 429: Too Many Requests Q6075010\n"
     ]
    },
    {
     "name": "stderr",
     "output_type": "stream",
     "text": [
      " 46%|████▋     | 27075/58273 [1:03:42<56:35,  9.19it/s]  "
     ]
    },
    {
     "name": "stdout",
     "output_type": "stream",
     "text": [
      "HTTP Error 429: Too Many Requests Q6082612\n"
     ]
    },
    {
     "name": "stderr",
     "output_type": "stream",
     "text": [
      " 46%|████▋     | 27092/58273 [1:03:44<1:08:24,  7.60it/s]"
     ]
    },
    {
     "name": "stdout",
     "output_type": "stream",
     "text": [
      "HTTP Error 429: Too Many Requests Q7306025\n",
      "HTTP Error 429: Too Many Requests Q7306453\n"
     ]
    },
    {
     "name": "stderr",
     "output_type": "stream",
     "text": [
      " 47%|████▋     | 27112/58273 [1:03:47<1:01:14,  8.48it/s]"
     ]
    },
    {
     "name": "stdout",
     "output_type": "stream",
     "text": [
      "HTTP Error 429: Too Many Requests Q7334208\n"
     ]
    },
    {
     "name": "stderr",
     "output_type": "stream",
     "text": [
      " 47%|████▋     | 27149/58273 [1:03:52<1:00:22,  8.59it/s]"
     ]
    },
    {
     "name": "stdout",
     "output_type": "stream",
     "text": [
      "HTTP Error 429: Too Many Requests Q7591566\n"
     ]
    },
    {
     "name": "stderr",
     "output_type": "stream",
     "text": [
      " 47%|████▋     | 27156/58273 [1:03:53<1:10:11,  7.39it/s]"
     ]
    },
    {
     "name": "stdout",
     "output_type": "stream",
     "text": [
      "HTTP Error 429: Too Many Requests Q7591726\n"
     ]
    },
    {
     "name": "stderr",
     "output_type": "stream",
     "text": [
      " 47%|████▋     | 27169/58273 [1:03:54<1:04:58,  7.98it/s]"
     ]
    },
    {
     "name": "stdout",
     "output_type": "stream",
     "text": [
      "HTTP Error 429: Too Many Requests Q7592034\n"
     ]
    },
    {
     "name": "stderr",
     "output_type": "stream",
     "text": [
      " 47%|████▋     | 27184/58273 [1:03:56<54:02,  9.59it/s]  "
     ]
    },
    {
     "name": "stdout",
     "output_type": "stream",
     "text": [
      "HTTP Error 429: Too Many Requests Q6779604\n",
      "HTTP Error 429: Too Many Requests Q6779760\n",
      "HTTP Error 429: Too Many Requests Q6779762\n"
     ]
    },
    {
     "name": "stderr",
     "output_type": "stream",
     "text": [
      " 47%|████▋     | 27215/58273 [1:04:00<1:00:11,  8.60it/s]"
     ]
    },
    {
     "name": "stdout",
     "output_type": "stream",
     "text": [
      "HTTP Error 429: Too Many Requests Q6801937\n"
     ]
    },
    {
     "name": "stderr",
     "output_type": "stream",
     "text": [
      " 47%|████▋     | 27234/58273 [1:04:02<1:01:45,  8.38it/s]"
     ]
    },
    {
     "name": "stdout",
     "output_type": "stream",
     "text": [
      "HTTP Error 429: Too Many Requests Q7611630\n"
     ]
    },
    {
     "name": "stderr",
     "output_type": "stream",
     "text": [
      " 47%|████▋     | 27245/58273 [1:04:04<1:25:51,  6.02it/s]"
     ]
    },
    {
     "name": "stdout",
     "output_type": "stream",
     "text": [
      "HTTP Error 429: Too Many Requests Q7620937\n"
     ]
    },
    {
     "name": "stderr",
     "output_type": "stream",
     "text": [
      " 47%|████▋     | 27248/58273 [1:04:04<1:11:14,  7.26it/s]"
     ]
    },
    {
     "name": "stdout",
     "output_type": "stream",
     "text": [
      "HTTP Error 429: Too Many Requests Q7623709\n"
     ]
    },
    {
     "name": "stderr",
     "output_type": "stream",
     "text": [
      " 47%|████▋     | 27259/58273 [1:04:07<1:48:03,  4.78it/s]"
     ]
    },
    {
     "name": "stdout",
     "output_type": "stream",
     "text": [
      "HTTP Error 429: Too Many Requests Q7637792\n"
     ]
    },
    {
     "name": "stderr",
     "output_type": "stream",
     "text": [
      " 47%|████▋     | 27267/58273 [1:04:07<1:01:31,  8.40it/s]"
     ]
    },
    {
     "name": "stdout",
     "output_type": "stream",
     "text": [
      "HTTP Error 429: Too Many Requests Q7646596\n"
     ]
    },
    {
     "name": "stderr",
     "output_type": "stream",
     "text": [
      " 47%|████▋     | 27290/58273 [1:04:10<57:14,  9.02it/s]  "
     ]
    },
    {
     "name": "stdout",
     "output_type": "stream",
     "text": [
      "HTTP Error 429: Too Many Requests Q6161257\n"
     ]
    },
    {
     "name": "stderr",
     "output_type": "stream",
     "text": [
      " 47%|████▋     | 27309/58273 [1:04:12<1:05:44,  7.85it/s]"
     ]
    },
    {
     "name": "stdout",
     "output_type": "stream",
     "text": [
      "HTTP Error 429: Too Many Requests Q7359551\n",
      "HTTP Error 429: Too Many Requests Q7359713\n"
     ]
    },
    {
     "name": "stderr",
     "output_type": "stream",
     "text": [
      " 48%|████▊     | 28120/58273 [1:06:05<1:03:08,  7.96it/s]"
     ]
    },
    {
     "name": "stdout",
     "output_type": "stream",
     "text": [
      "HTTP Error 429: Too Many Requests Q8052819\n"
     ]
    },
    {
     "name": "stderr",
     "output_type": "stream",
     "text": [
      " 48%|████▊     | 28123/58273 [1:06:06<1:25:00,  5.91it/s]"
     ]
    },
    {
     "name": "stdout",
     "output_type": "stream",
     "text": [
      "HTTP Error 429: Too Many Requests Q8052842\n",
      "HTTP Error 429: Too Many Requests Q8052856\n"
     ]
    },
    {
     "name": "stderr",
     "output_type": "stream",
     "text": [
      " 48%|████▊     | 28136/58273 [1:06:08<1:22:16,  6.11it/s]"
     ]
    },
    {
     "name": "stdout",
     "output_type": "stream",
     "text": [
      "HTTP Error 429: Too Many Requests Q8059270\n"
     ]
    },
    {
     "name": "stderr",
     "output_type": "stream",
     "text": [
      " 48%|████▊     | 28140/58273 [1:06:08<1:02:29,  8.04it/s]"
     ]
    },
    {
     "name": "stdout",
     "output_type": "stream",
     "text": [
      "HTTP Error 429: Too Many Requests Q6978408\n"
     ]
    },
    {
     "name": "stderr",
     "output_type": "stream",
     "text": [
      " 48%|████▊     | 28159/58273 [1:06:11<56:26,  8.89it/s]  "
     ]
    },
    {
     "name": "stdout",
     "output_type": "stream",
     "text": [
      "HTTP Error 429: Too Many Requests Q7009262\n",
      "HTTP Error 429: Too Many Requests Q7012270\n",
      "HTTP Error 429: Too Many Requests Q7013120\n"
     ]
    },
    {
     "name": "stderr",
     "output_type": "stream",
     "text": [
      " 48%|████▊     | 28162/58273 [1:06:11<52:11,  9.61it/s]"
     ]
    },
    {
     "name": "stdout",
     "output_type": "stream",
     "text": [
      "HTTP Error 429: Too Many Requests Q7016599\n",
      "HTTP Error 429: Too Many Requests Q7020185\n"
     ]
    },
    {
     "name": "stderr",
     "output_type": "stream",
     "text": [
      " 48%|████▊     | 28170/58273 [1:06:12<1:10:37,  7.10it/s]"
     ]
    },
    {
     "name": "stdout",
     "output_type": "stream",
     "text": [
      "HTTP Error 429: Too Many Requests Q7049785\n"
     ]
    },
    {
     "name": "stderr",
     "output_type": "stream",
     "text": [
      " 48%|████▊     | 28175/58273 [1:06:13<1:06:18,  7.56it/s]"
     ]
    },
    {
     "name": "stdout",
     "output_type": "stream",
     "text": [
      "HTTP Error 429: Too Many Requests Q7569666\n"
     ]
    },
    {
     "name": "stderr",
     "output_type": "stream",
     "text": [
      " 48%|████▊     | 28181/58273 [1:06:13<1:00:20,  8.31it/s]"
     ]
    },
    {
     "name": "stdout",
     "output_type": "stream",
     "text": [
      "HTTP Error 429: Too Many Requests Q7930419\n"
     ]
    },
    {
     "name": "stderr",
     "output_type": "stream",
     "text": [
      " 48%|████▊     | 28189/58273 [1:06:14<1:11:36,  7.00it/s]"
     ]
    },
    {
     "name": "stdout",
     "output_type": "stream",
     "text": [
      "HTTP Error 429: Too Many Requests Q7930649\n"
     ]
    },
    {
     "name": "stderr",
     "output_type": "stream",
     "text": [
      " 48%|████▊     | 28190/58273 [1:06:14<1:07:10,  7.46it/s]"
     ]
    },
    {
     "name": "stdout",
     "output_type": "stream",
     "text": [
      "HTTP Error 429: Too Many Requests Q7932448\n"
     ]
    },
    {
     "name": "stderr",
     "output_type": "stream",
     "text": [
      " 48%|████▊     | 28203/58273 [1:06:16<54:05,  9.27it/s]  "
     ]
    },
    {
     "name": "stdout",
     "output_type": "stream",
     "text": [
      "HTTP Error 429: Too Many Requests Q7940173\n",
      "HTTP Error 429: Too Many Requests Q7941713\n"
     ]
    },
    {
     "name": "stderr",
     "output_type": "stream",
     "text": [
      " 48%|████▊     | 28219/58273 [1:06:18<55:16,  9.06it/s]"
     ]
    },
    {
     "name": "stdout",
     "output_type": "stream",
     "text": [
      "HTTP Error 429: Too Many Requests Q7961615\n"
     ]
    },
    {
     "name": "stderr",
     "output_type": "stream",
     "text": [
      " 48%|████▊     | 28222/58273 [1:06:18<59:24,  8.43it/s]  "
     ]
    },
    {
     "name": "stdout",
     "output_type": "stream",
     "text": [
      "HTTP Error 429: Too Many Requests Q7962398\n"
     ]
    },
    {
     "name": "stderr",
     "output_type": "stream",
     "text": [
      " 48%|████▊     | 28233/58273 [1:06:20<54:13,  9.23it/s]  "
     ]
    },
    {
     "name": "stdout",
     "output_type": "stream",
     "text": [
      "HTTP Error 429: Too Many Requests Q7966764\n",
      "HTTP Error 429: Too Many Requests Q12160892\n"
     ]
    },
    {
     "name": "stderr",
     "output_type": "stream",
     "text": [
      " 48%|████▊     | 28238/58273 [1:06:20<53:05,  9.43it/s]"
     ]
    },
    {
     "name": "stdout",
     "output_type": "stream",
     "text": [
      "HTTP Error 429: Too Many Requests Q13978334\n"
     ]
    },
    {
     "name": "stderr",
     "output_type": "stream",
     "text": [
      " 48%|████▊     | 28253/58273 [1:06:22<1:01:18,  8.16it/s]"
     ]
    },
    {
     "name": "stdout",
     "output_type": "stream",
     "text": [
      "HTTP Error 429: Too Many Requests Q14682246\n"
     ]
    },
    {
     "name": "stderr",
     "output_type": "stream",
     "text": [
      " 48%|████▊     | 28255/58273 [1:06:23<56:13,  8.90it/s]  "
     ]
    },
    {
     "name": "stdout",
     "output_type": "stream",
     "text": [
      "HTTP Error 429: Too Many Requests Q14682480\n",
      "HTTP Error 429: Too Many Requests Q14683027\n"
     ]
    },
    {
     "name": "stderr",
     "output_type": "stream",
     "text": [
      " 49%|████▊     | 28266/58273 [1:06:24<53:19,  9.38it/s]  "
     ]
    },
    {
     "name": "stdout",
     "output_type": "stream",
     "text": [
      "HTTP Error 429: Too Many Requests Q14684245\n"
     ]
    },
    {
     "name": "stderr",
     "output_type": "stream",
     "text": [
      " 49%|████▊     | 28271/58273 [1:06:24<52:19,  9.56it/s]"
     ]
    },
    {
     "name": "stdout",
     "output_type": "stream",
     "text": [
      "HTTP Error 429: Too Many Requests Q14685948\n"
     ]
    },
    {
     "name": "stderr",
     "output_type": "stream",
     "text": [
      " 49%|████▊     | 28288/58273 [1:06:26<55:06,  9.07it/s]"
     ]
    },
    {
     "name": "stdout",
     "output_type": "stream",
     "text": [
      "HTTP Error 429: Too Many Requests Q14692799\n"
     ]
    },
    {
     "name": "stderr",
     "output_type": "stream",
     "text": [
      " 49%|████▊     | 28299/58273 [1:06:28<1:05:30,  7.63it/s]"
     ]
    },
    {
     "name": "stdout",
     "output_type": "stream",
     "text": [
      "HTTP Error 429: Too Many Requests Q7673033\n"
     ]
    },
    {
     "name": "stderr",
     "output_type": "stream",
     "text": [
      " 49%|████▊     | 28304/58273 [1:06:28<55:28,  9.01it/s]  "
     ]
    },
    {
     "name": "stdout",
     "output_type": "stream",
     "text": [
      "HTTP Error 429: Too Many Requests Q7680259\n"
     ]
    },
    {
     "name": "stderr",
     "output_type": "stream",
     "text": [
      " 49%|████▊     | 28312/58273 [1:06:29<52:13,  9.56it/s]"
     ]
    },
    {
     "name": "stdout",
     "output_type": "stream",
     "text": [
      "HTTP Error 429: Too Many Requests Q7690124\n"
     ]
    },
    {
     "name": "stderr",
     "output_type": "stream",
     "text": [
      " 49%|████▊     | 28315/58273 [1:06:29<50:12,  9.94it/s]"
     ]
    },
    {
     "name": "stdout",
     "output_type": "stream",
     "text": [
      "HTTP Error 429: Too Many Requests Q7691874\n"
     ]
    },
    {
     "name": "stderr",
     "output_type": "stream",
     "text": [
      " 49%|████▊     | 28330/58273 [1:06:31<54:49,  9.10it/s]  "
     ]
    },
    {
     "name": "stdout",
     "output_type": "stream",
     "text": [
      "HTTP Error 429: Too Many Requests Q7404351\n"
     ]
    },
    {
     "name": "stderr",
     "output_type": "stream",
     "text": [
      " 49%|████▊     | 28332/58273 [1:06:31<56:20,  8.86it/s]"
     ]
    },
    {
     "name": "stdout",
     "output_type": "stream",
     "text": [
      "HTTP Error 429: Too Many Requests Q7404805\n"
     ]
    },
    {
     "name": "stderr",
     "output_type": "stream",
     "text": [
      " 49%|████▊     | 28337/58273 [1:06:32<1:00:01,  8.31it/s]"
     ]
    },
    {
     "name": "stdout",
     "output_type": "stream",
     "text": [
      "HTTP Error 429: Too Many Requests Q7412305\n"
     ]
    },
    {
     "name": "stderr",
     "output_type": "stream",
     "text": [
      " 49%|████▊     | 28339/58273 [1:06:33<1:55:16,  4.33it/s]"
     ]
    },
    {
     "name": "stdout",
     "output_type": "stream",
     "text": [
      "HTTP Error 429: Too Many Requests Q7413300\n"
     ]
    },
    {
     "name": "stderr",
     "output_type": "stream",
     "text": [
      " 49%|████▊     | 28345/58273 [1:06:33<1:04:13,  7.77it/s]"
     ]
    },
    {
     "name": "stdout",
     "output_type": "stream",
     "text": [
      "HTTP Error 429: Too Many Requests Q7413788\n"
     ]
    },
    {
     "name": "stderr",
     "output_type": "stream",
     "text": [
      " 49%|████▊     | 28352/58273 [1:06:35<1:45:19,  4.73it/s]"
     ]
    },
    {
     "name": "stdout",
     "output_type": "stream",
     "text": [
      "HTTP Error 429: Too Many Requests Q7416330\n"
     ]
    },
    {
     "name": "stderr",
     "output_type": "stream",
     "text": [
      " 49%|████▊     | 28357/58273 [1:06:35<1:05:50,  7.57it/s]"
     ]
    },
    {
     "name": "stdout",
     "output_type": "stream",
     "text": [
      "HTTP Error 429: Too Many Requests Q7419080\n"
     ]
    },
    {
     "name": "stderr",
     "output_type": "stream",
     "text": [
      " 49%|████▊     | 28364/58273 [1:06:36<57:31,  8.67it/s]  "
     ]
    },
    {
     "name": "stdout",
     "output_type": "stream",
     "text": [
      "HTTP Error 429: Too Many Requests Q7422642\n"
     ]
    },
    {
     "name": "stderr",
     "output_type": "stream",
     "text": [
      " 49%|████▊     | 28375/58273 [1:06:37<54:52,  9.08it/s]"
     ]
    },
    {
     "name": "stdout",
     "output_type": "stream",
     "text": [
      "HTTP Error 429: Too Many Requests Q7825360\n"
     ]
    },
    {
     "name": "stderr",
     "output_type": "stream",
     "text": [
      " 49%|████▊     | 28381/58273 [1:06:38<57:15,  8.70it/s]  "
     ]
    },
    {
     "name": "stdout",
     "output_type": "stream",
     "text": [
      "HTTP Error 429: Too Many Requests Q7836724\n"
     ]
    },
    {
     "name": "stderr",
     "output_type": "stream",
     "text": [
      " 49%|████▊     | 28388/58273 [1:06:39<56:32,  8.81it/s]  "
     ]
    },
    {
     "name": "stdout",
     "output_type": "stream",
     "text": [
      "HTTP Error 429: Too Many Requests Q7842566\n"
     ]
    },
    {
     "name": "stderr",
     "output_type": "stream",
     "text": [
      " 49%|████▊     | 28390/58273 [1:06:39<56:50,  8.76it/s]"
     ]
    },
    {
     "name": "stdout",
     "output_type": "stream",
     "text": [
      "HTTP Error 429: Too Many Requests Q7842608\n"
     ]
    },
    {
     "name": "stderr",
     "output_type": "stream",
     "text": [
      " 49%|████▊     | 28392/58273 [1:06:39<1:02:32,  7.96it/s]"
     ]
    },
    {
     "name": "stdout",
     "output_type": "stream",
     "text": [
      "HTTP Error 429: Too Many Requests Q7842646\n"
     ]
    },
    {
     "name": "stderr",
     "output_type": "stream",
     "text": [
      " 49%|████▊     | 28404/58273 [1:06:41<57:41,  8.63it/s]  "
     ]
    },
    {
     "name": "stdout",
     "output_type": "stream",
     "text": [
      "HTTP Error 429: Too Many Requests Q7842895\n"
     ]
    },
    {
     "name": "stderr",
     "output_type": "stream",
     "text": [
      " 49%|████▉     | 28421/58273 [1:06:43<1:07:30,  7.37it/s]"
     ]
    },
    {
     "name": "stdout",
     "output_type": "stream",
     "text": [
      "HTTP Error 429: Too Many Requests Q8021160\n",
      "HTTP Error 429: Too Many Requests Q8021798\n"
     ]
    },
    {
     "name": "stderr",
     "output_type": "stream",
     "text": [
      " 49%|████▉     | 28427/58273 [1:06:43<54:22,  9.15it/s]  "
     ]
    },
    {
     "name": "stdout",
     "output_type": "stream",
     "text": [
      "HTTP Error 429: Too Many Requests Q8022759\n"
     ]
    },
    {
     "name": "stderr",
     "output_type": "stream",
     "text": [
      " 49%|████▉     | 28430/58273 [1:06:44<1:07:36,  7.36it/s]"
     ]
    },
    {
     "name": "stdout",
     "output_type": "stream",
     "text": [
      "HTTP Error 429: Too Many Requests Q8023011\n"
     ]
    },
    {
     "name": "stderr",
     "output_type": "stream",
     "text": [
      " 49%|████▉     | 28435/58273 [1:06:45<1:40:16,  4.96it/s]"
     ]
    },
    {
     "name": "stdout",
     "output_type": "stream",
     "text": [
      "HTTP Error 429: Too Many Requests Q8024862\n",
      "HTTP Error 429: Too Many Requests Q8025555\n"
     ]
    },
    {
     "name": "stderr",
     "output_type": "stream",
     "text": [
      " 50%|█████     | 29348/58273 [1:08:53<59:25,  8.11it/s]  "
     ]
    },
    {
     "name": "stdout",
     "output_type": "stream",
     "text": [
      "HTTP Error 429: Too Many Requests Q27963815\n"
     ]
    },
    {
     "name": "stderr",
     "output_type": "stream",
     "text": [
      " 50%|█████     | 29364/58273 [1:08:56<1:15:36,  6.37it/s]"
     ]
    },
    {
     "name": "stdout",
     "output_type": "stream",
     "text": [
      "HTTP Error 429: Too Many Requests Q43079961\n"
     ]
    },
    {
     "name": "stderr",
     "output_type": "stream",
     "text": [
      " 50%|█████     | 29366/58273 [1:08:56<1:19:17,  6.08it/s]"
     ]
    },
    {
     "name": "stdout",
     "output_type": "stream",
     "text": [
      "HTTP Error 429: Too Many Requests Q43081027\n"
     ]
    },
    {
     "name": "stderr",
     "output_type": "stream",
     "text": [
      " 50%|█████     | 29367/58273 [1:08:56<1:10:52,  6.80it/s]"
     ]
    },
    {
     "name": "stdout",
     "output_type": "stream",
     "text": [
      "HTTP Error 429: Too Many Requests Q25055549\n",
      "HTTP Error 429: Too Many Requests Q25109777\n"
     ]
    },
    {
     "name": "stderr",
     "output_type": "stream",
     "text": [
      " 50%|█████     | 29374/58273 [1:08:57<1:11:52,  6.70it/s]"
     ]
    },
    {
     "name": "stdout",
     "output_type": "stream",
     "text": [
      "HTTP Error 429: Too Many Requests Q38251196\n"
     ]
    },
    {
     "name": "stderr",
     "output_type": "stream",
     "text": [
      " 50%|█████     | 29376/58273 [1:08:58<1:07:31,  7.13it/s]"
     ]
    },
    {
     "name": "stdout",
     "output_type": "stream",
     "text": [
      "HTTP Error 429: Too Many Requests Q38251417\n"
     ]
    },
    {
     "name": "stderr",
     "output_type": "stream",
     "text": [
      " 50%|█████     | 29378/58273 [1:08:58<57:44,  8.34it/s]  "
     ]
    },
    {
     "name": "stdout",
     "output_type": "stream",
     "text": [
      "HTTP Error 429: Too Many Requests Q38251874\n"
     ]
    },
    {
     "name": "stderr",
     "output_type": "stream",
     "text": [
      " 50%|█████     | 29380/58273 [1:08:58<1:12:13,  6.67it/s]"
     ]
    },
    {
     "name": "stdout",
     "output_type": "stream",
     "text": [
      "HTTP Error 429: Too Many Requests Q38251988\n"
     ]
    },
    {
     "name": "stderr",
     "output_type": "stream",
     "text": [
      " 50%|█████     | 29403/58273 [1:09:02<1:19:15,  6.07it/s]"
     ]
    },
    {
     "name": "stdout",
     "output_type": "stream",
     "text": [
      "HTTP Error 429: Too Many Requests Q28230340\n"
     ]
    },
    {
     "name": "stderr",
     "output_type": "stream",
     "text": [
      " 50%|█████     | 29409/58273 [1:09:03<1:04:39,  7.44it/s]"
     ]
    },
    {
     "name": "stdout",
     "output_type": "stream",
     "text": [
      "HTTP Error 429: Too Many Requests Q28402391\n"
     ]
    },
    {
     "name": "stderr",
     "output_type": "stream",
     "text": [
      " 51%|█████     | 29440/58273 [1:09:07<1:11:40,  6.70it/s]"
     ]
    },
    {
     "name": "stdout",
     "output_type": "stream",
     "text": [
      "HTTP Error 429: Too Many Requests Q24693776\n"
     ]
    },
    {
     "name": "stderr",
     "output_type": "stream",
     "text": [
      " 51%|█████     | 29442/58273 [1:09:07<1:16:27,  6.29it/s]"
     ]
    },
    {
     "name": "stdout",
     "output_type": "stream",
     "text": [
      "HTTP Error 429: Too Many Requests Q24765356\n"
     ]
    },
    {
     "name": "stderr",
     "output_type": "stream",
     "text": [
      " 51%|█████     | 29696/58273 [1:09:45<1:15:19,  6.32it/s]"
     ]
    },
    {
     "name": "stdout",
     "output_type": "stream",
     "text": [
      "HTTP Error 429: Too Many Requests Q29641962\n",
      "HTTP Error 429: Too Many Requests Q60760344\n"
     ]
    },
    {
     "name": "stderr",
     "output_type": "stream",
     "text": [
      " 51%|█████     | 29714/58273 [1:09:48<1:15:45,  6.28it/s]"
     ]
    },
    {
     "name": "stdout",
     "output_type": "stream",
     "text": [
      "HTTP Error 429: Too Many Requests Q60769144\n"
     ]
    },
    {
     "name": "stderr",
     "output_type": "stream",
     "text": [
      " 51%|█████     | 29716/58273 [1:09:48<1:05:04,  7.31it/s]"
     ]
    },
    {
     "name": "stdout",
     "output_type": "stream",
     "text": [
      "HTTP Error 429: Too Many Requests Q60769330\n"
     ]
    },
    {
     "name": "stderr",
     "output_type": "stream",
     "text": [
      " 51%|█████     | 29783/58273 [1:10:01<1:14:44,  6.35it/s]"
     ]
    },
    {
     "name": "stdout",
     "output_type": "stream",
     "text": [
      "HTTP Error 429: Too Many Requests Q55604293\n"
     ]
    },
    {
     "name": "stderr",
     "output_type": "stream",
     "text": [
      " 51%|█████     | 29786/58273 [1:10:02<1:03:25,  7.49it/s]"
     ]
    },
    {
     "name": "stdout",
     "output_type": "stream",
     "text": [
      "HTTP Error 429: Too Many Requests Q96402066\n"
     ]
    },
    {
     "name": "stderr",
     "output_type": "stream",
     "text": [
      " 51%|█████     | 29789/58273 [1:10:03<2:09:35,  3.66it/s]"
     ]
    },
    {
     "name": "stdout",
     "output_type": "stream",
     "text": [
      "HTTP Error 429: Too Many Requests Q96415794\n"
     ]
    },
    {
     "name": "stderr",
     "output_type": "stream",
     "text": [
      " 51%|█████     | 29793/58273 [1:10:04<1:15:16,  6.31it/s]"
     ]
    },
    {
     "name": "stdout",
     "output_type": "stream",
     "text": [
      "HTTP Error 429: Too Many Requests Q65307384\n"
     ]
    },
    {
     "name": "stderr",
     "output_type": "stream",
     "text": [
      " 51%|█████     | 29799/58273 [1:10:05<1:25:51,  5.53it/s]"
     ]
    },
    {
     "name": "stdout",
     "output_type": "stream",
     "text": [
      "HTTP Error 429: Too Many Requests Q70216239\n"
     ]
    },
    {
     "name": "stderr",
     "output_type": "stream",
     "text": [
      " 51%|█████     | 29802/58273 [1:10:06<1:06:36,  7.12it/s]"
     ]
    },
    {
     "name": "stdout",
     "output_type": "stream",
     "text": [
      "HTTP Error 429: Too Many Requests Q61172466\n"
     ]
    },
    {
     "name": "stderr",
     "output_type": "stream",
     "text": [
      " 51%|█████     | 29817/58273 [1:10:09<1:08:09,  6.96it/s]"
     ]
    },
    {
     "name": "stdout",
     "output_type": "stream",
     "text": [
      "HTTP Error 429: Too Many Requests Q30641457\n"
     ]
    },
    {
     "name": "stderr",
     "output_type": "stream",
     "text": [
      " 51%|█████     | 29819/58273 [1:10:09<1:00:40,  7.82it/s]"
     ]
    },
    {
     "name": "stdout",
     "output_type": "stream",
     "text": [
      "HTTP Error 429: Too Many Requests Q30645732\n"
     ]
    },
    {
     "name": "stderr",
     "output_type": "stream",
     "text": [
      " 51%|█████     | 29827/58273 [1:10:10<1:35:51,  4.95it/s]"
     ]
    },
    {
     "name": "stdout",
     "output_type": "stream",
     "text": [
      "HTTP Error 429: Too Many Requests Q56063652\n"
     ]
    },
    {
     "name": "stderr",
     "output_type": "stream",
     "text": [
      " 51%|█████     | 29835/58273 [1:10:12<1:40:30,  4.72it/s]"
     ]
    },
    {
     "name": "stdout",
     "output_type": "stream",
     "text": [
      "HTTP Error 429: Too Many Requests Q56278378\n"
     ]
    },
    {
     "name": "stderr",
     "output_type": "stream",
     "text": [
      " 51%|█████     | 29837/58273 [1:10:13<1:14:30,  6.36it/s]"
     ]
    },
    {
     "name": "stdout",
     "output_type": "stream",
     "text": [
      "HTTP Error 429: Too Many Requests Q89160266\n"
     ]
    },
    {
     "name": "stderr",
     "output_type": "stream",
     "text": [
      " 51%|█████     | 29840/58273 [1:10:13<58:28,  8.10it/s]  "
     ]
    },
    {
     "name": "stdout",
     "output_type": "stream",
     "text": [
      "HTTP Error 429: Too Many Requests Q91243392\n"
     ]
    },
    {
     "name": "stderr",
     "output_type": "stream",
     "text": [
      " 52%|█████▏    | 30328/58273 [1:13:52<57:29,  8.10it/s]    "
     ]
    },
    {
     "name": "stdout",
     "output_type": "stream",
     "text": [
      "HTTP Error 429: Too Many Requests Q105019022\n"
     ]
    },
    {
     "name": "stderr",
     "output_type": "stream",
     "text": [
      " 52%|█████▏    | 30418/58273 [1:14:07<1:04:19,  7.22it/s]"
     ]
    },
    {
     "name": "stdout",
     "output_type": "stream",
     "text": [
      "HTTP Error 429: Too Many Requests Q105320652\n"
     ]
    },
    {
     "name": "stderr",
     "output_type": "stream",
     "text": [
      " 52%|█████▏    | 30447/58273 [1:14:13<1:12:58,  6.35it/s]"
     ]
    },
    {
     "name": "stdout",
     "output_type": "stream",
     "text": [
      "HTTP Error 429: Too Many Requests Q102257476\n"
     ]
    },
    {
     "name": "stderr",
     "output_type": "stream",
     "text": [
      " 55%|█████▌    | 32114/58273 [1:23:57<63:28:08,  8.73s/it] "
     ]
    },
    {
     "name": "stdout",
     "output_type": "stream",
     "text": [
      "HTTP Error 429: Too Many Requests Q30271647\n"
     ]
    },
    {
     "name": "stderr",
     "output_type": "stream",
     "text": [
      " 55%|█████▌    | 32131/58273 [1:24:00<1:19:37,  5.47it/s] "
     ]
    },
    {
     "name": "stdout",
     "output_type": "stream",
     "text": [
      "HTTP Error 429: Too Many Requests Q16948036\n"
     ]
    },
    {
     "name": "stderr",
     "output_type": "stream",
     "text": [
      " 55%|█████▌    | 32135/58273 [1:24:00<58:28,  7.45it/s]  "
     ]
    },
    {
     "name": "stdout",
     "output_type": "stream",
     "text": [
      "HTTP Error 429: Too Many Requests Q16974642\n"
     ]
    },
    {
     "name": "stderr",
     "output_type": "stream",
     "text": [
      " 55%|█████▌    | 32156/58273 [1:24:03<48:17,  9.01it/s]  "
     ]
    },
    {
     "name": "stdout",
     "output_type": "stream",
     "text": [
      "HTTP Error 429: Too Many Requests Q50378597\n"
     ]
    },
    {
     "name": "stderr",
     "output_type": "stream",
     "text": [
      " 55%|█████▌    | 32162/58273 [1:24:04<1:00:19,  7.21it/s]"
     ]
    },
    {
     "name": "stdout",
     "output_type": "stream",
     "text": [
      "HTTP Error 429: Too Many Requests Q50379736\n"
     ]
    },
    {
     "name": "stderr",
     "output_type": "stream",
     "text": [
      " 55%|█████▌    | 32172/58273 [1:24:05<1:13:29,  5.92it/s]"
     ]
    },
    {
     "name": "stdout",
     "output_type": "stream",
     "text": [
      "HTTP Error 429: Too Many Requests Q109777448\n"
     ]
    },
    {
     "name": "stderr",
     "output_type": "stream",
     "text": [
      " 55%|█████▌    | 32175/58273 [1:24:06<1:09:43,  6.24it/s]"
     ]
    },
    {
     "name": "stdout",
     "output_type": "stream",
     "text": [
      "HTTP Error 429: Too Many Requests Q110206196\n"
     ]
    },
    {
     "name": "stderr",
     "output_type": "stream",
     "text": [
      " 55%|█████▌    | 32184/58273 [1:24:07<57:57,  7.50it/s]  "
     ]
    },
    {
     "name": "stdout",
     "output_type": "stream",
     "text": [
      "HTTP Error 429: Too Many Requests Q28413747\n"
     ]
    },
    {
     "name": "stderr",
     "output_type": "stream",
     "text": [
      " 55%|█████▌    | 32187/58273 [1:24:08<52:04,  8.35it/s]"
     ]
    },
    {
     "name": "stdout",
     "output_type": "stream",
     "text": [
      "HTTP Error 429: Too Many Requests Q28752818\n"
     ]
    },
    {
     "name": "stderr",
     "output_type": "stream",
     "text": [
      " 55%|█████▌    | 32197/58273 [1:24:09<54:51,  7.92it/s]  "
     ]
    },
    {
     "name": "stdout",
     "output_type": "stream",
     "text": [
      "HTTP Error 429: Too Many Requests Q30283714\n",
      "HTTP Error 429: Too Many Requests Q33121982\n"
     ]
    },
    {
     "name": "stderr",
     "output_type": "stream",
     "text": [
      " 55%|█████▌    | 32209/58273 [1:24:11<49:14,  8.82it/s]  "
     ]
    },
    {
     "name": "stdout",
     "output_type": "stream",
     "text": [
      "HTTP Error 429: Too Many Requests Q65066611\n"
     ]
    },
    {
     "name": "stderr",
     "output_type": "stream",
     "text": [
      " 55%|█████▌    | 32220/58273 [1:24:12<1:03:07,  6.88it/s]"
     ]
    },
    {
     "name": "stdout",
     "output_type": "stream",
     "text": [
      "HTTP Error 429: Too Many Requests Q30293721\n"
     ]
    },
    {
     "name": "stderr",
     "output_type": "stream",
     "text": [
      " 56%|█████▌    | 32573/58273 [1:26:29<72:45:35, 10.19s/it] "
     ]
    },
    {
     "name": "stdout",
     "output_type": "stream",
     "text": [
      "HTTP Error 429: Too Many Requests Q7294495\n",
      "HTTP Error 429: Too Many Requests Q7315126\n"
     ]
    },
    {
     "name": "stderr",
     "output_type": "stream",
     "text": [
      " 56%|█████▌    | 32580/58273 [1:26:29<9:33:32,  1.34s/it] "
     ]
    },
    {
     "name": "stdout",
     "output_type": "stream",
     "text": [
      "HTTP Error 429: Too Many Requests Q110551514\n",
      "HTTP Error 429: Too Many Requests Q110997249\n"
     ]
    },
    {
     "name": "stderr",
     "output_type": "stream",
     "text": [
      " 56%|█████▌    | 32585/58273 [1:26:30<2:50:04,  2.52it/s]"
     ]
    },
    {
     "name": "stdout",
     "output_type": "stream",
     "text": [
      "HTTP Error 429: Too Many Requests Q111372507\n",
      "HTTP Error 429: Too Many Requests Q89116049\n"
     ]
    },
    {
     "name": "stderr",
     "output_type": "stream",
     "text": [
      " 56%|█████▌    | 32588/58273 [1:26:30<1:45:00,  4.08it/s]"
     ]
    },
    {
     "name": "stdout",
     "output_type": "stream",
     "text": [
      "HTTP Error 429: Too Many Requests Q90882092\n"
     ]
    },
    {
     "name": "stderr",
     "output_type": "stream",
     "text": [
      " 56%|█████▌    | 32591/58273 [1:26:30<1:12:21,  5.92it/s]"
     ]
    },
    {
     "name": "stdout",
     "output_type": "stream",
     "text": [
      "HTTP Error 429: Too Many Requests Q116458146\n"
     ]
    },
    {
     "name": "stderr",
     "output_type": "stream",
     "text": [
      " 56%|█████▌    | 32596/58273 [1:26:32<1:52:44,  3.80it/s]"
     ]
    },
    {
     "name": "stdout",
     "output_type": "stream",
     "text": [
      "HTTP Error 429: Too Many Requests Q117220969\n"
     ]
    },
    {
     "name": "stderr",
     "output_type": "stream",
     "text": [
      " 56%|█████▌    | 32599/58273 [1:26:32<1:14:44,  5.73it/s]"
     ]
    },
    {
     "name": "stdout",
     "output_type": "stream",
     "text": [
      "HTTP Error 429: Too Many Requests Q7671408\n",
      "HTTP Error 429: Too Many Requests Q7707522\n"
     ]
    },
    {
     "name": "stderr",
     "output_type": "stream",
     "text": [
      " 56%|█████▌    | 32605/58273 [1:26:33<1:04:20,  6.65it/s]"
     ]
    },
    {
     "name": "stdout",
     "output_type": "stream",
     "text": [
      "HTTP Error 429: Too Many Requests Q7976147\n"
     ]
    },
    {
     "name": "stderr",
     "output_type": "stream",
     "text": [
      " 56%|█████▌    | 32610/58273 [1:26:34<54:20,  7.87it/s]  "
     ]
    },
    {
     "name": "stdout",
     "output_type": "stream",
     "text": [
      "HTTP Error 429: Too Many Requests Q30295539\n"
     ]
    },
    {
     "name": "stderr",
     "output_type": "stream",
     "text": [
      " 56%|█████▌    | 32619/58273 [1:26:35<48:44,  8.77it/s]"
     ]
    },
    {
     "name": "stdout",
     "output_type": "stream",
     "text": [
      "HTTP Error 429: Too Many Requests Q30297321\n"
     ]
    },
    {
     "name": "stderr",
     "output_type": "stream",
     "text": [
      " 56%|█████▌    | 32622/58273 [1:26:35<43:32,  9.82it/s]"
     ]
    },
    {
     "name": "stdout",
     "output_type": "stream",
     "text": [
      "HTTP Error 429: Too Many Requests Q30297325\n",
      "HTTP Error 429: Too Many Requests Q30297326\n"
     ]
    },
    {
     "name": "stderr",
     "output_type": "stream",
     "text": [
      " 56%|█████▌    | 32625/58273 [1:26:35<44:31,  9.60it/s]"
     ]
    },
    {
     "name": "stdout",
     "output_type": "stream",
     "text": [
      "HTTP Error 429: Too Many Requests Q30297329\n"
     ]
    },
    {
     "name": "stderr",
     "output_type": "stream",
     "text": [
      " 56%|█████▌    | 32628/58273 [1:26:36<44:21,  9.64it/s]"
     ]
    },
    {
     "name": "stdout",
     "output_type": "stream",
     "text": [
      "HTTP Error 429: Too Many Requests Q30297332\n"
     ]
    },
    {
     "name": "stderr",
     "output_type": "stream",
     "text": [
      " 56%|█████▌    | 32630/58273 [1:26:36<47:55,  8.92it/s]"
     ]
    },
    {
     "name": "stdout",
     "output_type": "stream",
     "text": [
      "HTTP Error 429: Too Many Requests Q30297335\n"
     ]
    },
    {
     "name": "stderr",
     "output_type": "stream",
     "text": [
      " 56%|█████▌    | 32638/58273 [1:26:37<47:02,  9.08it/s]"
     ]
    },
    {
     "name": "stdout",
     "output_type": "stream",
     "text": [
      "HTTP Error 429: Too Many Requests Q105515628\n"
     ]
    },
    {
     "name": "stderr",
     "output_type": "stream",
     "text": [
      " 56%|█████▌    | 32641/58273 [1:26:37<53:59,  7.91it/s]  "
     ]
    },
    {
     "name": "stdout",
     "output_type": "stream",
     "text": [
      "HTTP Error 429: Too Many Requests Q105972880\n"
     ]
    },
    {
     "name": "stderr",
     "output_type": "stream",
     "text": [
      " 56%|█████▌    | 32643/58273 [1:26:37<52:02,  8.21it/s]"
     ]
    },
    {
     "name": "stdout",
     "output_type": "stream",
     "text": [
      "HTTP Error 429: Too Many Requests Q106411675\n"
     ]
    },
    {
     "name": "stderr",
     "output_type": "stream",
     "text": [
      " 56%|█████▌    | 32647/58273 [1:26:38<46:22,  9.21it/s]"
     ]
    },
    {
     "name": "stdout",
     "output_type": "stream",
     "text": [
      "HTTP Error 429: Too Many Requests Q130060204\n"
     ]
    },
    {
     "name": "stderr",
     "output_type": "stream",
     "text": [
      " 56%|█████▌    | 32653/58273 [1:26:39<1:21:31,  5.24it/s]"
     ]
    },
    {
     "name": "stdout",
     "output_type": "stream",
     "text": [
      "HTTP Error 429: Too Many Requests Q126410137\n"
     ]
    },
    {
     "name": "stderr",
     "output_type": "stream",
     "text": [
      " 56%|█████▌    | 32660/58273 [1:26:40<59:28,  7.18it/s]  "
     ]
    },
    {
     "name": "stdout",
     "output_type": "stream",
     "text": [
      "HTTP Error 429: Too Many Requests Q114339991\n"
     ]
    },
    {
     "name": "stderr",
     "output_type": "stream",
     "text": [
      " 56%|█████▌    | 32671/58273 [1:26:41<45:25,  9.39it/s]  "
     ]
    },
    {
     "name": "stdout",
     "output_type": "stream",
     "text": [
      "HTTP Error 429: Too Many Requests Q900816\n"
     ]
    },
    {
     "name": "stderr",
     "output_type": "stream",
     "text": [
      " 56%|█████▌    | 32678/58273 [1:26:42<52:24,  8.14it/s]"
     ]
    },
    {
     "name": "stdout",
     "output_type": "stream",
     "text": [
      "HTTP Error 429: Too Many Requests Q120628742\n"
     ]
    },
    {
     "name": "stderr",
     "output_type": "stream",
     "text": [
      " 56%|█████▌    | 32680/58273 [1:26:42<48:42,  8.76it/s]"
     ]
    },
    {
     "name": "stdout",
     "output_type": "stream",
     "text": [
      "HTTP Error 429: Too Many Requests Q106762340\n"
     ]
    },
    {
     "name": "stderr",
     "output_type": "stream",
     "text": [
      " 56%|█████▌    | 32682/58273 [1:26:42<47:29,  8.98it/s]"
     ]
    },
    {
     "name": "stdout",
     "output_type": "stream",
     "text": [
      "HTTP Error 429: Too Many Requests Q59535935\n",
      "HTTP Error 429: Too Many Requests Q60766640\n"
     ]
    },
    {
     "name": "stderr",
     "output_type": "stream",
     "text": [
      " 56%|█████▌    | 32686/58273 [1:26:44<1:53:23,  3.76it/s]"
     ]
    },
    {
     "name": "stdout",
     "output_type": "stream",
     "text": [
      "HTTP Error 429: Too Many Requests Q114839240\n"
     ]
    },
    {
     "name": "stderr",
     "output_type": "stream",
     "text": [
      " 56%|█████▌    | 32687/58273 [1:26:44<1:34:47,  4.50it/s]"
     ]
    },
    {
     "name": "stdout",
     "output_type": "stream",
     "text": [
      "HTTP Error 429: Too Many Requests Q108737243\n"
     ]
    },
    {
     "name": "stderr",
     "output_type": "stream",
     "text": [
      " 56%|█████▌    | 32691/58273 [1:26:44<1:02:17,  6.84it/s]"
     ]
    },
    {
     "name": "stdout",
     "output_type": "stream",
     "text": [
      "HTTP Error 429: Too Many Requests Q108737438\n"
     ]
    },
    {
     "name": "stderr",
     "output_type": "stream",
     "text": [
      " 56%|█████▌    | 32694/58273 [1:26:45<52:15,  8.16it/s]  "
     ]
    },
    {
     "name": "stdout",
     "output_type": "stream",
     "text": [
      "HTTP Error 429: Too Many Requests Q102076460\n",
      "HTTP Error 429: Too Many Requests Q102113160\n"
     ]
    },
    {
     "name": "stderr",
     "output_type": "stream",
     "text": [
      " 56%|█████▌    | 32703/58273 [1:26:46<53:45,  7.93it/s]  "
     ]
    },
    {
     "name": "stdout",
     "output_type": "stream",
     "text": [
      "HTTP Error 429: Too Many Requests Q117405732\n"
     ]
    },
    {
     "name": "stderr",
     "output_type": "stream",
     "text": [
      " 56%|█████▌    | 32707/58273 [1:26:46<55:41,  7.65it/s]"
     ]
    },
    {
     "name": "stdout",
     "output_type": "stream",
     "text": [
      "HTTP Error 429: Too Many Requests Q118384477\n"
     ]
    },
    {
     "name": "stderr",
     "output_type": "stream",
     "text": [
      " 56%|█████▌    | 32716/58273 [1:26:47<50:15,  8.47it/s]"
     ]
    },
    {
     "name": "stdout",
     "output_type": "stream",
     "text": [
      "HTTP Error 429: Too Many Requests Q4127363\n"
     ]
    },
    {
     "name": "stderr",
     "output_type": "stream",
     "text": [
      " 65%|██████▍   | 37871/58273 [1:43:49<39:30,  8.61it/s]    "
     ]
    },
    {
     "name": "stdout",
     "output_type": "stream",
     "text": [
      "HTTP Error 429: Too Many Requests Q101021279\n"
     ]
    },
    {
     "name": "stderr",
     "output_type": "stream",
     "text": [
      " 65%|██████▌   | 37881/58273 [1:43:50<35:35,  9.55it/s]"
     ]
    },
    {
     "name": "stdout",
     "output_type": "stream",
     "text": [
      "HTTP Error 429: Too Many Requests Q101021416\n"
     ]
    },
    {
     "name": "stderr",
     "output_type": "stream",
     "text": [
      " 65%|██████▌   | 37889/58273 [1:43:51<36:26,  9.32it/s]"
     ]
    },
    {
     "name": "stdout",
     "output_type": "stream",
     "text": [
      "HTTP Error 429: Too Many Requests Q101021464\n"
     ]
    },
    {
     "name": "stderr",
     "output_type": "stream",
     "text": [
      " 65%|██████▌   | 37895/58273 [1:43:52<34:50,  9.75it/s]"
     ]
    },
    {
     "name": "stdout",
     "output_type": "stream",
     "text": [
      "HTTP Error 429: Too Many Requests Q101021490\n"
     ]
    },
    {
     "name": "stderr",
     "output_type": "stream",
     "text": [
      " 65%|██████▌   | 37903/58273 [1:43:54<55:01,  6.17it/s]  "
     ]
    },
    {
     "name": "stdout",
     "output_type": "stream",
     "text": [
      "HTTP Error 429: Too Many Requests Q101021596\n"
     ]
    },
    {
     "name": "stderr",
     "output_type": "stream",
     "text": [
      " 65%|██████▌   | 37906/58273 [1:43:55<42:00,  8.08it/s]"
     ]
    },
    {
     "name": "stdout",
     "output_type": "stream",
     "text": [
      "HTTP Error 429: Too Many Requests Q101021614\n"
     ]
    },
    {
     "name": "stderr",
     "output_type": "stream",
     "text": [
      " 65%|██████▌   | 37925/58273 [1:43:58<47:26,  7.15it/s]  "
     ]
    },
    {
     "name": "stdout",
     "output_type": "stream",
     "text": [
      "HTTP Error 429: Too Many Requests Q101021768\n",
      "HTTP Error 429: Too Many Requests Q101021801\n"
     ]
    },
    {
     "name": "stderr",
     "output_type": "stream",
     "text": [
      " 65%|██████▌   | 37946/58273 [1:44:01<39:58,  8.48it/s]  "
     ]
    },
    {
     "name": "stdout",
     "output_type": "stream",
     "text": [
      "HTTP Error 429: Too Many Requests Q101020316\n",
      "HTTP Error 429: Too Many Requests Q101020317\n"
     ]
    },
    {
     "name": "stderr",
     "output_type": "stream",
     "text": [
      " 65%|██████▌   | 37949/58273 [1:44:01<38:22,  8.83it/s]"
     ]
    },
    {
     "name": "stdout",
     "output_type": "stream",
     "text": [
      "HTTP Error 429: Too Many Requests Q101020320\n"
     ]
    },
    {
     "name": "stderr",
     "output_type": "stream",
     "text": [
      " 65%|██████▌   | 37962/58273 [1:44:03<56:31,  5.99it/s]  "
     ]
    },
    {
     "name": "stdout",
     "output_type": "stream",
     "text": [
      "HTTP Error 429: Too Many Requests Q101020343\n"
     ]
    },
    {
     "name": "stderr",
     "output_type": "stream",
     "text": [
      " 65%|██████▌   | 37983/58273 [1:44:06<47:56,  7.05it/s]  "
     ]
    },
    {
     "name": "stdout",
     "output_type": "stream",
     "text": [
      "HTTP Error 429: Too Many Requests Q101020527\n"
     ]
    },
    {
     "name": "stderr",
     "output_type": "stream",
     "text": [
      " 65%|██████▌   | 37986/58273 [1:44:07<40:29,  8.35it/s]"
     ]
    },
    {
     "name": "stdout",
     "output_type": "stream",
     "text": [
      "HTTP Error 429: Too Many Requests Q101020539\n",
      "HTTP Error 429: Too Many Requests Q101020541\n"
     ]
    },
    {
     "name": "stderr",
     "output_type": "stream",
     "text": [
      " 65%|██████▌   | 37993/58273 [1:44:07<37:36,  8.99it/s]"
     ]
    },
    {
     "name": "stdout",
     "output_type": "stream",
     "text": [
      "HTTP Error 429: Too Many Requests Q101020668\n"
     ]
    },
    {
     "name": "stderr",
     "output_type": "stream",
     "text": [
      " 65%|██████▌   | 38003/58273 [1:44:09<39:43,  8.51it/s]"
     ]
    },
    {
     "name": "stdout",
     "output_type": "stream",
     "text": [
      "HTTP Error 429: Too Many Requests Q101020727\n"
     ]
    },
    {
     "name": "stderr",
     "output_type": "stream",
     "text": [
      " 65%|██████▌   | 38006/58273 [1:44:09<35:17,  9.57it/s]"
     ]
    },
    {
     "name": "stdout",
     "output_type": "stream",
     "text": [
      "HTTP Error 429: Too Many Requests Q101020741\n",
      "HTTP Error 429: Too Many Requests Q101020753\n"
     ]
    },
    {
     "name": "stderr",
     "output_type": "stream",
     "text": [
      " 65%|██████▌   | 38009/58273 [1:44:09<38:47,  8.71it/s]"
     ]
    },
    {
     "name": "stdout",
     "output_type": "stream",
     "text": [
      "HTTP Error 429: Too Many Requests Q101020812\n"
     ]
    },
    {
     "name": "stderr",
     "output_type": "stream",
     "text": [
      " 65%|██████▌   | 38020/58273 [1:44:12<1:00:12,  5.61it/s]"
     ]
    },
    {
     "name": "stdout",
     "output_type": "stream",
     "text": [
      "HTTP Error 429: Too Many Requests Q101020884\n"
     ]
    },
    {
     "name": "stderr",
     "output_type": "stream",
     "text": [
      " 65%|██████▌   | 38045/58273 [1:44:17<56:13,  6.00it/s]  "
     ]
    },
    {
     "name": "stdout",
     "output_type": "stream",
     "text": [
      "HTTP Error 429: Too Many Requests Q101021862\n"
     ]
    },
    {
     "name": "stderr",
     "output_type": "stream",
     "text": [
      " 65%|██████▌   | 38070/58273 [1:44:20<37:07,  9.07it/s]  "
     ]
    },
    {
     "name": "stdout",
     "output_type": "stream",
     "text": [
      "HTTP Error 429: Too Many Requests Q101022170\n"
     ]
    },
    {
     "name": "stderr",
     "output_type": "stream",
     "text": [
      " 65%|██████▌   | 38076/58273 [1:44:22<59:00,  5.70it/s]  "
     ]
    },
    {
     "name": "stdout",
     "output_type": "stream",
     "text": [
      "HTTP Error 429: Too Many Requests Q101022187\n"
     ]
    },
    {
     "name": "stderr",
     "output_type": "stream",
     "text": [
      " 65%|██████▌   | 38078/58273 [1:44:22<50:29,  6.67it/s]"
     ]
    },
    {
     "name": "stdout",
     "output_type": "stream",
     "text": [
      "HTTP Error 429: Too Many Requests Q101022196\n",
      "HTTP Error 429: Too Many Requests Q101022204\n",
      "HTTP Error 429: Too Many Requests Q101022205\n"
     ]
    },
    {
     "name": "stderr",
     "output_type": "stream",
     "text": [
      " 71%|███████▏  | 41599/58273 [1:53:52<32:47,  8.47it/s]    "
     ]
    },
    {
     "name": "stdout",
     "output_type": "stream",
     "text": [
      "HTTP Error 429: Too Many Requests Q5854870\n",
      "HTTP Error 429: Too Many Requests Q5871216\n"
     ]
    },
    {
     "name": "stderr",
     "output_type": "stream",
     "text": [
      " 71%|███████▏  | 41601/58273 [1:53:52<34:20,  8.09it/s]"
     ]
    },
    {
     "name": "stdout",
     "output_type": "stream",
     "text": [
      "HTTP Error 429: Too Many Requests Q5886245\n"
     ]
    },
    {
     "name": "stderr",
     "output_type": "stream",
     "text": [
      " 71%|███████▏  | 41602/58273 [1:53:52<56:47,  4.89it/s]"
     ]
    },
    {
     "name": "stdout",
     "output_type": "stream",
     "text": [
      "HTTP Error 429: Too Many Requests Q116894531\n",
      "HTTP Error 429: Too Many Requests Q116894532\n"
     ]
    },
    {
     "name": "stderr",
     "output_type": "stream",
     "text": [
      " 71%|███████▏  | 41605/58273 [1:53:53<40:57,  6.78it/s]"
     ]
    },
    {
     "name": "stdout",
     "output_type": "stream",
     "text": [
      "HTTP Error 429: Too Many Requests Q116943724\n",
      "HTTP Error 429: Too Many Requests Q116978587\n"
     ]
    },
    {
     "name": "stderr",
     "output_type": "stream",
     "text": [
      " 71%|███████▏  | 41616/58273 [1:53:54<32:15,  8.60it/s]"
     ]
    },
    {
     "name": "stdout",
     "output_type": "stream",
     "text": [
      "HTTP Error 429: Too Many Requests Q117353153\n"
     ]
    },
    {
     "name": "stderr",
     "output_type": "stream",
     "text": [
      " 71%|███████▏  | 41620/58273 [1:53:55<30:52,  8.99it/s]"
     ]
    },
    {
     "name": "stdout",
     "output_type": "stream",
     "text": [
      "HTTP Error 429: Too Many Requests Q117353157\n",
      "HTTP Error 429: Too Many Requests Q117353160\n"
     ]
    },
    {
     "name": "stderr",
     "output_type": "stream",
     "text": [
      " 71%|███████▏  | 41636/58273 [1:53:56<30:27,  9.10it/s]"
     ]
    },
    {
     "name": "stdout",
     "output_type": "stream",
     "text": [
      "HTTP Error 429: Too Many Requests Q130544672\n"
     ]
    },
    {
     "name": "stderr",
     "output_type": "stream",
     "text": [
      " 73%|███████▎  | 42516/58273 [1:55:53<33:56,  7.74it/s]  "
     ]
    },
    {
     "name": "stdout",
     "output_type": "stream",
     "text": [
      "HTTP Error 429: Too Many Requests Q125570150\n"
     ]
    },
    {
     "name": "stderr",
     "output_type": "stream",
     "text": [
      " 73%|███████▎  | 42546/58273 [1:55:57<33:54,  7.73it/s]"
     ]
    },
    {
     "name": "stdout",
     "output_type": "stream",
     "text": [
      "HTTP Error 429: Too Many Requests Q4667144\n"
     ]
    },
    {
     "name": "stderr",
     "output_type": "stream",
     "text": [
      " 73%|███████▎  | 42548/58273 [1:55:57<31:43,  8.26it/s]"
     ]
    },
    {
     "name": "stdout",
     "output_type": "stream",
     "text": [
      "HTTP Error 429: Too Many Requests Q4667871\n"
     ]
    },
    {
     "name": "stderr",
     "output_type": "stream",
     "text": [
      " 73%|███████▎  | 42555/58273 [1:55:58<32:08,  8.15it/s]"
     ]
    },
    {
     "name": "stdout",
     "output_type": "stream",
     "text": [
      "HTTP Error 429: Too Many Requests Q4677685\n"
     ]
    },
    {
     "name": "stderr",
     "output_type": "stream",
     "text": [
      " 73%|███████▎  | 42562/58273 [1:55:59<35:43,  7.33it/s]"
     ]
    },
    {
     "name": "stdout",
     "output_type": "stream",
     "text": [
      "HTTP Error 429: Too Many Requests Q7059752\n"
     ]
    },
    {
     "name": "stderr",
     "output_type": "stream",
     "text": [
      " 73%|███████▎  | 42571/58273 [1:56:00<29:26,  8.89it/s]"
     ]
    },
    {
     "name": "stdout",
     "output_type": "stream",
     "text": [
      "HTTP Error 429: Too Many Requests Q7109995\n"
     ]
    },
    {
     "name": "stderr",
     "output_type": "stream",
     "text": [
      " 73%|███████▎  | 42575/58273 [1:56:00<28:37,  9.14it/s]"
     ]
    },
    {
     "name": "stdout",
     "output_type": "stream",
     "text": [
      "HTTP Error 429: Too Many Requests Q7138821\n"
     ]
    },
    {
     "name": "stderr",
     "output_type": "stream",
     "text": [
      " 73%|███████▎  | 42597/58273 [1:56:03<30:36,  8.53it/s]"
     ]
    },
    {
     "name": "stdout",
     "output_type": "stream",
     "text": [
      "HTTP Error 429: Too Many Requests Q7279189\n"
     ]
    },
    {
     "name": "stderr",
     "output_type": "stream",
     "text": [
      " 73%|███████▎  | 42602/58273 [1:56:04<38:00,  6.87it/s]"
     ]
    },
    {
     "name": "stdout",
     "output_type": "stream",
     "text": [
      "HTTP Error 429: Too Many Requests Q7330436\n"
     ]
    },
    {
     "name": "stderr",
     "output_type": "stream",
     "text": [
      " 73%|███████▎  | 42606/58273 [1:56:04<34:15,  7.62it/s]"
     ]
    },
    {
     "name": "stdout",
     "output_type": "stream",
     "text": [
      "HTTP Error 429: Too Many Requests Q7353772\n"
     ]
    },
    {
     "name": "stderr",
     "output_type": "stream",
     "text": [
      " 73%|███████▎  | 42621/58273 [1:56:06<30:03,  8.68it/s]"
     ]
    },
    {
     "name": "stdout",
     "output_type": "stream",
     "text": [
      "HTTP Error 429: Too Many Requests Q7839774\n"
     ]
    },
    {
     "name": "stderr",
     "output_type": "stream",
     "text": [
      " 73%|███████▎  | 42623/58273 [1:56:07<29:05,  8.96it/s]"
     ]
    },
    {
     "name": "stdout",
     "output_type": "stream",
     "text": [
      "HTTP Error 429: Too Many Requests Q7858316\n"
     ]
    },
    {
     "name": "stderr",
     "output_type": "stream",
     "text": [
      " 73%|███████▎  | 42628/58273 [1:56:07<33:18,  7.83it/s]"
     ]
    },
    {
     "name": "stdout",
     "output_type": "stream",
     "text": [
      "HTTP Error 429: Too Many Requests Q7912287\n"
     ]
    },
    {
     "name": "stderr",
     "output_type": "stream",
     "text": [
      " 73%|███████▎  | 42631/58273 [1:56:08<31:23,  8.31it/s]"
     ]
    },
    {
     "name": "stdout",
     "output_type": "stream",
     "text": [
      "HTTP Error 429: Too Many Requests Q7965943\n"
     ]
    },
    {
     "name": "stderr",
     "output_type": "stream",
     "text": [
      " 73%|███████▎  | 42634/58273 [1:56:08<27:42,  9.41it/s]"
     ]
    },
    {
     "name": "stdout",
     "output_type": "stream",
     "text": [
      "HTTP Error 429: Too Many Requests Q16306561\n"
     ]
    },
    {
     "name": "stderr",
     "output_type": "stream",
     "text": [
      " 73%|███████▎  | 42636/58273 [1:56:08<37:02,  7.04it/s]"
     ]
    },
    {
     "name": "stdout",
     "output_type": "stream",
     "text": [
      "HTTP Error 429: Too Many Requests Q16433690\n"
     ]
    },
    {
     "name": "stderr",
     "output_type": "stream",
     "text": [
      " 73%|███████▎  | 42645/58273 [1:56:09<30:52,  8.44it/s]"
     ]
    },
    {
     "name": "stdout",
     "output_type": "stream",
     "text": [
      "HTTP Error 429: Too Many Requests Q597778\n"
     ]
    },
    {
     "name": "stderr",
     "output_type": "stream",
     "text": [
      " 73%|███████▎  | 42651/58273 [1:56:10<29:26,  8.84it/s]"
     ]
    },
    {
     "name": "stdout",
     "output_type": "stream",
     "text": [
      "HTTP Error 429: Too Many Requests Q1085749\n"
     ]
    },
    {
     "name": "stderr",
     "output_type": "stream",
     "text": [
      " 73%|███████▎  | 42662/58273 [1:56:12<30:36,  8.50it/s]"
     ]
    },
    {
     "name": "stdout",
     "output_type": "stream",
     "text": [
      "HTTP Error 429: Too Many Requests Q2841538\n",
      "HTTP Error 429: Too Many Requests Q2844119\n"
     ]
    },
    {
     "name": "stderr",
     "output_type": "stream",
     "text": [
      " 73%|███████▎  | 42672/58273 [1:56:13<31:24,  8.28it/s]"
     ]
    },
    {
     "name": "stdout",
     "output_type": "stream",
     "text": [
      "HTTP Error 429: Too Many Requests Q4680332\n"
     ]
    },
    {
     "name": "stderr",
     "output_type": "stream",
     "text": [
      " 73%|███████▎  | 42691/58273 [1:56:15<28:10,  9.22it/s]"
     ]
    },
    {
     "name": "stdout",
     "output_type": "stream",
     "text": [
      "HTTP Error 429: Too Many Requests Q4713820\n"
     ]
    },
    {
     "name": "stderr",
     "output_type": "stream",
     "text": [
      " 73%|███████▎  | 42705/58273 [1:56:17<29:23,  8.83it/s]"
     ]
    },
    {
     "name": "stdout",
     "output_type": "stream",
     "text": [
      "HTTP Error 429: Too Many Requests Q4870049\n"
     ]
    },
    {
     "name": "stderr",
     "output_type": "stream",
     "text": [
      " 73%|███████▎  | 42707/58273 [1:56:17<28:44,  9.02it/s]"
     ]
    },
    {
     "name": "stdout",
     "output_type": "stream",
     "text": [
      "HTTP Error 429: Too Many Requests Q4883960\n"
     ]
    },
    {
     "name": "stderr",
     "output_type": "stream",
     "text": [
      " 73%|███████▎  | 42715/58273 [1:56:18<27:58,  9.27it/s]"
     ]
    },
    {
     "name": "stdout",
     "output_type": "stream",
     "text": [
      "HTTP Error 429: Too Many Requests Q16894453\n"
     ]
    },
    {
     "name": "stderr",
     "output_type": "stream",
     "text": [
      " 73%|███████▎  | 42717/58273 [1:56:18<27:20,  9.48it/s]"
     ]
    },
    {
     "name": "stdout",
     "output_type": "stream",
     "text": [
      "HTTP Error 429: Too Many Requests Q16898499\n"
     ]
    },
    {
     "name": "stderr",
     "output_type": "stream",
     "text": [
      " 73%|███████▎  | 42729/58273 [1:56:20<31:25,  8.25it/s]"
     ]
    },
    {
     "name": "stdout",
     "output_type": "stream",
     "text": [
      "HTTP Error 429: Too Many Requests Q17021275\n",
      "HTTP Error 429: Too Many Requests Q17021341\n"
     ]
    },
    {
     "name": "stderr",
     "output_type": "stream",
     "text": [
      " 73%|███████▎  | 42745/58273 [1:56:22<31:07,  8.31it/s]"
     ]
    },
    {
     "name": "stdout",
     "output_type": "stream",
     "text": [
      "HTTP Error 429: Too Many Requests Q5138757\n"
     ]
    },
    {
     "name": "stderr",
     "output_type": "stream",
     "text": [
      " 73%|███████▎  | 42752/58273 [1:56:22<29:00,  8.92it/s]"
     ]
    },
    {
     "name": "stdout",
     "output_type": "stream",
     "text": [
      "HTTP Error 429: Too Many Requests Q5157176\n"
     ]
    },
    {
     "name": "stderr",
     "output_type": "stream",
     "text": [
      " 73%|███████▎  | 42767/58273 [1:56:24<35:02,  7.38it/s]"
     ]
    },
    {
     "name": "stdout",
     "output_type": "stream",
     "text": [
      "HTTP Error 429: Too Many Requests Q5317603\n",
      "HTTP Error 429: Too Many Requests Q5328807\n"
     ]
    },
    {
     "name": "stderr",
     "output_type": "stream",
     "text": [
      " 73%|███████▎  | 42790/58273 [1:56:27<28:42,  8.99it/s]"
     ]
    },
    {
     "name": "stdout",
     "output_type": "stream",
     "text": [
      "HTTP Error 429: Too Many Requests Q5470808\n"
     ]
    },
    {
     "name": "stderr",
     "output_type": "stream",
     "text": [
      " 73%|███████▎  | 42792/58273 [1:56:27<28:42,  8.99it/s]"
     ]
    },
    {
     "name": "stdout",
     "output_type": "stream",
     "text": [
      "HTTP Error 429: Too Many Requests Q5472395\n"
     ]
    },
    {
     "name": "stderr",
     "output_type": "stream",
     "text": [
      " 73%|███████▎  | 42799/58273 [1:56:28<26:53,  9.59it/s]"
     ]
    },
    {
     "name": "stdout",
     "output_type": "stream",
     "text": [
      "HTTP Error 429: Too Many Requests Q5524529\n",
      "HTTP Error 429: Too Many Requests Q5524879\n"
     ]
    },
    {
     "name": "stderr",
     "output_type": "stream",
     "text": [
      " 73%|███████▎  | 42807/58273 [1:56:29<35:02,  7.36it/s]"
     ]
    },
    {
     "name": "stdout",
     "output_type": "stream",
     "text": [
      "HTTP Error 429: Too Many Requests Q5607569\n",
      "HTTP Error 429: Too Many Requests Q5615918\n"
     ]
    },
    {
     "name": "stderr",
     "output_type": "stream",
     "text": [
      " 73%|███████▎  | 42810/58273 [1:56:29<29:24,  8.76it/s]"
     ]
    },
    {
     "name": "stdout",
     "output_type": "stream",
     "text": [
      "HTTP Error 429: Too Many Requests Q5637129\n"
     ]
    },
    {
     "name": "stderr",
     "output_type": "stream",
     "text": [
      " 73%|███████▎  | 42815/58273 [1:56:30<31:34,  8.16it/s]"
     ]
    },
    {
     "name": "stdout",
     "output_type": "stream",
     "text": [
      "HTTP Error 429: Too Many Requests Q5685653\n"
     ]
    },
    {
     "name": "stderr",
     "output_type": "stream",
     "text": [
      " 73%|███████▎  | 42818/58273 [1:56:30<28:28,  9.05it/s]"
     ]
    },
    {
     "name": "stdout",
     "output_type": "stream",
     "text": [
      "HTTP Error 429: Too Many Requests Q5763596\n"
     ]
    },
    {
     "name": "stderr",
     "output_type": "stream",
     "text": [
      " 73%|███████▎  | 42822/58273 [1:56:31<28:07,  9.16it/s]"
     ]
    },
    {
     "name": "stdout",
     "output_type": "stream",
     "text": [
      "HTTP Error 429: Too Many Requests Q5883593\n"
     ]
    },
    {
     "name": "stderr",
     "output_type": "stream",
     "text": [
      " 74%|███████▎  | 42839/58273 [1:56:33<29:49,  8.62it/s]"
     ]
    },
    {
     "name": "stdout",
     "output_type": "stream",
     "text": [
      "HTTP Error 429: Too Many Requests Q18217024\n"
     ]
    },
    {
     "name": "stderr",
     "output_type": "stream",
     "text": [
      " 74%|███████▎  | 42840/58273 [1:56:33<29:29,  8.72it/s]"
     ]
    },
    {
     "name": "stdout",
     "output_type": "stream",
     "text": [
      "HTTP Error 429: Too Many Requests Q16630975\n"
     ]
    },
    {
     "name": "stderr",
     "output_type": "stream",
     "text": [
      " 74%|███████▎  | 42844/58273 [1:56:33<27:07,  9.48it/s]"
     ]
    },
    {
     "name": "stdout",
     "output_type": "stream",
     "text": [
      "HTTP Error 429: Too Many Requests Q16829195\n",
      "HTTP Error 429: Too Many Requests Q16829694\n"
     ]
    },
    {
     "name": "stderr",
     "output_type": "stream",
     "text": [
      " 74%|███████▎  | 42857/58273 [1:56:35<29:29,  8.71it/s]"
     ]
    },
    {
     "name": "stdout",
     "output_type": "stream",
     "text": [
      "HTTP Error 429: Too Many Requests Q8032420\n"
     ]
    },
    {
     "name": "stderr",
     "output_type": "stream",
     "text": [
      " 74%|███████▎  | 42860/58273 [1:56:35<27:30,  9.34it/s]"
     ]
    },
    {
     "name": "stdout",
     "output_type": "stream",
     "text": [
      "HTTP Error 429: Too Many Requests Q8037161\n"
     ]
    },
    {
     "name": "stderr",
     "output_type": "stream",
     "text": [
      " 74%|███████▎  | 42863/58273 [1:56:35<27:06,  9.48it/s]"
     ]
    },
    {
     "name": "stdout",
     "output_type": "stream",
     "text": [
      "HTTP Error 429: Too Many Requests Q4918310\n"
     ]
    },
    {
     "name": "stderr",
     "output_type": "stream",
     "text": [
      " 74%|███████▎  | 42867/58273 [1:56:36<30:00,  8.56it/s]"
     ]
    },
    {
     "name": "stdout",
     "output_type": "stream",
     "text": [
      "HTTP Error 429: Too Many Requests Q4959089\n"
     ]
    },
    {
     "name": "stderr",
     "output_type": "stream",
     "text": [
      " 74%|███████▎  | 42870/58273 [1:56:36<28:22,  9.05it/s]"
     ]
    },
    {
     "name": "stdout",
     "output_type": "stream",
     "text": [
      "HTTP Error 429: Too Many Requests Q4998167\n"
     ]
    },
    {
     "name": "stderr",
     "output_type": "stream",
     "text": [
      " 74%|███████▎  | 42875/58273 [1:56:37<30:19,  8.46it/s]"
     ]
    },
    {
     "name": "stdout",
     "output_type": "stream",
     "text": [
      "HTTP Error 429: Too Many Requests Q5024999\n"
     ]
    },
    {
     "name": "stderr",
     "output_type": "stream",
     "text": [
      " 74%|███████▎  | 42879/58273 [1:56:37<27:20,  9.38it/s]"
     ]
    },
    {
     "name": "stdout",
     "output_type": "stream",
     "text": [
      "HTTP Error 429: Too Many Requests Q5045024\n"
     ]
    },
    {
     "name": "stderr",
     "output_type": "stream",
     "text": [
      " 74%|███████▎  | 42899/58273 [1:56:40<30:06,  8.51it/s]"
     ]
    },
    {
     "name": "stdout",
     "output_type": "stream",
     "text": [
      "HTTP Error 429: Too Many Requests Q7416051\n"
     ]
    },
    {
     "name": "stderr",
     "output_type": "stream",
     "text": [
      " 74%|███████▎  | 42910/58273 [1:56:41<27:27,  9.32it/s]"
     ]
    },
    {
     "name": "stdout",
     "output_type": "stream",
     "text": [
      "HTTP Error 429: Too Many Requests Q7514144\n",
      "HTTP Error 429: Too Many Requests Q7516337\n"
     ]
    },
    {
     "name": "stderr",
     "output_type": "stream",
     "text": [
      " 74%|███████▎  | 42928/58273 [1:56:43<30:14,  8.46it/s]"
     ]
    },
    {
     "name": "stdout",
     "output_type": "stream",
     "text": [
      "HTTP Error 429: Too Many Requests Q6304246\n",
      "HTTP Error 429: Too Many Requests Q6350407\n"
     ]
    },
    {
     "name": "stderr",
     "output_type": "stream",
     "text": [
      " 74%|███████▎  | 42947/58273 [1:56:46<30:09,  8.47it/s]"
     ]
    },
    {
     "name": "stdout",
     "output_type": "stream",
     "text": [
      "HTTP Error 429: Too Many Requests Q6504502\n"
     ]
    },
    {
     "name": "stderr",
     "output_type": "stream",
     "text": [
      " 78%|███████▊  | 45742/58273 [2:03:24<30:01,  6.96it/s]   "
     ]
    },
    {
     "name": "stdout",
     "output_type": "stream",
     "text": [
      "HTTP Error 429: Too Many Requests Q796229\n"
     ]
    },
    {
     "name": "stderr",
     "output_type": "stream",
     "text": [
      " 79%|███████▊  | 45771/58273 [2:03:27<23:00,  9.06it/s]"
     ]
    },
    {
     "name": "stdout",
     "output_type": "stream",
     "text": [
      "HTTP Error 429: Too Many Requests Q2896269\n"
     ]
    },
    {
     "name": "stderr",
     "output_type": "stream",
     "text": [
      " 79%|███████▊  | 45774/58273 [2:03:27<23:25,  8.89it/s]"
     ]
    },
    {
     "name": "stdout",
     "output_type": "stream",
     "text": [
      "HTTP Error 429: Too Many Requests Q3003810\n"
     ]
    },
    {
     "name": "stderr",
     "output_type": "stream",
     "text": [
      " 79%|███████▊  | 45788/58273 [2:03:29<22:21,  9.31it/s]"
     ]
    },
    {
     "name": "stdout",
     "output_type": "stream",
     "text": [
      "HTTP Error 429: Too Many Requests Q2435716\n"
     ]
    },
    {
     "name": "stderr",
     "output_type": "stream",
     "text": [
      " 79%|███████▊  | 45793/58273 [2:03:29<23:15,  8.94it/s]"
     ]
    },
    {
     "name": "stdout",
     "output_type": "stream",
     "text": [
      "HTTP Error 429: Too Many Requests Q2539422\n"
     ]
    },
    {
     "name": "stderr",
     "output_type": "stream",
     "text": [
      " 79%|███████▊  | 45806/58273 [2:03:31<27:56,  7.44it/s]"
     ]
    },
    {
     "name": "stdout",
     "output_type": "stream",
     "text": [
      "HTTP Error 429: Too Many Requests Q5683743\n"
     ]
    },
    {
     "name": "stderr",
     "output_type": "stream",
     "text": [
      " 79%|███████▊  | 45824/58273 [2:03:33<22:43,  9.13it/s]"
     ]
    },
    {
     "name": "stdout",
     "output_type": "stream",
     "text": [
      "HTTP Error 429: Too Many Requests Q5883298\n"
     ]
    },
    {
     "name": "stderr",
     "output_type": "stream",
     "text": [
      " 79%|███████▊  | 45833/58273 [2:03:34<22:04,  9.40it/s]"
     ]
    },
    {
     "name": "stdout",
     "output_type": "stream",
     "text": [
      "HTTP Error 429: Too Many Requests Q5132073\n",
      "HTTP Error 429: Too Many Requests Q5141058\n"
     ]
    },
    {
     "name": "stderr",
     "output_type": "stream",
     "text": [
      " 79%|███████▊  | 45845/58273 [2:03:35<22:12,  9.32it/s]"
     ]
    },
    {
     "name": "stdout",
     "output_type": "stream",
     "text": [
      "HTTP Error 429: Too Many Requests Q5191378\n"
     ]
    },
    {
     "name": "stderr",
     "output_type": "stream",
     "text": [
      " 79%|███████▊  | 45875/58273 [2:03:39<22:29,  9.18it/s]"
     ]
    },
    {
     "name": "stdout",
     "output_type": "stream",
     "text": [
      "HTTP Error 429: Too Many Requests Q5333888\n"
     ]
    },
    {
     "name": "stderr",
     "output_type": "stream",
     "text": [
      " 79%|███████▊  | 45886/58273 [2:03:40<25:17,  8.16it/s]"
     ]
    },
    {
     "name": "stdout",
     "output_type": "stream",
     "text": [
      "HTTP Error 429: Too Many Requests Q5403157\n"
     ]
    },
    {
     "name": "stderr",
     "output_type": "stream",
     "text": [
      " 79%|███████▉  | 45891/58273 [2:03:41<21:54,  9.42it/s]"
     ]
    },
    {
     "name": "stdout",
     "output_type": "stream",
     "text": [
      "HTTP Error 429: Too Many Requests Q5464017\n"
     ]
    },
    {
     "name": "stderr",
     "output_type": "stream",
     "text": [
      " 79%|███████▉  | 45894/58273 [2:03:41<22:17,  9.26it/s]"
     ]
    },
    {
     "name": "stdout",
     "output_type": "stream",
     "text": [
      "HTTP Error 429: Too Many Requests Q4796651\n"
     ]
    },
    {
     "name": "stderr",
     "output_type": "stream",
     "text": [
      " 79%|███████▉  | 45896/58273 [2:03:41<27:01,  7.63it/s]"
     ]
    },
    {
     "name": "stdout",
     "output_type": "stream",
     "text": [
      "HTTP Error 429: Too Many Requests Q4784764\n"
     ]
    },
    {
     "name": "stderr",
     "output_type": "stream",
     "text": [
      " 79%|███████▉  | 45898/58273 [2:03:42<24:26,  8.44it/s]"
     ]
    },
    {
     "name": "stdout",
     "output_type": "stream",
     "text": [
      "HTTP Error 429: Too Many Requests Q4120758\n"
     ]
    },
    {
     "name": "stderr",
     "output_type": "stream",
     "text": [
      " 79%|███████▉  | 45905/58273 [2:03:42<23:17,  8.85it/s]"
     ]
    },
    {
     "name": "stdout",
     "output_type": "stream",
     "text": [
      "HTTP Error 429: Too Many Requests Q4543284\n"
     ]
    },
    {
     "name": "stderr",
     "output_type": "stream",
     "text": [
      " 79%|███████▉  | 45907/58273 [2:03:43<22:38,  9.11it/s]"
     ]
    },
    {
     "name": "stdout",
     "output_type": "stream",
     "text": [
      "HTTP Error 429: Too Many Requests Q4683242\n"
     ]
    },
    {
     "name": "stderr",
     "output_type": "stream",
     "text": [
      " 79%|███████▉  | 45955/58273 [2:03:48<21:48,  9.42it/s]"
     ]
    },
    {
     "name": "stdout",
     "output_type": "stream",
     "text": [
      "HTTP Error 429: Too Many Requests Q5021796\n"
     ]
    },
    {
     "name": "stderr",
     "output_type": "stream",
     "text": [
      " 79%|███████▉  | 45968/58273 [2:03:49<22:02,  9.31it/s]"
     ]
    },
    {
     "name": "stdout",
     "output_type": "stream",
     "text": [
      "HTTP Error 429: Too Many Requests Q5092123\n",
      "HTTP Error 429: Too Many Requests Q5092126\n"
     ]
    },
    {
     "name": "stderr",
     "output_type": "stream",
     "text": [
      " 79%|███████▉  | 45981/58273 [2:03:51<22:34,  9.07it/s]"
     ]
    },
    {
     "name": "stdout",
     "output_type": "stream",
     "text": [
      "HTTP Error 429: Too Many Requests Q6035874\n",
      "HTTP Error 429: Too Many Requests Q6041467\n"
     ]
    },
    {
     "name": "stderr",
     "output_type": "stream",
     "text": [
      " 79%|███████▉  | 45987/58273 [2:03:52<23:31,  8.70it/s]"
     ]
    },
    {
     "name": "stdout",
     "output_type": "stream",
     "text": [
      "HTTP Error 429: Too Many Requests Q6117389\n"
     ]
    },
    {
     "name": "stderr",
     "output_type": "stream",
     "text": [
      " 79%|███████▉  | 45990/58273 [2:03:52<24:42,  8.29it/s]"
     ]
    },
    {
     "name": "stdout",
     "output_type": "stream",
     "text": [
      "HTTP Error 429: Too Many Requests Q6177578\n"
     ]
    },
    {
     "name": "stderr",
     "output_type": "stream",
     "text": [
      " 79%|███████▉  | 46001/58273 [2:03:53<22:30,  9.09it/s]"
     ]
    },
    {
     "name": "stdout",
     "output_type": "stream",
     "text": [
      "HTTP Error 429: Too Many Requests Q4790352\n",
      "HTTP Error 429: Too Many Requests Q4791256\n"
     ]
    },
    {
     "name": "stderr",
     "output_type": "stream",
     "text": [
      " 79%|███████▉  | 46004/58273 [2:03:54<22:59,  8.89it/s]"
     ]
    },
    {
     "name": "stdout",
     "output_type": "stream",
     "text": [
      "HTTP Error 429: Too Many Requests Q4791739\n"
     ]
    },
    {
     "name": "stderr",
     "output_type": "stream",
     "text": [
      " 79%|███████▉  | 46010/58273 [2:03:54<22:56,  8.91it/s]"
     ]
    },
    {
     "name": "stdout",
     "output_type": "stream",
     "text": [
      "HTTP Error 429: Too Many Requests Q6347531\n"
     ]
    },
    {
     "name": "stderr",
     "output_type": "stream",
     "text": [
      " 79%|███████▉  | 46016/58273 [2:03:55<22:10,  9.21it/s]"
     ]
    },
    {
     "name": "stdout",
     "output_type": "stream",
     "text": [
      "HTTP Error 429: Too Many Requests Q6366680\n"
     ]
    },
    {
     "name": "stderr",
     "output_type": "stream",
     "text": [
      " 79%|███████▉  | 46043/58273 [2:03:59<30:33,  6.67it/s]"
     ]
    },
    {
     "name": "stdout",
     "output_type": "stream",
     "text": [
      "HTTP Error 429: Too Many Requests Q6659072\n"
     ]
    },
    {
     "name": "stderr",
     "output_type": "stream",
     "text": [
      " 87%|████████▋ | 50439/58273 [2:13:21<15:03,  8.67it/s]"
     ]
    },
    {
     "name": "stdout",
     "output_type": "stream",
     "text": [
      "HTTP Error 429: Too Many Requests Q7196775\n"
     ]
    },
    {
     "name": "stderr",
     "output_type": "stream",
     "text": [
      " 87%|████████▋ | 50446/58273 [2:13:22<14:20,  9.10it/s]"
     ]
    },
    {
     "name": "stdout",
     "output_type": "stream",
     "text": [
      "HTTP Error 429: Too Many Requests Q7199195\n"
     ]
    },
    {
     "name": "stderr",
     "output_type": "stream",
     "text": [
      " 87%|████████▋ | 50455/58273 [2:13:23<13:55,  9.36it/s]"
     ]
    },
    {
     "name": "stdout",
     "output_type": "stream",
     "text": [
      "HTTP Error 429: Too Many Requests Q7200313\n",
      "HTTP Error 429: Too Many Requests Q7200316\n"
     ]
    },
    {
     "name": "stderr",
     "output_type": "stream",
     "text": [
      " 87%|████████▋ | 50471/58273 [2:13:24<14:11,  9.16it/s]"
     ]
    },
    {
     "name": "stdout",
     "output_type": "stream",
     "text": [
      "HTTP Error 429: Too Many Requests Q7204079\n",
      "HTTP Error 429: Too Many Requests Q7204162\n"
     ]
    },
    {
     "name": "stderr",
     "output_type": "stream",
     "text": [
      " 87%|████████▋ | 50481/58273 [2:13:26<14:05,  9.22it/s]"
     ]
    },
    {
     "name": "stdout",
     "output_type": "stream",
     "text": [
      "HTTP Error 429: Too Many Requests Q7206276\n"
     ]
    },
    {
     "name": "stderr",
     "output_type": "stream",
     "text": [
      " 87%|████████▋ | 50494/58273 [2:13:27<13:52,  9.34it/s]"
     ]
    },
    {
     "name": "stdout",
     "output_type": "stream",
     "text": [
      "HTTP Error 429: Too Many Requests Q7292769\n"
     ]
    },
    {
     "name": "stderr",
     "output_type": "stream",
     "text": [
      " 87%|████████▋ | 50498/58273 [2:13:28<17:20,  7.47it/s]"
     ]
    },
    {
     "name": "stdout",
     "output_type": "stream",
     "text": [
      "HTTP Error 429: Too Many Requests Q7294255\n",
      "HTTP Error 429: Too Many Requests Q7296435\n"
     ]
    },
    {
     "name": "stderr",
     "output_type": "stream",
     "text": [
      " 87%|████████▋ | 50506/58273 [2:13:29<13:43,  9.43it/s]"
     ]
    },
    {
     "name": "stdout",
     "output_type": "stream",
     "text": [
      "HTTP Error 429: Too Many Requests Q7300618\n",
      "HTTP Error 429: Too Many Requests Q7300738\n",
      "HTTP Error 429: Too Many Requests Q7301445\n"
     ]
    },
    {
     "name": "stderr",
     "output_type": "stream",
     "text": [
      " 87%|████████▋ | 50509/58273 [2:13:29<13:37,  9.50it/s]"
     ]
    },
    {
     "name": "stdout",
     "output_type": "stream",
     "text": [
      "HTTP Error 429: Too Many Requests Q7303003\n"
     ]
    },
    {
     "name": "stderr",
     "output_type": "stream",
     "text": [
      " 87%|████████▋ | 50525/58273 [2:13:31<16:40,  7.75it/s]"
     ]
    },
    {
     "name": "stdout",
     "output_type": "stream",
     "text": [
      "HTTP Error 429: Too Many Requests Q7306039\n"
     ]
    },
    {
     "name": "stderr",
     "output_type": "stream",
     "text": [
      " 87%|████████▋ | 50534/58273 [2:13:32<14:45,  8.74it/s]"
     ]
    },
    {
     "name": "stdout",
     "output_type": "stream",
     "text": [
      "HTTP Error 429: Too Many Requests Q7309141\n",
      "HTTP Error 429: Too Many Requests Q7309143\n"
     ]
    },
    {
     "name": "stderr",
     "output_type": "stream",
     "text": [
      " 87%|████████▋ | 50539/58273 [2:13:33<14:09,  9.11it/s]"
     ]
    },
    {
     "name": "stdout",
     "output_type": "stream",
     "text": [
      "HTTP Error 429: Too Many Requests Q7318103\n",
      "HTTP Error 429: Too Many Requests Q7319665\n"
     ]
    },
    {
     "name": "stderr",
     "output_type": "stream",
     "text": [
      " 87%|████████▋ | 50542/58273 [2:13:33<13:07,  9.82it/s]"
     ]
    },
    {
     "name": "stdout",
     "output_type": "stream",
     "text": [
      "HTTP Error 429: Too Many Requests Q7319666\n",
      "HTTP Error 429: Too Many Requests Q7322672\n"
     ]
    },
    {
     "name": "stderr",
     "output_type": "stream",
     "text": [
      " 87%|████████▋ | 50569/58273 [2:13:36<13:25,  9.57it/s]"
     ]
    },
    {
     "name": "stdout",
     "output_type": "stream",
     "text": [
      "HTTP Error 429: Too Many Requests Q7333023\n"
     ]
    },
    {
     "name": "stderr",
     "output_type": "stream",
     "text": [
      " 87%|████████▋ | 50572/58273 [2:13:36<13:49,  9.29it/s]"
     ]
    },
    {
     "name": "stdout",
     "output_type": "stream",
     "text": [
      "HTTP Error 429: Too Many Requests Q7334620\n"
     ]
    },
    {
     "name": "stderr",
     "output_type": "stream",
     "text": [
      " 87%|████████▋ | 50574/58273 [2:13:37<15:07,  8.48it/s]"
     ]
    },
    {
     "name": "stdout",
     "output_type": "stream",
     "text": [
      "HTTP Error 429: Too Many Requests Q7335024\n"
     ]
    },
    {
     "name": "stderr",
     "output_type": "stream",
     "text": [
      " 87%|████████▋ | 50577/58273 [2:13:37<14:12,  9.03it/s]"
     ]
    },
    {
     "name": "stdout",
     "output_type": "stream",
     "text": [
      "HTTP Error 429: Too Many Requests Q7335262\n"
     ]
    },
    {
     "name": "stderr",
     "output_type": "stream",
     "text": [
      " 87%|████████▋ | 50582/58273 [2:13:38<15:09,  8.46it/s]"
     ]
    },
    {
     "name": "stdout",
     "output_type": "stream",
     "text": [
      "HTTP Error 429: Too Many Requests Q7337333\n"
     ]
    },
    {
     "name": "stderr",
     "output_type": "stream",
     "text": [
      " 87%|████████▋ | 50586/58273 [2:13:38<15:56,  8.04it/s]"
     ]
    },
    {
     "name": "stdout",
     "output_type": "stream",
     "text": [
      "HTTP Error 429: Too Many Requests Q7337764\n"
     ]
    },
    {
     "name": "stderr",
     "output_type": "stream",
     "text": [
      " 87%|████████▋ | 50589/58273 [2:13:38<15:39,  8.18it/s]"
     ]
    },
    {
     "name": "stdout",
     "output_type": "stream",
     "text": [
      "HTTP Error 429: Too Many Requests Q7227276\n"
     ]
    },
    {
     "name": "stderr",
     "output_type": "stream",
     "text": [
      " 87%|████████▋ | 50591/58273 [2:13:39<14:59,  8.54it/s]"
     ]
    },
    {
     "name": "stdout",
     "output_type": "stream",
     "text": [
      "HTTP Error 429: Too Many Requests Q7227514\n"
     ]
    },
    {
     "name": "stderr",
     "output_type": "stream",
     "text": [
      " 87%|████████▋ | 50599/58273 [2:13:40<14:37,  8.75it/s]"
     ]
    },
    {
     "name": "stdout",
     "output_type": "stream",
     "text": [
      "HTTP Error 429: Too Many Requests Q7229435\n"
     ]
    },
    {
     "name": "stderr",
     "output_type": "stream",
     "text": [
      " 87%|████████▋ | 50617/58273 [2:13:42<13:16,  9.61it/s]"
     ]
    },
    {
     "name": "stdout",
     "output_type": "stream",
     "text": [
      "HTTP Error 429: Too Many Requests Q7235391\n"
     ]
    },
    {
     "name": "stderr",
     "output_type": "stream",
     "text": [
      " 87%|████████▋ | 50621/58273 [2:13:42<14:58,  8.52it/s]"
     ]
    },
    {
     "name": "stdout",
     "output_type": "stream",
     "text": [
      "HTTP Error 429: Too Many Requests Q7236998\n"
     ]
    },
    {
     "name": "stderr",
     "output_type": "stream",
     "text": [
      " 87%|████████▋ | 50625/58273 [2:13:43<16:04,  7.93it/s]"
     ]
    },
    {
     "name": "stdout",
     "output_type": "stream",
     "text": [
      "HTTP Error 429: Too Many Requests Q7238011\n"
     ]
    },
    {
     "name": "stderr",
     "output_type": "stream",
     "text": [
      " 87%|████████▋ | 50637/58273 [2:13:44<14:37,  8.70it/s]"
     ]
    },
    {
     "name": "stdout",
     "output_type": "stream",
     "text": [
      "HTTP Error 429: Too Many Requests Q7244970\n"
     ]
    },
    {
     "name": "stderr",
     "output_type": "stream",
     "text": [
      " 87%|████████▋ | 50644/58273 [2:13:45<17:16,  7.36it/s]"
     ]
    },
    {
     "name": "stdout",
     "output_type": "stream",
     "text": [
      "HTTP Error 429: Too Many Requests Q7252467\n",
      "HTTP Error 429: Too Many Requests Q7252763\n",
      "HTTP Error 429: Too Many Requests Q7252784\n"
     ]
    },
    {
     "name": "stderr",
     "output_type": "stream",
     "text": [
      " 87%|████████▋ | 50658/58273 [2:13:47<14:13,  8.93it/s]"
     ]
    },
    {
     "name": "stdout",
     "output_type": "stream",
     "text": [
      "HTTP Error 429: Too Many Requests Q7263106\n"
     ]
    },
    {
     "name": "stderr",
     "output_type": "stream",
     "text": [
      " 87%|████████▋ | 50661/58273 [2:13:47<13:22,  9.48it/s]"
     ]
    },
    {
     "name": "stdout",
     "output_type": "stream",
     "text": [
      "HTTP Error 429: Too Many Requests Q7268833\n",
      "HTTP Error 429: Too Many Requests Q7269410\n"
     ]
    },
    {
     "name": "stderr",
     "output_type": "stream",
     "text": [
      " 87%|████████▋ | 50672/58273 [2:13:48<13:57,  9.07it/s]"
     ]
    },
    {
     "name": "stdout",
     "output_type": "stream",
     "text": [
      "HTTP Error 429: Too Many Requests Q7272659\n",
      "HTTP Error 429: Too Many Requests Q7272660\n"
     ]
    },
    {
     "name": "stderr",
     "output_type": "stream",
     "text": [
      " 87%|████████▋ | 50676/58273 [2:13:49<16:51,  7.51it/s]"
     ]
    },
    {
     "name": "stdout",
     "output_type": "stream",
     "text": [
      "HTTP Error 429: Too Many Requests Q7279664\n"
     ]
    },
    {
     "name": "stderr",
     "output_type": "stream",
     "text": [
      " 87%|████████▋ | 50682/58273 [2:13:49<15:16,  8.28it/s]"
     ]
    },
    {
     "name": "stdout",
     "output_type": "stream",
     "text": [
      "HTTP Error 429: Too Many Requests Q7289014\n"
     ]
    },
    {
     "name": "stderr",
     "output_type": "stream",
     "text": [
      " 87%|████████▋ | 50686/58273 [2:13:50<13:34,  9.32it/s]"
     ]
    },
    {
     "name": "stdout",
     "output_type": "stream",
     "text": [
      "HTTP Error 429: Too Many Requests Q7429295\n"
     ]
    },
    {
     "name": "stderr",
     "output_type": "stream",
     "text": [
      " 87%|████████▋ | 50688/58273 [2:13:50<13:50,  9.13it/s]"
     ]
    },
    {
     "name": "stdout",
     "output_type": "stream",
     "text": [
      "HTTP Error 429: Too Many Requests Q7429328\n"
     ]
    },
    {
     "name": "stderr",
     "output_type": "stream",
     "text": [
      " 87%|████████▋ | 50690/58273 [2:13:50<13:30,  9.36it/s]"
     ]
    },
    {
     "name": "stdout",
     "output_type": "stream",
     "text": [
      "HTTP Error 429: Too Many Requests Q7431150\n"
     ]
    },
    {
     "name": "stderr",
     "output_type": "stream",
     "text": [
      " 87%|████████▋ | 50693/58273 [2:13:51<12:52,  9.81it/s]"
     ]
    },
    {
     "name": "stdout",
     "output_type": "stream",
     "text": [
      "HTTP Error 429: Too Many Requests Q7431708\n"
     ]
    },
    {
     "name": "stderr",
     "output_type": "stream",
     "text": [
      " 87%|████████▋ | 50698/58273 [2:13:51<13:31,  9.33it/s]"
     ]
    },
    {
     "name": "stdout",
     "output_type": "stream",
     "text": [
      "HTTP Error 429: Too Many Requests Q7432160\n",
      "HTTP Error 429: Too Many Requests Q7432234\n"
     ]
    },
    {
     "name": "stderr",
     "output_type": "stream",
     "text": [
      " 87%|████████▋ | 50703/58273 [2:13:52<14:40,  8.59it/s]"
     ]
    },
    {
     "name": "stdout",
     "output_type": "stream",
     "text": [
      "HTTP Error 429: Too Many Requests Q7432239\n"
     ]
    },
    {
     "name": "stderr",
     "output_type": "stream",
     "text": [
      " 87%|████████▋ | 50707/58273 [2:13:52<14:05,  8.95it/s]"
     ]
    },
    {
     "name": "stdout",
     "output_type": "stream",
     "text": [
      "HTTP Error 429: Too Many Requests Q7432245\n"
     ]
    },
    {
     "name": "stderr",
     "output_type": "stream",
     "text": [
      " 87%|████████▋ | 50714/58273 [2:13:53<14:16,  8.83it/s]"
     ]
    },
    {
     "name": "stdout",
     "output_type": "stream",
     "text": [
      "HTTP Error 429: Too Many Requests Q7432313\n"
     ]
    },
    {
     "name": "stderr",
     "output_type": "stream",
     "text": [
      " 87%|████████▋ | 50722/58273 [2:13:54<15:01,  8.37it/s]"
     ]
    },
    {
     "name": "stdout",
     "output_type": "stream",
     "text": [
      "HTTP Error 429: Too Many Requests Q7438176\n"
     ]
    },
    {
     "name": "stderr",
     "output_type": "stream",
     "text": [
      " 87%|████████▋ | 50732/58273 [2:13:55<13:57,  9.01it/s]"
     ]
    },
    {
     "name": "stdout",
     "output_type": "stream",
     "text": [
      "HTTP Error 429: Too Many Requests Q7440672\n"
     ]
    },
    {
     "name": "stderr",
     "output_type": "stream",
     "text": [
      " 87%|████████▋ | 50740/58273 [2:13:56<13:19,  9.43it/s]"
     ]
    },
    {
     "name": "stdout",
     "output_type": "stream",
     "text": [
      "HTTP Error 429: Too Many Requests Q7445367\n",
      "HTTP Error 429: Too Many Requests Q7445808\n",
      "HTTP Error 429: Too Many Requests Q7445835\n"
     ]
    },
    {
     "name": "stderr",
     "output_type": "stream",
     "text": [
      " 87%|████████▋ | 50743/58273 [2:13:56<13:41,  9.16it/s]"
     ]
    },
    {
     "name": "stdout",
     "output_type": "stream",
     "text": [
      "HTTP Error 429: Too Many Requests Q7448490\n",
      "HTTP Error 429: Too Many Requests Q7448714\n"
     ]
    },
    {
     "name": "stderr",
     "output_type": "stream",
     "text": [
      " 94%|█████████▍| 55033/58273 [2:23:23<08:03,  6.71it/s]"
     ]
    },
    {
     "name": "stdout",
     "output_type": "stream",
     "text": [
      "HTTP Error 429: Too Many Requests Q1531559\n"
     ]
    },
    {
     "name": "stderr",
     "output_type": "stream",
     "text": [
      " 94%|█████████▍| 55038/58273 [2:23:24<07:02,  7.66it/s]"
     ]
    },
    {
     "name": "stdout",
     "output_type": "stream",
     "text": [
      "HTTP Error 429: Too Many Requests Q5260231\n"
     ]
    },
    {
     "name": "stderr",
     "output_type": "stream",
     "text": [
      " 94%|█████████▍| 55044/58273 [2:23:25<07:22,  7.30it/s]"
     ]
    },
    {
     "name": "stdout",
     "output_type": "stream",
     "text": [
      "HTTP Error 429: Too Many Requests Q17157194\n"
     ]
    },
    {
     "name": "stderr",
     "output_type": "stream",
     "text": [
      " 94%|█████████▍| 55047/58273 [2:23:25<07:15,  7.41it/s]"
     ]
    },
    {
     "name": "stdout",
     "output_type": "stream",
     "text": [
      "HTTP Error 429: Too Many Requests Q28502393\n"
     ]
    },
    {
     "name": "stderr",
     "output_type": "stream",
     "text": [
      " 94%|█████████▍| 55051/58273 [2:23:26<06:15,  8.59it/s]"
     ]
    },
    {
     "name": "stdout",
     "output_type": "stream",
     "text": [
      "HTTP Error 429: Too Many Requests Q63191685\n"
     ]
    },
    {
     "name": "stderr",
     "output_type": "stream",
     "text": [
      " 94%|█████████▍| 55055/58273 [2:23:26<07:40,  6.99it/s]"
     ]
    },
    {
     "name": "stdout",
     "output_type": "stream",
     "text": [
      "HTTP Error 429: Too Many Requests Q122751504\n"
     ]
    },
    {
     "name": "stderr",
     "output_type": "stream",
     "text": [
      " 94%|█████████▍| 55064/58273 [2:23:28<07:43,  6.92it/s]"
     ]
    },
    {
     "name": "stdout",
     "output_type": "stream",
     "text": [
      "HTTP Error 429: Too Many Requests Q19572965\n"
     ]
    },
    {
     "name": "stderr",
     "output_type": "stream",
     "text": [
      " 94%|█████████▍| 55065/58273 [2:23:28<07:08,  7.49it/s]"
     ]
    },
    {
     "name": "stdout",
     "output_type": "stream",
     "text": [
      "HTTP Error 429: Too Many Requests Q51780150\n"
     ]
    },
    {
     "name": "stderr",
     "output_type": "stream",
     "text": [
      " 95%|█████████▍| 55074/58273 [2:23:30<07:05,  7.51it/s]"
     ]
    },
    {
     "name": "stdout",
     "output_type": "stream",
     "text": [
      "HTTP Error 429: Too Many Requests Q51780298\n"
     ]
    },
    {
     "name": "stderr",
     "output_type": "stream",
     "text": [
      " 95%|█████████▍| 55079/58273 [2:23:30<06:19,  8.42it/s]"
     ]
    },
    {
     "name": "stdout",
     "output_type": "stream",
     "text": [
      "HTTP Error 429: Too Many Requests Q55604877\n"
     ]
    },
    {
     "name": "stderr",
     "output_type": "stream",
     "text": [
      " 95%|█████████▍| 55085/58273 [2:23:31<06:08,  8.65it/s]"
     ]
    },
    {
     "name": "stdout",
     "output_type": "stream",
     "text": [
      "HTTP Error 429: Too Many Requests Q55737213\n"
     ]
    },
    {
     "name": "stderr",
     "output_type": "stream",
     "text": [
      " 95%|█████████▍| 55094/58273 [2:23:32<06:03,  8.75it/s]"
     ]
    },
    {
     "name": "stdout",
     "output_type": "stream",
     "text": [
      "HTTP Error 429: Too Many Requests Q61090894\n"
     ]
    },
    {
     "name": "stderr",
     "output_type": "stream",
     "text": [
      " 95%|█████████▍| 55102/58273 [2:23:33<06:34,  8.03it/s]"
     ]
    },
    {
     "name": "stdout",
     "output_type": "stream",
     "text": [
      "HTTP Error 429: Too Many Requests Q55730652\n",
      "HTTP Error 429: Too Many Requests Q55730843\n",
      "HTTP Error 429: Too Many Requests Q55731130\n"
     ]
    },
    {
     "name": "stderr",
     "output_type": "stream",
     "text": [
      " 95%|█████████▍| 55114/58273 [2:23:34<05:50,  9.02it/s]"
     ]
    },
    {
     "name": "stdout",
     "output_type": "stream",
     "text": [
      "HTTP Error 429: Too Many Requests Q61897448\n"
     ]
    },
    {
     "name": "stderr",
     "output_type": "stream",
     "text": [
      " 95%|█████████▍| 55124/58273 [2:23:36<05:45,  9.10it/s]"
     ]
    },
    {
     "name": "stdout",
     "output_type": "stream",
     "text": [
      "HTTP Error 429: Too Many Requests Q65331079\n"
     ]
    },
    {
     "name": "stderr",
     "output_type": "stream",
     "text": [
      " 95%|█████████▍| 55144/58273 [2:23:38<08:36,  6.06it/s]"
     ]
    },
    {
     "name": "stdout",
     "output_type": "stream",
     "text": [
      "HTTP Error 429: Too Many Requests Q65331971\n"
     ]
    },
    {
     "name": "stderr",
     "output_type": "stream",
     "text": [
      " 95%|█████████▍| 55145/58273 [2:23:38<07:52,  6.62it/s]"
     ]
    },
    {
     "name": "stdout",
     "output_type": "stream",
     "text": [
      "HTTP Error 429: Too Many Requests Q66311252\n"
     ]
    },
    {
     "name": "stderr",
     "output_type": "stream",
     "text": [
      " 95%|█████████▍| 55151/58273 [2:23:39<06:25,  8.09it/s]"
     ]
    },
    {
     "name": "stdout",
     "output_type": "stream",
     "text": [
      "HTTP Error 429: Too Many Requests Q67135743\n",
      "HTTP Error 429: Too Many Requests Q928909\n"
     ]
    },
    {
     "name": "stderr",
     "output_type": "stream",
     "text": [
      " 95%|█████████▍| 55154/58273 [2:23:39<05:50,  8.89it/s]"
     ]
    },
    {
     "name": "stdout",
     "output_type": "stream",
     "text": [
      "HTTP Error 429: Too Many Requests Q30337832\n"
     ]
    },
    {
     "name": "stderr",
     "output_type": "stream",
     "text": [
      " 95%|█████████▍| 55157/58273 [2:23:40<05:36,  9.26it/s]"
     ]
    },
    {
     "name": "stdout",
     "output_type": "stream",
     "text": [
      "HTTP Error 429: Too Many Requests Q38704413\n"
     ]
    },
    {
     "name": "stderr",
     "output_type": "stream",
     "text": [
      " 95%|█████████▍| 55159/58273 [2:23:40<05:37,  9.23it/s]"
     ]
    },
    {
     "name": "stdout",
     "output_type": "stream",
     "text": [
      "HTTP Error 429: Too Many Requests Q48409937\n"
     ]
    },
    {
     "name": "stderr",
     "output_type": "stream",
     "text": [
      " 95%|█████████▍| 55163/58273 [2:23:41<06:36,  7.85it/s]"
     ]
    },
    {
     "name": "stdout",
     "output_type": "stream",
     "text": [
      "HTTP Error 429: Too Many Requests Q5331363\n",
      "HTTP Error 429: Too Many Requests Q5532728\n",
      "HTTP Error 429: Too Many Requests Q6391785\n"
     ]
    },
    {
     "name": "stderr",
     "output_type": "stream",
     "text": [
      " 95%|█████████▍| 55165/58273 [2:23:41<06:15,  8.27it/s]"
     ]
    },
    {
     "name": "stdout",
     "output_type": "stream",
     "text": [
      "HTTP Error 429: Too Many Requests Q6724796\n"
     ]
    },
    {
     "name": "stderr",
     "output_type": "stream",
     "text": [
      " 95%|█████████▍| 55168/58273 [2:23:41<05:40,  9.12it/s]"
     ]
    },
    {
     "name": "stdout",
     "output_type": "stream",
     "text": [
      "HTTP Error 429: Too Many Requests Q7836148\n"
     ]
    },
    {
     "name": "stderr",
     "output_type": "stream",
     "text": [
      " 95%|█████████▍| 55170/58273 [2:23:41<05:44,  9.00it/s]"
     ]
    },
    {
     "name": "stdout",
     "output_type": "stream",
     "text": [
      "HTTP Error 429: Too Many Requests Q16900321\n"
     ]
    },
    {
     "name": "stderr",
     "output_type": "stream",
     "text": [
      " 95%|█████████▍| 55186/58273 [2:23:43<05:38,  9.11it/s]"
     ]
    },
    {
     "name": "stdout",
     "output_type": "stream",
     "text": [
      "HTTP Error 429: Too Many Requests Q16960205\n"
     ]
    },
    {
     "name": "stderr",
     "output_type": "stream",
     "text": [
      " 95%|█████████▍| 55189/58273 [2:23:43<05:18,  9.68it/s]"
     ]
    },
    {
     "name": "stdout",
     "output_type": "stream",
     "text": [
      "HTTP Error 429: Too Many Requests Q102123169\n"
     ]
    },
    {
     "name": "stderr",
     "output_type": "stream",
     "text": [
      " 95%|█████████▍| 55194/58273 [2:23:44<05:16,  9.73it/s]"
     ]
    },
    {
     "name": "stdout",
     "output_type": "stream",
     "text": [
      "HTTP Error 429: Too Many Requests Q121091089\n"
     ]
    },
    {
     "name": "stderr",
     "output_type": "stream",
     "text": [
      " 95%|█████████▍| 55203/58273 [2:23:45<05:46,  8.86it/s]"
     ]
    },
    {
     "name": "stdout",
     "output_type": "stream",
     "text": [
      "HTTP Error 429: Too Many Requests Q26836371\n"
     ]
    },
    {
     "name": "stderr",
     "output_type": "stream",
     "text": [
      " 95%|█████████▍| 55207/58273 [2:23:46<05:28,  9.33it/s]"
     ]
    },
    {
     "name": "stdout",
     "output_type": "stream",
     "text": [
      "HTTP Error 429: Too Many Requests Q5659593\n"
     ]
    },
    {
     "name": "stderr",
     "output_type": "stream",
     "text": [
      " 95%|█████████▍| 55211/58273 [2:23:46<05:29,  9.30it/s]"
     ]
    },
    {
     "name": "stdout",
     "output_type": "stream",
     "text": [
      "HTTP Error 429: Too Many Requests Q77247095\n"
     ]
    },
    {
     "name": "stderr",
     "output_type": "stream",
     "text": [
      " 95%|█████████▍| 55217/58273 [2:23:47<05:11,  9.80it/s]"
     ]
    },
    {
     "name": "stdout",
     "output_type": "stream",
     "text": [
      "HTTP Error 429: Too Many Requests Q109475718\n",
      "HTTP Error 429: Too Many Requests Q110614398\n"
     ]
    },
    {
     "name": "stderr",
     "output_type": "stream",
     "text": [
      " 95%|█████████▍| 55219/58273 [2:23:47<05:37,  9.06it/s]"
     ]
    },
    {
     "name": "stdout",
     "output_type": "stream",
     "text": [
      "HTTP Error 429: Too Many Requests Q117474126\n"
     ]
    },
    {
     "name": "stderr",
     "output_type": "stream",
     "text": [
      " 95%|█████████▍| 55222/58273 [2:23:47<05:24,  9.41it/s]"
     ]
    },
    {
     "name": "stdout",
     "output_type": "stream",
     "text": [
      "HTTP Error 429: Too Many Requests Q106679733\n"
     ]
    },
    {
     "name": "stderr",
     "output_type": "stream",
     "text": [
      " 95%|█████████▍| 55225/58273 [2:23:47<06:04,  8.36it/s]"
     ]
    },
    {
     "name": "stdout",
     "output_type": "stream",
     "text": [
      "HTTP Error 429: Too Many Requests Q16916914\n",
      "HTTP Error 429: Too Many Requests Q16917951\n"
     ]
    },
    {
     "name": "stderr",
     "output_type": "stream",
     "text": [
      " 95%|█████████▍| 55233/58273 [2:23:48<05:20,  9.50it/s]"
     ]
    },
    {
     "name": "stdout",
     "output_type": "stream",
     "text": [
      "HTTP Error 429: Too Many Requests Q104880166\n",
      "HTTP Error 429: Too Many Requests Q109700971\n"
     ]
    },
    {
     "name": "stderr",
     "output_type": "stream",
     "text": [
      " 95%|█████████▍| 55240/58273 [2:23:49<05:05,  9.93it/s]"
     ]
    },
    {
     "name": "stdout",
     "output_type": "stream",
     "text": [
      "HTTP Error 429: Too Many Requests Q78290253\n"
     ]
    },
    {
     "name": "stderr",
     "output_type": "stream",
     "text": [
      " 95%|█████████▍| 55242/58273 [2:23:49<07:00,  7.21it/s]"
     ]
    },
    {
     "name": "stdout",
     "output_type": "stream",
     "text": [
      "HTTP Error 429: Too Many Requests Q78295130\n"
     ]
    },
    {
     "name": "stderr",
     "output_type": "stream",
     "text": [
      " 95%|█████████▍| 55255/58273 [2:23:51<05:26,  9.24it/s]"
     ]
    },
    {
     "name": "stdout",
     "output_type": "stream",
     "text": [
      "HTTP Error 429: Too Many Requests Q96739759\n",
      "HTTP Error 429: Too Many Requests Q97143766\n"
     ]
    },
    {
     "name": "stderr",
     "output_type": "stream",
     "text": [
      " 95%|█████████▍| 55258/58273 [2:23:51<05:22,  9.35it/s]"
     ]
    },
    {
     "name": "stdout",
     "output_type": "stream",
     "text": [
      "HTTP Error 429: Too Many Requests Q64636958\n",
      "HTTP Error 429: Too Many Requests Q59677121\n"
     ]
    },
    {
     "name": "stderr",
     "output_type": "stream",
     "text": [
      " 95%|█████████▍| 55263/58273 [2:23:52<05:29,  9.14it/s]"
     ]
    },
    {
     "name": "stdout",
     "output_type": "stream",
     "text": [
      "HTTP Error 429: Too Many Requests Q98456967\n"
     ]
    },
    {
     "name": "stderr",
     "output_type": "stream",
     "text": [
      " 96%|█████████▋| 56170/58273 [2:25:52<04:01,  8.71it/s]"
     ]
    },
    {
     "name": "stdout",
     "output_type": "stream",
     "text": [
      "HTTP Error 429: Too Many Requests Q6912075\n"
     ]
    },
    {
     "name": "stderr",
     "output_type": "stream",
     "text": [
      " 96%|█████████▋| 56175/58273 [2:25:52<03:54,  8.94it/s]"
     ]
    },
    {
     "name": "stdout",
     "output_type": "stream",
     "text": [
      "HTTP Error 429: Too Many Requests Q6953661\n"
     ]
    },
    {
     "name": "stderr",
     "output_type": "stream",
     "text": [
      " 96%|█████████▋| 56189/58273 [2:25:54<04:05,  8.50it/s]"
     ]
    },
    {
     "name": "stdout",
     "output_type": "stream",
     "text": [
      "HTTP Error 429: Too Many Requests Q6973069\n"
     ]
    },
    {
     "name": "stderr",
     "output_type": "stream",
     "text": [
      " 96%|█████████▋| 56198/58273 [2:25:55<04:21,  7.94it/s]"
     ]
    },
    {
     "name": "stdout",
     "output_type": "stream",
     "text": [
      "HTTP Error 429: Too Many Requests Q18326197\n"
     ]
    },
    {
     "name": "stderr",
     "output_type": "stream",
     "text": [
      " 96%|█████████▋| 56221/58273 [2:25:59<04:27,  7.67it/s]"
     ]
    },
    {
     "name": "stdout",
     "output_type": "stream",
     "text": [
      "HTTP Error 429: Too Many Requests Q3480396\n"
     ]
    },
    {
     "name": "stderr",
     "output_type": "stream",
     "text": [
      " 96%|█████████▋| 56224/58273 [2:25:59<04:00,  8.51it/s]"
     ]
    },
    {
     "name": "stdout",
     "output_type": "stream",
     "text": [
      "HTTP Error 429: Too Many Requests Q11421146\n"
     ]
    },
    {
     "name": "stderr",
     "output_type": "stream",
     "text": [
      "100%|██████████| 58273/58273 [2:30:33<00:00,  6.45it/s]\n"
     ]
    }
   ],
   "source": [
    "from tqdm import tqdm\n",
    "import pandas as pd\n",
    "\n",
    "# Enable tqdm for pandas\n",
    "tqdm.pandas()\n",
    "\n",
    "# Apply the function with a progress bar\n",
    "df['altLabels'] = df.progress_apply(lambda row: get_nicknames(row['wd_id']), axis=1)"
   ]
  },
  {
   "cell_type": "code",
   "execution_count": 32,
   "metadata": {},
   "outputs": [
    {
     "data": {
      "text/html": [
       "<div>\n",
       "<style scoped>\n",
       "    .dataframe tbody tr th:only-of-type {\n",
       "        vertical-align: middle;\n",
       "    }\n",
       "\n",
       "    .dataframe tbody tr th {\n",
       "        vertical-align: top;\n",
       "    }\n",
       "\n",
       "    .dataframe thead th {\n",
       "        text-align: right;\n",
       "    }\n",
       "</style>\n",
       "<table border=\"1\" class=\"dataframe\">\n",
       "  <thead>\n",
       "    <tr style=\"text-align: right;\">\n",
       "      <th></th>\n",
       "      <th>name</th>\n",
       "      <th>wd_id</th>\n",
       "      <th>coordinate location</th>\n",
       "      <th>wikipediaURL</th>\n",
       "      <th>Commons category</th>\n",
       "      <th>NLA Trove people ID</th>\n",
       "      <th>endowment</th>\n",
       "      <th>VIAF ID</th>\n",
       "      <th>Microsoft Academic ID</th>\n",
       "      <th>subreddit</th>\n",
       "      <th>...</th>\n",
       "      <th>size designation</th>\n",
       "      <th>ICANNWiki page ID</th>\n",
       "      <th>editor</th>\n",
       "      <th>WikiProjectMed ID</th>\n",
       "      <th>SlideShare username</th>\n",
       "      <th>IFTTT service ID</th>\n",
       "      <th>APA Dictionary of Psychology entry</th>\n",
       "      <th>NCI Thesaurus ID</th>\n",
       "      <th>J. Paul Getty Museum agent ID</th>\n",
       "      <th>altLabels</th>\n",
       "    </tr>\n",
       "  </thead>\n",
       "  <tbody>\n",
       "    <tr>\n",
       "      <th>148</th>\n",
       "      <td>University of Maryland, Baltimore County</td>\n",
       "      <td>Q735049</td>\n",
       "      <td>[Point(-76.711255555 39.2555), Point(-76.71125...</td>\n",
       "      <td>https://en.wikipedia.org/wiki/University_of_Ma...</td>\n",
       "      <td>[University of Maryland, Baltimore County, Uni...</td>\n",
       "      <td>NaN</td>\n",
       "      <td>NaN</td>\n",
       "      <td>[145133422, 145133422]</td>\n",
       "      <td>[79272384, 79272384]</td>\n",
       "      <td>[UMBC, UMBC]</td>\n",
       "      <td>...</td>\n",
       "      <td>NaN</td>\n",
       "      <td>NaN</td>\n",
       "      <td>NaN</td>\n",
       "      <td>NaN</td>\n",
       "      <td>NaN</td>\n",
       "      <td>NaN</td>\n",
       "      <td>NaN</td>\n",
       "      <td>NaN</td>\n",
       "      <td>NaN</td>\n",
       "      <td>[UMBC, umbc.edu]</td>\n",
       "    </tr>\n",
       "    <tr>\n",
       "      <th>12453</th>\n",
       "      <td>Millard South High School</td>\n",
       "      <td>Q3314250</td>\n",
       "      <td>[Point(-96.1467 41.2042)]</td>\n",
       "      <td>https://en.wikipedia.org/wiki/Millard_South_Hi...</td>\n",
       "      <td>NaN</td>\n",
       "      <td>NaN</td>\n",
       "      <td>NaN</td>\n",
       "      <td>NaN</td>\n",
       "      <td>NaN</td>\n",
       "      <td>NaN</td>\n",
       "      <td>...</td>\n",
       "      <td>NaN</td>\n",
       "      <td>NaN</td>\n",
       "      <td>NaN</td>\n",
       "      <td>NaN</td>\n",
       "      <td>NaN</td>\n",
       "      <td>NaN</td>\n",
       "      <td>NaN</td>\n",
       "      <td>NaN</td>\n",
       "      <td>NaN</td>\n",
       "      <td>[]</td>\n",
       "    </tr>\n",
       "    <tr>\n",
       "      <th>20049</th>\n",
       "      <td>Morgantown High School</td>\n",
       "      <td>Q6911982</td>\n",
       "      <td>[Point(-79.9564 39.6242)]</td>\n",
       "      <td>https://en.wikipedia.org/wiki/Morgantown_High_...</td>\n",
       "      <td>NaN</td>\n",
       "      <td>NaN</td>\n",
       "      <td>NaN</td>\n",
       "      <td>NaN</td>\n",
       "      <td>NaN</td>\n",
       "      <td>NaN</td>\n",
       "      <td>...</td>\n",
       "      <td>NaN</td>\n",
       "      <td>NaN</td>\n",
       "      <td>NaN</td>\n",
       "      <td>NaN</td>\n",
       "      <td>NaN</td>\n",
       "      <td>NaN</td>\n",
       "      <td>NaN</td>\n",
       "      <td>NaN</td>\n",
       "      <td>NaN</td>\n",
       "      <td>[]</td>\n",
       "    </tr>\n",
       "    <tr>\n",
       "      <th>19333</th>\n",
       "      <td>Norwalk High School</td>\n",
       "      <td>Q7060785</td>\n",
       "      <td>[Point(-73.389444444 41.121944444)]</td>\n",
       "      <td>https://en.wikipedia.org/wiki/Norwalk_High_Sch...</td>\n",
       "      <td>NaN</td>\n",
       "      <td>NaN</td>\n",
       "      <td>NaN</td>\n",
       "      <td>NaN</td>\n",
       "      <td>NaN</td>\n",
       "      <td>NaN</td>\n",
       "      <td>...</td>\n",
       "      <td>NaN</td>\n",
       "      <td>NaN</td>\n",
       "      <td>NaN</td>\n",
       "      <td>NaN</td>\n",
       "      <td>NaN</td>\n",
       "      <td>NaN</td>\n",
       "      <td>NaN</td>\n",
       "      <td>NaN</td>\n",
       "      <td>NaN</td>\n",
       "      <td>[]</td>\n",
       "    </tr>\n",
       "    <tr>\n",
       "      <th>29290</th>\n",
       "      <td>Marvell Academy</td>\n",
       "      <td>Q6778225</td>\n",
       "      <td>[Point(-90.9122 34.5699)]</td>\n",
       "      <td>https://en.wikipedia.org/wiki/Marvell_Academy</td>\n",
       "      <td>NaN</td>\n",
       "      <td>NaN</td>\n",
       "      <td>NaN</td>\n",
       "      <td>NaN</td>\n",
       "      <td>NaN</td>\n",
       "      <td>NaN</td>\n",
       "      <td>...</td>\n",
       "      <td>NaN</td>\n",
       "      <td>NaN</td>\n",
       "      <td>NaN</td>\n",
       "      <td>NaN</td>\n",
       "      <td>NaN</td>\n",
       "      <td>NaN</td>\n",
       "      <td>NaN</td>\n",
       "      <td>NaN</td>\n",
       "      <td>NaN</td>\n",
       "      <td>[]</td>\n",
       "    </tr>\n",
       "    <tr>\n",
       "      <th>48814</th>\n",
       "      <td>Anderson County Schools</td>\n",
       "      <td>Q104876885</td>\n",
       "      <td>NaN</td>\n",
       "      <td>https://en.wikipedia.org/wiki/Anderson_County_...</td>\n",
       "      <td>NaN</td>\n",
       "      <td>NaN</td>\n",
       "      <td>NaN</td>\n",
       "      <td>NaN</td>\n",
       "      <td>NaN</td>\n",
       "      <td>NaN</td>\n",
       "      <td>...</td>\n",
       "      <td>NaN</td>\n",
       "      <td>NaN</td>\n",
       "      <td>NaN</td>\n",
       "      <td>NaN</td>\n",
       "      <td>NaN</td>\n",
       "      <td>NaN</td>\n",
       "      <td>NaN</td>\n",
       "      <td>NaN</td>\n",
       "      <td>NaN</td>\n",
       "      <td>[]</td>\n",
       "    </tr>\n",
       "    <tr>\n",
       "      <th>50815</th>\n",
       "      <td>New Hartford Senior High School</td>\n",
       "      <td>Q128700100</td>\n",
       "      <td>NaN</td>\n",
       "      <td>NaN</td>\n",
       "      <td>NaN</td>\n",
       "      <td>NaN</td>\n",
       "      <td>NaN</td>\n",
       "      <td>NaN</td>\n",
       "      <td>NaN</td>\n",
       "      <td>NaN</td>\n",
       "      <td>...</td>\n",
       "      <td>NaN</td>\n",
       "      <td>NaN</td>\n",
       "      <td>NaN</td>\n",
       "      <td>NaN</td>\n",
       "      <td>NaN</td>\n",
       "      <td>NaN</td>\n",
       "      <td>NaN</td>\n",
       "      <td>NaN</td>\n",
       "      <td>NaN</td>\n",
       "      <td>[New Hartford High School]</td>\n",
       "    </tr>\n",
       "    <tr>\n",
       "      <th>51115</th>\n",
       "      <td>Hudson Gardens</td>\n",
       "      <td>Q5928661</td>\n",
       "      <td>[Point(-105.023 39.6046)]</td>\n",
       "      <td>https://en.wikipedia.org/wiki/Hudson_Gardens</td>\n",
       "      <td>NaN</td>\n",
       "      <td>NaN</td>\n",
       "      <td>NaN</td>\n",
       "      <td>NaN</td>\n",
       "      <td>NaN</td>\n",
       "      <td>NaN</td>\n",
       "      <td>...</td>\n",
       "      <td>NaN</td>\n",
       "      <td>NaN</td>\n",
       "      <td>NaN</td>\n",
       "      <td>NaN</td>\n",
       "      <td>NaN</td>\n",
       "      <td>NaN</td>\n",
       "      <td>NaN</td>\n",
       "      <td>NaN</td>\n",
       "      <td>NaN</td>\n",
       "      <td>[]</td>\n",
       "    </tr>\n",
       "    <tr>\n",
       "      <th>14753</th>\n",
       "      <td>Dallastown Area High School</td>\n",
       "      <td>Q5211460</td>\n",
       "      <td>[Point(-76.653 39.893)]</td>\n",
       "      <td>https://en.wikipedia.org/wiki/Dallastown_Area_...</td>\n",
       "      <td>NaN</td>\n",
       "      <td>NaN</td>\n",
       "      <td>NaN</td>\n",
       "      <td>NaN</td>\n",
       "      <td>NaN</td>\n",
       "      <td>NaN</td>\n",
       "      <td>...</td>\n",
       "      <td>NaN</td>\n",
       "      <td>NaN</td>\n",
       "      <td>NaN</td>\n",
       "      <td>NaN</td>\n",
       "      <td>NaN</td>\n",
       "      <td>NaN</td>\n",
       "      <td>NaN</td>\n",
       "      <td>NaN</td>\n",
       "      <td>NaN</td>\n",
       "      <td>[]</td>\n",
       "    </tr>\n",
       "    <tr>\n",
       "      <th>16697</th>\n",
       "      <td>Greater Hartford Academy of Mathematics and Sc...</td>\n",
       "      <td>Q5600568</td>\n",
       "      <td>[Point(-72.6836 41.7506)]</td>\n",
       "      <td>https://en.wikipedia.org/wiki/Greater_Hartford...</td>\n",
       "      <td>NaN</td>\n",
       "      <td>NaN</td>\n",
       "      <td>NaN</td>\n",
       "      <td>NaN</td>\n",
       "      <td>NaN</td>\n",
       "      <td>NaN</td>\n",
       "      <td>...</td>\n",
       "      <td>NaN</td>\n",
       "      <td>NaN</td>\n",
       "      <td>NaN</td>\n",
       "      <td>NaN</td>\n",
       "      <td>NaN</td>\n",
       "      <td>NaN</td>\n",
       "      <td>NaN</td>\n",
       "      <td>NaN</td>\n",
       "      <td>NaN</td>\n",
       "      <td>[]</td>\n",
       "    </tr>\n",
       "  </tbody>\n",
       "</table>\n",
       "<p>10 rows × 1049 columns</p>\n",
       "</div>"
      ],
      "text/plain": [
       "                                                    name       wd_id  \\\n",
       "148             University of Maryland, Baltimore County     Q735049   \n",
       "12453                          Millard South High School    Q3314250   \n",
       "20049                             Morgantown High School    Q6911982   \n",
       "19333                                Norwalk High School    Q7060785   \n",
       "29290                                    Marvell Academy    Q6778225   \n",
       "48814                            Anderson County Schools  Q104876885   \n",
       "50815                    New Hartford Senior High School  Q128700100   \n",
       "51115                                     Hudson Gardens    Q5928661   \n",
       "14753                        Dallastown Area High School    Q5211460   \n",
       "16697  Greater Hartford Academy of Mathematics and Sc...    Q5600568   \n",
       "\n",
       "                                     coordinate location  \\\n",
       "148    [Point(-76.711255555 39.2555), Point(-76.71125...   \n",
       "12453                          [Point(-96.1467 41.2042)]   \n",
       "20049                          [Point(-79.9564 39.6242)]   \n",
       "19333                [Point(-73.389444444 41.121944444)]   \n",
       "29290                          [Point(-90.9122 34.5699)]   \n",
       "48814                                                NaN   \n",
       "50815                                                NaN   \n",
       "51115                          [Point(-105.023 39.6046)]   \n",
       "14753                            [Point(-76.653 39.893)]   \n",
       "16697                          [Point(-72.6836 41.7506)]   \n",
       "\n",
       "                                            wikipediaURL  \\\n",
       "148    https://en.wikipedia.org/wiki/University_of_Ma...   \n",
       "12453  https://en.wikipedia.org/wiki/Millard_South_Hi...   \n",
       "20049  https://en.wikipedia.org/wiki/Morgantown_High_...   \n",
       "19333  https://en.wikipedia.org/wiki/Norwalk_High_Sch...   \n",
       "29290      https://en.wikipedia.org/wiki/Marvell_Academy   \n",
       "48814  https://en.wikipedia.org/wiki/Anderson_County_...   \n",
       "50815                                                NaN   \n",
       "51115       https://en.wikipedia.org/wiki/Hudson_Gardens   \n",
       "14753  https://en.wikipedia.org/wiki/Dallastown_Area_...   \n",
       "16697  https://en.wikipedia.org/wiki/Greater_Hartford...   \n",
       "\n",
       "                                        Commons category NLA Trove people ID  \\\n",
       "148    [University of Maryland, Baltimore County, Uni...                 NaN   \n",
       "12453                                                NaN                 NaN   \n",
       "20049                                                NaN                 NaN   \n",
       "19333                                                NaN                 NaN   \n",
       "29290                                                NaN                 NaN   \n",
       "48814                                                NaN                 NaN   \n",
       "50815                                                NaN                 NaN   \n",
       "51115                                                NaN                 NaN   \n",
       "14753                                                NaN                 NaN   \n",
       "16697                                                NaN                 NaN   \n",
       "\n",
       "      endowment                 VIAF ID Microsoft Academic ID     subreddit  \\\n",
       "148         NaN  [145133422, 145133422]  [79272384, 79272384]  [UMBC, UMBC]   \n",
       "12453       NaN                     NaN                   NaN           NaN   \n",
       "20049       NaN                     NaN                   NaN           NaN   \n",
       "19333       NaN                     NaN                   NaN           NaN   \n",
       "29290       NaN                     NaN                   NaN           NaN   \n",
       "48814       NaN                     NaN                   NaN           NaN   \n",
       "50815       NaN                     NaN                   NaN           NaN   \n",
       "51115       NaN                     NaN                   NaN           NaN   \n",
       "14753       NaN                     NaN                   NaN           NaN   \n",
       "16697       NaN                     NaN                   NaN           NaN   \n",
       "\n",
       "       ... size designation ICANNWiki page ID editor WikiProjectMed ID  \\\n",
       "148    ...              NaN               NaN    NaN               NaN   \n",
       "12453  ...              NaN               NaN    NaN               NaN   \n",
       "20049  ...              NaN               NaN    NaN               NaN   \n",
       "19333  ...              NaN               NaN    NaN               NaN   \n",
       "29290  ...              NaN               NaN    NaN               NaN   \n",
       "48814  ...              NaN               NaN    NaN               NaN   \n",
       "50815  ...              NaN               NaN    NaN               NaN   \n",
       "51115  ...              NaN               NaN    NaN               NaN   \n",
       "14753  ...              NaN               NaN    NaN               NaN   \n",
       "16697  ...              NaN               NaN    NaN               NaN   \n",
       "\n",
       "      SlideShare username IFTTT service ID APA Dictionary of Psychology entry  \\\n",
       "148                   NaN              NaN                                NaN   \n",
       "12453                 NaN              NaN                                NaN   \n",
       "20049                 NaN              NaN                                NaN   \n",
       "19333                 NaN              NaN                                NaN   \n",
       "29290                 NaN              NaN                                NaN   \n",
       "48814                 NaN              NaN                                NaN   \n",
       "50815                 NaN              NaN                                NaN   \n",
       "51115                 NaN              NaN                                NaN   \n",
       "14753                 NaN              NaN                                NaN   \n",
       "16697                 NaN              NaN                                NaN   \n",
       "\n",
       "      NCI Thesaurus ID J. Paul Getty Museum agent ID  \\\n",
       "148                NaN                           NaN   \n",
       "12453              NaN                           NaN   \n",
       "20049              NaN                           NaN   \n",
       "19333              NaN                           NaN   \n",
       "29290              NaN                           NaN   \n",
       "48814              NaN                           NaN   \n",
       "50815              NaN                           NaN   \n",
       "51115              NaN                           NaN   \n",
       "14753              NaN                           NaN   \n",
       "16697              NaN                           NaN   \n",
       "\n",
       "                        altLabels  \n",
       "148              [UMBC, umbc.edu]  \n",
       "12453                          []  \n",
       "20049                          []  \n",
       "19333                          []  \n",
       "29290                          []  \n",
       "48814                          []  \n",
       "50815  [New Hartford High School]  \n",
       "51115                          []  \n",
       "14753                          []  \n",
       "16697                          []  \n",
       "\n",
       "[10 rows x 1049 columns]"
      ]
     },
     "execution_count": 32,
     "metadata": {},
     "output_type": "execute_result"
    }
   ],
   "source": [
    "df.sample(10)"
   ]
  },
  {
   "cell_type": "code",
   "execution_count": 33,
   "metadata": {},
   "outputs": [],
   "source": [
    "cols_to_keep = [\"name\",\n",
    "    \"wd_id\",\n",
    "    \"wikipediaURL\",\n",
    "    \"short name\",\n",
    "    \"nickname\",\n",
    "    \"altLabels\",\n",
    "    \"alternative name\",\n",
    "    \"count of students\",\n",
    "    \"image\",\n",
    "    \"seal image\",\n",
    "    \"logo image\",\n",
    "    \"small logo or icon\",\n",
    "    \"icon\",\n",
    "    \"coat of arms image\",\n",
    "    \"X username\",\n",
    "    \"Instagram username\",\n",
    "    \"Facebook username\",\n",
    "    \"member of\",\n",
    "    \"instance of\",\n",
    "    \"street address\",\n",
    "    \"coordinate location\",\n",
    "    \"headquarters location\",\n",
    "    \"postal code\",\n",
    "    \"located in the administrative territorial entity\",\n",
    "    \"location\",\n",
    "    \"country\",\n",
    "    \"official website\",\n",
    "    \"LinkedIn company or organization ID\",\n",
    "    \"has subsidiary\",\n",
    "    \"part of\",\n",
    "    \"parent organization\",\n",
    "    \"owner of\",\n",
    "    \"parentOrganizations\",\n",
    "    \"official name\",\n",
    "    \"has part(s)\",\n",
    "    \"described at URL\",\n",
    "    \"subclass of\",\n",
    "    \"IRS Employer Identification Number\",\n",
    "    \"school district\",\n",
    "    \"start grade\",\n",
    "    \"end grade\"]\n",
    "subset_df = df[cols_to_keep]"
   ]
  },
  {
   "cell_type": "code",
   "execution_count": 41,
   "metadata": {},
   "outputs": [
    {
     "data": {
      "text/html": [
       "<div>\n",
       "<style scoped>\n",
       "    .dataframe tbody tr th:only-of-type {\n",
       "        vertical-align: middle;\n",
       "    }\n",
       "\n",
       "    .dataframe tbody tr th {\n",
       "        vertical-align: top;\n",
       "    }\n",
       "\n",
       "    .dataframe thead th {\n",
       "        text-align: right;\n",
       "    }\n",
       "</style>\n",
       "<table border=\"1\" class=\"dataframe\">\n",
       "  <thead>\n",
       "    <tr style=\"text-align: right;\">\n",
       "      <th></th>\n",
       "      <th>name</th>\n",
       "      <th>wd_id</th>\n",
       "      <th>wikipediaURL</th>\n",
       "      <th>short name</th>\n",
       "      <th>nickname</th>\n",
       "      <th>altLabels</th>\n",
       "      <th>alternative name</th>\n",
       "      <th>count of students</th>\n",
       "      <th>image</th>\n",
       "      <th>seal image</th>\n",
       "      <th>...</th>\n",
       "      <th>official name</th>\n",
       "      <th>has part(s)</th>\n",
       "      <th>described at URL</th>\n",
       "      <th>subclass of</th>\n",
       "      <th>IRS Employer Identification Number</th>\n",
       "      <th>school district</th>\n",
       "      <th>start grade</th>\n",
       "      <th>end grade</th>\n",
       "      <th>nicknames</th>\n",
       "      <th>icon</th>\n",
       "    </tr>\n",
       "  </thead>\n",
       "  <tbody>\n",
       "    <tr>\n",
       "      <th>0</th>\n",
       "      <td>Michigan Technological University</td>\n",
       "      <td>Q12432</td>\n",
       "      <td>https://en.wikipedia.org/wiki/Michigan_Technol...</td>\n",
       "      <td>NaN</td>\n",
       "      <td>NaN</td>\n",
       "      <td>[MTU, Mich Tech, Michigan Tech, Michigan Tech ...</td>\n",
       "      <td>NaN</td>\n",
       "      <td>[7074, 7074, 7074, 7074, 7074, 7074, 7074]</td>\n",
       "      <td>[http://commons.wikimedia.org/wiki/Special:Fil...</td>\n",
       "      <td>[http://commons.wikimedia.org/wiki/Special:Fil...</td>\n",
       "      <td>...</td>\n",
       "      <td>NaN</td>\n",
       "      <td>NaN</td>\n",
       "      <td>NaN</td>\n",
       "      <td>NaN</td>\n",
       "      <td>NaN</td>\n",
       "      <td>NaN</td>\n",
       "      <td>NaN</td>\n",
       "      <td>NaN</td>\n",
       "      <td>NaN</td>\n",
       "      <td>NaN</td>\n",
       "    </tr>\n",
       "    <tr>\n",
       "      <th>1</th>\n",
       "      <td>University of Massachusetts Amherst</td>\n",
       "      <td>Q15142</td>\n",
       "      <td>https://en.wikipedia.org/wiki/University_of_Ma...</td>\n",
       "      <td>NaN</td>\n",
       "      <td>NaN</td>\n",
       "      <td>[Massachusetts Agricultural College, Massachus...</td>\n",
       "      <td>NaN</td>\n",
       "      <td>[24209, 24209, 24209, 24209, 24209, 31350, 313...</td>\n",
       "      <td>[http://commons.wikimedia.org/wiki/Special:Fil...</td>\n",
       "      <td>[http://commons.wikimedia.org/wiki/Special:Fil...</td>\n",
       "      <td>...</td>\n",
       "      <td>NaN</td>\n",
       "      <td>NaN</td>\n",
       "      <td>NaN</td>\n",
       "      <td>NaN</td>\n",
       "      <td>NaN</td>\n",
       "      <td>NaN</td>\n",
       "      <td>NaN</td>\n",
       "      <td>NaN</td>\n",
       "      <td>NaN</td>\n",
       "      <td>NaN</td>\n",
       "    </tr>\n",
       "    <tr>\n",
       "      <th>2</th>\n",
       "      <td>University of Massachusetts Boston</td>\n",
       "      <td>Q15144</td>\n",
       "      <td>https://en.wikipedia.org/wiki/University_of_Ma...</td>\n",
       "      <td>[UMass Boston, UMass Boston, UMass Boston]</td>\n",
       "      <td>NaN</td>\n",
       "      <td>[UMass Boston, umb.edu, University of Massachu...</td>\n",
       "      <td>NaN</td>\n",
       "      <td>[16259, 16259, 16259]</td>\n",
       "      <td>[http://commons.wikimedia.org/wiki/Special:Fil...</td>\n",
       "      <td>NaN</td>\n",
       "      <td>...</td>\n",
       "      <td>[University of Massachusetts Boston, Universit...</td>\n",
       "      <td>NaN</td>\n",
       "      <td>NaN</td>\n",
       "      <td>NaN</td>\n",
       "      <td>NaN</td>\n",
       "      <td>NaN</td>\n",
       "      <td>NaN</td>\n",
       "      <td>NaN</td>\n",
       "      <td>NaN</td>\n",
       "      <td>NaN</td>\n",
       "    </tr>\n",
       "    <tr>\n",
       "      <th>3</th>\n",
       "      <td>University of Saint Joseph</td>\n",
       "      <td>Q24399</td>\n",
       "      <td>https://en.wikipedia.org/wiki/University_of_Sa...</td>\n",
       "      <td>NaN</td>\n",
       "      <td>NaN</td>\n",
       "      <td>[USJ, Saint Joseph College]</td>\n",
       "      <td>NaN</td>\n",
       "      <td>[2305, 2305]</td>\n",
       "      <td>NaN</td>\n",
       "      <td>NaN</td>\n",
       "      <td>...</td>\n",
       "      <td>NaN</td>\n",
       "      <td>NaN</td>\n",
       "      <td>NaN</td>\n",
       "      <td>NaN</td>\n",
       "      <td>NaN</td>\n",
       "      <td>NaN</td>\n",
       "      <td>NaN</td>\n",
       "      <td>NaN</td>\n",
       "      <td>NaN</td>\n",
       "      <td>NaN</td>\n",
       "    </tr>\n",
       "    <tr>\n",
       "      <th>4</th>\n",
       "      <td>Kansas State University</td>\n",
       "      <td>Q31249</td>\n",
       "      <td>https://en.wikipedia.org/wiki/Kansas_State_Uni...</td>\n",
       "      <td>NaN</td>\n",
       "      <td>NaN</td>\n",
       "      <td>[KSU, K-State, Kansas Agricultural College, Ka...</td>\n",
       "      <td>NaN</td>\n",
       "      <td>[20854, 20854, 20854, 20854, 20854, 20854, 168...</td>\n",
       "      <td>[http://commons.wikimedia.org/wiki/Special:Fil...</td>\n",
       "      <td>NaN</td>\n",
       "      <td>...</td>\n",
       "      <td>[Kansas State University of Agriculture and Ap...</td>\n",
       "      <td>NaN</td>\n",
       "      <td>NaN</td>\n",
       "      <td>NaN</td>\n",
       "      <td>NaN</td>\n",
       "      <td>NaN</td>\n",
       "      <td>NaN</td>\n",
       "      <td>NaN</td>\n",
       "      <td>NaN</td>\n",
       "      <td>NaN</td>\n",
       "    </tr>\n",
       "    <tr>\n",
       "      <th>...</th>\n",
       "      <td>...</td>\n",
       "      <td>...</td>\n",
       "      <td>...</td>\n",
       "      <td>...</td>\n",
       "      <td>...</td>\n",
       "      <td>...</td>\n",
       "      <td>...</td>\n",
       "      <td>...</td>\n",
       "      <td>...</td>\n",
       "      <td>...</td>\n",
       "      <td>...</td>\n",
       "      <td>...</td>\n",
       "      <td>...</td>\n",
       "      <td>...</td>\n",
       "      <td>...</td>\n",
       "      <td>...</td>\n",
       "      <td>...</td>\n",
       "      <td>...</td>\n",
       "      <td>...</td>\n",
       "      <td>...</td>\n",
       "      <td>...</td>\n",
       "    </tr>\n",
       "    <tr>\n",
       "      <th>76483</th>\n",
       "      <td>1st Engineer Brigade</td>\n",
       "      <td>Q27951753</td>\n",
       "      <td>https://en.wikipedia.org/wiki/1st_Engineer_Bri...</td>\n",
       "      <td>NaN</td>\n",
       "      <td>NaN</td>\n",
       "      <td>[1st Engineer Special Brigade]</td>\n",
       "      <td>NaN</td>\n",
       "      <td>NaN</td>\n",
       "      <td>[http://commons.wikimedia.org/wiki/Special:Fil...</td>\n",
       "      <td>NaN</td>\n",
       "      <td>...</td>\n",
       "      <td>NaN</td>\n",
       "      <td>NaN</td>\n",
       "      <td>NaN</td>\n",
       "      <td>NaN</td>\n",
       "      <td>NaN</td>\n",
       "      <td>NaN</td>\n",
       "      <td>NaN</td>\n",
       "      <td>NaN</td>\n",
       "      <td>NaN</td>\n",
       "      <td>NaN</td>\n",
       "    </tr>\n",
       "    <tr>\n",
       "      <th>76484</th>\n",
       "      <td>23rd Quartermaster Brigade</td>\n",
       "      <td>Q55734210</td>\n",
       "      <td>NaN</td>\n",
       "      <td>NaN</td>\n",
       "      <td>NaN</td>\n",
       "      <td>[23d Quartermaster Group, 23d Quartermaster Re...</td>\n",
       "      <td>NaN</td>\n",
       "      <td>NaN</td>\n",
       "      <td>NaN</td>\n",
       "      <td>NaN</td>\n",
       "      <td>...</td>\n",
       "      <td>NaN</td>\n",
       "      <td>NaN</td>\n",
       "      <td>NaN</td>\n",
       "      <td>NaN</td>\n",
       "      <td>NaN</td>\n",
       "      <td>NaN</td>\n",
       "      <td>NaN</td>\n",
       "      <td>NaN</td>\n",
       "      <td>NaN</td>\n",
       "      <td>NaN</td>\n",
       "    </tr>\n",
       "    <tr>\n",
       "      <th>76485</th>\n",
       "      <td>1st Aviation Brigade</td>\n",
       "      <td>Q91439560</td>\n",
       "      <td>https://en.wikipedia.org/wiki/1st_Aviation_Bri...</td>\n",
       "      <td>NaN</td>\n",
       "      <td>NaN</td>\n",
       "      <td>[]</td>\n",
       "      <td>NaN</td>\n",
       "      <td>NaN</td>\n",
       "      <td>[http://commons.wikimedia.org/wiki/Special:Fil...</td>\n",
       "      <td>NaN</td>\n",
       "      <td>...</td>\n",
       "      <td>NaN</td>\n",
       "      <td>NaN</td>\n",
       "      <td>NaN</td>\n",
       "      <td>NaN</td>\n",
       "      <td>NaN</td>\n",
       "      <td>NaN</td>\n",
       "      <td>NaN</td>\n",
       "      <td>NaN</td>\n",
       "      <td>NaN</td>\n",
       "      <td>NaN</td>\n",
       "    </tr>\n",
       "    <tr>\n",
       "      <th>76486</th>\n",
       "      <td>Cheyenne High School</td>\n",
       "      <td>Q30610476</td>\n",
       "      <td>https://en.wikipedia.org/wiki/Cheyenne_High_Sc...</td>\n",
       "      <td>NaN</td>\n",
       "      <td>NaN</td>\n",
       "      <td>[]</td>\n",
       "      <td>NaN</td>\n",
       "      <td>NaN</td>\n",
       "      <td>[http://commons.wikimedia.org/wiki/Special:Fil...</td>\n",
       "      <td>NaN</td>\n",
       "      <td>...</td>\n",
       "      <td>NaN</td>\n",
       "      <td>NaN</td>\n",
       "      <td>NaN</td>\n",
       "      <td>NaN</td>\n",
       "      <td>NaN</td>\n",
       "      <td>NaN</td>\n",
       "      <td>NaN</td>\n",
       "      <td>NaN</td>\n",
       "      <td>NaN</td>\n",
       "      <td>NaN</td>\n",
       "    </tr>\n",
       "    <tr>\n",
       "      <th>76487</th>\n",
       "      <td>Hopkins Academy</td>\n",
       "      <td>Q111139898</td>\n",
       "      <td>NaN</td>\n",
       "      <td>NaN</td>\n",
       "      <td>NaN</td>\n",
       "      <td>[Golden Gate Academy]</td>\n",
       "      <td>NaN</td>\n",
       "      <td>NaN</td>\n",
       "      <td>[http://commons.wikimedia.org/wiki/Special:Fil...</td>\n",
       "      <td>NaN</td>\n",
       "      <td>...</td>\n",
       "      <td>NaN</td>\n",
       "      <td>NaN</td>\n",
       "      <td>NaN</td>\n",
       "      <td>NaN</td>\n",
       "      <td>NaN</td>\n",
       "      <td>NaN</td>\n",
       "      <td>NaN</td>\n",
       "      <td>NaN</td>\n",
       "      <td>NaN</td>\n",
       "      <td>NaN</td>\n",
       "    </tr>\n",
       "  </tbody>\n",
       "</table>\n",
       "<p>58273 rows × 41 columns</p>\n",
       "</div>"
      ],
      "text/plain": [
       "                                      name       wd_id  \\\n",
       "0        Michigan Technological University      Q12432   \n",
       "1      University of Massachusetts Amherst      Q15142   \n",
       "2       University of Massachusetts Boston      Q15144   \n",
       "3               University of Saint Joseph      Q24399   \n",
       "4                  Kansas State University      Q31249   \n",
       "...                                    ...         ...   \n",
       "76483                 1st Engineer Brigade   Q27951753   \n",
       "76484           23rd Quartermaster Brigade   Q55734210   \n",
       "76485                 1st Aviation Brigade   Q91439560   \n",
       "76486                 Cheyenne High School   Q30610476   \n",
       "76487                      Hopkins Academy  Q111139898   \n",
       "\n",
       "                                            wikipediaURL  \\\n",
       "0      https://en.wikipedia.org/wiki/Michigan_Technol...   \n",
       "1      https://en.wikipedia.org/wiki/University_of_Ma...   \n",
       "2      https://en.wikipedia.org/wiki/University_of_Ma...   \n",
       "3      https://en.wikipedia.org/wiki/University_of_Sa...   \n",
       "4      https://en.wikipedia.org/wiki/Kansas_State_Uni...   \n",
       "...                                                  ...   \n",
       "76483  https://en.wikipedia.org/wiki/1st_Engineer_Bri...   \n",
       "76484                                                NaN   \n",
       "76485  https://en.wikipedia.org/wiki/1st_Aviation_Bri...   \n",
       "76486  https://en.wikipedia.org/wiki/Cheyenne_High_Sc...   \n",
       "76487                                                NaN   \n",
       "\n",
       "                                       short name nickname  \\\n",
       "0                                             NaN      NaN   \n",
       "1                                             NaN      NaN   \n",
       "2      [UMass Boston, UMass Boston, UMass Boston]      NaN   \n",
       "3                                             NaN      NaN   \n",
       "4                                             NaN      NaN   \n",
       "...                                           ...      ...   \n",
       "76483                                         NaN      NaN   \n",
       "76484                                         NaN      NaN   \n",
       "76485                                         NaN      NaN   \n",
       "76486                                         NaN      NaN   \n",
       "76487                                         NaN      NaN   \n",
       "\n",
       "                                               altLabels alternative name  \\\n",
       "0      [MTU, Mich Tech, Michigan Tech, Michigan Tech ...              NaN   \n",
       "1      [Massachusetts Agricultural College, Massachus...              NaN   \n",
       "2      [UMass Boston, umb.edu, University of Massachu...              NaN   \n",
       "3                            [USJ, Saint Joseph College]              NaN   \n",
       "4      [KSU, K-State, Kansas Agricultural College, Ka...              NaN   \n",
       "...                                                  ...              ...   \n",
       "76483                     [1st Engineer Special Brigade]              NaN   \n",
       "76484  [23d Quartermaster Group, 23d Quartermaster Re...              NaN   \n",
       "76485                                                 []              NaN   \n",
       "76486                                                 []              NaN   \n",
       "76487                              [Golden Gate Academy]              NaN   \n",
       "\n",
       "                                       count of students  \\\n",
       "0             [7074, 7074, 7074, 7074, 7074, 7074, 7074]   \n",
       "1      [24209, 24209, 24209, 24209, 24209, 31350, 313...   \n",
       "2                                  [16259, 16259, 16259]   \n",
       "3                                           [2305, 2305]   \n",
       "4      [20854, 20854, 20854, 20854, 20854, 20854, 168...   \n",
       "...                                                  ...   \n",
       "76483                                                NaN   \n",
       "76484                                                NaN   \n",
       "76485                                                NaN   \n",
       "76486                                                NaN   \n",
       "76487                                                NaN   \n",
       "\n",
       "                                                   image  \\\n",
       "0      [http://commons.wikimedia.org/wiki/Special:Fil...   \n",
       "1      [http://commons.wikimedia.org/wiki/Special:Fil...   \n",
       "2      [http://commons.wikimedia.org/wiki/Special:Fil...   \n",
       "3                                                    NaN   \n",
       "4      [http://commons.wikimedia.org/wiki/Special:Fil...   \n",
       "...                                                  ...   \n",
       "76483  [http://commons.wikimedia.org/wiki/Special:Fil...   \n",
       "76484                                                NaN   \n",
       "76485  [http://commons.wikimedia.org/wiki/Special:Fil...   \n",
       "76486  [http://commons.wikimedia.org/wiki/Special:Fil...   \n",
       "76487  [http://commons.wikimedia.org/wiki/Special:Fil...   \n",
       "\n",
       "                                              seal image  ...  \\\n",
       "0      [http://commons.wikimedia.org/wiki/Special:Fil...  ...   \n",
       "1      [http://commons.wikimedia.org/wiki/Special:Fil...  ...   \n",
       "2                                                    NaN  ...   \n",
       "3                                                    NaN  ...   \n",
       "4                                                    NaN  ...   \n",
       "...                                                  ...  ...   \n",
       "76483                                                NaN  ...   \n",
       "76484                                                NaN  ...   \n",
       "76485                                                NaN  ...   \n",
       "76486                                                NaN  ...   \n",
       "76487                                                NaN  ...   \n",
       "\n",
       "                                           official name has part(s)  \\\n",
       "0                                                    NaN         NaN   \n",
       "1                                                    NaN         NaN   \n",
       "2      [University of Massachusetts Boston, Universit...         NaN   \n",
       "3                                                    NaN         NaN   \n",
       "4      [Kansas State University of Agriculture and Ap...         NaN   \n",
       "...                                                  ...         ...   \n",
       "76483                                                NaN         NaN   \n",
       "76484                                                NaN         NaN   \n",
       "76485                                                NaN         NaN   \n",
       "76486                                                NaN         NaN   \n",
       "76487                                                NaN         NaN   \n",
       "\n",
       "      described at URL subclass of IRS Employer Identification Number  \\\n",
       "0                  NaN         NaN                                NaN   \n",
       "1                  NaN         NaN                                NaN   \n",
       "2                  NaN         NaN                                NaN   \n",
       "3                  NaN         NaN                                NaN   \n",
       "4                  NaN         NaN                                NaN   \n",
       "...                ...         ...                                ...   \n",
       "76483              NaN         NaN                                NaN   \n",
       "76484              NaN         NaN                                NaN   \n",
       "76485              NaN         NaN                                NaN   \n",
       "76486              NaN         NaN                                NaN   \n",
       "76487              NaN         NaN                                NaN   \n",
       "\n",
       "      school district start grade end grade nicknames icon  \n",
       "0                 NaN         NaN       NaN       NaN  NaN  \n",
       "1                 NaN         NaN       NaN       NaN  NaN  \n",
       "2                 NaN         NaN       NaN       NaN  NaN  \n",
       "3                 NaN         NaN       NaN       NaN  NaN  \n",
       "4                 NaN         NaN       NaN       NaN  NaN  \n",
       "...               ...         ...       ...       ...  ...  \n",
       "76483             NaN         NaN       NaN       NaN  NaN  \n",
       "76484             NaN         NaN       NaN       NaN  NaN  \n",
       "76485             NaN         NaN       NaN       NaN  NaN  \n",
       "76486             NaN         NaN       NaN       NaN  NaN  \n",
       "76487             NaN         NaN       NaN       NaN  NaN  \n",
       "\n",
       "[58273 rows x 41 columns]"
      ]
     },
     "execution_count": 41,
     "metadata": {},
     "output_type": "execute_result"
    }
   ],
   "source": [
    "# Consolidate nickname colummns\n",
    "subset_df['nicknames'] = subset_df.apply(lambda row: row.get(\"altLabels\", '') + row.get(\"short name\", '') + row.get(\"nickname\", '') + row.get(\"alternative name\", ''))\n",
    "subset_df.drop(\"altLabels\", axis = 1)\n",
    "subset_df.drop(\"short name\", axis = 1)\n",
    "subset_df.drop(\"nickname\", axis = 1)\n",
    "subset_df.drop(\"alternative name\", axis = 1)\n",
    "    \n",
    "# Consolidate image columns\n",
    "subset_df['icon'] = subset_df.apply(lambda row: row.get(\"seal image\", '') + row.get(\"logo image\", '') + row.get(\"small logo or icon\", '') + row.get(\"icon\", '') + row.get(\"coat of arms image\", ''))\n",
    "subset_df.drop(\"seal image\", axis = 1)\n",
    "subset_df.drop(\"logo image\", axis = 1)\n",
    "subset_df.drop(\"small logo or icon\", axis = 1)\n",
    "subset_df.drop(\"icon\", axis = 1)\n",
    "subset_df.drop(\"coat of arms image\", axis = 1)\n",
    "    \n",
    "# Consolidate location columns\n",
    "subset_df['location'] = subset_df.apply(lambda row: row.get(\"location\", '') + row.get(\"headquarters location\", '') + row.get(\"located in the administrative territorial entity\", ''))\n",
    "subset_df.drop(\"location\", axis = 1)\n",
    "subset_df.drop(\"headquarters location\", axis = 1)\n",
    "subset_df.drop(\"located in the administrative territorial entity\", axis = 1)\n",
    "subset_df.drop(\"location\", axis = 1)"
   ]
  },
  {
   "cell_type": "code",
   "execution_count": 49,
   "metadata": {},
   "outputs": [
    {
     "data": {
      "text/plain": [
       "(58273, 39)"
      ]
     },
     "execution_count": 49,
     "metadata": {},
     "output_type": "execute_result"
    }
   ],
   "source": [
    "subset_df.shape"
   ]
  },
  {
   "cell_type": "code",
   "execution_count": 101,
   "metadata": {},
   "outputs": [],
   "source": [
    "# remove all rows with certain values for instanceof\n",
    "instances_to_remove = ['organization', 'botanical garden','lyceum','degree program','church building','historic district','academic department of the Spanish language','building', 'laboratory', 'corporate research group', 'legal clinic','type of university','Q56377753','experimental station','research institute of international relations', 'China-focused think tank','international organization','501(c)(4) organization','environmental organization','secret service','foundation','Native American organization','business incubator','company','polling organization',\"Revelation in Mormonism\", 'bus type',\"commandment\", 'subsidiary','body of knowledge','government-organized non-governmental organization','land trust','peace organization','Islamic organization','research reactor','research center','geospatial laboratory', 'mixed martial arts training facility', 'laboratory', 'first-order class', 'training brigade','music library', 'publishing company', 'aspect in a geographic region', 'language regulator', 'nonprofit organization', 'think tank', 'neural buoyancy pool', 'school building', 'online database', 'human', 'academic library', 'academic department','academic library','seminary','academic department','think tank','interdisciplinary program','education company','open-access publisher','university campus','school accreditor','type of educational institution','university museum','university research group','business','Catholic seminary','arboretum','dental school','residential college','public research university','music school','military school','charter school','school for the deaf','arboretum','department','university building','library','US state education agency','school district of Oregon','state university system','yeshiva','government agency','library network','501(c)(3) organization','gymnasium','Colleges That Change Lives','Syracuse University Centers and Institutes','dance studio','research library','board of directors','hospital','museum','geography department','division of an educational institution','academic publisher','library building','university network','military unit','art museum','division','facility','fixed construction','statistical service','arts educational institution','library branch','professional association','archive','park','historic building','training facility','educational website','rose garden','university art museum','university library','board of education','teaching hospital','community college district','architectural structure','research unit','type of Roman Catholic institution','research department','degree program','academy of sciences', 'website','zoo', 'United States federal agency', 'military facility', 'language regulator', 'advocacy group', 'Christian organization', 'department of education', 'Wikimedia disambiguation page']"
   ]
  },
  {
   "cell_type": "code",
   "execution_count": 102,
   "metadata": {},
   "outputs": [
    {
     "data": {
      "text/plain": [
       "instance of\n",
       "high school                                                                                     11471\n",
       "university                                                                                       6480\n",
       "school district                                                                                  5569\n",
       "school                                                                                           4520\n",
       "[public school, high school]                                                                     2480\n",
       "                                                                                                ...  \n",
       "[primary school, high school, private school]                                                       1\n",
       "[vocational-technical school, engineering school, magnet school, public school, high school]        1\n",
       "[high school, engineering school, charter school network, educational institution]                  1\n",
       "[high school, special education]                                                                    1\n",
       "[former school building, former educational institution]                                            1\n",
       "Name: count, Length: 3019, dtype: int64"
      ]
     },
     "execution_count": 102,
     "metadata": {},
     "output_type": "execute_result"
    }
   ],
   "source": [
    "subset_df['instance of'].value_counts()"
   ]
  },
  {
   "cell_type": "code",
   "execution_count": 103,
   "metadata": {},
   "outputs": [],
   "source": [
    "subset_df['instance of'] = subset_df['instance of'].apply(lambda instances: instances if isinstance(instances, list) else [instances])\n",
    "\n",
    "subset_df['instance of'] = subset_df['instance of'].apply(\n",
    "    lambda instances: [instance for instance in instances if instance not in instances_to_remove]\n",
    ")"
   ]
  },
  {
   "cell_type": "code",
   "execution_count": 104,
   "metadata": {},
   "outputs": [
    {
     "name": "stdout",
     "output_type": "stream",
     "text": [
      "Dropping 33 items without an instance of. 55177 entities remaining.\n"
     ]
    }
   ],
   "source": [
    "# Count rows before filtering\n",
    "initial_count = len(subset_df)\n",
    "\n",
    "# Drop items without instance of\n",
    "subset_df = subset_df.dropna(subset=['instance of'])\n",
    "subset_df = subset_df[subset_df['instance of'].apply(lambda x: x != [])]  # Drop rows where 'instance of' is an empty list\n",
    "# Count rows after filtering\n",
    "final_count = len(subset_df)\n",
    "\n",
    "# Calculate and print the number of dropped rows\n",
    "dropped_count = initial_count - final_count\n",
    "print(f\"Dropping {dropped_count} items without an instance of. {final_count} entities remaining.\")"
   ]
  },
  {
   "cell_type": "code",
   "execution_count": null,
   "metadata": {},
   "outputs": [],
   "source": [
    "def schoolTypeMap(name: str):\n",
    "    name = name.casefold()\n",
    "    types = []\n",
    "    if 'university' in name:\n",
    "        types.append('university')\n",
    "    if 'college' in name:\n",
    "        types.append('college')\n",
    "    if 'prep' in name:\n",
    "        types.append('high school')\n",
    "    if 'business' in name:\n",
    "        types.append('business school')\n",
    "    if 'law' in name:\n",
    "        types.append('law school')\n",
    "    if 'tech' in name or 'engineer' in name:\n",
    "        types.append('engineering school')\n",
    "    if 'elementary' in name:\n",
    "        types.append('elementary school')\n",
    "    if 'junior high' in name:\n",
    "        types.append('junior high school')\n",
    "    elif 'high' in name:\n",
    "        types.append('high school')\n",
    "    if 'medical' in name or 'med' in name:\n",
    "        types.append('medical school')\n",
    "    return types\n",
    "\n",
    "def process_row(row):\n",
    "    # Ensure 'instance of' is a list\n",
    "    if isinstance(row['instance of'], str):\n",
    "        try:\n",
    "            instance_of_list = ast.literal_eval(row['instance of'])\n",
    "        except (ValueError, SyntaxError):\n",
    "            instance_of_list = []\n",
    "    elif isinstance(row['instance of'], list):\n",
    "        instance_of_list = row['instance of']\n",
    "    else:\n",
    "        instance_of_list = []\n",
    "\n",
    "    # Extend with types from the schoolTypeMap\n",
    "    instance_of_list.extend(schoolTypeMap(row['name']))\n",
    "    return instance_of_list\n",
    "\n",
    "subset_df['instance of'] = subset_df.apply(process_row, axis=1)"
   ]
  },
  {
   "cell_type": "code",
   "execution_count": 105,
   "metadata": {},
   "outputs": [
    {
     "name": "stderr",
     "output_type": "stream",
     "text": [
      "/var/folders/hj/n2g00xyx4p325jm_p7rk5mx80000gn/T/ipykernel_51869/2704624317.py:49: FutureWarning: DataFrame.applymap has been deprecated. Use DataFrame.map instead.\n",
      "  return df.applymap(process_cell)\n"
     ]
    },
    {
     "name": "stdout",
     "output_type": "stream",
     "text": [
      "(55177, 40)\n",
      "                                                    name       wd_id  \\\n",
      "53345             Darrouzett Independent School District    Q5225333   \n",
      "29721                              Pugu Secondary School    Q7258977   \n",
      "314                            Texas Lutheran University    Q3301911   \n",
      "26258                             Innovation High School   Q85769485   \n",
      "25375                             Scottsboro High School   Q23302926   \n",
      "8986   KSITM KATSINA STATE INSTITUTE OF TECHNOLOGY AN...  Q110826099   \n",
      "31908                                       HARP Academy   Q24456710   \n",
      "25515                               Fox Tech High School   Q26258685   \n",
      "20007                            Monte Vista High School    Q6904948   \n",
      "22464                             Versailles High School    Q7922617   \n",
      "\n",
      "                                               altLabels  \\\n",
      "53345                                               None   \n",
      "29721                                               None   \n",
      "314                                [TLU, Texas Lutheran]   \n",
      "26258                                               None   \n",
      "25375                                               None   \n",
      "8986                                                None   \n",
      "31908                                               None   \n",
      "25515  [San Antonio High School, Main Avenue High Sch...   \n",
      "20007                                               None   \n",
      "22464                                               None   \n",
      "\n",
      "                                             instance of  \\\n",
      "53345                                    school district   \n",
      "29721                                             school   \n",
      "314    [private not-for-profit educational institutio...   \n",
      "26258                                        high school   \n",
      "25375                                        high school   \n",
      "8986                   [engineering school, polytechnic]   \n",
      "31908                                             school   \n",
      "25515                  [high school, engineering school]   \n",
      "20007                       [public school, high school]   \n",
      "22464                       [public school, high school]   \n",
      "\n",
      "                                            wikipediaURL short name nickname  \\\n",
      "53345  https://en.wikipedia.org/wiki/Darrouzett_Indep...        NaN      NaN   \n",
      "29721                                                NaN        NaN      NaN   \n",
      "314    https://en.wikipedia.org/wiki/Texas_Lutheran_U...        NaN      NaN   \n",
      "26258  https://en.wikipedia.org/wiki/Innovation_High_...        NaN      NaN   \n",
      "25375  https://en.wikipedia.org/wiki/Scottsboro_High_...        NaN      NaN   \n",
      "8986                                                 NaN        NaN      NaN   \n",
      "31908  https://en.wikipedia.org/wiki/Paterson_STEAM_H...        NaN      NaN   \n",
      "25515  https://en.wikipedia.org/wiki/Fox_Tech_High_Sc...        NaN      NaN   \n",
      "20007  https://en.wikipedia.org/wiki/Monte_Vista_High...        NaN      NaN   \n",
      "22464  https://en.wikipedia.org/wiki/Versailles_High_...        NaN      NaN   \n",
      "\n",
      "      alternative name count of students  \\\n",
      "53345              NaN               NaN   \n",
      "29721              NaN               NaN   \n",
      "314                NaN      [1287, 1499]   \n",
      "26258              NaN               NaN   \n",
      "25375              NaN               NaN   \n",
      "8986               NaN               NaN   \n",
      "31908              NaN               NaN   \n",
      "25515              NaN               NaN   \n",
      "20007              NaN               NaN   \n",
      "22464              NaN               NaN   \n",
      "\n",
      "                                                   image  ...  \\\n",
      "53345                                                NaN  ...   \n",
      "29721                                                NaN  ...   \n",
      "314                                                  NaN  ...   \n",
      "26258                                                NaN  ...   \n",
      "25375                                                NaN  ...   \n",
      "8986   http://commons.wikimedia.org/wiki/Special:File...  ...   \n",
      "31908                                                NaN  ...   \n",
      "25515                                                NaN  ...   \n",
      "20007  http://commons.wikimedia.org/wiki/Special:File...  ...   \n",
      "22464                                                NaN  ...   \n",
      "\n",
      "      parentOrganizations official name has part(s) described at URL  \\\n",
      "53345                 NaN           NaN         NaN              NaN   \n",
      "29721                 NaN           NaN         NaN              NaN   \n",
      "314                   NaN           NaN         NaN              NaN   \n",
      "26258                 NaN           NaN         NaN              NaN   \n",
      "25375                 NaN           NaN         NaN              NaN   \n",
      "8986                  NaN           NaN         NaN              NaN   \n",
      "31908                 NaN           NaN         NaN              NaN   \n",
      "25515                 NaN           NaN         NaN              NaN   \n",
      "20007                 NaN           NaN         NaN              NaN   \n",
      "22464                 NaN           NaN         NaN              NaN   \n",
      "\n",
      "      subclass of IRS Employer Identification Number  \\\n",
      "53345         NaN                                NaN   \n",
      "29721         NaN                                NaN   \n",
      "314           NaN                                NaN   \n",
      "26258         NaN                                NaN   \n",
      "25375         NaN                                NaN   \n",
      "8986          NaN                                NaN   \n",
      "31908         NaN                                NaN   \n",
      "25515         NaN                                NaN   \n",
      "20007         NaN                                NaN   \n",
      "22464         NaN                                NaN   \n",
      "\n",
      "                                school district start grade end grade  \\\n",
      "53345                                       NaN         NaN       NaN   \n",
      "29721                                       NaN         NaN       NaN   \n",
      "314                                         NaN         NaN       NaN   \n",
      "26258                Jersey City Public Schools         NaN       NaN   \n",
      "25375                   Scottsboro City Schools         NaN       NaN   \n",
      "8986                                        NaN         NaN       NaN   \n",
      "31908                   Paterson Public Schools         NaN       NaN   \n",
      "25515   San Antonio Independent School District         NaN       NaN   \n",
      "20007  San Ramon Valley Unified School District         NaN       NaN   \n",
      "22464                                       NaN         NaN       NaN   \n",
      "\n",
      "                                             description  \n",
      "53345  Darrouzett Independent School District is a pu...  \n",
      "29721  An error occurred while fetching the page: Inv...  \n",
      "314    Texas Lutheran University ( TLU ) is a private...  \n",
      "26258  The Innovation High School is a four-year comp...  \n",
      "25375  Scottsboro High School is a public institution...  \n",
      "8986   An error occurred while fetching the page: Inv...  \n",
      "31908  Paterson STEAM High School is a four-year publ...  \n",
      "25515  Fox Technical High School is a public high sch...  \n",
      "20007  Monte Vista High School is a comprehensive pub...  \n",
      "22464  Versailles High School is a public high school...  \n",
      "\n",
      "[10 rows x 40 columns]\n"
     ]
    }
   ],
   "source": [
    "import ast\n",
    "\n",
    "def consolidate_dataframe(df):\n",
    "    \"\"\"\n",
    "    For each column in the DataFrame:\n",
    "    - If a cell contains multiple distinct entries, it is converted into a list of unique values.\n",
    "    - If all entries in a cell are identical, consolidate them into a single string.\n",
    "\n",
    "    Parameters:\n",
    "    df (pd.DataFrame): Input DataFrame.\n",
    "\n",
    "    Returns:\n",
    "    pd.DataFrame: Transformed DataFrame.\n",
    "    \"\"\"\n",
    "    def process_cell(cell):\n",
    "        # Ensure cell is properly handled\n",
    "        if isinstance(cell, str):\n",
    "            try:\n",
    "                # Attempt to parse the string as a Python literal (e.g., list)\n",
    "                parsed = ast.literal_eval(cell)\n",
    "            except (ValueError, SyntaxError):\n",
    "                # If it cannot be parsed, leave as a string\n",
    "                return cell\n",
    "        else:\n",
    "            parsed = cell\n",
    "\n",
    "        # Handle parsed data if it's a list\n",
    "        if isinstance(parsed, list):\n",
    "            hashable_items = []\n",
    "            for item in parsed:\n",
    "                if isinstance(item, dict):\n",
    "                    # Convert dict to tuple of sorted items for deduplication\n",
    "                    hashable_items.append(tuple(sorted(item.items())))\n",
    "                else:\n",
    "                    hashable_items.append(item)\n",
    "            \n",
    "            # Get unique values\n",
    "            unique_values = list(set(hashable_items))\n",
    "            \n",
    "            # Convert tuples back to dictionaries, if applicable\n",
    "            unique_values = [dict(item) if isinstance(item, tuple) else item for item in unique_values]\n",
    "            \n",
    "            return unique_values if len(unique_values) > 1 else unique_values[0] if unique_values else None\n",
    "\n",
    "        # Return non-list cells as-is\n",
    "        return cell\n",
    "\n",
    "    # Apply the transformation to the entire DataFrame\n",
    "    return df.applymap(process_cell)\n",
    "\n",
    "# Process the DataFrame\n",
    "subset_df = consolidate_dataframe(subset_df)\n",
    "\n",
    "# Output results\n",
    "print(subset_df.shape)\n",
    "print(subset_df.sample(10))"
   ]
  },
  {
   "cell_type": "code",
   "execution_count": 106,
   "metadata": {},
   "outputs": [
    {
     "data": {
      "text/plain": [
       "Index(['name', 'wd_id', 'altLabels', 'instance of', 'wikipediaURL',\n",
       "       'short name', 'nickname', 'alternative name', 'count of students',\n",
       "       'image', 'seal image', 'logo image', 'small logo or icon',\n",
       "       'coat of arms image', 'X username', 'Instagram username',\n",
       "       'Facebook username', 'member of', 'street address',\n",
       "       'coordinate location', 'headquarters location', 'postal code',\n",
       "       'located in the administrative territorial entity', 'country',\n",
       "       'official website', 'LinkedIn company or organization ID',\n",
       "       'has subsidiary', 'part of', 'parent organization', 'owner of',\n",
       "       'parentOrganizations', 'official name', 'has part(s)',\n",
       "       'described at URL', 'subclass of', 'IRS Employer Identification Number',\n",
       "       'school district', 'start grade', 'end grade', 'description'],\n",
       "      dtype='object')"
      ]
     },
     "execution_count": 106,
     "metadata": {},
     "output_type": "execute_result"
    }
   ],
   "source": [
    "subset_df.columns"
   ]
  },
  {
   "cell_type": "code",
   "execution_count": 107,
   "metadata": {},
   "outputs": [
    {
     "name": "stdout",
     "output_type": "stream",
     "text": [
      "Dropping 0 columns without any content\n"
     ]
    }
   ],
   "source": [
    "# drop all columns where one or zero rows have value\n",
    "\n",
    "initial_count = subset_df.shape[1]\n",
    "\n",
    "subset_df = subset_df.dropna(axis=1, how='all')\n",
    "subset_df = subset_df.loc[:, subset_df.notna().sum() > 1]\n",
    "subset_df = subset_df[['name'] + ['wd_id'] + ['altLabels'] + ['instance of'] + [col for col in subset_df.columns if col != 'name' and col != 'wd_id' and col != 'altLabels' and col != 'instance of']]\n",
    "\n",
    "final_count = subset_df.shape[1]\n",
    "dropped_count = initial_count - final_count\n",
    "print(f\"Dropping {dropped_count} columns without any content\")"
   ]
  },
  {
   "cell_type": "code",
   "execution_count": 108,
   "metadata": {},
   "outputs": [
    {
     "name": "stderr",
     "output_type": "stream",
     "text": [
      "Fetching summaries:   0%|          | 2/55177 [00:00<6:04:36,  2.52it/s]\n"
     ]
    },
    {
     "ename": "KeyboardInterrupt",
     "evalue": "",
     "output_type": "error",
     "traceback": [
      "\u001b[0;31m---------------------------------------------------------------------------\u001b[0m",
      "\u001b[0;31mKeyboardInterrupt\u001b[0m                         Traceback (most recent call last)",
      "Cell \u001b[0;32mIn[108], line 25\u001b[0m\n\u001b[1;32m     22\u001b[0m     \u001b[38;5;28;01mreturn\u001b[39;00m df\n\u001b[1;32m     24\u001b[0m \u001b[38;5;66;03m# Example usage\u001b[39;00m\n\u001b[0;32m---> 25\u001b[0m subset_df \u001b[38;5;241m=\u001b[39m \u001b[43mprocess_in_parallel\u001b[49m\u001b[43m(\u001b[49m\u001b[43msubset_df\u001b[49m\u001b[43m,\u001b[49m\u001b[43m \u001b[49m\u001b[43mworkers\u001b[49m\u001b[38;5;241;43m=\u001b[39;49m\u001b[38;5;241;43m8\u001b[39;49m\u001b[43m)\u001b[49m\n",
      "Cell \u001b[0;32mIn[108], line 16\u001b[0m, in \u001b[0;36mprocess_in_parallel\u001b[0;34m(df, workers)\u001b[0m\n\u001b[1;32m     13\u001b[0m \u001b[38;5;28;01mdef\u001b[39;00m \u001b[38;5;21mprocess_in_parallel\u001b[39m(df, workers\u001b[38;5;241m=\u001b[39m\u001b[38;5;241m4\u001b[39m):\n\u001b[1;32m     14\u001b[0m     \u001b[38;5;28;01mwith\u001b[39;00m ThreadPoolExecutor(max_workers\u001b[38;5;241m=\u001b[39mworkers) \u001b[38;5;28;01mas\u001b[39;00m executor:\n\u001b[1;32m     15\u001b[0m         \u001b[38;5;66;03m# Use tqdm to show progress\u001b[39;00m\n\u001b[0;32m---> 16\u001b[0m         results \u001b[38;5;241m=\u001b[39m \u001b[38;5;28;43mlist\u001b[39;49m\u001b[43m(\u001b[49m\u001b[43mtqdm\u001b[49m\u001b[43m(\u001b[49m\n\u001b[1;32m     17\u001b[0m \u001b[43m            \u001b[49m\u001b[43mexecutor\u001b[49m\u001b[38;5;241;43m.\u001b[39;49m\u001b[43mmap\u001b[49m\u001b[43m(\u001b[49m\u001b[43mfetch_description\u001b[49m\u001b[43m,\u001b[49m\u001b[43m \u001b[49m\u001b[43m[\u001b[49m\u001b[43mrow\u001b[49m\u001b[43m \u001b[49m\u001b[38;5;28;43;01mfor\u001b[39;49;00m\u001b[43m \u001b[49m\u001b[43m_\u001b[49m\u001b[43m,\u001b[49m\u001b[43m \u001b[49m\u001b[43mrow\u001b[49m\u001b[43m \u001b[49m\u001b[38;5;129;43;01min\u001b[39;49;00m\u001b[43m \u001b[49m\u001b[43mdf\u001b[49m\u001b[38;5;241;43m.\u001b[39;49m\u001b[43miterrows\u001b[49m\u001b[43m(\u001b[49m\u001b[43m)\u001b[49m\u001b[43m]\u001b[49m\u001b[43m)\u001b[49m\u001b[43m,\u001b[49m\n\u001b[1;32m     18\u001b[0m \u001b[43m            \u001b[49m\u001b[43mtotal\u001b[49m\u001b[38;5;241;43m=\u001b[39;49m\u001b[38;5;28;43mlen\u001b[39;49m\u001b[43m(\u001b[49m\u001b[43mdf\u001b[49m\u001b[43m)\u001b[49m\u001b[43m,\u001b[49m\n\u001b[1;32m     19\u001b[0m \u001b[43m            \u001b[49m\u001b[43mdesc\u001b[49m\u001b[38;5;241;43m=\u001b[39;49m\u001b[38;5;124;43m\"\u001b[39;49m\u001b[38;5;124;43mFetching summaries\u001b[39;49m\u001b[38;5;124;43m\"\u001b[39;49m\n\u001b[1;32m     20\u001b[0m \u001b[43m        \u001b[49m\u001b[43m)\u001b[49m\u001b[43m)\u001b[49m\n\u001b[1;32m     21\u001b[0m     df[\u001b[38;5;124m'\u001b[39m\u001b[38;5;124mdescription\u001b[39m\u001b[38;5;124m'\u001b[39m] \u001b[38;5;241m=\u001b[39m results\n\u001b[1;32m     22\u001b[0m     \u001b[38;5;28;01mreturn\u001b[39;00m df\n",
      "File \u001b[0;32m~/Library/Python/3.9/lib/python/site-packages/tqdm/std.py:1181\u001b[0m, in \u001b[0;36mtqdm.__iter__\u001b[0;34m(self)\u001b[0m\n\u001b[1;32m   1178\u001b[0m time \u001b[38;5;241m=\u001b[39m \u001b[38;5;28mself\u001b[39m\u001b[38;5;241m.\u001b[39m_time\n\u001b[1;32m   1180\u001b[0m \u001b[38;5;28;01mtry\u001b[39;00m:\n\u001b[0;32m-> 1181\u001b[0m     \u001b[38;5;28;01mfor\u001b[39;00m obj \u001b[38;5;129;01min\u001b[39;00m iterable:\n\u001b[1;32m   1182\u001b[0m         \u001b[38;5;28;01myield\u001b[39;00m obj\n\u001b[1;32m   1183\u001b[0m         \u001b[38;5;66;03m# Update and possibly print the progressbar.\u001b[39;00m\n\u001b[1;32m   1184\u001b[0m         \u001b[38;5;66;03m# Note: does not call self.update(1) for speed optimisation.\u001b[39;00m\n",
      "File \u001b[0;32m/Applications/Xcode.app/Contents/Developer/Library/Frameworks/Python3.framework/Versions/3.9/lib/python3.9/concurrent/futures/_base.py:608\u001b[0m, in \u001b[0;36mExecutor.map.<locals>.result_iterator\u001b[0;34m()\u001b[0m\n\u001b[1;32m    605\u001b[0m \u001b[38;5;28;01mwhile\u001b[39;00m fs:\n\u001b[1;32m    606\u001b[0m     \u001b[38;5;66;03m# Careful not to keep a reference to the popped future\u001b[39;00m\n\u001b[1;32m    607\u001b[0m     \u001b[38;5;28;01mif\u001b[39;00m timeout \u001b[38;5;129;01mis\u001b[39;00m \u001b[38;5;28;01mNone\u001b[39;00m:\n\u001b[0;32m--> 608\u001b[0m         \u001b[38;5;28;01myield\u001b[39;00m \u001b[43mfs\u001b[49m\u001b[38;5;241;43m.\u001b[39;49m\u001b[43mpop\u001b[49m\u001b[43m(\u001b[49m\u001b[43m)\u001b[49m\u001b[38;5;241;43m.\u001b[39;49m\u001b[43mresult\u001b[49m\u001b[43m(\u001b[49m\u001b[43m)\u001b[49m\n\u001b[1;32m    609\u001b[0m     \u001b[38;5;28;01melse\u001b[39;00m:\n\u001b[1;32m    610\u001b[0m         \u001b[38;5;28;01myield\u001b[39;00m fs\u001b[38;5;241m.\u001b[39mpop()\u001b[38;5;241m.\u001b[39mresult(end_time \u001b[38;5;241m-\u001b[39m time\u001b[38;5;241m.\u001b[39mmonotonic())\n",
      "File \u001b[0;32m/Applications/Xcode.app/Contents/Developer/Library/Frameworks/Python3.framework/Versions/3.9/lib/python3.9/concurrent/futures/_base.py:440\u001b[0m, in \u001b[0;36mFuture.result\u001b[0;34m(self, timeout)\u001b[0m\n\u001b[1;32m    437\u001b[0m \u001b[38;5;28;01melif\u001b[39;00m \u001b[38;5;28mself\u001b[39m\u001b[38;5;241m.\u001b[39m_state \u001b[38;5;241m==\u001b[39m FINISHED:\n\u001b[1;32m    438\u001b[0m     \u001b[38;5;28;01mreturn\u001b[39;00m \u001b[38;5;28mself\u001b[39m\u001b[38;5;241m.\u001b[39m__get_result()\n\u001b[0;32m--> 440\u001b[0m \u001b[38;5;28;43mself\u001b[39;49m\u001b[38;5;241;43m.\u001b[39;49m\u001b[43m_condition\u001b[49m\u001b[38;5;241;43m.\u001b[39;49m\u001b[43mwait\u001b[49m\u001b[43m(\u001b[49m\u001b[43mtimeout\u001b[49m\u001b[43m)\u001b[49m\n\u001b[1;32m    442\u001b[0m \u001b[38;5;28;01mif\u001b[39;00m \u001b[38;5;28mself\u001b[39m\u001b[38;5;241m.\u001b[39m_state \u001b[38;5;129;01min\u001b[39;00m [CANCELLED, CANCELLED_AND_NOTIFIED]:\n\u001b[1;32m    443\u001b[0m     \u001b[38;5;28;01mraise\u001b[39;00m CancelledError()\n",
      "File \u001b[0;32m/Applications/Xcode.app/Contents/Developer/Library/Frameworks/Python3.framework/Versions/3.9/lib/python3.9/threading.py:312\u001b[0m, in \u001b[0;36mCondition.wait\u001b[0;34m(self, timeout)\u001b[0m\n\u001b[1;32m    310\u001b[0m \u001b[38;5;28;01mtry\u001b[39;00m:    \u001b[38;5;66;03m# restore state no matter what (e.g., KeyboardInterrupt)\u001b[39;00m\n\u001b[1;32m    311\u001b[0m     \u001b[38;5;28;01mif\u001b[39;00m timeout \u001b[38;5;129;01mis\u001b[39;00m \u001b[38;5;28;01mNone\u001b[39;00m:\n\u001b[0;32m--> 312\u001b[0m         \u001b[43mwaiter\u001b[49m\u001b[38;5;241;43m.\u001b[39;49m\u001b[43macquire\u001b[49m\u001b[43m(\u001b[49m\u001b[43m)\u001b[49m\n\u001b[1;32m    313\u001b[0m         gotit \u001b[38;5;241m=\u001b[39m \u001b[38;5;28;01mTrue\u001b[39;00m\n\u001b[1;32m    314\u001b[0m     \u001b[38;5;28;01melse\u001b[39;00m:\n",
      "\u001b[0;31mKeyboardInterrupt\u001b[0m: "
     ]
    }
   ],
   "source": [
    "from concurrent.futures import ThreadPoolExecutor\n",
    "from tqdm import tqdm\n",
    "import pandas as pd\n",
    "from generate_summary import scrape_wikipedia_summary\n",
    "\n",
    "# Function to fetch description\n",
    "def fetch_description(row):\n",
    "    if row.get('wikipediaURL'):\n",
    "        return scrape_wikipedia_summary(row['wikipediaURL'])\n",
    "    return None\n",
    "\n",
    "# Process DataFrame in parallel\n",
    "def process_in_parallel(df, workers=4):\n",
    "    with ThreadPoolExecutor(max_workers=workers) as executor:\n",
    "        # Use tqdm to show progress\n",
    "        results = list(tqdm(\n",
    "            executor.map(fetch_description, [row for _, row in df.iterrows()]),\n",
    "            total=len(df),\n",
    "            desc=\"Fetching summaries\"\n",
    "        ))\n",
    "    df['description'] = results\n",
    "    return df\n",
    "\n",
    "# Example usage\n",
    "subset_df = process_in_parallel(subset_df, workers=8)\n"
   ]
  },
  {
   "cell_type": "code",
   "execution_count": 109,
   "metadata": {},
   "outputs": [
    {
     "name": "stdout",
     "output_type": "stream",
     "text": [
      "Wrote df to processed_schools_min_cols_1733507105.361252.csv\n"
     ]
    }
   ],
   "source": [
    "file_name = f'processed_schools_min_cols_1733507105.361252.csv'\n",
    "\n",
    "subset_df.to_csv(file_name, index=False)\n",
    "\n",
    "print(f'Wrote df to {file_name}')"
   ]
  },
  {
   "cell_type": "code",
   "execution_count": null,
   "metadata": {},
   "outputs": [],
   "source": [
    "# un-list items\n",
    "import numpy as np\n",
    "\n",
    "for col in subset_df.columns:\n",
    "    subset_df[col] = subset_df[col].apply(\n",
    "        lambda x: x[0] if isinstance(x, list) and len(x) == 1 else x\n",
    "    )"
   ]
  },
  {
   "cell_type": "code",
   "execution_count": null,
   "metadata": {},
   "outputs": [],
   "source": [
    "print(subset_df.head())\n",
    "print(subset_df.dtypes)"
   ]
  },
  {
   "cell_type": "code",
   "execution_count": null,
   "metadata": {},
   "outputs": [],
   "source": [
    "subset_df.sample(5)"
   ]
  },
  {
   "cell_type": "code",
   "execution_count": null,
   "metadata": {},
   "outputs": [],
   "source": [
    "subset_df['nickname'].value_counts()\n"
   ]
  },
  {
   "cell_type": "markdown",
   "metadata": {},
   "source": [
    "subset_df.col"
   ]
  },
  {
   "cell_type": "markdown",
   "metadata": {},
   "source": [
    "# Merge in nicknames"
   ]
  },
  {
   "cell_type": "code",
   "execution_count": null,
   "metadata": {},
   "outputs": [],
   "source": [
    "file_name = 'processed_schools_min_cols_1732026738.218009.csv'"
   ]
  },
  {
   "cell_type": "code",
   "execution_count": null,
   "metadata": {},
   "outputs": [],
   "source": [
    "from concurrent.futures import ThreadPoolExecutor, as_completed\n",
    "import requests\n",
    "import random\n",
    "\n",
    "def fetch_nicknames(wikidata_id):\n",
    "    query = f\"\"\"\n",
    "    SELECT ?itemLabel ?altLabel WHERE {{\n",
    "        BIND(wd:{wikidata_id} AS ?item)  # Bind the input entity to ?item\n",
    "        OPTIONAL {{ ?item skos:altLabel ?altLabel . FILTER (LANG(?altLabel) = \"en\") }}\n",
    "        SERVICE wikibase:label {{ bd:serviceParam wikibase:language \"en\". }}\n",
    "    }}\n",
    "    \"\"\"\n",
    "    \n",
    "    endpoint_url = \"https://query.wikidata.org/sparql\"\n",
    "    sparql = SPARQLWrapper(endpoint_url)\n",
    "    sparql.setQuery(query)\n",
    "    sparql.setReturnFormat(JSON)\n",
    "    \n",
    "    \n",
    "    # Execute the query and fetch results\n",
    "    sparql.query()\n",
    "    results = sparql.query().convert()\n",
    "\n",
    "    # Extract nicknames (altLabels) from results\n",
    "    nicknames = [result.get('altLabel')['value'] for result in results['results']['bindings'] if result.get('altLabel')]\n",
    "    return nicknames\n",
    "\n",
    "def fetch_entity_with_retry(entity, max_retries=5, backoff_factor=1.5):\n",
    "    retries = 0\n",
    "    while retries < max_retries:\n",
    "        try:\n",
    "            # Replace this with the actual API call\n",
    "            result = fetch_nicknames(entity)  # Your function that fetches the entity\n",
    "            return result\n",
    "        except Exception as e:\n",
    "            # If a 429 error occurs, handle it\n",
    "            if isinstance(e, requests.exceptions.HTTPError) and e.response.status_code == 429:\n",
    "                retries += 1\n",
    "                wait_time = backoff_factor ** retries + random.uniform(0, 2)\n",
    "                print(f\"Rate limit hit. Retrying in {wait_time:.2f} seconds...\")\n",
    "                time.sleep(wait_time)\n",
    "            else:\n",
    "                retries += 1\n",
    "                wait_time = backoff_factor ** retries + random.uniform(0, 2)\n",
    "                print(f\"Error getting {entity}, {e}\")\n",
    "                time.sleep(wait_time)\n",
    "    print(\"Max retries reached. Skipping this entity.\")\n",
    "    return None  # Return None if retries are exhausted\n",
    "\n",
    "def merge_nicknames_with_csv(csv_file, wikidata_column):\n",
    "    # Read the CSV\n",
    "    df = pd.read_csv(csv_file)\n",
    "    \n",
    "    # Create an empty list to store the nicknames\n",
    "    nicknames_list = []\n",
    "\n",
    "    # Iterate through each row and fetch the nicknames for the Wikidata ID\n",
    "    for _index, row in tqdm(df.iterrows(), total=df.shape[0], desc=\"Fetching Nicknames\", unit=\"row\"):\n",
    "        wikidata_id = row[wikidata_column]\n",
    "        nicknames = fetch_entity_with_retry(wikidata_id)\n",
    "        nicknames_list.append(nicknames)\n",
    "\n",
    "    # Add the nicknames as a new column to the DataFrame\n",
    "    df['nicknames'] = nicknames_list\n",
    "    \n",
    "    # Save the updated DataFrame to a new CSV\n",
    "    with tqdm(total=len(df), desc=\"Saving CSV\", unit=\"row\") as pbar:\n",
    "        df.to_csv('updated_with_nicknames.csv', index=False)\n",
    "        pbar.update(len(df))"
   ]
  },
  {
   "cell_type": "code",
   "execution_count": null,
   "metadata": {},
   "outputs": [],
   "source": [
    "csv_file = file_name  # Replace with your existing CSV file path\n",
    "wikidata_column = 'wd_id'  # Replace with the column containing Wikidata IDs (e.g., Q536709)\n",
    "\n",
    "merge_nicknames_with_csv(csv_file, wikidata_column)"
   ]
  },
  {
   "cell_type": "markdown",
   "metadata": {},
   "source": [
    "# Export as csv"
   ]
  },
  {
   "cell_type": "code",
   "execution_count": null,
   "metadata": {},
   "outputs": [],
   "source": [
    "file_name = f'processed_schools_min_cols_{time.time()}.csv'\n",
    "\n",
    "subset_df.to_csv(file_name, index=False)\n",
    "\n",
    "print(f'Wrote df to {file_name}')"
   ]
  },
  {
   "cell_type": "code",
   "execution_count": null,
   "metadata": {},
   "outputs": [],
   "source": [
    "import pandas as pd\n",
    "\n",
    "with open('schools.csv', 'r') as file:\n",
    "    df = pd.read_csv(file)"
   ]
  },
  {
   "cell_type": "code",
   "execution_count": null,
   "metadata": {},
   "outputs": [],
   "source": [
    "df.sample(5)"
   ]
  },
  {
   "cell_type": "code",
   "execution_count": null,
   "metadata": {},
   "outputs": [],
   "source": []
  }
 ],
 "metadata": {
  "kernelspec": {
   "display_name": "new_venv",
   "language": "python",
   "name": "python3"
  },
  "language_info": {
   "codemirror_mode": {
    "name": "ipython",
    "version": 3
   },
   "file_extension": ".py",
   "mimetype": "text/x-python",
   "name": "python",
   "nbconvert_exporter": "python",
   "pygments_lexer": "ipython3",
   "version": "3.9.6"
  }
 },
 "nbformat": 4,
 "nbformat_minor": 2
}
